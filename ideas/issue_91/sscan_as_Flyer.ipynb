{
 "cells": [
  {
   "cell_type": "markdown",
   "metadata": {},
   "source": [
    "# sscan as Flyer\n",
    "\n",
    "## 1D step scans using sscan record\n",
    "\n",
    "Use the [sscan record](https://epics.anl.gov/bcda/synApps/sscan/sscanRecord.html) as an [ophyd Flyer](http://nsls-ii.github.io/bluesky/async.html) for [bluesky](http://nsls-ii.github.io/bluesky) data acquisition.  Consider the case of [1D step scans using sscan record](https://epics.anl.gov/bcda/synApps/sscan/sscanRecord.html#HEADING_1-1)."
   ]
  },
  {
   "cell_type": "code",
   "execution_count": 1,
   "metadata": {},
   "outputs": [],
   "source": [
    "# Import matplotlib and put it in interactive mode.\n",
    "%matplotlib notebook\n",
    "import matplotlib.pyplot as plt\n",
    "plt.ion()\n",
    "\n",
    "from collections import OrderedDict\n",
    "import time\n",
    "\n",
    "# common IOC prefix to be used\n",
    "P = \"gp:\""
   ]
  },
  {
   "cell_type": "code",
   "execution_count": 2,
   "metadata": {},
   "outputs": [],
   "source": [
    "from ophyd.scaler import ScalerCH\n",
    "scaler = ScalerCH(f\"{P}scaler1\", name=\"scaler\")\n",
    "scaler.select_channels(None)"
   ]
  },
  {
   "cell_type": "code",
   "execution_count": 3,
   "metadata": {},
   "outputs": [],
   "source": [
    "from ophyd import EpicsMotor\n",
    "m1 = EpicsMotor(f\"{P}m1\", name=\"m1\")"
   ]
  },
  {
   "cell_type": "code",
   "execution_count": 4,
   "metadata": {},
   "outputs": [],
   "source": [
    "from apstools.synApps import UserCalcsDevice\n",
    "calcs = UserCalcsDevice(P, name=\"calcs\")"
   ]
  },
  {
   "cell_type": "code",
   "execution_count": 5,
   "metadata": {},
   "outputs": [],
   "source": [
    "from apstools.synApps import SscanDevice\n",
    "scans = SscanDevice(P, name=\"scans\")\n",
    "scans.select_channels()"
   ]
  },
  {
   "cell_type": "code",
   "execution_count": 6,
   "metadata": {},
   "outputs": [],
   "source": [
    "from apstools.synApps import SaveData\n",
    "save_data = SaveData(f\"{P}saveData_\", name=\"save_data\")"
   ]
  },
  {
   "cell_type": "code",
   "execution_count": 7,
   "metadata": {},
   "outputs": [],
   "source": [
    "# configure saveData for data collection into MDA files:\n",
    "        \n",
    "save_data.file_system.put(\"/tmp\")\n",
    "save_data.subdirectory.put(\"saveData\")\n",
    "save_data.base_name.put(\"sscan1_\")\n",
    "save_data.next_scan_number.put(1)\n",
    "save_data.comment1.put(\"testing\")\n",
    "save_data.comment2.put(\"configured and run from ophyd\")"
   ]
  },
  {
   "cell_type": "code",
   "execution_count": 8,
   "metadata": {},
   "outputs": [],
   "source": [
    "# configure the sscan record for data collection:\n",
    "\n",
    "# clear out the weeds\n",
    "scans.reset()\n",
    "\n",
    "scan = scans.scan1\n",
    "scan.number_points.put(6)\n",
    "scan.positioners.p1.setpoint_pv.put(m1.user_setpoint.pvname)\n",
    "scan.positioners.p1.readback_pv.put(m1.user_readback.pvname)\n",
    "scan.positioners.p1.start.put(-1)\n",
    "scan.positioners.p1.end.put(0)\n",
    "scan.positioner_delay.put(0.0)\n",
    "scan.detector_delay.put(0.1)\n",
    "scan.detectors.d01.input_pv.put(scaler.channels.chan03.s.pvname)\n",
    "scan.detectors.d02.input_pv.put(scaler.channels.chan02.s.pvname)\n",
    "scan.triggers.t1.trigger_pv.put(scaler.count.pvname)\n",
    "\n",
    "# finally, reconfigure\n",
    "scans.select_channels()"
   ]
  },
  {
   "cell_type": "code",
   "execution_count": 9,
   "metadata": {},
   "outputs": [],
   "source": [
    "# make a noisy detector in an EPICS swait record, peak ceneter at 2\n",
    "from apstools.synApps import setup_lorentzian_swait\n",
    "setup_lorentzian_swait(calcs.calc2, m1.user_readback, 2)\n",
    "noisy_det = calcs.calc2.calculated_value\n",
    "noisy_det.kind = \"hinted\""
   ]
  },
  {
   "cell_type": "code",
   "execution_count": 10,
   "metadata": {
    "scrolled": true
   },
   "outputs": [],
   "source": [
    "def ophyd_step_scan(motor):\n",
    "    \"\"\"step-scan the motor and read the noisy detector\"\"\"\n",
    "    t0 = time.time()\n",
    "    for p in range(10):\n",
    "        motor.move(p-3)\n",
    "        print(\n",
    "            \"%8.3f\" % (time.time()-t0), \n",
    "            \"%8.2f\" % motor.position, \n",
    "            \"%8.4f\" % noisy_det.get()\n",
    "             )\n",
    "    motor.move(0)\n",
    "    print(\"Complete in %.3f seconds\" % (time.time()-t0))\n",
    "\n",
    "# ophyd_step_scan(m1)"
   ]
  },
  {
   "cell_type": "markdown",
   "metadata": {},
   "source": [
    "--------\n",
    "## setup Bluesky, databroker, and the RunEngine"
   ]
  },
  {
   "cell_type": "code",
   "execution_count": 11,
   "metadata": {},
   "outputs": [],
   "source": [
    "import databroker\n",
    "cat = databroker.temp()"
   ]
  },
  {
   "cell_type": "code",
   "execution_count": 12,
   "metadata": {},
   "outputs": [],
   "source": [
    "from bluesky import RunEngine\n",
    "import bluesky.plans as bp\n",
    "from bluesky.callbacks.best_effort import BestEffortCallback\n",
    "from bluesky import SupplementalData\n",
    "\n",
    "RE = RunEngine({})\n",
    "RE.subscribe(cat.v1.insert)\n",
    "RE.subscribe(BestEffortCallback())\n",
    "RE.preprocessors.append(SupplementalData())"
   ]
  },
  {
   "cell_type": "markdown",
   "metadata": {},
   "source": [
    "simple step scan using bluesky plan"
   ]
  },
  {
   "cell_type": "code",
   "execution_count": 13,
   "metadata": {
    "scrolled": true
   },
   "outputs": [],
   "source": [
    "# RE(bp.scan([noisy_det], m1, -5, 5, 11))"
   ]
  },
  {
   "cell_type": "markdown",
   "metadata": {},
   "source": [
    "-------------------------\n",
    "\n",
    "# Start to build our own Flyer"
   ]
  },
  {
   "cell_type": "code",
   "execution_count": 14,
   "metadata": {},
   "outputs": [],
   "source": [
    "import ophyd\n",
    "import threading\n",
    "import logging\n",
    "\n",
    "logger = logging.getLogger()\n",
    "\n",
    "class MyFlyer(ophyd.Device):\n",
    "    \"\"\"\n",
    "    starting template for a Flyer that we understand\n",
    "    \"\"\"\n",
    "\n",
    "    def __init__(self, sscan, motor, detectors, triggers, first, last, npts, **kwargs):\n",
    "        super().__init__('', parent=None, **kwargs)\n",
    "\n",
    "        self.sscan = sscan\n",
    "        self.motor = motor\n",
    "        self.detectors = detectors\n",
    "        self.triggers = triggers\n",
    "        self.first = first\n",
    "        self.last = last\n",
    "        self.num_points = npts\n",
    "        self.positioner_delay = 0.0\n",
    "        self.detector_delay = 0.1\n",
    "        self.scan_data_objects = None\n",
    "        self.last_point = None\n",
    "        self.data_buffer = None\n",
    "\n",
    "        self.complete_status = None\n",
    "        self.t0 = 0\n",
    "        \n",
    "        self.sscan_init()\n",
    "\n",
    "    def sscan_init(self):\n",
    "        \"\"\"\n",
    "        init the sscan record\n",
    "        \n",
    "        It's OK to use blocking calls here \n",
    "        since this is called in a separate thread\n",
    "        from the BlueSky RunEngine.\n",
    "        \"\"\"\n",
    "        logger.info(\"sscan_init()\")\n",
    "\n",
    "        scan = self.sscan\n",
    "        scan.reset()\n",
    "\n",
    "        scan.positioners.p1.setpoint_pv.put(self.motor.user_setpoint.pvname)\n",
    "        scan.positioners.p1.readback_pv.put(self.motor.user_readback.pvname)\n",
    "\n",
    "        scan.detector_delay.put(self.detector_delay)\n",
    "        for i, d in enumerate(self.detectors):\n",
    "            getattr(scan.detectors, \"d%02d\" % (i+1)).input_pv.put(d.pvname)\n",
    "\n",
    "        for i, t in enumerate(self.triggers):\n",
    "            getattr(scan.triggers, \"t%d\" % (i+1)).trigger_pv.put(t.pvname)\n",
    "        \n",
    "        # reconfigure the ophyd object for only the channels in use\n",
    "        scan.select_channels()\n",
    "\n",
    "        # do this now so describe_collect() and collect() can be tested\n",
    "        self.scan_data_objects = self.identify_data_objects()\n",
    "\n",
    "    def sscan_prep(self):\n",
    "        \"\"\"\n",
    "        prep the sscan record\n",
    "        \n",
    "        It's OK to use blocking calls here \n",
    "        since this is called in a separate thread\n",
    "        from the BlueSky RunEngine.\n",
    "        \"\"\"\n",
    "        logger.info(\"sscan_prep()\")\n",
    "\n",
    "        scan = self.sscan\n",
    "\n",
    "        scan.positioner_delay.put(self.positioner_delay)\n",
    "        scan.positioners.p1.start.put(self.first)\n",
    "        scan.positioners.p1.end.put(self.last)\n",
    "        scan.number_points.put(self.num_points)\n",
    "        \n",
    "        self.data_buffer = []\n",
    "\n",
    "    def identify_data_objects(self):\n",
    "        \"\"\"\n",
    "        prepare a dictionary of the \"interesting\" ophyd data objects for this scan\n",
    "        \"\"\"\n",
    "        scan = self.sscan\n",
    "        scan_data_objects = OrderedDict()\n",
    "        for part in (scan.positioners, scan.detectors):\n",
    "            for chname in part.read_attrs:\n",
    "                if not chname.endswith(\"_value\"):\n",
    "                    continue\n",
    "                obj = getattr(part, chname)\n",
    "                key = obj.name.lstrip(scan.name + \"_\")\n",
    "                scan_data_objects[key] = obj\n",
    "        return scan_data_objects\n",
    "\n",
    "    def my_activity(self):\n",
    "        \"\"\"\n",
    "        start the \"fly scan\" here, could wait for completion\n",
    "        \n",
    "        It's OK to use blocking calls here \n",
    "        since this is called in a separate thread\n",
    "        from the BlueSky RunEngine.\n",
    "        \"\"\"\n",
    "        logger.info(\"my_activity()\")\n",
    "        if self.complete_status is None:\n",
    "            logger.info(\"leaving activity() - not complete\")\n",
    "            return\n",
    "        \n",
    "        # do the activity here\n",
    "        self.sscan_prep()\n",
    "        \n",
    "        # finally, start the sscan record\n",
    "        scan.execute_scan.put(1)\n",
    "        \n",
    "        self.last_point = scan.current_point.get()\n",
    "        \n",
    "        # once started, we notify by updating the status object\n",
    "        self.kickoff_status._finished(success=True)\n",
    "\n",
    "    def kickoff(self):\n",
    "        \"\"\"\n",
    "        Start this Flyer\n",
    "        \"\"\"\n",
    "        logger.info(\"kickoff()\")\n",
    "        self.kickoff_status = ophyd.DeviceStatus(self)\n",
    "        self.complete_status = ophyd.DeviceStatus(self)\n",
    "        \n",
    "        thread = threading.Thread(target=self.my_activity, daemon=True)\n",
    "\n",
    "        self.t0 = time.time()\n",
    "        thread.start()\n",
    "        return self.kickoff_status\n",
    "    \n",
    "    def get_event_data(self):\n",
    "        \"\"\"get the data for one collect event\"\"\"\n",
    "        t = time.time()\n",
    "        elapsed = t - self.t0\n",
    "        print(f\"collecting: {elapsed}\")\n",
    "\n",
    "        dstream = OrderedDict()\n",
    "        tstream = OrderedDict()\n",
    "        for key, item in self.scan_data_objects.items():\n",
    "            dd = list(item.read().values())[0]\n",
    "            dstream[key] = dd[\"value\"]\n",
    "            tstream[key] = dd[\"timestamp\"]\n",
    "\n",
    "        event = dict(\n",
    "            time=t,\n",
    "            data=dstream,\n",
    "            timestamps=tstream\n",
    "        )\n",
    "        return event\n",
    "\n",
    "    def complete(self):\n",
    "        \"\"\"\n",
    "        Wait for flying to be complete\n",
    "        \"\"\"\n",
    "        logger.info(\"complete()\")\n",
    "        if self.complete_status is None:\n",
    "            # raise RuntimeError(\"No collection in progress\")\n",
    "            logger.info(\"No collection in progress\")\n",
    "        else:\n",
    "            # wait/watch for completion\n",
    "            # buffer any data events along the way\n",
    "            while True:\n",
    "                current_point = scan.current_point.get()\n",
    "                if self.last_point != current_point and current_point > 0:\n",
    "                    self.data_buffer.append(self.get_event_data())\n",
    "                self.last_point = current_point\n",
    "                # data acquisition steps come *before* the exit\n",
    "                if scan.scan_phase.get() in (0, \"IDLE\"):\n",
    "                    break\n",
    "                time.sleep(0.001) \n",
    "            self.complete_status._finished(success=True)\n",
    "\n",
    "        return self.complete_status\n",
    "\n",
    "    def describe_collect(self):\n",
    "        \"\"\"\n",
    "        Describe details for ``collect()`` method\n",
    "        \"\"\"\n",
    "        logger.info(\"describe_collect()\")\n",
    "\n",
    "        stream = OrderedDict()\n",
    "        for key, item in self.scan_data_objects.items():\n",
    "            stream[key] = dict(\n",
    "                source = item.name,\n",
    "                dtype = \"number\",\n",
    "                shape = (1,)\n",
    "            )\n",
    "        return {\"primary\" : stream}\n",
    "\n",
    "    def collect(self):\n",
    "        \"\"\"\n",
    "        Get data from this Flyer (after scan is complete)\n",
    "        \n",
    "        yield events for each row in the data\n",
    "        \"\"\"\n",
    "        logger.info(\"collect()\")\n",
    "        scan = self.sscan\n",
    "        print(\"collect() started\")\n",
    "        \n",
    "        if self.complete_status is None:\n",
    "            logger.info(f\"complete, scan was not run - must be testing phase\")\n",
    "            yield self.get_event_data()\n",
    "        else:\n",
    "            for ev in self.data_buffer:    # report any data that was collected\n",
    "                yield ev\n",
    "    \n",
    "            logger.info(f\"activity() complete. status = {self.complete_status}\")"
   ]
  },
  {
   "cell_type": "code",
   "execution_count": 15,
   "metadata": {},
   "outputs": [],
   "source": [
    "ifly = MyFlyer(\n",
    "    scans.scan1, \n",
    "    m1, \n",
    "    [scaler.channels.chan03.s, scaler.channels.chan02.s, calcs.calc2.calculated_value], \n",
    "    [scaler.count, calcs.calc2.process_record], \n",
    "    -3, \n",
    "    6, \n",
    "    6, \n",
    "    name=\"ifly\")"
   ]
  },
  {
   "cell_type": "code",
   "execution_count": 16,
   "metadata": {},
   "outputs": [],
   "source": [
    "# ifly.kickoff()"
   ]
  },
  {
   "cell_type": "code",
   "execution_count": 17,
   "metadata": {},
   "outputs": [],
   "source": [
    "ifly.complete()"
   ]
  },
  {
   "cell_type": "code",
   "execution_count": 18,
   "metadata": {},
   "outputs": [
    {
     "data": {
      "text/plain": [
       "{'primary': OrderedDict([('positioners_p1_readback_value',\n",
       "               {'source': 'scans_scan1_positioners_p1_readback_value',\n",
       "                'dtype': 'number',\n",
       "                'shape': (1,)}),\n",
       "              ('positioners_p1_setpoint_value',\n",
       "               {'source': 'scans_scan1_positioners_p1_setpoint_value',\n",
       "                'dtype': 'number',\n",
       "                'shape': (1,)}),\n",
       "              ('detectors_d01_current_value',\n",
       "               {'source': 'scans_scan1_detectors_d01_current_value',\n",
       "                'dtype': 'number',\n",
       "                'shape': (1,)}),\n",
       "              ('detectors_d02_current_value',\n",
       "               {'source': 'scans_scan1_detectors_d02_current_value',\n",
       "                'dtype': 'number',\n",
       "                'shape': (1,)}),\n",
       "              ('detectors_d03_current_value',\n",
       "               {'source': 'scans_scan1_detectors_d03_current_value',\n",
       "                'dtype': 'number',\n",
       "                'shape': (1,)})])}"
      ]
     },
     "execution_count": 18,
     "metadata": {},
     "output_type": "execute_result"
    }
   ],
   "source": [
    "ifly.describe_collect()"
   ]
  },
  {
   "cell_type": "code",
   "execution_count": 19,
   "metadata": {},
   "outputs": [
    {
     "data": {
      "text/plain": [
       "<generator object MyFlyer.collect at 0x7f1aec3a7200>"
      ]
     },
     "execution_count": 19,
     "metadata": {},
     "output_type": "execute_result"
    }
   ],
   "source": [
    "ifly.collect()"
   ]
  },
  {
   "cell_type": "code",
   "execution_count": 20,
   "metadata": {},
   "outputs": [
    {
     "name": "stdout",
     "output_type": "stream",
     "text": [
      "collect() started\n",
      "collecting: 1638313512.832638\n",
      "[{'time': 1638313512.832638, 'data': OrderedDict([('positioners_p1_readback_value', 6.0), ('positioners_p1_setpoint_value', 6.0), ('detectors_d01_current_value', 4.0), ('detectors_d02_current_value', 5.0), ('detectors_d03_current_value', 0.056460488587617874)]), 'timestamps': OrderedDict([('positioners_p1_readback_value', 1638313252.447722), ('positioners_p1_setpoint_value', 1638313252.447722), ('detectors_d01_current_value', 1638313252.447722), ('detectors_d02_current_value', 1638313252.447722), ('detectors_d03_current_value', 1638313252.447722)])}]\n"
     ]
    }
   ],
   "source": [
    "g = _\n",
    "print(list(g))"
   ]
  },
  {
   "cell_type": "code",
   "execution_count": 21,
   "metadata": {},
   "outputs": [
    {
     "name": "stdout",
     "output_type": "stream",
     "text": [
      "\n",
      "\n",
      "Transient Scan ID: 1     Time: 2021-11-30 17:05:12\n",
      "Persistent Unique Scan ID: '46c41cc8-4cef-49d3-9a71-09d307490626'\n",
      "collecting: 10.511024951934814\n",
      "collecting: 13.81642770767212\n",
      "collecting: 17.119928121566772\n",
      "collecting: 20.42683172225952\n",
      "collecting: 23.733405828475952\n",
      "collecting: 27.135560035705566\n",
      "New stream: 'primary'\n",
      "+-----------+------------+\n",
      "|   seq_num |       time |\n",
      "+-----------+------------+\n",
      "collect() started\n"
     ]
    },
    {
     "name": "stderr",
     "output_type": "stream",
     "text": [
      "/home/prjemian/.conda/envs/bluesky_2022_1/lib/python3.9/site-packages/event_model/__init__.py:208: UserWarning: The document type 'bulk_events' has been deprecated in favor of 'event_page', whose structure is a transpose of 'bulk_events'.\n",
      "  warnings.warn(\n"
     ]
    },
    {
     "name": "stdout",
     "output_type": "stream",
     "text": [
      "+-----------+------------+\n",
      "generator fly ['46c41cc8'] (scan num: 1)\n",
      "\n",
      "\n",
      "\n"
     ]
    },
    {
     "data": {
      "text/plain": [
       "('46c41cc8-4cef-49d3-9a71-09d307490626',)"
      ]
     },
     "execution_count": 21,
     "metadata": {},
     "output_type": "execute_result"
    }
   ],
   "source": [
    "RE(bp.fly([ifly]))"
   ]
  },
  {
   "cell_type": "code",
   "execution_count": 22,
   "metadata": {},
   "outputs": [
    {
     "data": {
      "text/plain": [
       "BlueskyRun\n",
       "  uid='46c41cc8-4cef-49d3-9a71-09d307490626'\n",
       "  exit_status='success'\n",
       "  2021-11-30 17:05:12.854 -- 2021-11-30 17:05:40.029\n",
       "  Streams:\n",
       "    * primary\n"
      ]
     },
     "execution_count": 22,
     "metadata": {},
     "output_type": "execute_result"
    }
   ],
   "source": [
    "run = cat.v2[-1]\n",
    "run"
   ]
  },
  {
   "cell_type": "markdown",
   "metadata": {},
   "source": [
    "# Conclusion\n",
    "\n",
    "The ophyd *Flyer* is not well-suited to the case of the simple 1-D step scan using the scan record.  With *Flyer* objects, the workflow is *kickoff*, *complete*, then *collect*, where `complete()` will return a status object and `collect()` is a generator of data events.  Since `collect()` is called after the sscan is done, there is no chance to collect the data (with timestamps) after each step in the scan.  Instead, the Flyer is best for *silent* accumulation and cache of that data during the `complete()` method, then reporting of it later in `collect()`.\n",
    "\n",
    "**We could do better supporting this use of sscan with a BS plan.**\n",
    "\n",
    "Good to know."
   ]
  }
 ],
 "metadata": {
  "kernelspec": {
   "display_name": "Python 3",
   "language": "python",
   "name": "python3"
  },
  "language_info": {
   "codemirror_mode": {
    "name": "ipython",
    "version": 3
   },
   "file_extension": ".py",
   "mimetype": "text/x-python",
   "name": "python",
   "nbconvert_exporter": "python",
   "pygments_lexer": "ipython3",
   "version": "3.9.7"
  }
 },
 "nbformat": 4,
 "nbformat_minor": 2
}
