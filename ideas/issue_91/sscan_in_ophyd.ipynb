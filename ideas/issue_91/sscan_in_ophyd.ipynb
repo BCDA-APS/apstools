{
 "cells": [
  {
   "cell_type": "markdown",
   "metadata": {},
   "source": [
    "# sscan in ophyd\n",
    "\n",
    "Support the [sscan record](https://epics.anl.gov/bcda/synApps/sscan/sscanRecord.html) as an [ophyd](http://nsls-ii.github.io/ophyd) Device for use with data acquisition.  "
   ]
  },
  {
   "cell_type": "code",
   "execution_count": 1,
   "metadata": {},
   "outputs": [],
   "source": [
    "import time\n",
    "\n",
    "# common IOC prefix to be used\n",
    "P = \"gp:\""
   ]
  },
  {
   "cell_type": "code",
   "execution_count": 2,
   "metadata": {},
   "outputs": [],
   "source": [
    "from ophyd.scaler import ScalerCH\n",
    "scaler = ScalerCH(f\"{P}scaler1\", name=\"scaler\")\n",
    "scaler.select_channels(None)"
   ]
  },
  {
   "cell_type": "code",
   "execution_count": 3,
   "metadata": {},
   "outputs": [],
   "source": [
    "from ophyd import EpicsMotor\n",
    "m1 = EpicsMotor(f\"{P}m1\", name=\"m1\")\n",
    "m2 = EpicsMotor(f\"{P}m2\", name=\"m2\")"
   ]
  },
  {
   "cell_type": "code",
   "execution_count": 4,
   "metadata": {},
   "outputs": [],
   "source": [
    "from apstools.synApps import UserCalcsDevice\n",
    "calcs = UserCalcsDevice(P, name=\"calcs\")"
   ]
  },
  {
   "cell_type": "code",
   "execution_count": 5,
   "metadata": {},
   "outputs": [],
   "source": [
    "from apstools.synApps import SscanDevice\n",
    "scans = SscanDevice(P, name=\"scans\")\n",
    "scans.select_channels()"
   ]
  },
  {
   "cell_type": "code",
   "execution_count": 6,
   "metadata": {},
   "outputs": [],
   "source": [
    "from apstools.synApps import SaveData\n",
    "save_data = SaveData(f\"{P}saveData_\", name=\"save_data\")"
   ]
  },
  {
   "cell_type": "code",
   "execution_count": 7,
   "metadata": {},
   "outputs": [],
   "source": [
    "# configure a noisy calc, the sscan record will trigger it to process\n",
    "\n",
    "# clear out the weeds\n",
    "calcs.reset()\n",
    "\n",
    "calc = calcs.calc1\n",
    "calc.channels.A.input_value.put(0.2)\n",
    "calc.channels.B.input_value.put(0.1)\n",
    "calc.channels.C.input_pv.put(scans.scan1.current_point.pvname)\n",
    "calc.calculation.put(\"A+B*rndm/(C+0.5)\")\n",
    "time.sleep(0.1)          # allow record to react in EPICS IOC\n",
    "calc.process_record.put(1)"
   ]
  },
  {
   "cell_type": "code",
   "execution_count": 8,
   "metadata": {},
   "outputs": [],
   "source": [
    "# configure saveData for data collection into MDA files:\n",
    "        \n",
    "save_data.file_system.put(\"/tmp\")\n",
    "save_data.subdirectory.put(\"saveData\")\n",
    "save_data.base_name.put(\"sscan1_\")\n",
    "save_data.next_scan_number.put(1)\n",
    "save_data.comment1.put(\"testing\")\n",
    "save_data.comment2.put(\"configured and run from ophyd\")"
   ]
  },
  {
   "cell_type": "code",
   "execution_count": 9,
   "metadata": {},
   "outputs": [],
   "source": [
    "# configure the sscan record for data collection:\n",
    "\n",
    "# clear out the weeds\n",
    "scans.reset()\n",
    "\n",
    "scan = scans.scan1\n",
    "scan.number_points.put(6)\n",
    "scan.positioners.p1.setpoint_pv.put(m1.user_setpoint.pvname)\n",
    "scan.positioners.p1.readback_pv.put(m1.user_readback.pvname)\n",
    "scan.positioners.p1.start.put(-1)\n",
    "scan.positioners.p1.end.put(0)\n",
    "scan.positioner_delay.put(0.0)\n",
    "scan.detector_delay.put(0.1)\n",
    "scan.detectors.d01.input_pv.put(scaler.channels.chan03.s.pvname)\n",
    "scan.detectors.d02.input_pv.put(scaler.channels.chan02.s.pvname)\n",
    "scan.detectors.d03.input_pv.put(calcs.calc1.calculated_value.pvname)\n",
    "scan.triggers.t1.trigger_pv.put(scaler.count.pvname)\n",
    "scan.triggers.t2.trigger_pv.put(calcs.calc1.process_record.pvname)\n",
    "\n",
    "# finally, reconfigure\n",
    "scans.select_channels()"
   ]
  },
  {
   "cell_type": "code",
   "execution_count": 10,
   "metadata": {
    "scrolled": true
   },
   "outputs": [
    {
     "name": "stdout",
     "output_type": "stream",
     "text": [
      "point time_elapsed positioners_p1_readback_value positioners_p1_setpoint_value detectors_d01_current_value detectors_d02_current_value detectors_d03_current_value\n",
      "1 2.644 -1.0 -0.8 5.0 3.0 0.28692150115966797\n",
      "2 4.352 -0.8 -0.6000000000000001 4.0 3.0 0.22903181612491608\n",
      "3 6.058 -0.6 -0.4000000000000001 2.0 7.0 0.23075242340564728\n",
      "4 7.758 -0.4 -0.20000000000000007 19.0 15.0 0.22174324095249176\n",
      "5 9.460 -0.2 -5.551115123125783e-17 6.0 6.0 0.21795207262039185\n",
      "6 11.162 0.0 -5.551115123125783e-17 4.0 5.0 0.21085527539253235\n"
     ]
    }
   ],
   "source": [
    "# try to run a scan with only ophyd (not bluesky)\n",
    "\n",
    "row_contents = []\n",
    "for part in (scans.scan1.positioners, scans.scan1.detectors):\n",
    "    for chname in part.read_attrs:\n",
    "        if not chname.endswith(\"_value\"):\n",
    "            continue\n",
    "        #if chname.split(\".\")[-1] not in (\"readback_value\", \"current_value\"):\n",
    "        #    continue\n",
    "        row_contents.append(getattr(part, chname))\n",
    "\n",
    "columns = \"point time_elapsed\".split()\n",
    "columns += [item.name.lstrip(scans.scan1.name+\"_\") for item in row_contents]\n",
    "\n",
    "# start the sscan record\n",
    "scans.scan1.execute_scan.put(1)\n",
    "t0 = time.time()\n",
    "last_point = scans.scan1.current_point.get()\n",
    "\n",
    "print(*columns)\n",
    "\n",
    "while True:\n",
    "    elapsed = time.time() - t0\n",
    "    current_point = scans.scan1.current_point.get()\n",
    "\n",
    "    if False:    # diagnostics only\n",
    "        print(\n",
    "            \"%.3f\" % elapsed, \n",
    "            scans.scan1.scan_phase.get(as_string=True), \n",
    "            scans.scan1.data_state.get(as_string=True), \n",
    "            scans.scan1.scan_busy.get(),\n",
    "            scans.scan1.data_ready.get(),\n",
    "        )\n",
    "\n",
    "    if last_point != current_point and current_point > 0:\n",
    "        row = [\n",
    "            scans.scan1.current_point.get(),\n",
    "            \"%.3f\" % elapsed,             \n",
    "        ] + [item.get() for item in row_contents]\n",
    "        print(*row)\n",
    "    last_point = current_point\n",
    "    if scans.scan1.scan_phase.get() in (0, \"IDLE\"):\n",
    "        break\n",
    "    time.sleep(0.001)"
   ]
  }
 ],
 "metadata": {
  "kernelspec": {
   "display_name": "Python 3",
   "language": "python",
   "name": "python3"
  },
  "language_info": {
   "codemirror_mode": {
    "name": "ipython",
    "version": 3
   },
   "file_extension": ".py",
   "mimetype": "text/x-python",
   "name": "python",
   "nbconvert_exporter": "python",
   "pygments_lexer": "ipython3",
   "version": "3.9.7"
  }
 },
 "nbformat": 4,
 "nbformat_minor": 2
}
