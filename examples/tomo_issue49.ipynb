{
 "cells": [
  {
   "cell_type": "markdown",
   "metadata": {},
   "source": [
    "# Generalize tomography scans\n",
    "\n",
    "Test implementation of a [generalized tomography class](https://github.com/APS-2BM-MIC/ipython-user2bmb/issues/49#issuecomment-438788678) for use at the APS."
   ]
  },
  {
   "cell_type": "code",
   "execution_count": 1,
   "metadata": {},
   "outputs": [],
   "source": [
    "# We will work with a couple IOCs that must be available\n",
    "# Let's specify their prefix strings.\n",
    "\n",
    "# synApps 5.8+ IOC with motor record instances `m1` and `m2`\n",
    "SYNAPPS_IOC=\"gp:\"\n",
    "\n",
    "# EPICS area detector 3.2+ IOC\n",
    "AD_IOC=\"ad:\"\n",
    "\n",
    "#"
   ]
  },
  {
   "cell_type": "code",
   "execution_count": 2,
   "metadata": {},
   "outputs": [],
   "source": [
    "# all the imports up front\n",
    "\n",
    "from collections import OrderedDict\n",
    "import datetime\n",
    "import numpy\n",
    "import os\n",
    "import time\n",
    "\n",
    "import apstools.devices as APS_devices\n",
    "import bluesky.plan_stubs as bps\n",
    "import bluesky.preprocessors as bpp\n",
    "from bluesky.utils import ts_msg_hook\n",
    "from bluesky import RunEngine\n",
    "from ophyd import Device\n",
    "from ophyd import EpicsMotor\n",
    "from ophyd import AreaDetector, ADComponent, SimDetectorCam\n",
    "from ophyd import SingleTrigger, ImagePlugin, HDF5Plugin"
   ]
  },
  {
   "cell_type": "markdown",
   "metadata": {},
   "source": [
    "prepare the area detector class"
   ]
  },
  {
   "cell_type": "code",
   "execution_count": 3,
   "metadata": {},
   "outputs": [],
   "source": [
    "class MyAreaDetector(SingleTrigger, AreaDetector):\n",
    "    \"\"\"AD detector as expected for tomography\"\"\"\n",
    "    \n",
    "    cam = ADComponent(SimDetectorCam, \"cam1:\")\n",
    "    image = ADComponent(ImagePlugin, \"image1:\")\n",
    "    hdf1 = ADComponent(\n",
    "        HDF5Plugin, \n",
    "        suffix=\"HDF1:\",\n",
    "        #root=HDF5_FILE_PATH_ROOT,               # for databroker\n",
    "        # write_path_template=HDF5_FILE_PATH,     # for EPICS AD\n",
    ")"
   ]
  },
  {
   "cell_type": "markdown",
   "metadata": {},
   "source": [
    "define a base class"
   ]
  },
  {
   "cell_type": "code",
   "execution_count": 4,
   "metadata": {},
   "outputs": [],
   "source": [
    "class TomographyScanBase(object):\n",
    "    \"\"\"\n",
    "    generalization of a (repeated) tomography scan\n",
    "    \n",
    "    ::\n",
    "    \n",
    "        tomo_plan()\n",
    "            iterate\n",
    "                before_tomo_sequence\n",
    "                measure_darks\n",
    "                measure_flats\n",
    "                before_tomo_scan\n",
    "                tomo_scan\n",
    "                after_tomo_scan\n",
    "                after_tomo_sequence\n",
    "\n",
    "    \"\"\"\n",
    "    # https://github.com/APS-2BM-MIC/ipython-user2bmb/issues/49\n",
    "    # TODO: acquire time\n",
    "    # TODO: darks, flats, images all in one HDF5 file\n",
    "    # TODO: add some delay between each dark & flat  https://github.com/APS-2BM-MIC/ipython-user2bmb/issues/46\n",
    "    # TODO: configure AD for HDF5 and databroker   ??? https://github.com/NSLS-II/ophyd/pull/623\n",
    "    # TODO: detector-specific info should be part of detector object   https://github.com/APS-2BM-MIC/ipython-user2bmb/issues/48\n",
    "    \n",
    "    def __init__(self, image_detector, rotation_axis, translation_axis, shutter=None, iterations=1, in_pos=None, out_pos=None, **kwargs):\n",
    "        # be very defensive here, can eliminate long exception traces at run time\n",
    "        assert isinstance(image_detector, AreaDetector)\n",
    "        assert isinstance(rotation_axis, EpicsMotor)\n",
    "        assert isinstance(translation_axis, EpicsMotor)\n",
    "        assert isinstance(iterations, int)\n",
    "        assert iterations > 0\n",
    "        assert isinstance(shutter, (type(None), Device))   # TODO: could be more specific than \"Device\"\n",
    "        assert in_pos is not None, \"in_pos must be defined as a valid position for translation_axis\"\n",
    "        assert out_pos is not None, \"out_pos must be defined as a valid position for translation_axis\"\n",
    "\n",
    "        self.detector = image_detector        # ophyd AreaDetector Device object\n",
    "        self.rotator = rotation_axis           # ophyd EpicsMotor Device object\n",
    "        self.translator = translation_axis    # ophyd EpicsMotor Device object\n",
    "        self.iterations = max(1, iterations)  # positive integer (or ? should report as OutOfRangeError ?)\n",
    "        self.shutter = shutter                # ophyd Device object or ``None``\n",
    "        \n",
    "        # float: self.translator == this value ...\n",
    "        self.in_beam_position = in_pos        # ... when sample IS in beam\n",
    "        self.out_of_beam_position = out_pos   # ... when sample IS NOT in beam\n",
    "        \n",
    "        # number of images to collect\n",
    "        self.number_of_darks = 3\n",
    "        self.number_of_flats = 3\n",
    "        self.number_of_projections = 1800\n",
    "        self.angle_start = 0\n",
    "        self.angle_end = 180\n",
    "        \n",
    "        self.__tomo_scan_counter = 0          # internal use, reporting\n",
    "\n",
    "    def before_tomo_sequence(self, *args, **kwargs):\n",
    "        \"\"\"\n",
    "        bluesky plan to initialize for a set of tomo scans\n",
    "        \n",
    "        override in subclass as needed for specific instrument\n",
    "        \"\"\"\n",
    "        yield from bps.checkpoint()\n",
    "\n",
    "    def after_tomo_sequence(self, *args, **kwargs):\n",
    "        \"\"\"\n",
    "        bluesky plan to initialize for a set of tomo scans\n",
    "        \n",
    "        override in subclass as needed for specific instrument\n",
    "        \"\"\"\n",
    "        yield from bps.checkpoint()\n",
    "\n",
    "    def measure_darks(self, *args, **kwargs):\n",
    "        \"\"\"\n",
    "        bluesky plan to measure the dark-field images (shutter closed)\n",
    "        \n",
    "        override in subclass as needed for specific instrument\n",
    "        \"\"\"\n",
    "        assert self.number_of_darks >= 0, \"number_of_darks must be a non-negative integer\"\n",
    "        if self.number_of_darks == 0:\n",
    "            yield from bps.checkpoint()   # have to yield some Msg\n",
    "            print(\"no darks\")\n",
    "        else:\n",
    "            t0 = time.time()\n",
    "            if self.shutter is not None:\n",
    "                yield from bps.mv(self.shutter, \"close\")\n",
    "\n",
    "            for _i in range(self.number_of_darks):\n",
    "                yield from bps.create(name=\"darks\")\n",
    "                yield from bps.read(self.detector)\n",
    "                yield from bps.save()\n",
    "            msg = \"{}: done with {} darks: total time: {} s\"\n",
    "            print(msg.format(\n",
    "                datetime.datetime.now(), \n",
    "                self.number_of_darks,\n",
    "                time.time()-t0\n",
    "            ))\n",
    "\n",
    "    def measure_flats(self, *args, **kwargs):\n",
    "        \"\"\"\n",
    "        bluesky plan to measure the white-field images (no sample in beam, shutter open)\n",
    "        \n",
    "        override in subclass as needed for specific instrument\n",
    "        \"\"\"\n",
    "        assert self.number_of_flats >= 0, \"number_of_flats must be a non-negative integer\"\n",
    "        if self.number_of_flats == 0:\n",
    "            yield from bps.checkpoint()   # have to yield some Msg\n",
    "            print(\"no flats\")\n",
    "        else:\n",
    "            assert self.in_beam_position is not None, \"must be a valid position\"\n",
    "            assert self.out_of_beam_position is not None, \"must be a valid position\"\n",
    "\n",
    "            t0 = time.time()\n",
    "            if self.shutter is not None:\n",
    "                yield from bps.abs_set(self.shutter, \"open\", group=\"measure_flats_prep\")\n",
    "            yield from bps.abs_set(self.translator, self.out_of_beam_position, group=\"measure_flats_prep\")\n",
    "            yield from bps.wait(group=\"measure_flats_prep\")\n",
    "\n",
    "            for _i in range(self.number_of_flats):\n",
    "                yield from bps.create(name=\"flats\")\n",
    "                yield from bps.read(self.detector)\n",
    "                yield from bps.save()\n",
    "\n",
    "            yield from bps.mv(self.translator, self.in_beam_position)\n",
    "            msg = \"{}: done with {} flats: total time: {} s\"\n",
    "            print(msg.format(\n",
    "                datetime.datetime.now(), \n",
    "                self.number_of_flats,\n",
    "                time.time()-t0\n",
    "            ))\n",
    "\n",
    "    def before_tomo_scan(self, *args, **kwargs):\n",
    "        \"\"\"\n",
    "        bluesky plan to prepare the actual tomography scan\n",
    "        \n",
    "        override in subclass as needed for specific instrument\n",
    "        \"\"\"\n",
    "        yield from bps.checkpoint()\n",
    "\n",
    "        if self.shutter is not None and self.shutter.isClosed:\n",
    "            yield from bps.abs_set(self.shutter, \"open\", group=\"before_tomo_scan\")\n",
    "\n",
    "        yield from bps.abs_set(self.translator, self.in_beam_position, group=\"before_tomo_scan\")\n",
    "        yield from bps.wait(group=\"before_tomo_scan\")\n",
    "\n",
    "    def after_tomo_scan(self, *args, **kwargs):\n",
    "        \"\"\"\n",
    "        bluesky plan to finish up after the actual tomography scan\n",
    "        \n",
    "        override in subclass as needed for specific instrument\n",
    "        \"\"\"\n",
    "        yield from bps.checkpoint()\n",
    "\n",
    "        if self.shutter is not None and self.shutter.isOpen:\n",
    "            yield from bps.abs_set(self.shutter, \"close\", group=\"after_tomo_scan\")\n",
    "\n",
    "        yield from bps.abs_set(self.rotator, 0.0, group=\"after_tomo_scan\")\n",
    "        yield from bps.wait(group=\"after_tomo_scan\")\n",
    "\n",
    "    def tomo_scan(self, *args, md=None, **kwargs):\n",
    "        \"\"\"\n",
    "        bluesky plan to perform the actual tomography scan\n",
    "        \n",
    "        MUST override in subclass\n",
    "        \"\"\"\n",
    "        raise NotImplementedError(\"must define tomo_scan() method in subclass\")\n",
    "\n",
    "    def cleanup(self):   # must have no arguments if called from bpp.finalize_decorator()\n",
    "        \"\"\"\n",
    "        remove any setup such as monitors, EPICS PV values, motors to default positions, ...\n",
    "        \n",
    "        override in subclass as needed for specific instrument\n",
    "        \"\"\"\n",
    "        yield from bps.checkpoint()\n",
    "\n",
    "    def tomo_plan(self, *args, md=None, **kwargs):\n",
    "        \"\"\"\n",
    "        bluesky plan to run iterated, identical tomography scans\n",
    "        \"\"\"\n",
    "        self.iterations = max(1, self.iterations)   # insurance against improper setting by user\n",
    "        \n",
    "        _md = md or OrderedDict()\n",
    "        _md[\"tomo_plan\"] = \"tomo_scan\"\n",
    "        \n",
    "        self.__tomo_scan_counter = 0\n",
    "        \n",
    "        @bpp.stage_decorator([self.detector, self.rotator, self.translator])\n",
    "        @bpp.run_decorator(md=_md)\n",
    "        @bpp.finalize_decorator(self.cleanup)\n",
    "        def tomo_core():   # must have no arguments if called from bps.repeat()\n",
    "            self.__tomo_scan_counter += 1\n",
    "            t0 = time.time()\n",
    "            yield from bps.checkpoint()\n",
    "            yield from self.before_tomo_sequence()\n",
    "            yield from self.measure_darks()\n",
    "            yield from self.measure_flats()\n",
    "            yield from self.before_tomo_scan()\n",
    "            yield from self.tomo_scan()\n",
    "            yield from self.after_tomo_scan()\n",
    "            yield from self.after_tomo_sequence()\n",
    "\n",
    "            msg = \"{}: iteration {} of {}: total time for iteration: {} s\"\n",
    "            print(msg.format(\n",
    "                datetime.datetime.now(), \n",
    "                self.__tomo_scan_counter, \n",
    "                self.iterations,\n",
    "                time.time()-t0\n",
    "            ))\n",
    "        \n",
    "        yield from bps.repeat(tomo_core, num=self.iterations)"
   ]
  },
  {
   "cell_type": "markdown",
   "metadata": {},
   "source": [
    "build our own subclass (it will step scan)"
   ]
  },
  {
   "cell_type": "code",
   "execution_count": 5,
   "metadata": {},
   "outputs": [],
   "source": [
    "class MyTomoScan(TomographyScanBase):\n",
    "    def tomo_scan(self, *args, md=None, **kwargs):\n",
    "        yield from bps.checkpoint()\n",
    "        positions = numpy.linspace(\n",
    "            self.angle_start,           # could be less or greater than angle_end\n",
    "            self.angle_end,             # do not reach this value\n",
    "            self.number_of_projections, \n",
    "            endpoint=False,             # do not include end point\n",
    "            )\n",
    "        readables = [self.detector, self.rotator, self.translator]\n",
    "        \n",
    "        for pos in positions:\n",
    "            yield from bps.mv(self.rotator, pos)\n",
    "            yield from bps.trigger_and_read(readables)"
   ]
  },
  {
   "cell_type": "markdown",
   "metadata": {},
   "source": [
    "prepare a Bluesky RunEngine (no databroker backend now) and add debugging"
   ]
  },
  {
   "cell_type": "code",
   "execution_count": 6,
   "metadata": {},
   "outputs": [],
   "source": [
    "RE = RunEngine({})\n",
    "RE.msg_hook = ts_msg_hook"
   ]
  },
  {
   "cell_type": "markdown",
   "metadata": {},
   "source": [
    "create our virtual tomo instrument"
   ]
  },
  {
   "cell_type": "code",
   "execution_count": 7,
   "metadata": {},
   "outputs": [],
   "source": [
    "HDF5_FILE_PATH_ROOT =  \"/\"\n",
    "HDF5_FILE_PATH = os.path.join(HDF5_FILE_PATH_ROOT, \"tmp\", \"simdet\", \"%Y/%m/%d\") + \"/\"\n",
    "\n",
    "theta = EpicsMotor(SYNAPPS_IOC+\"m1\", name=\"theta\")\n",
    "sample = EpicsMotor(SYNAPPS_IOC+\"m2\", name=\"sample\")\n",
    "shutter = APS_devices.SimulatedApsPssShutterWithStatus(name=\"shutter\")\n",
    "simdet = MyAreaDetector(AD_IOC, name=\"simdet\")"
   ]
  },
  {
   "cell_type": "markdown",
   "metadata": {},
   "source": [
    "create our virtual Tomo Scan object"
   ]
  },
  {
   "cell_type": "code",
   "execution_count": 8,
   "metadata": {},
   "outputs": [],
   "source": [
    "my_tomo = MyTomoScan(simdet, theta, sample, shutter, in_pos=0, out_pos=-1.5)"
   ]
  },
  {
   "cell_type": "markdown",
   "metadata": {},
   "source": [
    "cut back on the defaults during testing"
   ]
  },
  {
   "cell_type": "code",
   "execution_count": 9,
   "metadata": {},
   "outputs": [],
   "source": [
    "my_tomo.angle_start = 0\n",
    "my_tomo.angle_end = 5\n",
    "my_tomo.number_of_projections = 10"
   ]
  },
  {
   "cell_type": "markdown",
   "metadata": {},
   "source": [
    "test the plan for compliance"
   ]
  },
  {
   "cell_type": "code",
   "execution_count": 10,
   "metadata": {},
   "outputs": [],
   "source": [
    "# summarize_plan(my_tomo.tomo_plan())"
   ]
  },
  {
   "cell_type": "markdown",
   "metadata": {},
   "source": [
    "Run the tomography plan"
   ]
  },
  {
   "cell_type": "code",
   "execution_count": 11,
   "metadata": {
    "scrolled": false
   },
   "outputs": [],
   "source": [
    "# RE(my_tomo.tomo_plan())"
   ]
  },
  {
   "cell_type": "markdown",
   "metadata": {},
   "source": [
    "Run again, with diagnostics off"
   ]
  },
  {
   "cell_type": "code",
   "execution_count": 12,
   "metadata": {},
   "outputs": [
    {
     "name": "stdout",
     "output_type": "stream",
     "text": [
      "2021-11-30 16:52:41.100732: done with 3 darks: total time: 0.19503545761108398 s\n",
      "2021-11-30 16:52:44.621780: done with 3 flats: total time: 3.5166609287261963 s\n",
      "2021-11-30 16:53:02.063392: iteration 1 of 1: total time for iteration: 21.15786910057068 s\n"
     ]
    },
    {
     "data": {
      "text/plain": [
       "('47c12b4e-183d-4a37-98f7-3b3aeb548e5d',)"
      ]
     },
     "execution_count": 12,
     "metadata": {},
     "output_type": "execute_result"
    }
   ],
   "source": [
    "RE.msg_hook = None\n",
    "RE(my_tomo.tomo_plan())"
   ]
  }
 ],
 "metadata": {
  "kernelspec": {
   "display_name": "Python 3",
   "language": "python",
   "name": "python3"
  },
  "language_info": {
   "codemirror_mode": {
    "name": "ipython",
    "version": 3
   },
   "file_extension": ".py",
   "mimetype": "text/x-python",
   "name": "python",
   "nbconvert_exporter": "python",
   "pygments_lexer": "ipython3",
   "version": "3.9.7"
  }
 },
 "nbformat": 4,
 "nbformat_minor": 2
}
