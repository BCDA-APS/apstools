{
 "cells": [
  {
   "cell_type": "markdown",
   "metadata": {},
   "source": [
    "# Area Detector with default HDF5 File Name"
   ]
  },
  {
   "cell_type": "markdown",
   "metadata": {},
   "source": [
    "**Objective**\n",
    "\n",
    "Demonstrate and explain the setup of an [EPICS area detector](https://areadetector.github.io/master/index.html) to acquire an image with [bluesky](https://blueskyproject.io/) and write it to an [HDF5](https://www.hdfgroup.org/solutions/hdf5) file.  Use the standard [ophyd conventions](https://blueskyproject.io/ophyd) for file naming and other setup.  Show how to retrieve the image using the [databroker](https://blueskyproject.io/databroker).\n",
    "\n",
    "**Contents**\n",
    "\n",
    "- [EPICS Area Detector IOC](#EPICS-Area-Detector-IOC) is pre-built\n",
    "- [File Directories](#File-Directories) are different on IOC and bluesky workstation\n",
    "- [ophyd](#ophyd) to describe the hardware\n",
    "- [bluesky](#bluesky) for the measurement\n",
    "- [databroker](#databroker) to view the image\n",
    "- [punx](#punx) (not part of Bluesky) to look at the HDF5 file\n",
    "- [Recapitulation](#Recapitulation) - rendition with no explanations"
   ]
  },
  {
   "attachments": {},
   "cell_type": "markdown",
   "metadata": {},
   "source": [
    "## EPICS Area Detector IOC\n",
    "\n",
    "This example uses a prebuilt [ADSimDetector](https://areadetector.github.io/master/ADSimDetector/simDetector.html) driver, packaged in a [docker](https://www.docker.com/) image\n",
    "([prjemian/synapps](https://hub.docker.com/r/prjemian/synapps/tags)).  The [EPICS IOC](https://docs.epics-controls.org/projects/how-tos/en/latest/getting-started/creating-ioc.html) is configured with prefix `ad:` using the [bash shell script](https://raw.githubusercontent.com/prjemian/epics-docker/main/resources/iocmgr.sh):\n",
    "\n",
    "<pre>\n",
    "user@workstation:~$ <b>iocmgr.sh start ADSIM ad</b>\n",
    "</pre>"
   ]
  },
  {
   "cell_type": "code",
   "execution_count": 1,
   "metadata": {},
   "outputs": [],
   "source": [
    "IOC = \"ad:\""
   ]
  },
  {
   "cell_type": "markdown",
   "metadata": {},
   "source": [
    "## File Directories\n",
    "\n",
    "Files from the IOC are mounted on the docker host in the directory `/tmp/docker_ioc/iocad`. The bluesky session runs on the docker host.\n",
    "\n",
    "system | file directory\n",
    "--- | ---\n",
    "area detector IOC | `/tmp`\n",
    "bluesky | `/tmp/docker_ioc/iocad/tmp`\n",
    "\n",
    "***details***\n",
    "\n",
    "It is important to understand that, while the EPICS IOC and the Python process where the user interacts (with bluesky and databroker) should both see the same image file written by acquisition, the directory path to that file may be different on the two systems. Typically, the file system is mounted on both (IOC & Python) at the time of acquisition, perhaps at different mount points on each. Alternatively, the image file written by the IOC may be copied to a directory where Python can find the file **when** the user attempts to read the image data via databroker.\n",
    "\n",
    "For convenience now and later, define these two directories using [pathlib](https://docs.python.org/3/library/pathlib.html), from the Python standard library."
   ]
  },
  {
   "cell_type": "code",
   "execution_count": 2,
   "metadata": {},
   "outputs": [],
   "source": [
    "import pathlib\n",
    "\n",
    "AD_IOC_MOUNT_PATH = pathlib.Path(\"/tmp\")\n",
    "BLUESKY_MOUNT_PATH = pathlib.Path(\"/tmp/docker_ioc/iocad/tmp\")"
   ]
  },
  {
   "cell_type": "markdown",
   "metadata": {},
   "source": [
    "Image files are written to a subdirectory (*image directory*) of the mount path.\n",
    "\n",
    "***details***\n",
    "\n",
    "In this case, we use a feature of the area detector [HDF5 file writer](https://areadetector.github.io/master/ADCore/NDFileHDF5.html) plugin that accepts [time format codes](https://cplusplus.com/reference/ctime/strftime/), such as `%Y` for 4-digit year, to build the image directory path based on the current date.  (For reference, Python's [datetime](https://docs.python.org/3/library/datetime.html#strftime-and-strptime-format-codes) package uses these same codes.)\n",
    "\n",
    "Here, we create an `example` directory with subdirectory for year, month, and day (such as: `example/2022/07/04`):"
   ]
  },
  {
   "cell_type": "code",
   "execution_count": 3,
   "metadata": {},
   "outputs": [],
   "source": [
    "IMAGE_DIR = \"example/%Y/%m/%d\""
   ]
  },
  {
   "cell_type": "markdown",
   "metadata": {},
   "source": [
    "Using the two pathlib objects created above, create two string objects for configuration of the HDF5 plugin.\n",
    "\n",
    "***details***\n",
    "\n",
    "The area detector IOC expects each string to end with a `/` character but will add it if it is not provided.  But ophyd requires the value sent to EPICS to match exactly the value that the IOC reports, thus we make the correct ending here."
   ]
  },
  {
   "cell_type": "code",
   "execution_count": 4,
   "metadata": {},
   "outputs": [],
   "source": [
    "# MUST end with a `/`, pathlib will NOT provide it\n",
    "WRITE_PATH_TEMPLATE = f\"{AD_IOC_MOUNT_PATH / IMAGE_DIR}/\"\n",
    "READ_PATH_TEMPLATE = f\"{BLUESKY_MOUNT_PATH / IMAGE_DIR}/\""
   ]
  },
  {
   "attachments": {},
   "cell_type": "markdown",
   "metadata": {},
   "source": [
    "## ophyd\n",
    "\n",
    "In ophyd, the support for hardware involving multiple PVs is constructed as a subclass of `ophyd.Device`.\n",
    "\n",
    "***details***\n",
    "\n",
    "The EPICS area detector is described with a special `Device` subclass called `ophyd.areadetector.DetectorBase`.  An area detector has a detector driver, called a `cam` in the ophyd support, which is another subclass.\n",
    "\n",
    "Before you can create an ophyd object for your ADSimDetector detector, you'll need to create an ophyd class that describes the features of the EPICS Area Detector interface you plan to use, such as the camera (*ADSimDetector*, in this case) and any plugins such as computations or file writers.\n",
    "\n",
    "Each of the plugins (image, PVA, HDF5, ...) has its own subclass.  The general structure is:\n",
    "\n",
    "```\n",
    "DetectorBase\n",
    "    CamBase\n",
    "    ImagePlugin\n",
    "    HDF5Plugin\n",
    "    PvaPlugin\n",
    "    ...\n",
    "```\n",
    "\n",
    "***Which plugins are needed by bluesky?***\n",
    "\n",
    "In this example, we must define:\n",
    "\n",
    "name | subclass of | why?\n",
    "--- | --- | ---\n",
    "`cam` | `CamBase` | generates the image data\n",
    "`hdf1` | `HDF5Plugin` | output to an HDF5 file\n",
    "`image1` | `ImagePlugin` | make the image viewable\n",
    "\n",
    "The component name `hdf1`, the `1` is customary, referring to the `HDF1:` part of the EPICS PV name for the *first* HDF5 file writer plugin in the EPICS IOC.  (It is possible to create an IOC with more than one HDF5 file writer plugin.)  Similar for the `image1` component.\n",
    "\n",
    "In EPICS Area Detector, an [NDArray](https://areadetector.github.io/master/ADCore/NDArray.html) is the data passed from a detector `cam` to plugins.  Each plugin references its input NDArray by the port name of the source.\n",
    "\n",
    "> To connect plugin `downstream` to plugin `upstream`, set `downstream.nd_array_port` (**Port**) to `upstream.port_name` (**Plugin name**).\n",
    "\n",
    "In this example screen view, using the ADSimDetector, all the plugins shown are\n",
    "configured to receive their input from `SIM1` which is the `cam`.  (While the\n",
    "screen view shows the PVA1 plugin enabled, we will not enable that in this example.)\n",
    "\n",
    "![](./2022-08-03-commonPlugins-snapshot.png)\n",
    "\n",
    "Each [port](https://blueskyproject.io/ophyd/explanations/area-detector.html?highlight=singletrigger#ports) named by the detector ***must*** have its plugin (or `cam`) defined in the ophyd detector class. \n",
    "\n",
    "You can check if you missed any plugins once you have created your detector object by calling its `.missing_plugins()` method. For example, where our example ADSimDetector IOC uses the `ad:` PV prefix:\n",
    "\n",
    "```py\n",
    "from ophyd.areadetector import SimDetector\n",
    "det = SimDetector(\"ad:\", name=\"det\")\n",
    "det.missing_plugins()\n",
    "```\n",
    "\n",
    "We expect to see an empty list, `[]`, as the result of this last command. Otherwise, the list will describe the plugins needed."
   ]
  },
  {
   "attachments": {},
   "cell_type": "markdown",
   "metadata": {},
   "source": [
    "### cam\n",
    "\n",
    "The `cam` Device describes the EPICS area detector camera driver for this detector.\n",
    "\n",
    "***details***\n",
    "\n",
    "The [ophyd package](https://blueskyproject.io/ophyd/explanations/area-detector.html#specific-hardware) has support for many of the area detector drivers.  A complete list is available in the [ophyd source code](https://github.com/bluesky/ophyd/blob/master/ophyd/areadetector/cam.py).  The principle difference between area detector drivers is the `cam` support, which is specific to the detector driver being configured.  All the other plugin support is independent of the `cam` support.  Use steps similar to these to implement for a different detector driver.\n",
    "\n",
    "The ADSimDetector driver is in this list, as `SimDetectorCam`.  But the ophyd support is out of date for the EPICS area detector release 3.10 used here, so we need to make modifications with a subclass, as is typical.  The changes we see are current since ADSimDetector v3.1.1.\n",
    "\n",
    "In the [apstools](https://bcda-aps.github.io/apstools/latest/) package, `apstools.devices.CamMixin_V34` provides the updates needed.  (Eventually, these updates will be *hoisted* into the ophyd package.)"
   ]
  },
  {
   "cell_type": "code",
   "execution_count": 5,
   "metadata": {},
   "outputs": [],
   "source": [
    "from apstools.devices import CamMixin_V34\n",
    "from ophyd.areadetector import SimDetectorCam\n",
    "from ophyd import ADComponent\n",
    "\n",
    "class SimDetectorCam_V34(CamMixin_V34, SimDetectorCam):\n",
    "    \"\"\"Revise SimDetectorCam for ADCore revisions.\"\"\""
   ]
  },
  {
   "cell_type": "markdown",
   "metadata": {},
   "source": [
    "### HDF5\n",
    "\n",
    "The `hdf1` Device describes the HDF5 File Writing plugin for this detector.\n",
    "\n",
    "***details***\n",
    "\n",
    "Support for writing images to HDF5 files using the area detector [HDF5 File Writer plugin](https://github.com/bluesky/ophyd/blob/master/ophyd/areadetector/plugins.py) comes from the `ophyd.areadetector.HDF5Plugin`.  This plugin comes in different versions for different versions of area detector `ADCore`.  The `HDF5Plugin` ophyd support was written for an older version of the HDF5 File Writer plugin, but there is a `HDF5Plugin_V34` version that may be used with Area Detector release 3.4 and above. Our IOC uses release 3.10.\n",
    "\n",
    "The plugin provides supports writing HDF5 files.  Some modification is needed, via a mixin class, for the manner of acquisition.\n",
    "\n",
    "Here we build a custom HDF5 plugin class with `FileStoreHDF5IterativeWrite`.  This mixin class configures the HDF5 plugin to collect one or more images with the IOC, then writes file name and path and HDF5 address information of each frame in the data stream from the bluesky RunEngine.\n",
    "\n",
    "We make one modification to the `stage()` method, to move the setting of `capture` to be last in the list.  If it is not last, then any HDF5 plugin settings coming after might not succeed, since they cannot be done in capture mode."
   ]
  },
  {
   "cell_type": "code",
   "execution_count": 6,
   "metadata": {},
   "outputs": [],
   "source": [
    "from ophyd.areadetector.filestore_mixins import FileStoreHDF5IterativeWrite\n",
    "from ophyd.areadetector.plugins import HDF5Plugin_V34 as HDF5Plugin\n",
    "\n",
    "class MyHDF5Plugin(FileStoreHDF5IterativeWrite, HDF5Plugin):\n",
    "    \"\"\"\n",
    "    Add data acquisition methods to HDF5Plugin.\n",
    "\n",
    "    * ``stage()`` - prepare device PVs befor data acquisition\n",
    "    * ``unstage()`` - restore device PVs after data acquisition\n",
    "    * ``generate_datum()`` - coordinate image storage metadata\n",
    "    \"\"\"\n",
    "\n",
    "    def stage(self):\n",
    "        self.stage_sigs.move_to_end(\"capture\", last=True)\n",
    "        super().stage()"
   ]
  },
  {
   "cell_type": "markdown",
   "metadata": {},
   "source": [
    "### detector\n",
    "\n",
    "The detector class, a subclass of `DetectorBase`, brings together the detector driver `cam` and plugins.\n",
    "\n",
    "***details***\n",
    "\n",
    "This class will be used to build the Python object for the detector.  In addition to the `cam` and HDF5 plugin, we'll enable the image plugin (`ImagePlugin`) so that a client viewer can view the image.\n",
    "\n",
    "The `SingleTrigger` mixin class configures the `cam` for data acquisition as [explained](https://blueskyproject.io/ophyd/explanations/area-detector.html?highlight=singletrigger#callbacks).  As with the `HDF5Plugin` above, the ophyd support is not up to date with more recent developments in EPICS Area Detector.  The updates are available from `apstools.devices.SingleTrigger_V34`.\n",
    "\n",
    "When configuring the custom `MyHDF5Plugin` class, we apply the two strings defined above for the file paths on the IOC (write) and on the bluesky workstation (read).\n"
   ]
  },
  {
   "cell_type": "code",
   "execution_count": 7,
   "metadata": {},
   "outputs": [],
   "source": [
    "from apstools.devices import SingleTrigger_V34\n",
    "from ophyd.areadetector import DetectorBase\n",
    "from ophyd.areadetector.plugins import ImagePlugin_V34 as ImagePlugin\n",
    "\n",
    "class SimDetector_V34(SingleTrigger_V34, DetectorBase):\n",
    "    \"\"\"\n",
    "    ADSimDetector\n",
    "\n",
    "    SingleTrigger:\n",
    "\n",
    "    * stop any current acquisition\n",
    "    * sets image_mode to 'Multiple'\n",
    "    \"\"\"\n",
    "\n",
    "    cam = ADComponent(SimDetectorCam_V34, \"cam1:\")\n",
    "    hdf1 = ADComponent(\n",
    "        MyHDF5Plugin,\n",
    "        \"HDF1:\",\n",
    "        write_path_template=WRITE_PATH_TEMPLATE,\n",
    "        read_path_template=READ_PATH_TEMPLATE,\n",
    "    )\n",
    "    image = ADComponent(ImagePlugin, \"image1:\")"
   ]
  },
  {
   "cell_type": "markdown",
   "metadata": {},
   "source": [
    "With all the above setup, create the Python detector object, `adsimdet` and wait for it to connect with EPICS."
   ]
  },
  {
   "cell_type": "code",
   "execution_count": 8,
   "metadata": {},
   "outputs": [],
   "source": [
    "adsimdet = SimDetector_V34(IOC, name=\"adsimdet\")\n",
    "adsimdet.wait_for_connection(timeout=15)"
   ]
  },
  {
   "cell_type": "markdown",
   "metadata": {},
   "source": [
    "Check that all plugins used by the IOC have been defined in the Python structure.  Expect that this function returns an empty list: `[]`."
   ]
  },
  {
   "cell_type": "code",
   "execution_count": 9,
   "metadata": {},
   "outputs": [
    {
     "data": {
      "text/plain": [
       "[]"
      ]
     },
     "execution_count": 9,
     "metadata": {},
     "output_type": "execute_result"
    }
   ],
   "source": [
    "adsimdet.missing_plugins()"
   ]
  },
  {
   "attachments": {},
   "cell_type": "markdown",
   "metadata": {},
   "source": [
    "We must configure `adsimdet` so the HDF5 plugin (by its attribute name `hdf1`) will be called during `adsimdet.read()`, as used by data acquisition.  This plugin is already `enabled` (above) but we must change the [`kind`](https://blueskyproject.io/ophyd/user_v1/reference/signals.html#kind) attribute.  Ophyd support will check this attribute to see if the plugin should be [`read`](https://blueskyproject.io/ophyd/user_v1/tutorials/device.html#assign-a-kind-to-components) during data acquisition.  If we don't change this, the area detector image(s) will not be reported in the run's documents.\n",
    "\n",
    "**Note**: Here, we assign the `kind` attribute by number `3`, a shorthand which is interpreted by ophyd as `ophyd.Kind.config | ophyd.Kind.normal`."
   ]
  },
  {
   "cell_type": "code",
   "execution_count": 10,
   "metadata": {},
   "outputs": [],
   "source": [
    "adsimdet.hdf1.kind = 3  # config | normal"
   ]
  },
  {
   "cell_type": "markdown",
   "metadata": {},
   "source": [
    "Configure the HDF5 plugin so it will create up to 5 subdirectories for the image directory.\n",
    "\n",
    "***details***\n",
    "\n",
    "We *must* do this step before staging so the IOC is prepared when the `FilePath` PV is set during `adsimdet.stage()`."
   ]
  },
  {
   "cell_type": "code",
   "execution_count": 11,
   "metadata": {},
   "outputs": [],
   "source": [
    "adsimdet.hdf1.create_directory.put(-5)"
   ]
  },
  {
   "cell_type": "markdown",
   "metadata": {},
   "source": [
    "Wait for all plugins to finish.\n",
    "\n",
    "***details***\n",
    "\n",
    "One of the [changes for the SingleTrigger mixin](https://blueskyproject.io/ophyd/explanations/area-detector.html?highlight=singletrigger#callbacks) adds the `adsimdet.cam.wait_for_plugins` signal.  This enables clients to know, via the `adsimdet.cam.acquire_busy` signal, when the camera and *all* enabled plugins are finished.  For this to work, each plugin has `blocking_callbacks` set to `\"No\"` and the cam has `wait_for_plugins` set to `\"Yes\"`.  Then, `cam.acquire_busy` will remain `\"Acquiring\"` (or `1`) until all plugins have finished processing, then it goes to `\"Done\"` (or `0`)."
   ]
  },
  {
   "cell_type": "code",
   "execution_count": 12,
   "metadata": {},
   "outputs": [],
   "source": [
    "# override default setting from ophyd\n",
    "adsimdet.hdf1.stage_sigs[\"blocking_callbacks\"] = \"No\"\n",
    "adsimdet.cam.stage_sigs[\"wait_for_plugins\"] = \"Yes\""
   ]
  },
  {
   "cell_type": "markdown",
   "metadata": {},
   "source": [
    "For good measure, also make sure the `image` plugin does not block."
   ]
  },
  {
   "cell_type": "code",
   "execution_count": 13,
   "metadata": {},
   "outputs": [],
   "source": [
    "adsimdet.image.stage_sigs[\"blocking_callbacks\"] = \"No\""
   ]
  },
  {
   "cell_type": "markdown",
   "metadata": {},
   "source": [
    "Consider enabling and setting any of these additional configurations, or others as appropriate to your situation.\n",
    "\n",
    "***details***\n",
    "\n",
    "Here, we accept the default acquisition time, but acquire 5 frames with `zlib` data compression.\n",
    "\n",
    "The `\"LZ4\"` compression is good for speed and compression but requires the [hdf5plugin](https://github.com/silx-kit/hdf5plugin) package to read the compressed data from the HDF5 file.\n",
    "\n",
    "But since our [last step](#punx) uses a tool that does not yet have this package, we'll use `zlib` compression."
   ]
  },
  {
   "cell_type": "code",
   "execution_count": 14,
   "metadata": {},
   "outputs": [],
   "source": [
    "adsimdet.cam.stage_sigs[\"acquire_period\"] = 0.015\n",
    "adsimdet.cam.stage_sigs[\"acquire_time\"] = 0.01\n",
    "adsimdet.cam.stage_sigs[\"num_images\"] = 5\n",
    "adsimdet.hdf1.stage_sigs[\"num_capture\"] = 0  # capture ALL frames received\n",
    "adsimdet.hdf1.stage_sigs[\"compression\"] = \"zlib\"  # LZ4\n",
    "# adsimdet.hdf1.stage_sigs[\"queue_size\"] = 20"
   ]
  },
  {
   "cell_type": "markdown",
   "metadata": {},
   "source": [
    "*Prime* the HDF5 plugin, if necessary.\n",
    "\n",
    "***details***\n",
    "\n",
    "Even though area detector has a `LazyOpen` feature, ophyd needs to know how to describe the image structure before it starts saving data.  If the file writing (HDF5) plugin does not have the dimensions, bit depth, color mode, ... of the expected image, then ophyd does not have access to the metadata it needs.\n",
    "\n",
    "NOTE: The `adsimdet.hdf1.lazy_open` signal should remain `\"No\"` if data is to be read later from the databroker.  Attempts to read the data (via `run.primary.read()`) will see this exception raised:\n",
    "\n",
    "> `event_model.EventModelError: Error instantiating handler class <class 'area_detector_handlers.handlers.AreaDetectorHDF5Handler'>`\n",
    "\n",
    "This code checks if the plugin is ready and, if not, makes the plugin ready by acquiring (a.k.a. *priming*) a single image into the plugin."
   ]
  },
  {
   "cell_type": "code",
   "execution_count": 15,
   "metadata": {},
   "outputs": [
    {
     "name": "stdout",
     "output_type": "stream",
     "text": [
      "Priming hdf1\n"
     ]
    }
   ],
   "source": [
    "from apstools.devices import AD_plugin_primed\n",
    "from apstools.devices import AD_prime_plugin2\n",
    "\n",
    "# this step is needed for ophyd\n",
    "if not AD_plugin_primed(adsimdet.hdf1):\n",
    "    print(f\"Priming {adsimdet.hdf1.dotted_name}\")\n",
    "    AD_prime_plugin2(adsimdet.hdf1)"
   ]
  },
  {
   "cell_type": "markdown",
   "metadata": {},
   "source": [
    "Print some values as diagnostics."
   ]
  },
  {
   "cell_type": "code",
   "execution_count": 16,
   "metadata": {},
   "outputs": [
    {
     "data": {
      "text/plain": [
       "['hdf1']"
      ]
     },
     "execution_count": 16,
     "metadata": {},
     "output_type": "execute_result"
    }
   ],
   "source": [
    "adsimdet.read_attrs"
   ]
  },
  {
   "cell_type": "code",
   "execution_count": 17,
   "metadata": {},
   "outputs": [
    {
     "data": {
      "text/plain": [
       "OrderedDict([('cam.acquire', 0), ('cam.image_mode', 1)])"
      ]
     },
     "execution_count": 17,
     "metadata": {},
     "output_type": "execute_result"
    }
   ],
   "source": [
    "adsimdet.stage_sigs"
   ]
  },
  {
   "cell_type": "code",
   "execution_count": 18,
   "metadata": {},
   "outputs": [
    {
     "data": {
      "text/plain": [
       "OrderedDict([('wait_for_plugins', 'Yes'),\n",
       "             ('acquire_period', 0.015),\n",
       "             ('acquire_time', 0.01),\n",
       "             ('num_images', 5)])"
      ]
     },
     "execution_count": 18,
     "metadata": {},
     "output_type": "execute_result"
    }
   ],
   "source": [
    "adsimdet.cam.stage_sigs"
   ]
  },
  {
   "cell_type": "code",
   "execution_count": 19,
   "metadata": {},
   "outputs": [
    {
     "data": {
      "text/plain": [
       "OrderedDict([('enable', 1),\n",
       "             ('blocking_callbacks', 'No'),\n",
       "             ('parent.cam.array_callbacks', 1),\n",
       "             ('create_directory', -3),\n",
       "             ('auto_increment', 'Yes'),\n",
       "             ('array_counter', 0),\n",
       "             ('auto_save', 'Yes'),\n",
       "             ('num_capture', 0),\n",
       "             ('file_template', '%s%s_%6.6d.h5'),\n",
       "             ('file_write_mode', 'Stream'),\n",
       "             ('capture', 1),\n",
       "             ('compression', 'zlib')])"
      ]
     },
     "execution_count": 19,
     "metadata": {},
     "output_type": "execute_result"
    }
   ],
   "source": [
    "adsimdet.hdf1.stage_sigs"
   ]
  },
  {
   "cell_type": "markdown",
   "metadata": {},
   "source": [
    "## bluesky\n",
    "\n",
    "Within the [Bluesky framework](https://blueskyproject.io/), [bluesky](https://blueskyproject.io/bluesky) is the package that orchestrates the data acquisition steps, including where to direct acquired data for storage.  [Later](#databroker), we'll use [databroker](https://blueskyproject.io/databroker) to access the image data.\n",
    "\n",
    "As a first step, configure the notebook for graphics.  (While `%matplotlib inline` works well for documentation, you might prefer the additional interactive features possible by changing to `%matplotlib widget`.)"
   ]
  },
  {
   "cell_type": "code",
   "execution_count": 20,
   "metadata": {},
   "outputs": [
    {
     "data": {
      "text/plain": [
       "<contextlib.ExitStack at 0x7f7c2a7fd9c0>"
      ]
     },
     "execution_count": 20,
     "metadata": {},
     "output_type": "execute_result"
    }
   ],
   "source": [
    "# Import matplotlib for inline graphics\n",
    "%matplotlib inline\n",
    "import matplotlib.pyplot as plt\n",
    "\n",
    "plt.ion()"
   ]
  },
  {
   "cell_type": "markdown",
   "metadata": {},
   "source": [
    "We'll use a temporary databroker catalog for this example and setup the RunEngine object `RE`.\n",
    "\n",
    "***details***\n",
    "\n",
    "You may wish to use your own catalog:\n",
    "\n",
    "```py\n",
    "cat = databroker.catalog[YOUR_CATALOG_NAME]\n",
    "```\n",
    "\n",
    "Then setup the bluesky run engine `RE`, connect it with the databroker catalog, and enable (via `BestEffortCallback`) some screen output during data collection."
   ]
  },
  {
   "cell_type": "code",
   "execution_count": 21,
   "metadata": {},
   "outputs": [],
   "source": [
    "from bluesky import plans as bp\n",
    "from bluesky import RunEngine\n",
    "from bluesky import SupplementalData\n",
    "from bluesky.callbacks.best_effort import BestEffortCallback\n",
    "import databroker\n",
    "\n",
    "cat = databroker.temp().v2\n",
    "RE = RunEngine({})\n",
    "RE.subscribe(cat.v1.insert)\n",
    "RE.subscribe(BestEffortCallback())\n",
    "RE.preprocessors.append(SupplementalData())"
   ]
  },
  {
   "cell_type": "markdown",
   "metadata": {},
   "source": [
    "***Take an image with the area detector***\n",
    "\n",
    "***details***\n",
    "\n",
    "Also, capture the list of identifiers (there will be only one item). Add custom metadata to identify the imaging run.\n",
    "\n",
    "Note that the HDF plugin will report, briefly before acquisition, (in its `WriteMessage` PV):\n",
    "\n",
    "> ERROR: capture is not permitted in Single mode\n",
    "\n",
    "Ignore that."
   ]
  },
  {
   "cell_type": "code",
   "execution_count": 22,
   "metadata": {},
   "outputs": [
    {
     "name": "stdout",
     "output_type": "stream",
     "text": [
      "\n",
      "\n",
      "Transient Scan ID: 1     Time: 2023-04-10 09:37:15\n",
      "Persistent Unique Scan ID: '2ef5ca0d-7296-448d-a132-fa35de7e439d'\n",
      "New stream: 'primary'\n",
      "+-----------+------------+\n",
      "|   seq_num |       time |\n",
      "+-----------+------------+\n",
      "|         1 | 09:37:15.6 |\n",
      "+-----------+------------+\n",
      "generator count ['2ef5ca0d'] (scan num: 1)\n",
      "\n",
      "\n",
      "\n"
     ]
    }
   ],
   "source": [
    "uids = RE(bp.count([adsimdet], md=dict(title=\"Area Detector with default HDF5 File Name\", purpose=\"image\")))"
   ]
  },
  {
   "cell_type": "markdown",
   "metadata": {},
   "source": [
    "## databroker\n",
    "\n",
    "To emphasize the decisions associated with each step to get the image data, the procedure is shown in parts.\n",
    "\n",
    "***Get the run from the catalog***\n",
    "\n",
    "The run data comes from the databroker catalog.\n",
    "\n",
    "***details***\n",
    "\n",
    "We *could* assume we want the most recent run in the catalog (`run = cat.v2[-1]`). But, since we have a list of run *uid* strings, let's use that instead.   If we wanted to access this run later, when neither of those two choices are possible, then the run could be access by its *Transient Scan ID* as reported above: `run = cat.v2[1]`\n",
    "\n",
    "There are three ways to reference a run in the catalog:\n",
    "\n",
    "argument | example | description\n",
    "--- | --- | ---\n",
    "negative integer | `cat.v2[-1]` | ***list*-like**, `-1` is most recent, `-2` is 2nd most recent, ...\n",
    "positive integer | `cat.v2[1]` | argument is the **Scan ID** (if search is not unique, returns most recent)\n",
    "string | `cat.v2[\"a1b2c3d\"]` | argument is a **`uid`** (just the first few characters that make the catalog search unique are needed)\n",
    "\n",
    "We called the `RE` with `bp.count()`, which only generates a single run, so there is no assumption here using the `uids` list from this session."
   ]
  },
  {
   "cell_type": "code",
   "execution_count": 23,
   "metadata": {},
   "outputs": [
    {
     "data": {
      "text/plain": [
       "BlueskyRun\n",
       "  uid='2ef5ca0d-7296-448d-a132-fa35de7e439d'\n",
       "  exit_status='success'\n",
       "  2023-04-10 09:37:15.549 -- 2023-04-10 09:37:15.692\n",
       "  Streams:\n",
       "    * primary\n"
      ]
     },
     "execution_count": 23,
     "metadata": {},
     "output_type": "execute_result"
    }
   ],
   "source": [
    "run = cat.v2[uids[0]]\n",
    "run"
   ]
  },
  {
   "cell_type": "markdown",
   "metadata": {},
   "source": [
    "***Get the image frame from the run***\n",
    "\n",
    "From the run, we know the image data is in the primary stream.\n",
    "\n",
    "***details***\n",
    "\n",
    "(In fact, that is the only stream in this run.)  Get the run's data as an [xarray Dataset](https://docs.xarray.dev/en/stable/generated/xarray.Dataset.html) object.\n",
    "\n",
    "Recall, above, we said that the `LZ4` compression needs help from the `hdf5plugin` package, all we have to do is `import` it.  The package installs entry points to assist the h5py library to uncompress the data.\n",
    "\n",
    "Since we used `zlib` above, we comment the import for now."
   ]
  },
  {
   "cell_type": "code",
   "execution_count": 24,
   "metadata": {},
   "outputs": [
    {
     "data": {
      "text/html": [
       "<div><svg style=\"position: absolute; width: 0; height: 0; overflow: hidden\">\n",
       "<defs>\n",
       "<symbol id=\"icon-database\" viewBox=\"0 0 32 32\">\n",
       "<path d=\"M16 0c-8.837 0-16 2.239-16 5v4c0 2.761 7.163 5 16 5s16-2.239 16-5v-4c0-2.761-7.163-5-16-5z\"></path>\n",
       "<path d=\"M16 17c-8.837 0-16-2.239-16-5v6c0 2.761 7.163 5 16 5s16-2.239 16-5v-6c0 2.761-7.163 5-16 5z\"></path>\n",
       "<path d=\"M16 26c-8.837 0-16-2.239-16-5v6c0 2.761 7.163 5 16 5s16-2.239 16-5v-6c0 2.761-7.163 5-16 5z\"></path>\n",
       "</symbol>\n",
       "<symbol id=\"icon-file-text2\" viewBox=\"0 0 32 32\">\n",
       "<path d=\"M28.681 7.159c-0.694-0.947-1.662-2.053-2.724-3.116s-2.169-2.030-3.116-2.724c-1.612-1.182-2.393-1.319-2.841-1.319h-15.5c-1.378 0-2.5 1.121-2.5 2.5v27c0 1.378 1.122 2.5 2.5 2.5h23c1.378 0 2.5-1.122 2.5-2.5v-19.5c0-0.448-0.137-1.23-1.319-2.841zM24.543 5.457c0.959 0.959 1.712 1.825 2.268 2.543h-4.811v-4.811c0.718 0.556 1.584 1.309 2.543 2.268zM28 29.5c0 0.271-0.229 0.5-0.5 0.5h-23c-0.271 0-0.5-0.229-0.5-0.5v-27c0-0.271 0.229-0.5 0.5-0.5 0 0 15.499-0 15.5 0v7c0 0.552 0.448 1 1 1h7v19.5z\"></path>\n",
       "<path d=\"M23 26h-14c-0.552 0-1-0.448-1-1s0.448-1 1-1h14c0.552 0 1 0.448 1 1s-0.448 1-1 1z\"></path>\n",
       "<path d=\"M23 22h-14c-0.552 0-1-0.448-1-1s0.448-1 1-1h14c0.552 0 1 0.448 1 1s-0.448 1-1 1z\"></path>\n",
       "<path d=\"M23 18h-14c-0.552 0-1-0.448-1-1s0.448-1 1-1h14c0.552 0 1 0.448 1 1s-0.448 1-1 1z\"></path>\n",
       "</symbol>\n",
       "</defs>\n",
       "</svg>\n",
       "<style>/* CSS stylesheet for displaying xarray objects in jupyterlab.\n",
       " *\n",
       " */\n",
       "\n",
       ":root {\n",
       "  --xr-font-color0: var(--jp-content-font-color0, rgba(0, 0, 0, 1));\n",
       "  --xr-font-color2: var(--jp-content-font-color2, rgba(0, 0, 0, 0.54));\n",
       "  --xr-font-color3: var(--jp-content-font-color3, rgba(0, 0, 0, 0.38));\n",
       "  --xr-border-color: var(--jp-border-color2, #e0e0e0);\n",
       "  --xr-disabled-color: var(--jp-layout-color3, #bdbdbd);\n",
       "  --xr-background-color: var(--jp-layout-color0, white);\n",
       "  --xr-background-color-row-even: var(--jp-layout-color1, white);\n",
       "  --xr-background-color-row-odd: var(--jp-layout-color2, #eeeeee);\n",
       "}\n",
       "\n",
       "html[theme=dark],\n",
       "body[data-theme=dark],\n",
       "body.vscode-dark {\n",
       "  --xr-font-color0: rgba(255, 255, 255, 1);\n",
       "  --xr-font-color2: rgba(255, 255, 255, 0.54);\n",
       "  --xr-font-color3: rgba(255, 255, 255, 0.38);\n",
       "  --xr-border-color: #1F1F1F;\n",
       "  --xr-disabled-color: #515151;\n",
       "  --xr-background-color: #111111;\n",
       "  --xr-background-color-row-even: #111111;\n",
       "  --xr-background-color-row-odd: #313131;\n",
       "}\n",
       "\n",
       ".xr-wrap {\n",
       "  display: block !important;\n",
       "  min-width: 300px;\n",
       "  max-width: 700px;\n",
       "}\n",
       "\n",
       ".xr-text-repr-fallback {\n",
       "  /* fallback to plain text repr when CSS is not injected (untrusted notebook) */\n",
       "  display: none;\n",
       "}\n",
       "\n",
       ".xr-header {\n",
       "  padding-top: 6px;\n",
       "  padding-bottom: 6px;\n",
       "  margin-bottom: 4px;\n",
       "  border-bottom: solid 1px var(--xr-border-color);\n",
       "}\n",
       "\n",
       ".xr-header > div,\n",
       ".xr-header > ul {\n",
       "  display: inline;\n",
       "  margin-top: 0;\n",
       "  margin-bottom: 0;\n",
       "}\n",
       "\n",
       ".xr-obj-type,\n",
       ".xr-array-name {\n",
       "  margin-left: 2px;\n",
       "  margin-right: 10px;\n",
       "}\n",
       "\n",
       ".xr-obj-type {\n",
       "  color: var(--xr-font-color2);\n",
       "}\n",
       "\n",
       ".xr-sections {\n",
       "  padding-left: 0 !important;\n",
       "  display: grid;\n",
       "  grid-template-columns: 150px auto auto 1fr 20px 20px;\n",
       "}\n",
       "\n",
       ".xr-section-item {\n",
       "  display: contents;\n",
       "}\n",
       "\n",
       ".xr-section-item input {\n",
       "  display: none;\n",
       "}\n",
       "\n",
       ".xr-section-item input + label {\n",
       "  color: var(--xr-disabled-color);\n",
       "}\n",
       "\n",
       ".xr-section-item input:enabled + label {\n",
       "  cursor: pointer;\n",
       "  color: var(--xr-font-color2);\n",
       "}\n",
       "\n",
       ".xr-section-item input:enabled + label:hover {\n",
       "  color: var(--xr-font-color0);\n",
       "}\n",
       "\n",
       ".xr-section-summary {\n",
       "  grid-column: 1;\n",
       "  color: var(--xr-font-color2);\n",
       "  font-weight: 500;\n",
       "}\n",
       "\n",
       ".xr-section-summary > span {\n",
       "  display: inline-block;\n",
       "  padding-left: 0.5em;\n",
       "}\n",
       "\n",
       ".xr-section-summary-in:disabled + label {\n",
       "  color: var(--xr-font-color2);\n",
       "}\n",
       "\n",
       ".xr-section-summary-in + label:before {\n",
       "  display: inline-block;\n",
       "  content: '►';\n",
       "  font-size: 11px;\n",
       "  width: 15px;\n",
       "  text-align: center;\n",
       "}\n",
       "\n",
       ".xr-section-summary-in:disabled + label:before {\n",
       "  color: var(--xr-disabled-color);\n",
       "}\n",
       "\n",
       ".xr-section-summary-in:checked + label:before {\n",
       "  content: '▼';\n",
       "}\n",
       "\n",
       ".xr-section-summary-in:checked + label > span {\n",
       "  display: none;\n",
       "}\n",
       "\n",
       ".xr-section-summary,\n",
       ".xr-section-inline-details {\n",
       "  padding-top: 4px;\n",
       "  padding-bottom: 4px;\n",
       "}\n",
       "\n",
       ".xr-section-inline-details {\n",
       "  grid-column: 2 / -1;\n",
       "}\n",
       "\n",
       ".xr-section-details {\n",
       "  display: none;\n",
       "  grid-column: 1 / -1;\n",
       "  margin-bottom: 5px;\n",
       "}\n",
       "\n",
       ".xr-section-summary-in:checked ~ .xr-section-details {\n",
       "  display: contents;\n",
       "}\n",
       "\n",
       ".xr-array-wrap {\n",
       "  grid-column: 1 / -1;\n",
       "  display: grid;\n",
       "  grid-template-columns: 20px auto;\n",
       "}\n",
       "\n",
       ".xr-array-wrap > label {\n",
       "  grid-column: 1;\n",
       "  vertical-align: top;\n",
       "}\n",
       "\n",
       ".xr-preview {\n",
       "  color: var(--xr-font-color3);\n",
       "}\n",
       "\n",
       ".xr-array-preview,\n",
       ".xr-array-data {\n",
       "  padding: 0 5px !important;\n",
       "  grid-column: 2;\n",
       "}\n",
       "\n",
       ".xr-array-data,\n",
       ".xr-array-in:checked ~ .xr-array-preview {\n",
       "  display: none;\n",
       "}\n",
       "\n",
       ".xr-array-in:checked ~ .xr-array-data,\n",
       ".xr-array-preview {\n",
       "  display: inline-block;\n",
       "}\n",
       "\n",
       ".xr-dim-list {\n",
       "  display: inline-block !important;\n",
       "  list-style: none;\n",
       "  padding: 0 !important;\n",
       "  margin: 0;\n",
       "}\n",
       "\n",
       ".xr-dim-list li {\n",
       "  display: inline-block;\n",
       "  padding: 0;\n",
       "  margin: 0;\n",
       "}\n",
       "\n",
       ".xr-dim-list:before {\n",
       "  content: '(';\n",
       "}\n",
       "\n",
       ".xr-dim-list:after {\n",
       "  content: ')';\n",
       "}\n",
       "\n",
       ".xr-dim-list li:not(:last-child):after {\n",
       "  content: ',';\n",
       "  padding-right: 5px;\n",
       "}\n",
       "\n",
       ".xr-has-index {\n",
       "  font-weight: bold;\n",
       "}\n",
       "\n",
       ".xr-var-list,\n",
       ".xr-var-item {\n",
       "  display: contents;\n",
       "}\n",
       "\n",
       ".xr-var-item > div,\n",
       ".xr-var-item label,\n",
       ".xr-var-item > .xr-var-name span {\n",
       "  background-color: var(--xr-background-color-row-even);\n",
       "  margin-bottom: 0;\n",
       "}\n",
       "\n",
       ".xr-var-item > .xr-var-name:hover span {\n",
       "  padding-right: 5px;\n",
       "}\n",
       "\n",
       ".xr-var-list > li:nth-child(odd) > div,\n",
       ".xr-var-list > li:nth-child(odd) > label,\n",
       ".xr-var-list > li:nth-child(odd) > .xr-var-name span {\n",
       "  background-color: var(--xr-background-color-row-odd);\n",
       "}\n",
       "\n",
       ".xr-var-name {\n",
       "  grid-column: 1;\n",
       "}\n",
       "\n",
       ".xr-var-dims {\n",
       "  grid-column: 2;\n",
       "}\n",
       "\n",
       ".xr-var-dtype {\n",
       "  grid-column: 3;\n",
       "  text-align: right;\n",
       "  color: var(--xr-font-color2);\n",
       "}\n",
       "\n",
       ".xr-var-preview {\n",
       "  grid-column: 4;\n",
       "}\n",
       "\n",
       ".xr-index-preview {\n",
       "  grid-column: 2 / 5;\n",
       "  color: var(--xr-font-color2);\n",
       "}\n",
       "\n",
       ".xr-var-name,\n",
       ".xr-var-dims,\n",
       ".xr-var-dtype,\n",
       ".xr-preview,\n",
       ".xr-attrs dt {\n",
       "  white-space: nowrap;\n",
       "  overflow: hidden;\n",
       "  text-overflow: ellipsis;\n",
       "  padding-right: 10px;\n",
       "}\n",
       "\n",
       ".xr-var-name:hover,\n",
       ".xr-var-dims:hover,\n",
       ".xr-var-dtype:hover,\n",
       ".xr-attrs dt:hover {\n",
       "  overflow: visible;\n",
       "  width: auto;\n",
       "  z-index: 1;\n",
       "}\n",
       "\n",
       ".xr-var-attrs,\n",
       ".xr-var-data,\n",
       ".xr-index-data {\n",
       "  display: none;\n",
       "  background-color: var(--xr-background-color) !important;\n",
       "  padding-bottom: 5px !important;\n",
       "}\n",
       "\n",
       ".xr-var-attrs-in:checked ~ .xr-var-attrs,\n",
       ".xr-var-data-in:checked ~ .xr-var-data,\n",
       ".xr-index-data-in:checked ~ .xr-index-data {\n",
       "  display: block;\n",
       "}\n",
       "\n",
       ".xr-var-data > table {\n",
       "  float: right;\n",
       "}\n",
       "\n",
       ".xr-var-name span,\n",
       ".xr-var-data,\n",
       ".xr-index-name div,\n",
       ".xr-index-data,\n",
       ".xr-attrs {\n",
       "  padding-left: 25px !important;\n",
       "}\n",
       "\n",
       ".xr-attrs,\n",
       ".xr-var-attrs,\n",
       ".xr-var-data,\n",
       ".xr-index-data {\n",
       "  grid-column: 1 / -1;\n",
       "}\n",
       "\n",
       "dl.xr-attrs {\n",
       "  padding: 0;\n",
       "  margin: 0;\n",
       "  display: grid;\n",
       "  grid-template-columns: 125px auto;\n",
       "}\n",
       "\n",
       ".xr-attrs dt,\n",
       ".xr-attrs dd {\n",
       "  padding: 0;\n",
       "  margin: 0;\n",
       "  float: left;\n",
       "  padding-right: 10px;\n",
       "  width: auto;\n",
       "}\n",
       "\n",
       ".xr-attrs dt {\n",
       "  font-weight: normal;\n",
       "  grid-column: 1;\n",
       "}\n",
       "\n",
       ".xr-attrs dt:hover span {\n",
       "  display: inline-block;\n",
       "  background: var(--xr-background-color);\n",
       "  padding-right: 10px;\n",
       "}\n",
       "\n",
       ".xr-attrs dd {\n",
       "  grid-column: 2;\n",
       "  white-space: pre-wrap;\n",
       "  word-break: break-all;\n",
       "}\n",
       "\n",
       ".xr-icon-database,\n",
       ".xr-icon-file-text2,\n",
       ".xr-no-icon {\n",
       "  display: inline-block;\n",
       "  vertical-align: middle;\n",
       "  width: 1em;\n",
       "  height: 1.5em !important;\n",
       "  stroke-width: 0;\n",
       "  stroke: currentColor;\n",
       "  fill: currentColor;\n",
       "}\n",
       "</style><pre class='xr-text-repr-fallback'>&lt;xarray.Dataset&gt;\n",
       "Dimensions:         (time: 1, dim_0: 5, dim_1: 1024, dim_2: 1024)\n",
       "Coordinates:\n",
       "  * time            (time) float64 1.681e+09\n",
       "Dimensions without coordinates: dim_0, dim_1, dim_2\n",
       "Data variables:\n",
       "    adsimdet_image  (time, dim_0, dim_1, dim_2) uint8 198 199 200 ... 199 200</pre><div class='xr-wrap' style='display:none'><div class='xr-header'><div class='xr-obj-type'>xarray.Dataset</div></div><ul class='xr-sections'><li class='xr-section-item'><input id='section-8aecff0b-5b56-4f5a-87fe-22d677d6ea2a' class='xr-section-summary-in' type='checkbox' disabled ><label for='section-8aecff0b-5b56-4f5a-87fe-22d677d6ea2a' class='xr-section-summary'  title='Expand/collapse section'>Dimensions:</label><div class='xr-section-inline-details'><ul class='xr-dim-list'><li><span class='xr-has-index'>time</span>: 1</li><li><span>dim_0</span>: 5</li><li><span>dim_1</span>: 1024</li><li><span>dim_2</span>: 1024</li></ul></div><div class='xr-section-details'></div></li><li class='xr-section-item'><input id='section-5e1c47ae-2b49-458f-9222-c51035caf783' class='xr-section-summary-in' type='checkbox'  checked><label for='section-5e1c47ae-2b49-458f-9222-c51035caf783' class='xr-section-summary' >Coordinates: <span>(1)</span></label><div class='xr-section-inline-details'></div><div class='xr-section-details'><ul class='xr-var-list'><li class='xr-var-item'><div class='xr-var-name'><span class='xr-has-index'>time</span></div><div class='xr-var-dims'>(time)</div><div class='xr-var-dtype'>float64</div><div class='xr-var-preview xr-preview'>1.681e+09</div><input id='attrs-b061dafc-6be0-476f-b2ec-cda8d8d7f42d' class='xr-var-attrs-in' type='checkbox' disabled><label for='attrs-b061dafc-6be0-476f-b2ec-cda8d8d7f42d' title='Show/Hide attributes'><svg class='icon xr-icon-file-text2'><use xlink:href='#icon-file-text2'></use></svg></label><input id='data-399a40af-b94e-455f-97c5-40b4da564d84' class='xr-var-data-in' type='checkbox'><label for='data-399a40af-b94e-455f-97c5-40b4da564d84' title='Show/Hide data repr'><svg class='icon xr-icon-database'><use xlink:href='#icon-database'></use></svg></label><div class='xr-var-attrs'><dl class='xr-attrs'></dl></div><div class='xr-var-data'><pre>array([1.681137e+09])</pre></div></li></ul></div></li><li class='xr-section-item'><input id='section-ec5e8bdb-eabd-46e9-996d-bafaef182fa9' class='xr-section-summary-in' type='checkbox'  checked><label for='section-ec5e8bdb-eabd-46e9-996d-bafaef182fa9' class='xr-section-summary' >Data variables: <span>(1)</span></label><div class='xr-section-inline-details'></div><div class='xr-section-details'><ul class='xr-var-list'><li class='xr-var-item'><div class='xr-var-name'><span>adsimdet_image</span></div><div class='xr-var-dims'>(time, dim_0, dim_1, dim_2)</div><div class='xr-var-dtype'>uint8</div><div class='xr-var-preview xr-preview'>198 199 200 201 ... 197 198 199 200</div><input id='attrs-8f9a6f8b-14c1-45f9-9e1a-cf82ef859d75' class='xr-var-attrs-in' type='checkbox' ><label for='attrs-8f9a6f8b-14c1-45f9-9e1a-cf82ef859d75' title='Show/Hide attributes'><svg class='icon xr-icon-file-text2'><use xlink:href='#icon-file-text2'></use></svg></label><input id='data-d35ed1ee-c9b3-4cb9-8940-4d35b2bbb061' class='xr-var-data-in' type='checkbox'><label for='data-d35ed1ee-c9b3-4cb9-8940-4d35b2bbb061' title='Show/Hide data repr'><svg class='icon xr-icon-database'><use xlink:href='#icon-database'></use></svg></label><div class='xr-var-attrs'><dl class='xr-attrs'><dt><span>object :</span></dt><dd>adsimdet</dd></dl></div><div class='xr-var-data'><pre>array([[[[198, 199, 200, ..., 195, 196, 197],\n",
       "         [199, 200, 201, ..., 196, 197, 198],\n",
       "         [200, 201, 202, ..., 197, 198, 199],\n",
       "         ...,\n",
       "         [195, 196, 197, ..., 192, 193, 194],\n",
       "         [196, 197, 198, ..., 193, 194, 195],\n",
       "         [197, 198, 199, ..., 194, 195, 196]],\n",
       "\n",
       "        [[199, 200, 201, ..., 196, 197, 198],\n",
       "         [200, 201, 202, ..., 197, 198, 199],\n",
       "         [201, 202, 203, ..., 198, 199, 200],\n",
       "         ...,\n",
       "         [196, 197, 198, ..., 193, 194, 195],\n",
       "         [197, 198, 199, ..., 194, 195, 196],\n",
       "         [198, 199, 200, ..., 195, 196, 197]],\n",
       "\n",
       "        [[200, 201, 202, ..., 197, 198, 199],\n",
       "         [201, 202, 203, ..., 198, 199, 200],\n",
       "         [202, 203, 204, ..., 199, 200, 201],\n",
       "         ...,\n",
       "         [197, 198, 199, ..., 194, 195, 196],\n",
       "         [198, 199, 200, ..., 195, 196, 197],\n",
       "         [199, 200, 201, ..., 196, 197, 198]],\n",
       "\n",
       "        [[201, 202, 203, ..., 198, 199, 200],\n",
       "         [202, 203, 204, ..., 199, 200, 201],\n",
       "         [203, 204, 205, ..., 200, 201, 202],\n",
       "         ...,\n",
       "         [198, 199, 200, ..., 195, 196, 197],\n",
       "         [199, 200, 201, ..., 196, 197, 198],\n",
       "         [200, 201, 202, ..., 197, 198, 199]],\n",
       "\n",
       "        [[202, 203, 204, ..., 199, 200, 201],\n",
       "         [203, 204, 205, ..., 200, 201, 202],\n",
       "         [204, 205, 206, ..., 201, 202, 203],\n",
       "         ...,\n",
       "         [199, 200, 201, ..., 196, 197, 198],\n",
       "         [200, 201, 202, ..., 197, 198, 199],\n",
       "         [201, 202, 203, ..., 198, 199, 200]]]], dtype=uint8)</pre></div></li></ul></div></li><li class='xr-section-item'><input id='section-5461ecd0-2602-47fd-bda6-8411600f2d84' class='xr-section-summary-in' type='checkbox'  ><label for='section-5461ecd0-2602-47fd-bda6-8411600f2d84' class='xr-section-summary' >Indexes: <span>(1)</span></label><div class='xr-section-inline-details'></div><div class='xr-section-details'><ul class='xr-var-list'><li class='xr-var-item'><div class='xr-index-name'><div>time</div></div><div class='xr-index-preview'>PandasIndex</div><div></div><input id='index-e0043517-7ea8-456d-b8f8-bb7aa8d6ebb4' class='xr-index-data-in' type='checkbox'/><label for='index-e0043517-7ea8-456d-b8f8-bb7aa8d6ebb4' title='Show/Hide index repr'><svg class='icon xr-icon-database'><use xlink:href='#icon-database'></use></svg></label><div class='xr-index-data'><pre>PandasIndex(Float64Index([1681137435.691408], dtype=&#x27;float64&#x27;, name=&#x27;time&#x27;))</pre></div></li></ul></div></li><li class='xr-section-item'><input id='section-c76668e4-f53c-4739-a02b-58654f88e521' class='xr-section-summary-in' type='checkbox' disabled ><label for='section-c76668e4-f53c-4739-a02b-58654f88e521' class='xr-section-summary'  title='Expand/collapse section'>Attributes: <span>(0)</span></label><div class='xr-section-inline-details'></div><div class='xr-section-details'><dl class='xr-attrs'></dl></div></li></ul></div></div>"
      ],
      "text/plain": [
       "<xarray.Dataset>\n",
       "Dimensions:         (time: 1, dim_0: 5, dim_1: 1024, dim_2: 1024)\n",
       "Coordinates:\n",
       "  * time            (time) float64 1.681e+09\n",
       "Dimensions without coordinates: dim_0, dim_1, dim_2\n",
       "Data variables:\n",
       "    adsimdet_image  (time, dim_0, dim_1, dim_2) uint8 198 199 200 ... 199 200"
      ]
     },
     "execution_count": 24,
     "metadata": {},
     "output_type": "execute_result"
    }
   ],
   "source": [
    "# import hdf5plugin  # required for LZ4, Blosc, and other compression codecs\n",
    "\n",
    "dataset = run.primary.read()\n",
    "dataset"
   ]
  },
  {
   "cell_type": "markdown",
   "metadata": {},
   "source": [
    "The image is recorded under the name `\"adsimdet_image\"`.\n",
    "\n",
    "***details***\n",
    "\n",
    "This `image` object has rank of 4 (1 timestamp and 5 frames of 1k x 1k)."
   ]
  },
  {
   "cell_type": "code",
   "execution_count": 25,
   "metadata": {},
   "outputs": [],
   "source": [
    "image = dataset[\"adsimdet_image\"]\n",
    "# image is an xarray.DataArray with 1 timestamp and 5 frames of 1k x 1k"
   ]
  },
  {
   "cell_type": "markdown",
   "metadata": {},
   "source": [
    "We just want the `image` frame (the last two indices).\n",
    "\n",
    "***details***\n",
    "\n",
    "Select the first item of each of the first two indices (time, frame number)"
   ]
  },
  {
   "cell_type": "code",
   "execution_count": 26,
   "metadata": {},
   "outputs": [],
   "source": [
    "frame = image[0][0]\n",
    "# frame is an xarray.DataArray of 1k x 1k"
   ]
  },
  {
   "cell_type": "markdown",
   "metadata": {},
   "source": [
    "\n",
    "***Visualize the image***\n",
    "\n",
    "The `frame` is an [xarray Dataset](https://docs.xarray.dev/en/stable/generated/xarray.Dataset.html), which has a method to visualize the data as shown here:"
   ]
  },
  {
   "cell_type": "code",
   "execution_count": 27,
   "metadata": {},
   "outputs": [
    {
     "data": {
      "text/plain": [
       "<matplotlib.collections.QuadMesh at 0x7f7c28d79e40>"
      ]
     },
     "execution_count": 27,
     "metadata": {},
     "output_type": "execute_result"
    },
    {
     "data": {
      "image/png": "[encoded data removed]",
      "text/plain": [
       "<Figure size 640x480 with 2 Axes>"
      ]
     },
     "metadata": {},
     "output_type": "display_data"
    }
   ],
   "source": [
    "frame.plot.pcolormesh()"
   ]
  },
  {
   "cell_type": "code",
   "execution_count": 28,
   "metadata": {},
   "outputs": [
    {
     "data": {
      "text/plain": [
       "[Resource({'path_semantics': 'posix',\n",
       " 'resource_kwargs': {'frame_per_point': 5},\n",
       " 'resource_path': 'tmp/docker_ioc/iocad/tmp/example/2023/04/10/0a859a72-11eb-4dd7-80a1_000000.h5',\n",
       " 'root': '/',\n",
       " 'run_start': '2ef5ca0d-7296-448d-a132-fa35de7e439d',\n",
       " 'spec': 'AD_HDF5',\n",
       " 'uid': '22cf9e31-22d7-4320-a42f-1f6465f37ca8'})]"
      ]
     },
     "execution_count": 28,
     "metadata": {},
     "output_type": "execute_result"
    }
   ],
   "source": [
    "run.primary._resources"
   ]
  },
  {
   "cell_type": "markdown",
   "metadata": {},
   "source": [
    "***Find the image file on local disk***\n",
    "\n",
    "Get the name of the image file on the bluesky (local) workstation from the `adsimdet` object."
   ]
  },
  {
   "cell_type": "code",
   "execution_count": 29,
   "metadata": {},
   "outputs": [
    {
     "name": "stdout",
     "output_type": "stream",
     "text": [
      "local_file_name.exists()=True\n",
      "local_file_name=PosixPath('/tmp/docker_ioc/iocad/tmp/example/2023/04/10/0a859a72-11eb-4dd7-80a1_000000.h5')\n"
     ]
    }
   ],
   "source": [
    "from apstools.devices import AD_full_file_name_local\n",
    "\n",
    "local_file_name = AD_full_file_name_local(adsimdet.hdf1)\n",
    "print(f\"{local_file_name.exists()=}\\n{local_file_name=}\")"
   ]
  },
  {
   "cell_type": "markdown",
   "metadata": {},
   "source": [
    "Alternatively, we might get the name of the file from the run stream."
   ]
  },
  {
   "cell_type": "code",
   "execution_count": 30,
   "metadata": {},
   "outputs": [
    {
     "name": "stdout",
     "output_type": "stream",
     "text": [
      "fname.exists()=True\n",
      "fname=PosixPath('/tmp/docker_ioc/iocad/tmp/example/2023/04/10/0a859a72-11eb-4dd7-80a1_000000.h5')\n",
      "(local_file_name == fname)=True\n"
     ]
    }
   ],
   "source": [
    "rsrc = run.primary._resources[0]\n",
    "fname = pathlib.Path(f\"{rsrc['root']}{rsrc['resource_path']}\")\n",
    "print(f\"{fname.exists()=}\\n{fname=}\")\n",
    "\n",
    "# confirm they are the same\n",
    "print(f\"{(local_file_name == fname)=}\")"
   ]
  },
  {
   "cell_type": "markdown",
   "metadata": {},
   "source": [
    "## punx\n",
    "\n",
    "Next, we demonstrate access to the HDF5 image file using the [punx](https://punx.readthedocs.io) program.\n",
    "\n",
    "***details***\n",
    "\n",
    "We run `punx` from within the notebook to read this HDF5 file and shows its tree structure.  (Since we can't easily pass a Python object to the notebook magic command `!` which executes a shell command, we'll call a library routine from [apstools](https://apstools.readthedocs.io/en/latest/api/_utils.html?highlight=unix#apstools.utils.misc.unix) to make this work.)"
   ]
  },
  {
   "cell_type": "code",
   "execution_count": 31,
   "metadata": {},
   "outputs": [
    {
     "name": "stdout",
     "output_type": "stream",
     "text": [
      "!!! WARNING: this program is not ready for distribution.\n",
      "\n",
      "/tmp/docker_ioc/iocad/tmp/example/2023/04/10/0a859a72-11eb-4dd7-80a1_000000.h5 : NeXus data file\n",
      "  entry:NXentry\n",
      "    @NX_class = \"NXentry\"\n",
      "    data:NXdata\n",
      "      @NX_class = \"NXdata\"\n",
      "      data:NX_UINT8[5,1024,1024] = __array\n",
      "        __array = [\n",
      "            [\n",
      "                [198, 199, 200, '...', 197]\n",
      "                [199, 200, 201, '...', 198]\n",
      "                [200, 201, 202, '...', 199]\n",
      "                ...\n",
      "                [197, 198, 199, '...', 196]\n",
      "              ]\n",
      "            [\n",
      "                [199, 200, 201, '...', 198]\n",
      "                [200, 201, 202, '...', 199]\n",
      "                [201, 202, 203, '...', 200]\n",
      "                ...\n",
      "                [198, 199, 200, '...', 197]\n",
      "              ]\n",
      "            [\n",
      "                [200, 201, 202, '...', 199]\n",
      "                [201, 202, 203, '...', 200]\n",
      "                [202, 203, 204, '...', 201]\n",
      "                ...\n",
      "                [199, 200, 201, '...', 198]\n",
      "              ]\n",
      "            [\n",
      "                [201, 202, 203, '...', 200]\n",
      "                [202, 203, 204, '...', 201]\n",
      "                [203, 204, 205, '...', 202]\n",
      "                ...\n",
      "                [200, 201, 202, '...', 199]\n",
      "              ]\n",
      "            [\n",
      "                [202, 203, 204, '...', 201]\n",
      "                [203, 204, 205, '...', 202]\n",
      "                [204, 205, 206, '...', 203]\n",
      "                ...\n",
      "                [201, 202, 203, '...', 200]\n",
      "              ]\n",
      "          ]\n",
      "        @NDArrayDimBinning = [1 1]\n",
      "        @NDArrayDimOffset = [0 0]\n",
      "        @NDArrayDimReverse = [0 0]\n",
      "        @NDArrayNumDims = 2\n",
      "        @signal = 1\n",
      "    instrument:NXinstrument\n",
      "      @NX_class = \"NXinstrument\"\n",
      "      NDAttributes:NXcollection\n",
      "        @NX_class = \"NXcollection\"\n",
      "        @hostname = \"zap\"\n",
      "        NDArrayEpicsTSSec:NX_UINT32[5] = [1049985435, 1049985435, 1049985435, 1049985435, 1049985435]\n",
      "          @NDAttrDescription = \"The NDArray EPICS timestamp seconds past epoch\"\n",
      "          @NDAttrName = \"NDArrayEpicsTSSec\"\n",
      "          @NDAttrSource = \"Driver\"\n",
      "          @NDAttrSourceType = \"NDAttrSourceDriver\"\n",
      "        NDArrayEpicsTSnSec:NX_UINT32[5] = [604497411, 619772589, 635844558, 650919763, 666040904]\n",
      "          @NDAttrDescription = \"The NDArray EPICS timestamp nanoseconds\"\n",
      "          @NDAttrName = \"NDArrayEpicsTSnSec\"\n",
      "          @NDAttrSource = \"Driver\"\n",
      "          @NDAttrSourceType = \"NDAttrSourceDriver\"\n",
      "        NDArrayTimeStamp:NX_FLOAT64[5] = [1049985435.5943798, 1049985435.6095004, 1049985435.6256955, 1049985435.6408099, 1049985435.6558784]\n",
      "          @NDAttrDescription = \"The timestamp of the NDArray as float64\"\n",
      "          @NDAttrName = \"NDArrayTimeStamp\"\n",
      "          @NDAttrSource = \"Driver\"\n",
      "          @NDAttrSourceType = \"NDAttrSourceDriver\"\n",
      "        NDArrayUniqueId:NX_INT32[5] = [1735, 1736, 1737, 1738, 1739]\n",
      "          @NDAttrDescription = \"The unique ID of the NDArray\"\n",
      "          @NDAttrName = \"NDArrayUniqueId\"\n",
      "          @NDAttrSource = \"Driver\"\n",
      "          @NDAttrSourceType = \"NDAttrSourceDriver\"\n",
      "      detector:NXdetector\n",
      "        @NX_class = \"NXdetector\"\n",
      "        data:NX_UINT8[5,1024,1024] = __array\n",
      "          __array = [\n",
      "              [\n",
      "                  [198, 199, 200, '...', 197]\n",
      "                  [199, 200, 201, '...', 198]\n",
      "                  [200, 201, 202, '...', 199]\n",
      "                  ...\n",
      "                  [197, 198, 199, '...', 196]\n",
      "                ]\n",
      "              [\n",
      "                  [199, 200, 201, '...', 198]\n",
      "                  [200, 201, 202, '...', 199]\n",
      "                  [201, 202, 203, '...', 200]\n",
      "                  ...\n",
      "                  [198, 199, 200, '...', 197]\n",
      "                ]\n",
      "              [\n",
      "                  [200, 201, 202, '...', 199]\n",
      "                  [201, 202, 203, '...', 200]\n",
      "                  [202, 203, 204, '...', 201]\n",
      "                  ...\n",
      "                  [199, 200, 201, '...', 198]\n",
      "                ]\n",
      "              [\n",
      "                  [201, 202, 203, '...', 200]\n",
      "                  [202, 203, 204, '...', 201]\n",
      "                  [203, 204, 205, '...', 202]\n",
      "                  ...\n",
      "                  [200, 201, 202, '...', 199]\n",
      "                ]\n",
      "              [\n",
      "                  [202, 203, 204, '...', 201]\n",
      "                  [203, 204, 205, '...', 202]\n",
      "                  [204, 205, 206, '...', 203]\n",
      "                  ...\n",
      "                  [201, 202, 203, '...', 200]\n",
      "                ]\n",
      "            ]\n",
      "          @NDArrayDimBinning = [1 1]\n",
      "          @NDArrayDimOffset = [0 0]\n",
      "          @NDArrayDimReverse = [0 0]\n",
      "          @NDArrayNumDims = 2\n",
      "          @signal = 1\n",
      "        NDAttributes:NXcollection\n",
      "          @NX_class = \"NXcollection\"\n",
      "          ColorMode:NX_INT32[5] = [0, 0, 0, 0, 0]\n",
      "            @NDAttrDescription = \"Color mode\"\n",
      "            @NDAttrName = \"ColorMode\"\n",
      "            @NDAttrSource = \"Driver\"\n",
      "            @NDAttrSourceType = \"NDAttrSourceDriver\"\n",
      "      performance\n",
      "        timestamp:NX_FLOAT64[5,5] = __array\n",
      "          __array = [\n",
      "              [0.002630463, 0.148994861, 1049963466.6087971, 53.693127040133284, 0.0]\n",
      "              [0.023401726, 0.035369701, 0.023408677, 226.18229088224408, 341.75361555033635]\n",
      "              [0.012312513, 0.01237443, 0.035783107, 646.4944243896487, 447.13836615696897]\n",
      "              [0.008425541, 0.008463056, 0.044246163, 945.2850128842347, 542.4199155981051]\n",
      "              [0.006898131, 0.007997728, 0.052243891, 1000.2840806789127, 612.5118054472628]\n",
      "            ]\n",
      "\n"
     ]
    }
   ],
   "source": [
    "from apstools.utils import unix\n",
    "\n",
    "for line in unix(f\"punx tree {local_file_name}\"):\n",
    "    print(line.decode().strip())"
   ]
  },
  {
   "cell_type": "markdown",
   "metadata": {},
   "source": [
    "## Recapitulation\n",
    "\n",
    "Let's gather the above parts together as one would usually write code.  First, all the imports, constants, and classes."
   ]
  },
  {
   "cell_type": "code",
   "execution_count": 32,
   "metadata": {},
   "outputs": [],
   "source": [
    "# matplotlib graphics, choices include: inline, notebook, auto\n",
    "%matplotlib inline\n",
    "\n",
    "from apstools.devices import AD_full_file_name_local\n",
    "from apstools.devices import AD_plugin_primed\n",
    "from apstools.devices import AD_prime_plugin2\n",
    "from apstools.devices import CamMixin_V34\n",
    "from apstools.devices import SingleTrigger_V34\n",
    "from bluesky.callbacks.best_effort import BestEffortCallback\n",
    "from ophyd import ADComponent\n",
    "from ophyd.areadetector import DetectorBase\n",
    "from ophyd.areadetector import SimDetectorCam\n",
    "from ophyd.areadetector.filestore_mixins import FileStoreHDF5IterativeWrite\n",
    "from ophyd.areadetector.plugins import HDF5Plugin_V34 as HDF5Plugin\n",
    "from ophyd.areadetector.plugins import ImagePlugin_V34 as ImagePlugin\n",
    "import bluesky\n",
    "import bluesky.plans as bp\n",
    "import databroker\n",
    "import hdf5plugin  # for LZ4, Blosc, or other compression codecs (not already in h5py)\n",
    "import matplotlib.pyplot as plt\n",
    "import pathlib\n",
    "\n",
    "plt.ion()  # turn on matplotlib plots\n",
    "IOC = \"ad:\"\n",
    "\n",
    "AD_IOC_MOUNT_PATH = pathlib.Path(\"/tmp\")\n",
    "BLUESKY_MOUNT_PATH = pathlib.Path(\"/tmp/docker_ioc/iocad/tmp\")\n",
    "IMAGE_DIR = \"example/%Y/%m/%d\"\n",
    "\n",
    "# MUST end with a `/`, pathlib will NOT provide it\n",
    "WRITE_PATH_TEMPLATE = f\"{AD_IOC_MOUNT_PATH / IMAGE_DIR}/\"\n",
    "READ_PATH_TEMPLATE = f\"{BLUESKY_MOUNT_PATH / IMAGE_DIR}/\"\n",
    "\n",
    "class SimDetectorCam_V34(CamMixin_V34, SimDetectorCam):\n",
    "    \"\"\"Revise SimDetectorCam for ADCore revisions.\"\"\"\n",
    "\n",
    "class MyHDF5Plugin(FileStoreHDF5IterativeWrite, HDF5Plugin):\n",
    "    \"\"\"\n",
    "    Add data acquisition methods to HDF5Plugin.\n",
    "\n",
    "    * ``stage()`` - prepare device PVs befor data acquisition\n",
    "    * ``unstage()`` - restore device PVs after data acquisition\n",
    "    * ``generate_datum()`` - coordinate image storage metadata\n",
    "    \"\"\"\n",
    "\n",
    "    def stage(self):\n",
    "        self.stage_sigs.move_to_end(\"capture\", last=True)\n",
    "        super().stage()\n",
    "\n",
    "class SimDetector_V34(SingleTrigger_V34, DetectorBase):\n",
    "    \"\"\"\n",
    "    ADSimDetector\n",
    "\n",
    "    SingleTrigger:\n",
    "\n",
    "    * stop any current acquisition\n",
    "    * sets image_mode to 'Multiple'\n",
    "    \"\"\"\n",
    "\n",
    "    cam = ADComponent(SimDetectorCam_V34, \"cam1:\")\n",
    "    hdf1 = ADComponent(\n",
    "        MyHDF5Plugin,\n",
    "        \"HDF1:\",\n",
    "        write_path_template=WRITE_PATH_TEMPLATE,\n",
    "        read_path_template=READ_PATH_TEMPLATE,\n",
    "    )\n",
    "    image = ADComponent(ImagePlugin, \"image1:\")"
   ]
  },
  {
   "cell_type": "markdown",
   "metadata": {},
   "source": [
    "Next, create and configure the Python object for the detector:"
   ]
  },
  {
   "cell_type": "code",
   "execution_count": 33,
   "metadata": {},
   "outputs": [],
   "source": [
    "adsimdet = SimDetector_V34(IOC, name=\"adsimdet\")\n",
    "adsimdet.wait_for_connection(timeout=15)\n",
    "adsimdet.missing_plugins()  # confirm all plugins are defined\n",
    "\n",
    "adsimdet.read_attrs.append(\"hdf1\")  # include `hdf1` plugin with 'adsimdet.read()'\n",
    "adsimdet.hdf1.create_directory.put(-5)  # IOC may create up to 5 new subdirectories, as needed\n",
    "\n",
    "# override default settings from ophyd\n",
    "adsimdet.cam.stage_sigs[\"wait_for_plugins\"] = \"Yes\"\n",
    "adsimdet.hdf1.stage_sigs[\"blocking_callbacks\"] = \"No\"\n",
    "adsimdet.image.stage_sigs[\"blocking_callbacks\"] = \"No\"\n",
    "\n",
    "# apply some of our own customizations\n",
    "NUM_FRAMES = 5\n",
    "adsimdet.cam.stage_sigs[\"acquire_period\"] = 0.002\n",
    "adsimdet.cam.stage_sigs[\"acquire_time\"] = 0.001\n",
    "adsimdet.cam.stage_sigs[\"num_images\"] = NUM_FRAMES\n",
    "adsimdet.hdf1.stage_sigs[\"num_capture\"] = 0  # capture ALL frames received\n",
    "adsimdet.hdf1.stage_sigs[\"compression\"] = \"zlib\"  # LZ4\n",
    "# adsimdet.hdf1.stage_sigs[\"queue_size\"] = 20\n",
    "\n",
    "# this step is needed for ophyd\n",
    "if not AD_plugin_primed(adsimdet.hdf1):\n",
    "    print(f\"Priming {adsimdet.hdf1.dotted_name}\")\n",
    "    AD_prime_plugin2(adsimdet.hdf1)"
   ]
  },
  {
   "cell_type": "markdown",
   "metadata": {},
   "source": [
    "Prepare for data acquisition."
   ]
  },
  {
   "cell_type": "code",
   "execution_count": 34,
   "metadata": {},
   "outputs": [],
   "source": [
    "cat = databroker.temp().v2  # or use your own catalog: databroker.catalog[\"CATALOG_NAME\"]\n",
    "RE = bluesky.RunEngine({})\n",
    "RE.subscribe(cat.v1.insert)\n",
    "RE.subscribe(BestEffortCallback())\n",
    "RE.preprocessors.append(bluesky.SupplementalData())"
   ]
  },
  {
   "cell_type": "markdown",
   "metadata": {},
   "source": [
    "Take an image."
   ]
  },
  {
   "cell_type": "code",
   "execution_count": 35,
   "metadata": {},
   "outputs": [
    {
     "name": "stdout",
     "output_type": "stream",
     "text": [
      "\n",
      "\n",
      "Transient Scan ID: 1     Time: 2023-04-10 09:37:18\n",
      "Persistent Unique Scan ID: '9adfbe2b-2fd6-4ede-b50a-282fb6f3b7d3'\n",
      "New stream: 'primary'\n",
      "+-----------+------------+\n",
      "|   seq_num |       time |\n",
      "+-----------+------------+\n",
      "|         1 | 09:37:18.4 |\n",
      "+-----------+------------+\n",
      "generator count ['9adfbe2b'] (scan num: 1)\n",
      "\n",
      "\n",
      "\n",
      "local_file_name.exists()=True local_file_name=PosixPath('/tmp/docker_ioc/iocad/tmp/example/2023/04/10/8e5dad67-f838-412c-888c_000000.h5')\n"
     ]
    }
   ],
   "source": [
    "uids = RE(\n",
    "    bp.count(\n",
    "        [adsimdet],\n",
    "        md=dict(\n",
    "            title=\"Area Detector with default HDF5 File Name\",\n",
    "            purpose=\"image\",\n",
    "            image_file_name_style=\"ophyd(uid)\",\n",
    "        )\n",
    "    )\n",
    ")\n",
    "\n",
    "# confirm the plugin captured the expected number of frames\n",
    "assert adsimdet.hdf1.num_captured.get() == NUM_FRAMES\n",
    "\n",
    "# Show the image file name on the bluesky (local) workstation\n",
    "# Use information from the 'adsimdet' object\n",
    "local_file_name = AD_full_file_name_local(adsimdet.hdf1)\n",
    "print(f\"{local_file_name.exists()=} {local_file_name=}\")"
   ]
  },
  {
   "cell_type": "markdown",
   "metadata": {},
   "source": [
    "View the image using databroker."
   ]
  },
  {
   "cell_type": "code",
   "execution_count": 36,
   "metadata": {},
   "outputs": [
    {
     "name": "stdout",
     "output_type": "stream",
     "text": [
      "fname.exists()=True\n",
      "fname=PosixPath('/tmp/docker_ioc/iocad/tmp/example/2023/04/10/8e5dad67-f838-412c-888c_000000.h5')\n",
      "(local_file_name == fname)=True\n"
     ]
    },
    {
     "data": {
      "image/png": "[encoded data removed]",
      "text/plain": [
       "<Figure size 640x480 with 2 Axes>"
      ]
     },
     "metadata": {},
     "output_type": "display_data"
    }
   ],
   "source": [
    "run = cat.v2[uids[0]]\n",
    "dataset = run.primary.read()\n",
    "dataset[\"adsimdet_image\"][0][0].plot.pcolormesh()\n",
    "\n",
    "# Show the image file name on the bluesky (local) workstation\n",
    "# Use information from the databroker run\n",
    "_r = run.primary._resources[0]\n",
    "fname = pathlib.Path(f\"{_r['root']}{_r['resource_path']}\")\n",
    "print(f\"{fname.exists()=}\\n{fname=}\")\n",
    "\n",
    "# confirm the name above () is the same\n",
    "print(f\"{(local_file_name == fname)=}\")"
   ]
  }
 ],
 "metadata": {
  "kernelspec": {
   "display_name": "Python 3.9.13 ('base')",
   "language": "python",
   "name": "python3"
  },
  "language_info": {
   "codemirror_mode": {
    "name": "ipython",
    "version": 3
   },
   "file_extension": ".py",
   "mimetype": "text/x-python",
   "name": "python",
   "nbconvert_exporter": "python",
   "pygments_lexer": "ipython3",
   "version": "3.10.10"
  },
  "orig_nbformat": 4,
  "vscode": {
   "interpreter": {
    "hash": "f38aef175fb08dfc130a7d9bb9234f0792dc9ad861f95b6c05aedd1b380356e2"
   }
  }
 },
 "nbformat": 4,
 "nbformat_minor": 2
}
