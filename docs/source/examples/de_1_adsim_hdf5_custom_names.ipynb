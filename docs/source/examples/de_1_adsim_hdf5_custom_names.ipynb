{
 "cells": [
  {
   "cell_type": "markdown",
   "id": "1f614462-550a-4c0d-b1ca-79b8da6e3fc9",
   "metadata": {
    "tags": []
   },
   "source": [
    "# Area Detector with custom HDF5 File Name\n",
    "\n",
    "Demonstrate the setup of an [EPICS area detector](https://areadetector.github.io/master/index.html) to acquire an image with [bluesky](https://blueskyproject.io/) and write it to an [HDF5](https://www.hdfgroup.org/solutions/hdf5) file.  Override the default ophyd naming process (which uses random [UUIDs](https://docs.python.org/3/library/uuid.html#uuid.uuid4)) for image files.  Instead, let the user control the image file name using the features of the EPICS Area Detector HDF5 plugin.  Show the image using the [databroker](https://blueskyproject.io/databroker).\n",
    "\n",
    "**Contents**\n",
    "\n",
    "- [EPICS Area Detector IOC](#EPICS-Area-Detector-IOC) is pre-built\n",
    "- [ophyd](#ophyd) to describe the hardware\n",
    "- [bluesky](#bluesky) for the measurement\n",
    "- [databroker](#databroker) to view the image\n",
    "- [punx](#punx) (not part of Bluesky) to look at the HDF5 file"
   ]
  },
  {
   "cell_type": "markdown",
   "id": "c6b44186",
   "metadata": {},
   "source": [
    "## EPICS Area Detector IOC\n",
    "\n",
    "This example uses a prebuilt [ADSimDetector](https://areadetector.github.io/master/ADSimDetector/simDetector.html) driver.  Prepare as in [Example with default file names](de_0_adsim_hdf5_basic.ipynb#Recapitulation).  Refer to that document for explanations.\n",
    "\n",
    "## ophyd\n",
    "\n",
    "The steps of the basic example are combined together here.  Refer to that document for explanations.  As is customary, the imports come first, then the constants, and classes."
   ]
  },
  {
   "cell_type": "code",
   "execution_count": 1,
   "id": "1ee05521",
   "metadata": {},
   "outputs": [],
   "source": [
    "from apstools.devices import AD_EpicsFileNameHDF5Plugin\n",
    "from apstools.devices import AD_full_file_name_local\n",
    "from apstools.devices import AD_plugin_primed\n",
    "from apstools.devices import AD_prime_plugin2\n",
    "from apstools.devices import CamMixin_V34 as CamMixin\n",
    "from apstools.devices import SingleTrigger_V34 as SingleTrigger\n",
    "from ophyd.areadetector import ADComponent\n",
    "from ophyd.areadetector import DetectorBase\n",
    "from ophyd.areadetector import SimDetectorCam\n",
    "from ophyd.areadetector.plugins import ImagePlugin_V34 as ImagePlugin\n",
    "import apstools\n",
    "import bluesky\n",
    "import bluesky.plans as bp\n",
    "import bluesky.plan_stubs as bps\n",
    "import databroker\n",
    "import hdf5plugin\n",
    "import pathlib\n",
    "\n",
    "IOC = \"ad:\"\n",
    "IMAGE_DIR = \"adsimdet/%Y/%m/%d\"\n",
    "AD_IOC_MOUNT_PATH = pathlib.Path(\"/tmp\")\n",
    "BLUESKY_MOUNT_PATH = pathlib.Path(\"/tmp/docker_ioc/iocad/tmp\")\n",
    "\n",
    "# MUST end with a `/`, pathlib will NOT provide it\n",
    "WRITE_PATH_TEMPLATE = f\"{AD_IOC_MOUNT_PATH / IMAGE_DIR}/\"\n",
    "READ_PATH_TEMPLATE = f\"{BLUESKY_MOUNT_PATH / IMAGE_DIR}/\"\n",
    "\n",
    "class SimDetectorCam_V34(CamMixin, SimDetectorCam):\n",
    "    \"\"\"triggering configuration and AcquireBusy support\"\"\"\n",
    "\n",
    "class SimDetector_V34(SingleTrigger, DetectorBase):\n",
    "    \"\"\"ADSimDetector\"\"\"\n",
    "\n",
    "    cam = ADComponent(SimDetectorCam_V34, \"cam1:\")\n",
    "    hdf1 = ADComponent(\n",
    "        AD_EpicsFileNameHDF5Plugin,\n",
    "        \"HDF1:\",\n",
    "        write_path_template=WRITE_PATH_TEMPLATE,\n",
    "        read_path_template=READ_PATH_TEMPLATE,\n",
    "    )\n",
    "    image = ADComponent(ImagePlugin, \"image1:\")"
   ]
  },
  {
   "cell_type": "markdown",
   "id": "a46d5a0f-c9b9-4b5d-8331-46faa0c980f6",
   "metadata": {},
   "source": [
    "<section id=\"AD_EpicsFileNameHDF5Plugin\">\n",
    "\n",
    "### HDF5: AD_EpicsFileNameHDF5Plugin\n",
    "\n",
    "The `hdf1` component is where we depart from the [default ophyd settings](de_0_adsim_hdf5_basic.ipynb#hdf5).  The modifications come from `apstools.devices` in `AD_EpicsFileNameHDF5Plugin()`.  We repeat certain cautionary details here:\n",
    "\n",
    "> Replace standard ophyd file naming algorithm (where file names are defined as\n",
    "> UUID strings, virtually guaranteeing that no existing images files will ever\n",
    "> be overwritten).\n",
    "\n",
    "Caller is responsible for setting values of these Components of the plugin:\n",
    "\n",
    "- `array_counter`\n",
    "- `auto_increment`\n",
    "- `auto_save`\n",
    "- `compression` (only the HDF plugin)\n",
    "- `create_directory`\n",
    "- `file_name`\n",
    "- `file_number`\n",
    "- `file_path`\n",
    "- `file_template`\n",
    "- `num_capture`\n",
    "\n",
    "Also note:\n",
    "\n",
    "> It is allowed to set `file_template=\"%s%s.h5\"` if the file name should not\n",
    "> include the file number."
   ]
  },
  {
   "cell_type": "markdown",
   "id": "ab19608d-fb40-4825-ad5f-28d36af0a5af",
   "metadata": {},
   "source": [
    "### Detector Object\n",
    "\n",
    "With the above setup, create the Python detector object, `adsimdet` and connect with EPICS."
   ]
  },
  {
   "cell_type": "code",
   "execution_count": 2,
   "id": "c3684f6d-0506-4f77-ade4-1de813a53772",
   "metadata": {},
   "outputs": [],
   "source": [
    "adsimdet = SimDetector_V34(IOC, name=\"adsimdet\")\n",
    "adsimdet.wait_for_connection(timeout=15)\n",
    "adsimdet.read_attrs.append(\"hdf1\")\n",
    "adsimdet.hdf1.create_directory.put(-5)\n",
    "\n",
    "# override default setting from ophyd\n",
    "adsimdet.cam.stage_sigs[\"wait_for_plugins\"] = \"Yes\"\n",
    "adsimdet.hdf1.stage_sigs[\"blocking_callbacks\"] = \"No\"\n",
    "adsimdet.image.stage_sigs[\"blocking_callbacks\"] = \"No\""
   ]
  },
  {
   "cell_type": "code",
   "execution_count": 3,
   "id": "feb1e99f",
   "metadata": {},
   "outputs": [],
   "source": [
    "adsimdet = SimDetector_V34(IOC, name=\"adsimdet\")\n",
    "adsimdet.stage_sigs[\"cam.wait_for_plugins\"] = \"Yes\"\n",
    "adsimdet.wait_for_connection(timeout=15)\n",
    "adsimdet.read_attrs.append(\"hdf1\")\n",
    "\n",
    "plugin = adsimdet.hdf1\n",
    "\n",
    "# Needed if IOC has just been started\n",
    "plugin.auto_increment.put(\"Yes\")\n",
    "plugin.auto_save.put(\"Yes\")\n",
    "plugin.create_directory.put(-5)\n",
    "\n",
    "if not AD_plugin_primed(plugin):\n",
    "    AD_prime_plugin2(plugin)\n",
    "\n",
    "plugin.stage_sigs[\"blocking_callbacks\"] = \"No\"\n",
    "plugin.stage_sigs[\"parent.cam.wait_for_plugins\"] = \"Yes\"\n",
    "plugin.stage_sigs.move_to_end(\"capture\", last=True)"
   ]
  },
  {
   "cell_type": "markdown",
   "id": "24a2e4aa",
   "metadata": {},
   "source": [
    "Show the plugin staging now."
   ]
  },
  {
   "cell_type": "code",
   "execution_count": 4,
   "id": "d1dc512d",
   "metadata": {},
   "outputs": [
    {
     "data": {
      "text/plain": [
       "OrderedDict([('enable', 1),\n",
       "             ('file_write_mode', 'Stream'),\n",
       "             ('blocking_callbacks', 'No'),\n",
       "             ('parent.cam.array_callbacks', 1),\n",
       "             ('parent.cam.wait_for_plugins', 'Yes'),\n",
       "             ('capture', 1)])"
      ]
     },
     "execution_count": 4,
     "metadata": {},
     "output_type": "execute_result"
    }
   ],
   "source": [
    "adsimdet.hdf1.stage_sigs"
   ]
  },
  {
   "cell_type": "markdown",
   "id": "a56d55b6-5ca9-4f2e-8962-9135aed8baf8",
   "metadata": {},
   "source": [
    "***Configure the plugin's file naming PVs***\n",
    "\n",
    "As noted above, the caller is now responsible for setting various values of the plugin.  Here is a bluesky plan as an example.  Feel free to set the values you need with your own code."
   ]
  },
  {
   "cell_type": "code",
   "execution_count": 5,
   "id": "05ee1cc3-e1d0-47a0-bf91-a799fa9dc9c7",
   "metadata": {},
   "outputs": [],
   "source": [
    "def prepare_count(\n",
    "    plugin, file_name, acquire_time, acquire_period,\n",
    "    n_images=1, \n",
    "    auto_increment=\"Yes\", \n",
    "    auto_save=\"Yes\",\n",
    "    compression=None, \n",
    "    create_directory=-5, \n",
    "    file_path=None, \n",
    "    file_template=None,\n",
    "):\n",
    "    compression = compression or \"zlib\"\n",
    "    file_path = file_path or WRITE_PATH_TEMPLATE\n",
    "    file_template = file_template or \"%s%s_%4.4d.h5\"\n",
    "    n_images = max(n_images, 1)\n",
    "    image_mode = \"Multiple\" if n_images > 1 else \"Single\"\n",
    "\n",
    "    yield from bps.mv(\n",
    "        adsimdet.cam.num_images, n_images,\n",
    "        adsimdet.cam.acquire_time, acquire_time,\n",
    "        adsimdet.cam.acquire_period, acquire_period,\n",
    "        adsimdet.cam.image_mode, image_mode,\n",
    "        plugin.auto_increment, auto_increment,\n",
    "        plugin.auto_save, auto_save,\n",
    "        plugin.create_directory, create_directory,\n",
    "        plugin.file_name, file_name,\n",
    "        plugin.file_path, file_path,\n",
    "        plugin.num_capture, n_images,  # save all frames received\n",
    "        plugin.compression, compression,\n",
    "        plugin.file_template, file_template,\n",
    "    )"
   ]
  },
  {
   "cell_type": "markdown",
   "id": "a30bec95-4e20-482f-85bb-4d1b872e820e",
   "metadata": {},
   "source": [
    "### bluesky\n",
    "\n",
    "Take an image."
   ]
  },
  {
   "cell_type": "code",
   "execution_count": 6,
   "id": "b1a4858e-f644-47e6-9c04-13a10612b05c",
   "metadata": {},
   "outputs": [
    {
     "name": "stdout",
     "output_type": "stream",
     "text": [
      "local_file_name.exists()=True local_file_name=PosixPath('/tmp/docker_ioc/iocad/tmp/adsimdet/2022/08/11/test_file_0001.h5')\n"
     ]
    }
   ],
   "source": [
    "RE = bluesky.RunEngine({})\n",
    "cat = databroker.temp().v2\n",
    "RE.subscribe(cat.v1.insert)\n",
    "RE.md[\"versions\"][\"apstools\"] = apstools.__version__\n",
    "RE.md[\"versions\"][\"hdf5plugin\"] = hdf5plugin.version\n",
    "\n",
    "NUM_FRAMES = 5\n",
    "RE(prepare_count(adsimdet.hdf1, \"test_file\", 0.001, 0.002, NUM_FRAMES))\n",
    "uids = RE(\n",
    "    bp.count(\n",
    "        [adsimdet],\n",
    "        md=dict(\n",
    "            title=\"Area Detector with custom HDF5 File Name\",\n",
    "            purpose=\"image\",\n",
    "            image_file_name_style=\"EPICS(AD PVs)\",\n",
    "        )\n",
    "    )\n",
    ")\n",
    "\n",
    "# confirm the plugin captured the expected number of frames\n",
    "assert adsimdet.hdf1.num_captured.get() == NUM_FRAMES\n",
    "\n",
    "# Show the image file name on the bluesky (local) workstation:\n",
    "local_file_name = AD_full_file_name_local(adsimdet.hdf1)\n",
    "print(f\"{local_file_name.exists()=} {local_file_name=}\")"
   ]
  },
  {
   "cell_type": "markdown",
   "id": "032a6969-02b9-440c-8a87-fb0071a8745a",
   "metadata": {},
   "source": [
    "## databroker\n",
    "\n",
    "View the image from the databroker catalog."
   ]
  },
  {
   "cell_type": "code",
   "execution_count": 7,
   "id": "11d80f2d",
   "metadata": {},
   "outputs": [
    {
     "name": "stdout",
     "output_type": "stream",
     "text": [
      "fname.exists()=True\n",
      "fname=PosixPath('/tmp/docker_ioc/iocad/tmp/adsimdet/2022/08/11/test_file_0001.h5')\n",
      "(local_file_name == fname)=True\n"
     ]
    },
    {
     "data": {
      "image/png": "[encoded data removed]",
      "text/plain": [
       "<Figure size 432x288 with 2 Axes>"
      ]
     },
     "metadata": {
      "needs_background": "light"
     },
     "output_type": "display_data"
    }
   ],
   "source": [
    "\n",
    "run = cat.v2[uids[0]]\n",
    "dataset = run.primary.read()\n",
    "dataset[\"adsimdet_image\"][0][0].plot.pcolormesh()\n",
    "\n",
    "# Show the image file name on the bluesky (local) workstation\n",
    "# Use information from the databroker run\n",
    "_r = run.primary._resources[0]\n",
    "fname = pathlib.Path(f\"{_r['root']}{_r['resource_path']}\")\n",
    "print(f\"{fname.exists()=}\\n{fname=}\")\n",
    "\n",
    "# confirm the name above () is the same\n",
    "print(f\"{(local_file_name == fname)=}\")"
   ]
  },
  {
   "cell_type": "code",
   "execution_count": 8,
   "id": "087afbd2-bc30-4e7d-b719-b18360cc3099",
   "metadata": {},
   "outputs": [
    {
     "name": "stdout",
     "output_type": "stream",
     "text": [
      "local_file_name.exists()=True\n",
      "local_file_name=PosixPath('/tmp/docker_ioc/iocad/tmp/adsimdet/2022/08/11/test_file_0001.h5')\n",
      "fname.exists()=True\n",
      "fname=PosixPath('/tmp/docker_ioc/iocad/tmp/adsimdet/2022/08/11/test_file_0001.h5')\n",
      "(local_file_name == fname)=True\n",
      "run.primary.read()['adsimdet_image'].shape=(1, 5, 1024, 1024)\n"
     ]
    }
   ],
   "source": [
    "run = cat.v2[uids[0]]\n",
    "\n",
    "local_file_name = AD_full_file_name_local(adsimdet.hdf1)\n",
    "print(f\"{local_file_name.exists()=}\\n{local_file_name=}\")\n",
    "\n",
    "rsrc = run.primary._resources[0]\n",
    "fname = pathlib.Path(f\"{rsrc['root']}{rsrc['resource_path']}\")\n",
    "print(f\"{fname.exists()=}\\n{fname=}\")\n",
    "\n",
    "# confirm they are the same\n",
    "print(f\"{(local_file_name == fname)=}\")\n",
    "\n",
    "# confirm the data is of the expected shape\n",
    "print(f\"{run.primary.read()['adsimdet_image'].shape=}\")\n",
    "assert run.primary.read()[\"adsimdet_image\"].shape == (1, NUM_FRAMES, 1024, 1024)"
   ]
  },
  {
   "cell_type": "markdown",
   "id": "31458691",
   "metadata": {},
   "source": [
    "## punx\n",
    "\n",
    "Next, we demonstrate access to the HDF5 image file using the [punx](https://punx.readthedocs.io) program."
   ]
  },
  {
   "cell_type": "code",
   "execution_count": 9,
   "id": "fee5af98",
   "metadata": {},
   "outputs": [
    {
     "name": "stdout",
     "output_type": "stream",
     "text": [
      "!!! WARNING: this program is not ready for distribution.\n",
      "\n",
      "/tmp/docker_ioc/iocad/tmp/adsimdet/2022/08/11/test_file_0001.h5 : NeXus data file\n",
      "  entry:NXentry\n",
      "    @NX_class = \"NXentry\"\n",
      "    data:NXdata\n",
      "      @NX_class = \"NXdata\"\n",
      "      data:NX_UINT8[5,1024,1024] = __array\n",
      "        __array = [\n",
      "            [\n",
      "                [0, 1, 2, '...', 255]\n",
      "                [1, 2, 3, '...', 0]\n",
      "                [2, 3, 4, '...', 1]\n",
      "                ...\n",
      "                [255, 0, 1, '...', 254]\n",
      "              ]\n",
      "            [\n",
      "                [1, 2, 3, '...', 0]\n",
      "                [2, 3, 4, '...', 1]\n",
      "                [3, 4, 5, '...', 2]\n",
      "                ...\n",
      "                [0, 1, 2, '...', 255]\n",
      "              ]\n",
      "            [\n",
      "                [2, 3, 4, '...', 1]\n",
      "                [3, 4, 5, '...', 2]\n",
      "                [4, 5, 6, '...', 3]\n",
      "                ...\n",
      "                [1, 2, 3, '...', 0]\n",
      "              ]\n",
      "            [\n",
      "                [3, 4, 5, '...', 2]\n",
      "                [4, 5, 6, '...', 3]\n",
      "                [5, 6, 7, '...', 4]\n",
      "                ...\n",
      "                [2, 3, 4, '...', 1]\n",
      "              ]\n",
      "            [\n",
      "                [4, 5, 6, '...', 3]\n",
      "                [5, 6, 7, '...', 4]\n",
      "                [6, 7, 8, '...', 5]\n",
      "                ...\n",
      "                [3, 4, 5, '...', 2]\n",
      "              ]\n",
      "          ]\n",
      "        @NDArrayDimBinning = [1 1]\n",
      "        @NDArrayDimOffset = [0 0]\n",
      "        @NDArrayDimReverse = [0 0]\n",
      "        @NDArrayNumDims = 2\n",
      "        @signal = 1\n",
      "    instrument:NXinstrument\n",
      "      @NX_class = \"NXinstrument\"\n",
      "      NDAttributes:NXcollection\n",
      "        @NX_class = \"NXcollection\"\n",
      "        @hostname = \"zap\"\n",
      "        NDArrayEpicsTSSec:NX_UINT32[5] = [1029091676, 1029091676, 1029091676, 1029091676, 1029091676]\n",
      "          @NDAttrDescription = \"The NDArray EPICS timestamp seconds past epoch\"\n",
      "          @NDAttrName = \"NDArrayEpicsTSSec\"\n",
      "          @NDAttrSource = \"Driver\"\n",
      "          @NDAttrSourceType = \"NDAttrSourceDriver\"\n",
      "        NDArrayEpicsTSnSec:NX_UINT32[5] = [716715360, 719274305, 721961149, 724515817, 727071138]\n",
      "          @NDAttrDescription = \"The NDArray EPICS timestamp nanoseconds\"\n",
      "          @NDAttrName = \"NDArrayEpicsTSnSec\"\n",
      "          @NDAttrSource = \"Driver\"\n",
      "          @NDAttrSourceType = \"NDAttrSourceDriver\"\n",
      "        NDArrayTimeStamp:NX_FLOAT64[5] = [1029091676.7149117, 1029091676.7181722, 1029091676.7208716, 1029091676.7234029, 1029091676.7259539]\n",
      "          @NDAttrDescription = \"The timestamp of the NDArray as float64\"\n",
      "          @NDAttrName = \"NDArrayTimeStamp\"\n",
      "          @NDAttrSource = \"Driver\"\n",
      "          @NDAttrSourceType = \"NDAttrSourceDriver\"\n",
      "        NDArrayUniqueId:NX_INT32[5] = [434, 435, 436, 437, 438]\n",
      "          @NDAttrDescription = \"The unique ID of the NDArray\"\n",
      "          @NDAttrName = \"NDArrayUniqueId\"\n",
      "          @NDAttrSource = \"Driver\"\n",
      "          @NDAttrSourceType = \"NDAttrSourceDriver\"\n",
      "      detector:NXdetector\n",
      "        @NX_class = \"NXdetector\"\n",
      "        data:NX_UINT8[5,1024,1024] = __array\n",
      "          __array = [\n",
      "              [\n",
      "                  [0, 1, 2, '...', 255]\n",
      "                  [1, 2, 3, '...', 0]\n",
      "                  [2, 3, 4, '...', 1]\n",
      "                  ...\n",
      "                  [255, 0, 1, '...', 254]\n",
      "                ]\n",
      "              [\n",
      "                  [1, 2, 3, '...', 0]\n",
      "                  [2, 3, 4, '...', 1]\n",
      "                  [3, 4, 5, '...', 2]\n",
      "                  ...\n",
      "                  [0, 1, 2, '...', 255]\n",
      "                ]\n",
      "              [\n",
      "                  [2, 3, 4, '...', 1]\n",
      "                  [3, 4, 5, '...', 2]\n",
      "                  [4, 5, 6, '...', 3]\n",
      "                  ...\n",
      "                  [1, 2, 3, '...', 0]\n",
      "                ]\n",
      "              [\n",
      "                  [3, 4, 5, '...', 2]\n",
      "                  [4, 5, 6, '...', 3]\n",
      "                  [5, 6, 7, '...', 4]\n",
      "                  ...\n",
      "                  [2, 3, 4, '...', 1]\n",
      "                ]\n",
      "              [\n",
      "                  [4, 5, 6, '...', 3]\n",
      "                  [5, 6, 7, '...', 4]\n",
      "                  [6, 7, 8, '...', 5]\n",
      "                  ...\n",
      "                  [3, 4, 5, '...', 2]\n",
      "                ]\n",
      "            ]\n",
      "          @NDArrayDimBinning = [1 1]\n",
      "          @NDArrayDimOffset = [0 0]\n",
      "          @NDArrayDimReverse = [0 0]\n",
      "          @NDArrayNumDims = 2\n",
      "          @signal = 1\n",
      "        NDAttributes:NXcollection\n",
      "          @NX_class = \"NXcollection\"\n",
      "          ColorMode:NX_INT32[5] = [0, 0, 0, 0, 0]\n",
      "            @NDAttrDescription = \"Color mode\"\n",
      "            @NDAttrName = \"ColorMode\"\n",
      "            @NDAttrSource = \"Driver\"\n",
      "            @NDAttrSourceType = \"NDAttrSourceDriver\"\n",
      "      performance\n",
      "        timestamp:NX_FLOAT64[5,5] = __array\n",
      "          __array = [\n",
      "              [0.000452669, 0.267751514, 43.541886568, 29.878449165370544, 0.0]\n",
      "              [0.015034063, 0.017185832, 0.015039098, 465.4997209329173, 531.9467962772767]\n",
      "              [0.013570599, 0.01362475, 0.028663848, 587.1667370043488, 558.1944196745671]\n",
      "              [0.009255383, 0.009308244, 0.037972092, 859.4531900968647, 632.0431331515788]\n",
      "              [0.007359577, 0.007410427, 0.045382519, 1079.559922795272, 705.1173162071501]\n",
      "            ]\n",
      "\n"
     ]
    }
   ],
   "source": [
    "from apstools.utils import unix\n",
    "\n",
    "for line in unix(f\"punx tree {local_file_name}\"):\n",
    "    print(line.decode().strip())"
   ]
  }
 ],
 "metadata": {
  "kernelspec": {
   "display_name": "Python 3.9.13 ('base')",
   "language": "python",
   "name": "python3"
  },
  "language_info": {
   "codemirror_mode": {
    "name": "ipython",
    "version": 3
   },
   "file_extension": ".py",
   "mimetype": "text/x-python",
   "name": "python",
   "nbconvert_exporter": "python",
   "pygments_lexer": "ipython3",
   "version": "3.9.13"
  },
  "vscode": {
   "interpreter": {
    "hash": "f38aef175fb08dfc130a7d9bb9234f0792dc9ad861f95b6c05aedd1b380356e2"
   }
  }
 },
 "nbformat": 4,
 "nbformat_minor": 5
}
