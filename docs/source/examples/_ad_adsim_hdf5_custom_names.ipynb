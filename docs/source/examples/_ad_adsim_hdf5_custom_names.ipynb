{
 "cells": [
  {
   "cell_type": "markdown",
   "id": "1f614462-550a-4c0d-b1ca-79b8da6e3fc9",
   "metadata": {
    "tags": []
   },
   "source": [
    "# Example: Area Detector & HDF5 File Name (custom)\n",
    "\n",
    "Setup the EPICS Area Detector HDF5 plugin as an *ophyd*-style object for data acquisition.  Demonstrate the plugin by acquiring an image with a bluesky plan and then plotting the image from the databroker catalog.\n",
    "\n",
    "Override the default ophyd naming process (which uses random [UUIDs](https://docs.python.org/3/library/uuid.html#uuid.uuid4)) for image files.  Instead, let the user control the image file name using the features of the EPICS Area Detector HDF5 plugin.\n",
    "\n",
    "We'll use the EPICS Area Detector [ADSimDetector](https://github.com/areaDetector/ADSimDetector) as provided in an EPICS IOC (server) running on your own network.  The IOC prefix is `ad:`.  We leave the details of creating and running the IOC to you.  (One way is to use a [docker container](https://github.com/prjemian/epics-docker/tree/main/v1.1/n6_custom_areaDetector#readme).)  This document is focused on the HDF5 plugin.  It could be used with any other camera support fomr EPICS area detector, with matching support from ophyd.  Also, many of the details of the HDF5 plugin are shared by other area detector file writing plugins, such as JPEG or TIFF.  This document could be used as a guide when using one of those plugins."
   ]
  },
  {
   "cell_type": "markdown",
   "id": "49bc8d1b-ebd6-4e54-8160-e6793ac19c2c",
   "metadata": {
    "tags": []
   },
   "source": [
    "## Prepare the Ophyd Device\n",
    "\n",
    "An ophyd Device is used to connect bluesky data acquisition plans (in Python) with EPICS IOC process variables (PVs)."
   ]
  },
  {
   "cell_type": "markdown",
   "id": "a46d5a0f-c9b9-4b5d-8331-46faa0c980f6",
   "metadata": {},
   "source": [
    "### Imports\n",
    "\n",
    "First, we must import the Python libraries needed here to create the *ophyd*-style object."
   ]
  },
  {
   "cell_type": "code",
   "execution_count": 1,
   "id": "9715c404-0ead-4652-be6b-e2eca09eddae",
   "metadata": {},
   "outputs": [],
   "source": [
    "from apstools.devices import AD_EpicsFileNameHDF5Plugin\n",
    "from apstools.devices import AD_full_file_name_local\n",
    "from apstools.devices import AD_prime_plugin2\n",
    "from ophyd import EpicsSignalWithRBV\n",
    "from ophyd.areadetector import ADComponent\n",
    "from ophyd.areadetector import DetectorBase\n",
    "from ophyd.areadetector import SingleTrigger\n",
    "from ophyd.areadetector.plugins import ImagePlugin_V34 as ImagePlugin\n",
    "from ophyd.areadetector.plugins import PvaPlugin_V34 as PvaPlugin\n",
    "from ophyd.areadetector import SimDetectorCam\n",
    "import pathlib\n",
    "import time"
   ]
  },
  {
   "cell_type": "markdown",
   "id": "92669e82-5452-465b-a663-921a4d2b34df",
   "metadata": {},
   "source": [
    "### Local Details\n",
    "\n",
    "For simplicity later, we define details of the local system here.\n",
    "\n",
    "variable | description\n",
    "--- | ---\n",
    "`IOC` | EPICS IOC prefix of the ADSimDetector instance\n",
    "`IMAGE_DIR` | Subdirectory of `*_MOUNT_PATH` for image files.\n",
    "`AD_IOC_MOUNT_PATH` | File system mount point, as seen by the EPICS IOC.\n",
    "`BLUESKY_MOUNT_PATH` | File system mount point, as seen by Python.\n",
    "\n",
    "It is important to understand that, while the EPICS IOC and the Python process where the user interacts (with bluesky and databroker) should both see the same image file written by acquisition, the directory path to that file may be different on the two systems.  Typically, the file system is mounted on both (IOC & Python) at the time of acquisition, perhaps at different mount points on each.  Alternatively, the image file written by the IOC may be copied to a directory where Python can find the file **when** the user attempts to read image data via databroker.\n",
    "\n",
    "Note: the EPICS Area Detector HDF5 Plugin support will convert date/time symbols (such as `%Y/%m/%d`) at the time of acquisition."
   ]
  },
  {
   "cell_type": "code",
   "execution_count": 2,
   "id": "76ba0dde-e223-4006-8dac-34290d65d03c",
   "metadata": {},
   "outputs": [],
   "source": [
    "IOC = \"ad:\"\n",
    "IMAGE_DIR = \"adsimdet/%Y/%m/%d\"\n",
    "AD_IOC_MOUNT_PATH = pathlib.Path(\"/tmp\")\n",
    "BLUESKY_MOUNT_PATH = pathlib.Path(\"/tmp/docker_ioc/iocad/tmp\")"
   ]
  },
  {
   "cell_type": "markdown",
   "id": "46a6a12a-0fdf-4f31-ac0f-2fc2adf1bf89",
   "metadata": {},
   "source": [
    "### Paths\n",
    "\n",
    "These two strings will be used to create the initial detector class and may also be used by the user later."
   ]
  },
  {
   "cell_type": "code",
   "execution_count": 3,
   "id": "5717f827-d8eb-4ed3-be1c-0bc89a72db18",
   "metadata": {},
   "outputs": [],
   "source": [
    "# MUST end with a `/`, pathlib will NOT provide it\n",
    "WRITE_PATH_TEMPLATE = f\"{AD_IOC_MOUNT_PATH / IMAGE_DIR}/\"\n",
    "READ_PATH_TEMPLATE = f\"{BLUESKY_MOUNT_PATH / IMAGE_DIR}/\""
   ]
  },
  {
   "cell_type": "markdown",
   "id": "0a7a10d4-7b1e-4d44-af2b-00093b3530d1",
   "metadata": {},
   "source": [
    "### Update the Cam plugin support\n",
    "\n",
    "For the `ophyd.SimDetectorCam` (and possibly other detector cam support), we must modify for upstream changes in the `ADSimDetector` IOC.  Here, we remove `pool_max_buffers` (from changes with `ADCore` release 3.1.1) and add `offset`."
   ]
  },
  {
   "cell_type": "code",
   "execution_count": 4,
   "id": "e72bec26-e017-4c62-bc88-f3eb0ebbdfa3",
   "metadata": {},
   "outputs": [],
   "source": [
    "class SimDetectorCam_R3_1_1(SimDetectorCam):\n",
    "    \"\"\"Revise SimDetectorCam for ADcore revisions.\"\"\"\n",
    "    pool_max_buffers = None\n",
    "    offset = ADComponent(EpicsSignalWithRBV, \"Offset\")"
   ]
  },
  {
   "cell_type": "markdown",
   "id": "a410ac89-9846-42b0-b404-f3137368f434",
   "metadata": {},
   "source": [
    "### Detector Class\n",
    "\n",
    "In this demo, we only configure the `cam` (`ADSimDetector` itself) and `hdf1` plugins.  Additional configuration for `image` and PVAccess plugins are shown in comments, should you want to add them.  The system is very modular.\n",
    "\n",
    "The plugin name we use here, `hdf1`, is customary.\n",
    "\n",
    "NOTE: Here is where we apply the customization **necessary** for the user to control the HDF5 image file names, using the `apstools.devices.AD_EpicsFileNameHDF5Plugin` class.  (The real work is done in `apstools.devices.area_detector_support.AD_EpicsFileNameMixin()` if you want to see the details.)  We repeat certain cautionary details here:\n",
    "\n",
    "> Replace standard ophyd file naming algorithm (where file names are defined as UUID strings, virtually guaranteeing that no existing images files will ever be overwritten).\n",
    "> \n",
    "> Caller is responsible for setting values of these Components of the plugin:\n",
    "> \n",
    ">- `array_counter`\n",
    ">- `auto_increment`\n",
    ">- `auto_save`\n",
    ">- `compression` (only the HDF plugin)\n",
    ">- `create_directory`\n",
    ">- `file_name`\n",
    ">- `file_number`\n",
    ">- `file_path`\n",
    ">- `file_template`\n",
    ">- `num_capture`\n",
    "\n",
    "Also note:\n",
    "\n",
    "> It is allowed to set `file_template=\"%s%s.h5\"` so the file name does not include the file number.\n"
   ]
  },
  {
   "cell_type": "code",
   "execution_count": 5,
   "id": "456e1aa6-a5f8-4c82-96ba-949eb4740363",
   "metadata": {},
   "outputs": [],
   "source": [
    "class MySimDetector(SingleTrigger, DetectorBase):\n",
    "    \"\"\"ADSimDetector\"\"\"\n",
    "\n",
    "    cam = ADComponent(SimDetectorCam_R3_1_1, \"cam1:\")\n",
    "    hdf1 = ADComponent(\n",
    "        AD_EpicsFileNameHDF5Plugin,\n",
    "        \"HDF1:\",\n",
    "        write_path_template=WRITE_PATH_TEMPLATE,\n",
    "        read_path_template=READ_PATH_TEMPLATE,\n",
    "    )\n",
    "    # image = ADComponent(ImagePlugin, \"image1:\")\n",
    "    # pva = ADComponent(PvaPlugin, \"Pva1:\")"
   ]
  },
  {
   "cell_type": "markdown",
   "id": "ab19608d-fb40-4825-ad5f-28d36af0a5af",
   "metadata": {},
   "source": [
    "### Detector Object\n",
    "\n",
    "A Python object is necessary to connect with the EPICS IOC."
   ]
  },
  {
   "cell_type": "code",
   "execution_count": 6,
   "id": "c3684f6d-0506-4f77-ade4-1de813a53772",
   "metadata": {},
   "outputs": [],
   "source": [
    "adsimdet = MySimDetector(IOC, name=\"adsimdet\")\n",
    "adsimdet.wait_for_connection(timeout=15)"
   ]
  },
  {
   "cell_type": "markdown",
   "id": "961b95ba-b3e3-47f4-8da3-3326b78c8f8c",
   "metadata": {},
   "source": [
    "### Prime the plugin\n",
    "\n",
    "This is only needed when the image metadata in the `cam` is different than the `hdf1` plugin.\n",
    "\n",
    "In some cases (such as when the IOC has just been started), it is necessary to *Prime* (or *warmup*) the HDF5 plugin.  To prime, process one EPICS Area Detector frame (NDArray) from `cam` to `hdf1`, so that the HDF5 plugin will know the proper image metadata (number of pixels, bit depth, ...) when first creating the HDF5 file.  We call `apstools.devices.AD_prime_plugin2(PLUGIN)` to prime the plugin.\n",
    "\n",
    "Note:  There is a `lazy_open` attribute that could avoid this step but the ophyd support also must know this _before_ image acquisition."
   ]
  },
  {
   "cell_type": "code",
   "execution_count": 7,
   "id": "75c0f03f-2c25-410c-9cf5-1930293a1acc",
   "metadata": {},
   "outputs": [],
   "source": [
    "AD_prime_plugin2(adsimdet.hdf1)"
   ]
  },
  {
   "cell_type": "markdown",
   "id": "a56d55b6-5ca9-4f2e-8962-9135aed8baf8",
   "metadata": {},
   "source": [
    "### Configure\n",
    "\n",
    "As noted above, the caller is now responsible for setting various values of the plugin.  (And, we're just assuming the data acquisition time, in `cam`, has been set properly.)"
   ]
  },
  {
   "cell_type": "code",
   "execution_count": 8,
   "id": "05ee1cc3-e1d0-47a0-bf91-a799fa9dc9c7",
   "metadata": {},
   "outputs": [],
   "source": [
    "# these settings are the caller's responsibility\n",
    "adsimdet.hdf1.create_directory.put(-5)\n",
    "adsimdet.hdf1.file_path.put(WRITE_PATH_TEMPLATE)  # path that the IOC will write the file\n",
    "adsimdet.hdf1.file_template.put(f\"%s%s_%4.4d.h5\")\n",
    "adsimdet.hdf1.file_name.put(\"my_test_file\")\n",
    "adsimdet.hdf1.auto_increment.put(\"Yes\")\n",
    "adsimdet.hdf1.auto_save.put(\"Yes\")\n",
    "adsimdet.hdf1.compression.put(\"zlib\")\n",
    "adsimdet.hdf1.zlevel.put(6)"
   ]
  },
  {
   "cell_type": "markdown",
   "id": "d33d178c-6839-430f-999e-47395ab57ad0",
   "metadata": {},
   "source": [
    "Add the plugin by name to the detector's `read_attrs` so the plugin's `.read()` method is called during data acquisition."
   ]
  },
  {
   "cell_type": "code",
   "execution_count": 9,
   "id": "5b785581-d818-442d-8b6a-f399f627c449",
   "metadata": {},
   "outputs": [],
   "source": [
    "adsimdet.read_attrs.append(\"hdf1\")"
   ]
  },
  {
   "cell_type": "markdown",
   "id": "a30bec95-4e20-482f-85bb-4d1b872e820e",
   "metadata": {},
   "source": [
    "### Try it\n",
    "\n",
    "Test that the customizations actually work by staging and triggering the detector.  Wait for acquisition to finish, then unstage."
   ]
  },
  {
   "cell_type": "code",
   "execution_count": 10,
   "id": "9deebfe7-3c59-4d3e-8c08-0a9cc73a140f",
   "metadata": {},
   "outputs": [],
   "source": [
    "adsimdet.stage()\n",
    "adsimdet.trigger()\n",
    "time.sleep(0.005)\n",
    "while adsimdet.cam.acquire.get(use_monitor=False) not in (0, \"Done\"):\n",
    "    time.sleep(0.005)\n",
    "adsimdet.unstage()"
   ]
  },
  {
   "cell_type": "markdown",
   "id": "f67880f9-bb7b-4182-a9c2-6d81c786e8dc",
   "metadata": {},
   "source": [
    "Let's see the name of the acquired image file, as seen by the detector and IOC.  We do not expect Python to find that it exists."
   ]
  },
  {
   "cell_type": "code",
   "execution_count": 11,
   "id": "adbd4448-c1fd-4046-8647-4318ac89ab4b",
   "metadata": {},
   "outputs": [
    {
     "name": "stdout",
     "output_type": "stream",
     "text": [
      "ffname.exists()=False\n",
      "ffname=PosixPath('/tmp/adsimdet/2022/08/03/my_test_file_0001.h5')\n"
     ]
    }
   ],
   "source": [
    "ffname = pathlib.Path(adsimdet.hdf1.full_file_name.get(use_monitor=False))\n",
    "print(f\"{ffname.exists()=}\\n{ffname=}\")"
   ]
  },
  {
   "cell_type": "markdown",
   "id": "7dad2cef-87cb-4647-9bb9-910d915cc28a",
   "metadata": {},
   "source": [
    "Now see the name of the same file as seen by Python and the databroker.  We expect that this file exists."
   ]
  },
  {
   "cell_type": "code",
   "execution_count": 12,
   "id": "2735b21b-2d17-4825-99cf-b4a5d70827f9",
   "metadata": {},
   "outputs": [
    {
     "name": "stdout",
     "output_type": "stream",
     "text": [
      "lfname.exists()=True\n",
      "lfname=PosixPath('/tmp/docker_ioc/iocad/tmp/adsimdet/2022/08/03/my_test_file_0001.h5')\n"
     ]
    }
   ],
   "source": [
    "lfname = AD_full_file_name_local(adsimdet.hdf1)\n",
    "print(f\"{lfname.exists()=}\\n{lfname=}\")"
   ]
  },
  {
   "cell_type": "markdown",
   "id": "dc79d20c-348e-46a3-82a7-baee6550d24c",
   "metadata": {},
   "source": [
    "## Acquire with Bluesky Plan\n",
    "\n",
    "Within the [Bluesky framework](https://blueskyproject.io/), `bluesky` is the package that orchestrates the data acquisition steps, including where to direct acquired data for storage.  We'll use `databroker` to manage the stored data."
   ]
  },
  {
   "cell_type": "markdown",
   "id": "214b46ef-cea8-4fbb-ba49-0fe06f28deb5",
   "metadata": {},
   "source": [
    "### Imports\n",
    "\n",
    "Configure MatPlotLib to visualize graphical results from Bluesky scans, then import the libraries we will use."
   ]
  },
  {
   "cell_type": "code",
   "execution_count": 13,
   "id": "b1a4858e-f644-47e6-9c04-13a10612b05c",
   "metadata": {},
   "outputs": [],
   "source": [
    "# Import matplotlib and put it in interactive mode.\n",
    "%matplotlib inline\n",
    "import matplotlib.pyplot as plt\n",
    "plt.ion()\n",
    "\n",
    "from bluesky import plans as bp\n",
    "from bluesky import RunEngine\n",
    "from bluesky import SupplementalData\n",
    "from bluesky.callbacks.best_effort import BestEffortCallback\n",
    "import databroker"
   ]
  },
  {
   "cell_type": "markdown",
   "id": "4e0bd181-1d5e-444a-8753-24e03d255d0f",
   "metadata": {},
   "source": [
    "### Configure\n",
    "\n",
    "We'll use a temporary databroker catalog for this example.  You may wish to use your own catalog: `cat = databroker.catalog[YOUR_CATALOG_NAME]`.  Then setup the run engine `RE`."
   ]
  },
  {
   "cell_type": "code",
   "execution_count": 14,
   "id": "d306fca8-0705-4e72-a150-c2c1dd56af81",
   "metadata": {},
   "outputs": [],
   "source": [
    "cat = databroker.temp().v2\n",
    "RE = RunEngine({})\n",
    "\n",
    "RE.subscribe(cat.v1.insert)\n",
    "RE.subscribe(BestEffortCallback())\n",
    "RE.preprocessors.append(SupplementalData())"
   ]
  },
  {
   "cell_type": "markdown",
   "id": "2375bbcd-c5b6-48bb-b5f7-23a55d28cb6d",
   "metadata": {},
   "source": [
    "### Acquire\n",
    "\n",
    "Take an image with the area detector and capture the list of identifiers (there will be only one item).  Add custom metadata to identify the imaging run."
   ]
  },
  {
   "cell_type": "code",
   "execution_count": 15,
   "id": "5bb301bf-fb94-4737-903e-6be215ab5379",
   "metadata": {},
   "outputs": [
    {
     "name": "stdout",
     "output_type": "stream",
     "text": [
      "\n",
      "\n",
      "Transient Scan ID: 1     Time: 2022-08-03 19:26:53\n",
      "Persistent Unique Scan ID: 'b528dae2-2747-4826-8784-a0db97cbb0ff'\n",
      "New stream: 'primary'\n",
      "+-----------+------------+\n",
      "|   seq_num |       time |\n",
      "+-----------+------------+\n",
      "|         1 | 19:26:53.5 |\n",
      "+-----------+------------+\n",
      "generator count ['b528dae2'] (scan num: 1)\n",
      "\n",
      "\n",
      "\n"
     ]
    }
   ],
   "source": [
    "uids = RE(bp.count([adsimdet], md=dict(title=\"how to setup HDF5 plugin\", purpose=\"image\")))"
   ]
  },
  {
   "cell_type": "markdown",
   "id": "032a6969-02b9-440c-8a87-fb0071a8745a",
   "metadata": {},
   "source": [
    "## Access the Image with Databroker\n",
    "\n",
    "To get the run information from the databroker catalog, we *could* assume the run we want is the most recent one in the catalog, using: `run = cat.v2[-1]`.  But, since we have a list of run uid strings, let's use that instead.  We called the `RE` with `bp.count()`, which only generates a single run, so there is no assumption here."
   ]
  },
  {
   "cell_type": "markdown",
   "id": "5137856c-3062-4626-9cc5-ece84347494a",
   "metadata": {},
   "source": [
    "### Get the run from the catalog"
   ]
  },
  {
   "cell_type": "code",
   "execution_count": 16,
   "id": "1248b1e8-0c0b-45db-9b8a-aa3ac0cfada4",
   "metadata": {},
   "outputs": [],
   "source": [
    "run = cat.v2[uids[0]]"
   ]
  },
  {
   "cell_type": "markdown",
   "id": "a651d935-1ef0-40ca-b980-3e7b0d3b9e4a",
   "metadata": {},
   "source": [
    "### Get the image frame from the run"
   ]
  },
  {
   "cell_type": "markdown",
   "id": "ceb46cb9-7319-48b2-a036-0d39e602b1fa",
   "metadata": {},
   "source": [
    "From the run, we know the image data is in the *primary* stream, recorded under the name `\"adsimdet_image\"`.  This image object has rank of 4. We just want the image frame (the last two indices). Select the first item of each of the first two indices (time, frame number)."
   ]
  },
  {
   "cell_type": "code",
   "execution_count": 17,
   "id": "575b58b7-fca4-486f-8d3d-893a3b7f8745",
   "metadata": {},
   "outputs": [],
   "source": [
    "dataset = run.primary.read()\n",
    "image = dataset[\"adsimdet_image\"]\n",
    "frame = image[0][0]"
   ]
  },
  {
   "cell_type": "markdown",
   "id": "c0a3129f-2949-4ace-9cf9-dbbe5a1868e0",
   "metadata": {},
   "source": [
    "### Visualize the image"
   ]
  },
  {
   "cell_type": "markdown",
   "id": "7ef2e40d-e282-4fb9-97f8-8c0dbb488010",
   "metadata": {},
   "source": [
    "The `frame` is an [xarray Dataset](https://docs.xarray.dev/en/stable/generated/xarray.Dataset.html), which has a method to visualize the data as shown here:"
   ]
  },
  {
   "cell_type": "code",
   "execution_count": 18,
   "id": "087afbd2-bc30-4e7d-b719-b18360cc3099",
   "metadata": {},
   "outputs": [
    {
     "data": {
      "text/plain": [
       "<matplotlib.collections.QuadMesh at 0x7f35717e3550>"
      ]
     },
     "execution_count": 18,
     "metadata": {},
     "output_type": "execute_result"
    },
    {
     "data": {
      "image/png": "[encoded data removed]",
      "text/plain": [
       "<Figure size 432x288 with 2 Axes>"
      ]
     },
     "metadata": {
      "needs_background": "light"
     },
     "output_type": "display_data"
    }
   ],
   "source": [
    "frame.plot.pcolormesh()"
   ]
  }
 ],
 "metadata": {
  "kernelspec": {
   "display_name": "Python 3.9.13 ('base')",
   "language": "python",
   "name": "python3"
  },
  "language_info": {
   "codemirror_mode": {
    "name": "ipython",
    "version": 3
   },
   "file_extension": ".py",
   "mimetype": "text/x-python",
   "name": "python",
   "nbconvert_exporter": "python",
   "pygments_lexer": "ipython3",
   "version": "3.9.13"
  },
  "vscode": {
   "interpreter": {
    "hash": "f38aef175fb08dfc130a7d9bb9234f0792dc9ad861f95b6c05aedd1b380356e2"
   }
  }
 },
 "nbformat": 4,
 "nbformat_minor": 5
}
