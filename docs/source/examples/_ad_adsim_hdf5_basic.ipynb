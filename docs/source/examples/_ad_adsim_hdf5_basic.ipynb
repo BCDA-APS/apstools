{
 "cells": [
  {
   "cell_type": "markdown",
   "metadata": {},
   "source": [
    "# Example: Area Detector & HDF5 File (default)"
   ]
  },
  {
   "cell_type": "markdown",
   "metadata": {},
   "source": [
    "**Objective**\n",
    "\n",
    "Demonstrate and explain the setup of an [EPICS area detector](https://areadetector.github.io/master/index.html) to acquire an image with [bluesky](https://blueskyproject.io/) and write it to an [HDF5](https://www.hdfgroup.org/solutions/hdf5) file.  Use the standard [ophyd conventions](https://blueskyproject.io/ophyd) for file naming and other setup.  Show how to retrieve the image using the [databroker](https://blueskyproject.io/databroker).\n",
    "\n",
    "**Contents**\n",
    "\n",
    "- [EPICS Area Detector IOC](#epics-area-detector-ioc) is pre-built\n",
    "- [File Directories](#file-directories) are different on IOC and bluesky workstation\n",
    "- [ophyd](#ophyd) to describe the hardware\n",
    "- [bluesky](#bluesky) for the measurement\n",
    "- [databroker](#databroker) to view the image"
   ]
  },
  {
   "cell_type": "markdown",
   "metadata": {},
   "source": [
    "See also:\n",
    "\n",
    "- [Example with custom file names](_ad_adsim_hdf5_custom_names.ipynb)\n",
    "- [ADPilatus example](_ad_pilatus.rst)\n",
    "- [ADPerkinElmer example](_ad_pe.rst)"
   ]
  },
  {
   "cell_type": "markdown",
   "metadata": {},
   "source": [
    "## EPICS Area Detector IOC\n",
    "\n",
    "This example uses a prebuilt [ADSimDetector](https://areadetector.github.io/master/ADSimDetector/simDetector.html) driver, packaged in a [docker](https://www.docker.com/) image\n",
    "([prjemian/custom-synapps-6.2-ad-3.10](https://hub.docker.com/r/prjemian/custom-synapps-6.2-ad-3.10/tags)).  The [EPICS IOC](https://docs.epics-controls.org/projects/how-tos/en/latest/getting-started/creating-ioc.html) is configured with prefix `ad:` using the [bash shell script](https://github.com/prjemian/epics-docker/blob/main/v1.1/n6_custom_areaDetector/start_adsim.sh):\n",
    "\n",
    "```bash\n",
    "start_adsim.sh ad\n",
    "```"
   ]
  },
  {
   "cell_type": "code",
   "execution_count": 1,
   "metadata": {},
   "outputs": [],
   "source": [
    "IOC = \"ad:\""
   ]
  },
  {
   "cell_type": "markdown",
   "metadata": {},
   "source": [
    "## File Directories\n",
    "\n",
    "Files from the IOC are mounted on the docker host in the directory `/tmp/docker_ioc/iocad`. The bluesky session runs on the docker host.\n",
    "\n",
    "system | file directory\n",
    "--- | ---\n",
    "area detector IOC | `/tmp`\n",
    "bluesky | `/tmp/docker_ioc/iocad/tmp`\n",
    "\n",
    "It is important to understand that, while the EPICS IOC and the Python process where the user interacts (with bluesky and databroker) should both see the same image file written by acquisition, the directory path to that file may be different on the two systems. Typically, the file system is mounted on both (IOC & Python) at the time of acquisition, perhaps at different mount points on each. Alternatively, the image file written by the IOC may be copied to a directory where Python can find the file **when** the user attempts to read image data via databroker.\n",
    "\n",
    "For convenience now and later, define these two directories using [pathlib](https://docs.python.org/3/library/pathlib.html), from the Python standard library."
   ]
  },
  {
   "cell_type": "code",
   "execution_count": 2,
   "metadata": {},
   "outputs": [],
   "source": [
    "import pathlib\n",
    "\n",
    "AD_IOC_MOUNT_PATH = pathlib.Path(\"/tmp\")\n",
    "BLUESKY_MOUNT_PATH = pathlib.Path(\"/tmp/docker_ioc/iocad/tmp\")"
   ]
  },
  {
   "cell_type": "markdown",
   "metadata": {},
   "source": [
    "Image files are written to a subdirectory (*image directory*) of the mount path.  In this case, we use a feature of the area detector [HDF5 file writer](https://areadetector.github.io/master/ADCore/NDFileHDF5.html) plugin that accepts [time format codes](https://docs.python.org/3/library/datetime.html#strftime-and-strptime-format-codes), such as `%Y` for year, to build the image directory path based on the current date.  Here, we created an example directory with suibdirectory for year, month, and day (such as: `example/2022/07/04`):"
   ]
  },
  {
   "cell_type": "code",
   "execution_count": 3,
   "metadata": {},
   "outputs": [],
   "source": [
    "IMAGE_DIR = \"example/%Y/%m/%d\""
   ]
  },
  {
   "cell_type": "markdown",
   "metadata": {},
   "source": [
    "  Using the two pathlib objects created above, create two string objects for configuration of the HDF5 plugin.  The area detector IOC expects each string to end with a `/` character but will add it if it is not provided.  But ophyd requires the value sent to EPICS to match exactly the value that the IOC reports, thus we make the correct ending here."
   ]
  },
  {
   "cell_type": "code",
   "execution_count": 4,
   "metadata": {},
   "outputs": [],
   "source": [
    "# MUST end with a `/`, pathlib will NOT provide it\n",
    "WRITE_PATH_TEMPLATE = f\"{AD_IOC_MOUNT_PATH / IMAGE_DIR}/\"\n",
    "READ_PATH_TEMPLATE = f\"{BLUESKY_MOUNT_PATH / IMAGE_DIR}/\""
   ]
  },
  {
   "cell_type": "markdown",
   "metadata": {},
   "source": [
    "## ophyd\n",
    "\n",
    "In ophyd, the support for hardware that has multiple PVs is constructed as a subclass of `ophyd.Device`.  The EPICS area detector is described with a special subclass called `ophyd.areadetector.DetectorBase`.  An area detector has a detector driver, called a `cam` in the ophyd support, which is another subclass.  Each of the plugins (image, PVA, HDF5, ...) has its own subclass.  The general structure is:\n",
    "\n",
    "```\n",
    "DetectorBase\n",
    "    CamBase\n",
    "    ImagePlugin\n",
    "    HDF5Plugin\n",
    "    PvaPlugin\n",
    "    ...\n",
    "```\n",
    "\n",
    "TODO: write about what plugins are needed.\n",
    "cite: https://blueskyproject.io/ophyd/explanations/area-detector.html?highlight=singletrigger#ports"
   ]
  },
  {
   "cell_type": "markdown",
   "metadata": {},
   "source": [
    "### cam\n",
    "\n",
    "The principle difference between area detector drivers is the `cam` support, which is specific to the detector driver being configured.  All the other plugin support is independent of the `cam` support.  Follow these steps to implement for a different detector driver.\n",
    "\n",
    "The [ophyd package](https://blueskyproject.io/ophyd/explanations/area-detector.html#specific-hardware) has support for many of the area detector drivers.  A complete list is available in the [ophyd source code](https://github.com/bluesky/ophyd/blob/master/ophyd/areadetector/cam.py).\n",
    "\n",
    "The ADSimDetector driver is in this list, as `SimDetectorCam`.  But the ophyd support is out of date for the EPICS area detector release 3.10 used here, so we need to make modifications with a subclass, as is typical.  The changes we see were introduced in ADSimDetector v3.1.1.\n",
    "\n",
    "The `pool_max_buffers` is no longer supported, so the attribute defined in `SimDetectorCam` is disabled by setting the attribute to `None`.  Three new PVs are added as `ADComponent` objects.\n",
    "\n",
    "We'll also add a convenience *property* method, `is_acquire_busy`, to make it easy to use the new `AcquireBusy` PV when waiting for acquisition to finish."
   ]
  },
  {
   "cell_type": "code",
   "execution_count": 5,
   "metadata": {},
   "outputs": [],
   "source": [
    "from ophyd.areadetector import SimDetectorCam\n",
    "from ophyd import ADComponent\n",
    "from ophyd import EpicsSignal\n",
    "from ophyd import EpicsSignalRO\n",
    "from ophyd import EpicsSignalWithRBV\n",
    "\n",
    "class SimDetectorCam_R3_1_1(SimDetectorCam):\n",
    "    \"\"\"Revise SimDetectorCam for ADCore revisions.\"\"\"\n",
    "    pool_max_buffers = None\n",
    "    offset = ADComponent(EpicsSignalWithRBV, \"Offset\")\n",
    "    acquire_busy = ADComponent(EpicsSignalRO, \"AcquireBusy \")\n",
    "    wait_for_plugins = ADComponent(EpicsSignal, \"WaitForPlugins\")\n",
    "\n",
    "    @property\n",
    "    def is_acquire_busy(self):\n",
    "        signal = self.acquire_busy\n",
    "        return signal.get() in (1, signal.enum_strs[1])"
   ]
  },
  {
   "cell_type": "markdown",
   "metadata": {},
   "source": [
    "### HDF5\n",
    "\n",
    "Support for writing images to HDF5 files using the area detector HDF5 File Writer plugin comes from the `HDF5Plugin`.  This [plugin](https://github.com/bluesky/ophyd/blob/master/ophyd/areadetector/plugins.py) cames in different versions.  The ophyd support may be out of date, but in this case it is not if we pick the `HDF5Plugin_V34` version.  The plugin provides bare support which needs some modification for the manner of acquisition.\n",
    "\n",
    "Here we build a custom HDF5 plugin class with `FileStoreHDF5IterativeWrite`.  This mixin class configures the HDF5 plugin to collect one or more images and writes file name and path and HDF5 address information of each frame in the data stream."
   ]
  },
  {
   "cell_type": "code",
   "execution_count": 6,
   "metadata": {},
   "outputs": [],
   "source": [
    "from ophyd.areadetector.filestore_mixins import FileStoreHDF5IterativeWrite\n",
    "from ophyd.areadetector.plugins import HDF5Plugin_V34 as HDF5Plugin\n",
    "\n",
    "class MyHDF5Plugin(FileStoreHDF5IterativeWrite, HDF5Plugin):\n",
    "    \"\"\"Run HDF5 plugin in 'Single' mode.\"\"\""
   ]
  },
  {
   "cell_type": "markdown",
   "metadata": {},
   "source": [
    "### detector\n",
    "\n",
    "The detector class, a subclass of `DetectorBase`, brings together the detector driver `cam` and plugins.  This class will be used to build the Python object for the detector.  In addition to the `cam` and HDF5 plugin, we'll enable the image plugin (`ImagePlugin`) so that a client viewer can view the image.\n",
    "\n",
    "The `SingleTrigger` mixin class configures the `cam` for data acquisition as [explained](https://blueskyproject.io/ophyd/explanations/area-detector.html?highlight=singletrigger#callbacks).\n",
    "\n",
    "<!--  This suggested modification is not yet a standard convention:\n",
    "\n",
    "Needs more packages to be installed.\n",
    "\n",
    "To convert an existing area detector sub-class to support the new scheme you must:\n",
    "\n",
    "    Change the type of the came to sub-class nslsii.ad33.CamV33Mixin\n",
    "\n",
    "    Change the trigger mixin to be nslsii.ad33.SingleTriggerV33\n",
    "\n",
    "    Arrange for det.cam.ensure_nonblocking to be called after initializing the ophyd object.\n",
    "\n",
    "Addition of the [nslsii package](https://anaconda.org/conda-forge/nslsii) requires\n",
    "additional packages such as kafka, that will not be used here.  Better to\n",
    "(re)implement the code, from:\n",
    "https://github.com/NSLS-II/nslsii/blob/9cd77e0aa24d59fddf534948b9b97dacb0832ed2/nslsii/ad33.py#L37\n",
    "-->\n",
    "\n",
    "When configuring the custom `MyHDF5Plugin` class, we apply the two strings defined above for the file paths on the IOC (write) and on the bluesky workstation (read)."
   ]
  },
  {
   "cell_type": "code",
   "execution_count": 7,
   "metadata": {},
   "outputs": [],
   "source": [
    "from ophyd.areadetector import DetectorBase\n",
    "from ophyd.areadetector import SingleTrigger\n",
    "from ophyd.areadetector.plugins import ImagePlugin_V34 as ImagePlugin\n",
    "\n",
    "class MySimDetector(SingleTrigger, DetectorBase):\n",
    "    \"\"\"\n",
    "    ADSimDetector\n",
    "\n",
    "    SingleTrigger:\n",
    "\n",
    "    * stop any current acquisition\n",
    "    * sets image_mode to 'Multiple'\n",
    "    \"\"\"\n",
    "\n",
    "    cam = ADComponent(SimDetectorCam_R3_1_1, \"cam1:\")\n",
    "    hdf1 = ADComponent(\n",
    "        MyHDF5Plugin,\n",
    "        \"HDF1:\",\n",
    "        write_path_template=WRITE_PATH_TEMPLATE,\n",
    "        read_path_template=READ_PATH_TEMPLATE,\n",
    "    )\n",
    "    image = ADComponent(ImagePlugin, \"image1:\")"
   ]
  },
  {
   "cell_type": "markdown",
   "metadata": {},
   "source": [
    "With all the above setup, create the Python detector object, `det` and wait for it to connect with EPICS."
   ]
  },
  {
   "cell_type": "code",
   "execution_count": 8,
   "metadata": {},
   "outputs": [],
   "source": [
    "det = MySimDetector(IOC, name=\"det\")\n",
    "det.wait_for_connection(timeout=15)"
   ]
  },
  {
   "cell_type": "markdown",
   "metadata": {},
   "source": [
    "Check that all plugins used by the IOC have been defined in the Python structure.  Expect that this function returns an empty list: `[]`."
   ]
  },
  {
   "cell_type": "code",
   "execution_count": 9,
   "metadata": {},
   "outputs": [
    {
     "data": {
      "text/plain": [
       "[]"
      ]
     },
     "execution_count": 9,
     "metadata": {},
     "output_type": "execute_result"
    }
   ],
   "source": [
    "det.missing_plugins()"
   ]
  },
  {
   "cell_type": "markdown",
   "metadata": {},
   "source": [
    "We must configure `det` so the HDF5 plugin (by its attribute name `hdf1`) will be called during `det.read()`, as used by data acquisition."
   ]
  },
  {
   "cell_type": "code",
   "execution_count": 10,
   "metadata": {},
   "outputs": [],
   "source": [
    "det.read_attrs.append(\"hdf1\")"
   ]
  },
  {
   "cell_type": "markdown",
   "metadata": {},
   "source": [
    "Configure the HDF5 plugin so it will create up to 5 subdirectories for the image directory.  We *must* do this step before staging so the IOC is prepared when the `FilePath` PV is set during `det.stage()`."
   ]
  },
  {
   "cell_type": "code",
   "execution_count": 11,
   "metadata": {},
   "outputs": [],
   "source": [
    "det.hdf1.create_directory.put(-5)"
   ]
  },
  {
   "cell_type": "markdown",
   "metadata": {},
   "source": [
    "As [advised](https://github.com/BCDA-APS/apstools/issues/671), apply this change affecting how the area detector will report completion of an acquisition.\n",
    "\n",
    "*Upgrade*: Make the [change for the SingleTrigger mixin](https://blueskyproject.io/ophyd/explanations/area-detector.html?highlight=singletrigger#callbacks) as recommended.  [NSLS-II code](https://github.com/NSLS-II/nslsii/blob/9cd77e0aa24d59fddf534948b9b97dacb0832ed2/nslsii/ad33.py#L37)\n",
    "\n",
    "<!--  This suggested modification is not yet a standard convention:\n",
    "\n",
    "To convert an existing area detector sub-class to support the new scheme you must:\n",
    "\n",
    "    Change the type of the came to sub-class nslsii.ad33.CamV33Mixin\n",
    "\n",
    "    Change the trigger mixin to be nslsii.ad33.SingleTriggerV33\n",
    "\n",
    "    Arrange for det.cam.ensure_nonblocking to be called after initializing the ophyd object.\n",
    "-->"
   ]
  },
  {
   "cell_type": "code",
   "execution_count": 12,
   "metadata": {},
   "outputs": [],
   "source": [
    "# override default setting from ophyd\n",
    "det.hdf1.stage_sigs[\"blocking_callbacks\"] = \"No\"\n",
    "det.hdf1.stage_sigs[\"parent.cam.wait_for_plugins\"] = \"Yes\""
   ]
  },
  {
   "cell_type": "markdown",
   "metadata": {},
   "source": [
    "Consider enabling and setting any of these additional configurations as appropriate to your situation.  Here, we accept the default acquisition time, but acquire 5 frames with `zlib` data compression."
   ]
  },
  {
   "cell_type": "code",
   "execution_count": 13,
   "metadata": {},
   "outputs": [],
   "source": [
    "# det.cam.stage_sigs[\"acquire_period\"] = 0.015\n",
    "# det.cam.stage_sigs[\"acquire_time\"] = 0.01\n",
    "det.cam.stage_sigs[\"num_images\"] = 5\n",
    "det.cam.stage_sigs[\"parent.hdf1.num_capture\"] = det.cam.stage_sigs[\"num_images\"]\n",
    "det.hdf1.stage_sigs[\"compression\"] = \"zlib\"\n",
    "# det.hdf1.stage_sigs[\"lazy_open\"] = \"Yes\""
   ]
  },
  {
   "cell_type": "markdown",
   "metadata": {},
   "source": [
    "Always, make the `capture` be the last signal to be staged."
   ]
  },
  {
   "cell_type": "code",
   "execution_count": 14,
   "metadata": {},
   "outputs": [],
   "source": [
    "det.hdf1.stage_sigs.move_to_end(\"capture\", last=True)"
   ]
  },
  {
   "cell_type": "markdown",
   "metadata": {},
   "source": [
    "Print some values as diagnostics."
   ]
  },
  {
   "cell_type": "code",
   "execution_count": 15,
   "metadata": {},
   "outputs": [
    {
     "data": {
      "text/plain": [
       "['hdf1']"
      ]
     },
     "execution_count": 15,
     "metadata": {},
     "output_type": "execute_result"
    }
   ],
   "source": [
    "det.read_attrs"
   ]
  },
  {
   "cell_type": "code",
   "execution_count": 16,
   "metadata": {},
   "outputs": [
    {
     "data": {
      "text/plain": [
       "OrderedDict([('cam.acquire', 0), ('cam.image_mode', 1)])"
      ]
     },
     "execution_count": 16,
     "metadata": {},
     "output_type": "execute_result"
    }
   ],
   "source": [
    "det.stage_sigs"
   ]
  },
  {
   "cell_type": "code",
   "execution_count": 17,
   "metadata": {},
   "outputs": [
    {
     "data": {
      "text/plain": [
       "OrderedDict([('num_images', 5), ('parent.hdf1.num_capture', 5)])"
      ]
     },
     "execution_count": 17,
     "metadata": {},
     "output_type": "execute_result"
    }
   ],
   "source": [
    "det.cam.stage_sigs"
   ]
  },
  {
   "cell_type": "code",
   "execution_count": 18,
   "metadata": {},
   "outputs": [
    {
     "data": {
      "text/plain": [
       "OrderedDict([('enable', 1),\n",
       "             ('blocking_callbacks', 'No'),\n",
       "             ('parent.cam.array_callbacks', 1),\n",
       "             ('create_directory', -3),\n",
       "             ('auto_increment', 'Yes'),\n",
       "             ('array_counter', 0),\n",
       "             ('auto_save', 'Yes'),\n",
       "             ('num_capture', 0),\n",
       "             ('file_template', '%s%s_%6.6d.h5'),\n",
       "             ('file_write_mode', 'Stream'),\n",
       "             ('parent.cam.wait_for_plugins', 'Yes'),\n",
       "             ('compression', 'zlib'),\n",
       "             ('capture', 1)])"
      ]
     },
     "execution_count": 18,
     "metadata": {},
     "output_type": "execute_result"
    }
   ],
   "source": [
    "det.hdf1.stage_sigs"
   ]
  },
  {
   "cell_type": "markdown",
   "metadata": {},
   "source": [
    "Even though area detector has a `LazyOpen` feature, ophyd needs to know how to describe the image structure before it starts saving data.  If the file writing (HDF5) plugin does not have the dimensions, bit depth, color mode, ... of the expected image, then ophyd does not have access to the metadata it needs.\n",
    "\n",
    "This code checks if the plugin is ready and, if not, makes the plugin ready by acquiring (a.k.a. *priming*) a single image into the plugin."
   ]
  },
  {
   "cell_type": "code",
   "execution_count": 19,
   "metadata": {},
   "outputs": [],
   "source": [
    "from apstools.devices import AD_plugin_primed\n",
    "from apstools.devices import AD_prime_plugin2\n",
    "\n",
    "# this step is needed for ophyd\n",
    "if not AD_plugin_primed(det.hdf1):\n",
    "    print(f\"Priming {det.hdf1.dotted_name}\")\n",
    "    AD_prime_plugin2(det.hdf1)"
   ]
  },
  {
   "cell_type": "markdown",
   "metadata": {},
   "source": [
    "## bluesky\n",
    "\n",
    "Within the [Bluesky framework](https://blueskyproject.io/), [bluesky](https://blueskyproject.io/bluesky) is the package that orchestrates the data acquisition steps, including where to direct acquired data for storage.  [Later](#databroker), we'll use [databroker](https://blueskyproject.io/databroker) to access the image data.\n",
    "\n",
    "As a first step, configure the notebook for graphics.  (While `%matplotlib inline` works well for documentation, you might prefer the additional interactive features possible by changing to `%matplotlib widget`.)"
   ]
  },
  {
   "cell_type": "code",
   "execution_count": 20,
   "metadata": {},
   "outputs": [
    {
     "data": {
      "text/plain": [
       "<matplotlib.pyplot._IonContext at 0x7f8931985f10>"
      ]
     },
     "execution_count": 20,
     "metadata": {},
     "output_type": "execute_result"
    }
   ],
   "source": [
    "# Import matplotlib for inline graphics\n",
    "%matplotlib inline\n",
    "import matplotlib.pyplot as plt\n",
    "\n",
    "plt.ion()"
   ]
  },
  {
   "cell_type": "markdown",
   "metadata": {},
   "source": [
    "We'll use a temporary databroker catalog for this example. You may wish to use your own catalog:\n",
    "\n",
    "```py\n",
    "cat = databroker.catalog[YOUR_CATALOG_NAME]\n",
    "```\n",
    "\n",
    "Then setup the bluesky run engine `RE`, connect it with the databroker catalog, and enable (via `BestEffortCallback`) some screen output during data collection."
   ]
  },
  {
   "cell_type": "code",
   "execution_count": 21,
   "metadata": {},
   "outputs": [],
   "source": [
    "from bluesky import plans as bp\n",
    "from bluesky import RunEngine\n",
    "from bluesky import SupplementalData\n",
    "from bluesky.callbacks.best_effort import BestEffortCallback\n",
    "import databroker\n",
    "\n",
    "cat = databroker.temp().v2\n",
    "RE = RunEngine({})\n",
    "RE.subscribe(cat.v1.insert)\n",
    "RE.subscribe(BestEffortCallback())\n",
    "RE.preprocessors.append(SupplementalData())"
   ]
  },
  {
   "cell_type": "markdown",
   "metadata": {},
   "source": [
    "**Take an image with the area detector.**  Also,  capture the list of identifiers (there will be only one item). Add custom metadata to identify the imaging run.\n",
    "\n",
    "Note that the HDF plugin will report, briefly before acquisition, (in its `WriteMessage` PV):\n",
    "\n",
    "> ERROR: capture is not permitted in Single mode\n",
    "\n",
    "Ignore that.  (TODO: modify the SingleTrigger mixin with respect to `capture`.)"
   ]
  },
  {
   "cell_type": "code",
   "execution_count": 22,
   "metadata": {},
   "outputs": [
    {
     "name": "stdout",
     "output_type": "stream",
     "text": [
      "\n",
      "\n",
      "Transient Scan ID: 1     Time: 2022-08-04 17:35:35\n",
      "Persistent Unique Scan ID: '48b9e122-2d10-41fd-a920-253825024905'\n",
      "New stream: 'primary'\n",
      "+-----------+------------+\n",
      "|   seq_num |       time |\n",
      "+-----------+------------+\n",
      "|         1 | 17:35:35.6 |\n",
      "+-----------+------------+\n",
      "generator count ['48b9e122'] (scan num: 1)\n",
      "\n",
      "\n",
      "\n"
     ]
    }
   ],
   "source": [
    "uids = RE(bp.count([det], md=dict(title=\"Area Detector with HDF5 plugin\", purpose=\"image\")))"
   ]
  },
  {
   "cell_type": "markdown",
   "metadata": {},
   "source": [
    "## databroker\n",
    "\n",
    "To emphasize the decisions associated with each step to get the image data, the procedure is shown in parts.\n",
    "\n",
    "***Get the run from the catalog***\n",
    "\n",
    "The run data comes from the databroker catalog.  We *could* assume we want the most recent run in the catalog (`run = cat.v2[-1]`). But, since we have a list of run *uid* strings, let's use that instead.   If we wanted to access this run later, when neither of those two choices are possible, then the run could be access by its *Transient Scan ID* as reported above: `run = cat.v2[1]`\n",
    "\n",
    "There are three ways to reference a run in the catalog:\n",
    "\n",
    "argument | example | description\n",
    "--- | --- | ---\n",
    "negative integer | `cat.v2[-1]` | ***list*-like**, `-1` is most recent, `-2` is 2nd most recent, ...\n",
    "positive integer | `cat.v2[1]` | argument is the **Scan ID** (if search is not unique, returns most recent)\n",
    "string | `cat.v2[\"a1b2c3d\"]` | argument is a **`uid`** (just the first few characters that make the catalog search unique are needed)\n",
    "\n",
    "We called the `RE` with `bp.count()`, which only generates a single run, so there is no assumption here using the `uids` list from this session."
   ]
  },
  {
   "cell_type": "code",
   "execution_count": 23,
   "metadata": {},
   "outputs": [
    {
     "data": {
      "text/plain": [
       "BlueskyRun\n",
       "  uid='48b9e122-2d10-41fd-a920-253825024905'\n",
       "  exit_status='success'\n",
       "  2022-08-04 17:35:35.522 -- 2022-08-04 17:35:35.631\n",
       "  Streams:\n",
       "    * primary\n"
      ]
     },
     "execution_count": 23,
     "metadata": {},
     "output_type": "execute_result"
    }
   ],
   "source": [
    "run = cat.v2[uids[0]]\n",
    "run"
   ]
  },
  {
   "cell_type": "markdown",
   "metadata": {},
   "source": [
    "***Get the image frame from the run***\n",
    "\n",
    "From the run, we know the image data is in the primary stream.  (In fact, that is the only stream in this run.)  Get the run's data as an [xarray Dataset](https://docs.xarray.dev/en/stable/generated/xarray.Dataset.html) object."
   ]
  },
  {
   "cell_type": "code",
   "execution_count": 24,
   "metadata": {},
   "outputs": [
    {
     "data": {
      "text/html": [
       "<div><svg style=\"position: absolute; width: 0; height: 0; overflow: hidden\">\n",
       "<defs>\n",
       "<symbol id=\"icon-database\" viewBox=\"0 0 32 32\">\n",
       "<path d=\"M16 0c-8.837 0-16 2.239-16 5v4c0 2.761 7.163 5 16 5s16-2.239 16-5v-4c0-2.761-7.163-5-16-5z\"></path>\n",
       "<path d=\"M16 17c-8.837 0-16-2.239-16-5v6c0 2.761 7.163 5 16 5s16-2.239 16-5v-6c0 2.761-7.163 5-16 5z\"></path>\n",
       "<path d=\"M16 26c-8.837 0-16-2.239-16-5v6c0 2.761 7.163 5 16 5s16-2.239 16-5v-6c0 2.761-7.163 5-16 5z\"></path>\n",
       "</symbol>\n",
       "<symbol id=\"icon-file-text2\" viewBox=\"0 0 32 32\">\n",
       "<path d=\"M28.681 7.159c-0.694-0.947-1.662-2.053-2.724-3.116s-2.169-2.030-3.116-2.724c-1.612-1.182-2.393-1.319-2.841-1.319h-15.5c-1.378 0-2.5 1.121-2.5 2.5v27c0 1.378 1.122 2.5 2.5 2.5h23c1.378 0 2.5-1.122 2.5-2.5v-19.5c0-0.448-0.137-1.23-1.319-2.841zM24.543 5.457c0.959 0.959 1.712 1.825 2.268 2.543h-4.811v-4.811c0.718 0.556 1.584 1.309 2.543 2.268zM28 29.5c0 0.271-0.229 0.5-0.5 0.5h-23c-0.271 0-0.5-0.229-0.5-0.5v-27c0-0.271 0.229-0.5 0.5-0.5 0 0 15.499-0 15.5 0v7c0 0.552 0.448 1 1 1h7v19.5z\"></path>\n",
       "<path d=\"M23 26h-14c-0.552 0-1-0.448-1-1s0.448-1 1-1h14c0.552 0 1 0.448 1 1s-0.448 1-1 1z\"></path>\n",
       "<path d=\"M23 22h-14c-0.552 0-1-0.448-1-1s0.448-1 1-1h14c0.552 0 1 0.448 1 1s-0.448 1-1 1z\"></path>\n",
       "<path d=\"M23 18h-14c-0.552 0-1-0.448-1-1s0.448-1 1-1h14c0.552 0 1 0.448 1 1s-0.448 1-1 1z\"></path>\n",
       "</symbol>\n",
       "</defs>\n",
       "</svg>\n",
       "<style>/* CSS stylesheet for displaying xarray objects in jupyterlab.\n",
       " *\n",
       " */\n",
       "\n",
       ":root {\n",
       "  --xr-font-color0: var(--jp-content-font-color0, rgba(0, 0, 0, 1));\n",
       "  --xr-font-color2: var(--jp-content-font-color2, rgba(0, 0, 0, 0.54));\n",
       "  --xr-font-color3: var(--jp-content-font-color3, rgba(0, 0, 0, 0.38));\n",
       "  --xr-border-color: var(--jp-border-color2, #e0e0e0);\n",
       "  --xr-disabled-color: var(--jp-layout-color3, #bdbdbd);\n",
       "  --xr-background-color: var(--jp-layout-color0, white);\n",
       "  --xr-background-color-row-even: var(--jp-layout-color1, white);\n",
       "  --xr-background-color-row-odd: var(--jp-layout-color2, #eeeeee);\n",
       "}\n",
       "\n",
       "html[theme=dark],\n",
       "body.vscode-dark {\n",
       "  --xr-font-color0: rgba(255, 255, 255, 1);\n",
       "  --xr-font-color2: rgba(255, 255, 255, 0.54);\n",
       "  --xr-font-color3: rgba(255, 255, 255, 0.38);\n",
       "  --xr-border-color: #1F1F1F;\n",
       "  --xr-disabled-color: #515151;\n",
       "  --xr-background-color: #111111;\n",
       "  --xr-background-color-row-even: #111111;\n",
       "  --xr-background-color-row-odd: #313131;\n",
       "}\n",
       "\n",
       ".xr-wrap {\n",
       "  display: block !important;\n",
       "  min-width: 300px;\n",
       "  max-width: 700px;\n",
       "}\n",
       "\n",
       ".xr-text-repr-fallback {\n",
       "  /* fallback to plain text repr when CSS is not injected (untrusted notebook) */\n",
       "  display: none;\n",
       "}\n",
       "\n",
       ".xr-header {\n",
       "  padding-top: 6px;\n",
       "  padding-bottom: 6px;\n",
       "  margin-bottom: 4px;\n",
       "  border-bottom: solid 1px var(--xr-border-color);\n",
       "}\n",
       "\n",
       ".xr-header > div,\n",
       ".xr-header > ul {\n",
       "  display: inline;\n",
       "  margin-top: 0;\n",
       "  margin-bottom: 0;\n",
       "}\n",
       "\n",
       ".xr-obj-type,\n",
       ".xr-array-name {\n",
       "  margin-left: 2px;\n",
       "  margin-right: 10px;\n",
       "}\n",
       "\n",
       ".xr-obj-type {\n",
       "  color: var(--xr-font-color2);\n",
       "}\n",
       "\n",
       ".xr-sections {\n",
       "  padding-left: 0 !important;\n",
       "  display: grid;\n",
       "  grid-template-columns: 150px auto auto 1fr 20px 20px;\n",
       "}\n",
       "\n",
       ".xr-section-item {\n",
       "  display: contents;\n",
       "}\n",
       "\n",
       ".xr-section-item input {\n",
       "  display: none;\n",
       "}\n",
       "\n",
       ".xr-section-item input + label {\n",
       "  color: var(--xr-disabled-color);\n",
       "}\n",
       "\n",
       ".xr-section-item input:enabled + label {\n",
       "  cursor: pointer;\n",
       "  color: var(--xr-font-color2);\n",
       "}\n",
       "\n",
       ".xr-section-item input:enabled + label:hover {\n",
       "  color: var(--xr-font-color0);\n",
       "}\n",
       "\n",
       ".xr-section-summary {\n",
       "  grid-column: 1;\n",
       "  color: var(--xr-font-color2);\n",
       "  font-weight: 500;\n",
       "}\n",
       "\n",
       ".xr-section-summary > span {\n",
       "  display: inline-block;\n",
       "  padding-left: 0.5em;\n",
       "}\n",
       "\n",
       ".xr-section-summary-in:disabled + label {\n",
       "  color: var(--xr-font-color2);\n",
       "}\n",
       "\n",
       ".xr-section-summary-in + label:before {\n",
       "  display: inline-block;\n",
       "  content: '►';\n",
       "  font-size: 11px;\n",
       "  width: 15px;\n",
       "  text-align: center;\n",
       "}\n",
       "\n",
       ".xr-section-summary-in:disabled + label:before {\n",
       "  color: var(--xr-disabled-color);\n",
       "}\n",
       "\n",
       ".xr-section-summary-in:checked + label:before {\n",
       "  content: '▼';\n",
       "}\n",
       "\n",
       ".xr-section-summary-in:checked + label > span {\n",
       "  display: none;\n",
       "}\n",
       "\n",
       ".xr-section-summary,\n",
       ".xr-section-inline-details {\n",
       "  padding-top: 4px;\n",
       "  padding-bottom: 4px;\n",
       "}\n",
       "\n",
       ".xr-section-inline-details {\n",
       "  grid-column: 2 / -1;\n",
       "}\n",
       "\n",
       ".xr-section-details {\n",
       "  display: none;\n",
       "  grid-column: 1 / -1;\n",
       "  margin-bottom: 5px;\n",
       "}\n",
       "\n",
       ".xr-section-summary-in:checked ~ .xr-section-details {\n",
       "  display: contents;\n",
       "}\n",
       "\n",
       ".xr-array-wrap {\n",
       "  grid-column: 1 / -1;\n",
       "  display: grid;\n",
       "  grid-template-columns: 20px auto;\n",
       "}\n",
       "\n",
       ".xr-array-wrap > label {\n",
       "  grid-column: 1;\n",
       "  vertical-align: top;\n",
       "}\n",
       "\n",
       ".xr-preview {\n",
       "  color: var(--xr-font-color3);\n",
       "}\n",
       "\n",
       ".xr-array-preview,\n",
       ".xr-array-data {\n",
       "  padding: 0 5px !important;\n",
       "  grid-column: 2;\n",
       "}\n",
       "\n",
       ".xr-array-data,\n",
       ".xr-array-in:checked ~ .xr-array-preview {\n",
       "  display: none;\n",
       "}\n",
       "\n",
       ".xr-array-in:checked ~ .xr-array-data,\n",
       ".xr-array-preview {\n",
       "  display: inline-block;\n",
       "}\n",
       "\n",
       ".xr-dim-list {\n",
       "  display: inline-block !important;\n",
       "  list-style: none;\n",
       "  padding: 0 !important;\n",
       "  margin: 0;\n",
       "}\n",
       "\n",
       ".xr-dim-list li {\n",
       "  display: inline-block;\n",
       "  padding: 0;\n",
       "  margin: 0;\n",
       "}\n",
       "\n",
       ".xr-dim-list:before {\n",
       "  content: '(';\n",
       "}\n",
       "\n",
       ".xr-dim-list:after {\n",
       "  content: ')';\n",
       "}\n",
       "\n",
       ".xr-dim-list li:not(:last-child):after {\n",
       "  content: ',';\n",
       "  padding-right: 5px;\n",
       "}\n",
       "\n",
       ".xr-has-index {\n",
       "  font-weight: bold;\n",
       "}\n",
       "\n",
       ".xr-var-list,\n",
       ".xr-var-item {\n",
       "  display: contents;\n",
       "}\n",
       "\n",
       ".xr-var-item > div,\n",
       ".xr-var-item label,\n",
       ".xr-var-item > .xr-var-name span {\n",
       "  background-color: var(--xr-background-color-row-even);\n",
       "  margin-bottom: 0;\n",
       "}\n",
       "\n",
       ".xr-var-item > .xr-var-name:hover span {\n",
       "  padding-right: 5px;\n",
       "}\n",
       "\n",
       ".xr-var-list > li:nth-child(odd) > div,\n",
       ".xr-var-list > li:nth-child(odd) > label,\n",
       ".xr-var-list > li:nth-child(odd) > .xr-var-name span {\n",
       "  background-color: var(--xr-background-color-row-odd);\n",
       "}\n",
       "\n",
       ".xr-var-name {\n",
       "  grid-column: 1;\n",
       "}\n",
       "\n",
       ".xr-var-dims {\n",
       "  grid-column: 2;\n",
       "}\n",
       "\n",
       ".xr-var-dtype {\n",
       "  grid-column: 3;\n",
       "  text-align: right;\n",
       "  color: var(--xr-font-color2);\n",
       "}\n",
       "\n",
       ".xr-var-preview {\n",
       "  grid-column: 4;\n",
       "}\n",
       "\n",
       ".xr-var-name,\n",
       ".xr-var-dims,\n",
       ".xr-var-dtype,\n",
       ".xr-preview,\n",
       ".xr-attrs dt {\n",
       "  white-space: nowrap;\n",
       "  overflow: hidden;\n",
       "  text-overflow: ellipsis;\n",
       "  padding-right: 10px;\n",
       "}\n",
       "\n",
       ".xr-var-name:hover,\n",
       ".xr-var-dims:hover,\n",
       ".xr-var-dtype:hover,\n",
       ".xr-attrs dt:hover {\n",
       "  overflow: visible;\n",
       "  width: auto;\n",
       "  z-index: 1;\n",
       "}\n",
       "\n",
       ".xr-var-attrs,\n",
       ".xr-var-data {\n",
       "  display: none;\n",
       "  background-color: var(--xr-background-color) !important;\n",
       "  padding-bottom: 5px !important;\n",
       "}\n",
       "\n",
       ".xr-var-attrs-in:checked ~ .xr-var-attrs,\n",
       ".xr-var-data-in:checked ~ .xr-var-data {\n",
       "  display: block;\n",
       "}\n",
       "\n",
       ".xr-var-data > table {\n",
       "  float: right;\n",
       "}\n",
       "\n",
       ".xr-var-name span,\n",
       ".xr-var-data,\n",
       ".xr-attrs {\n",
       "  padding-left: 25px !important;\n",
       "}\n",
       "\n",
       ".xr-attrs,\n",
       ".xr-var-attrs,\n",
       ".xr-var-data {\n",
       "  grid-column: 1 / -1;\n",
       "}\n",
       "\n",
       "dl.xr-attrs {\n",
       "  padding: 0;\n",
       "  margin: 0;\n",
       "  display: grid;\n",
       "  grid-template-columns: 125px auto;\n",
       "}\n",
       "\n",
       ".xr-attrs dt,\n",
       ".xr-attrs dd {\n",
       "  padding: 0;\n",
       "  margin: 0;\n",
       "  float: left;\n",
       "  padding-right: 10px;\n",
       "  width: auto;\n",
       "}\n",
       "\n",
       ".xr-attrs dt {\n",
       "  font-weight: normal;\n",
       "  grid-column: 1;\n",
       "}\n",
       "\n",
       ".xr-attrs dt:hover span {\n",
       "  display: inline-block;\n",
       "  background: var(--xr-background-color);\n",
       "  padding-right: 10px;\n",
       "}\n",
       "\n",
       ".xr-attrs dd {\n",
       "  grid-column: 2;\n",
       "  white-space: pre-wrap;\n",
       "  word-break: break-all;\n",
       "}\n",
       "\n",
       ".xr-icon-database,\n",
       ".xr-icon-file-text2 {\n",
       "  display: inline-block;\n",
       "  vertical-align: middle;\n",
       "  width: 1em;\n",
       "  height: 1.5em !important;\n",
       "  stroke-width: 0;\n",
       "  stroke: currentColor;\n",
       "  fill: currentColor;\n",
       "}\n",
       "</style><pre class='xr-text-repr-fallback'>&lt;xarray.Dataset&gt;\n",
       "Dimensions:    (time: 1, dim_0: 3, dim_1: 1024, dim_2: 1024)\n",
       "Coordinates:\n",
       "  * time       (time) float64 1.66e+09\n",
       "Dimensions without coordinates: dim_0, dim_1, dim_2\n",
       "Data variables:\n",
       "    det_image  (time, dim_0, dim_1, dim_2) uint8 8 5 3 5 3 9 4 ... 9 4 9 7 9 10</pre><div class='xr-wrap' style='display:none'><div class='xr-header'><div class='xr-obj-type'>xarray.Dataset</div></div><ul class='xr-sections'><li class='xr-section-item'><input id='section-2f38f4fa-3047-46a1-8a14-d6c1a966014e' class='xr-section-summary-in' type='checkbox' disabled ><label for='section-2f38f4fa-3047-46a1-8a14-d6c1a966014e' class='xr-section-summary'  title='Expand/collapse section'>Dimensions:</label><div class='xr-section-inline-details'><ul class='xr-dim-list'><li><span class='xr-has-index'>time</span>: 1</li><li><span>dim_0</span>: 3</li><li><span>dim_1</span>: 1024</li><li><span>dim_2</span>: 1024</li></ul></div><div class='xr-section-details'></div></li><li class='xr-section-item'><input id='section-43188ad7-fb34-45ca-8aa6-01a4478efe63' class='xr-section-summary-in' type='checkbox'  checked><label for='section-43188ad7-fb34-45ca-8aa6-01a4478efe63' class='xr-section-summary' >Coordinates: <span>(1)</span></label><div class='xr-section-inline-details'></div><div class='xr-section-details'><ul class='xr-var-list'><li class='xr-var-item'><div class='xr-var-name'><span class='xr-has-index'>time</span></div><div class='xr-var-dims'>(time)</div><div class='xr-var-dtype'>float64</div><div class='xr-var-preview xr-preview'>1.66e+09</div><input id='attrs-92968acc-f78b-44d1-a9b4-29ee2fe10c78' class='xr-var-attrs-in' type='checkbox' disabled><label for='attrs-92968acc-f78b-44d1-a9b4-29ee2fe10c78' title='Show/Hide attributes'><svg class='icon xr-icon-file-text2'><use xlink:href='#icon-file-text2'></use></svg></label><input id='data-b1ffe789-08f0-404c-971b-3bef8dc2d32b' class='xr-var-data-in' type='checkbox'><label for='data-b1ffe789-08f0-404c-971b-3bef8dc2d32b' title='Show/Hide data repr'><svg class='icon xr-icon-database'><use xlink:href='#icon-database'></use></svg></label><div class='xr-var-attrs'><dl class='xr-attrs'></dl></div><div class='xr-var-data'><pre>array([1.659653e+09])</pre></div></li></ul></div></li><li class='xr-section-item'><input id='section-0267905b-f0ac-43b7-a3d9-79c6dd056d32' class='xr-section-summary-in' type='checkbox'  checked><label for='section-0267905b-f0ac-43b7-a3d9-79c6dd056d32' class='xr-section-summary' >Data variables: <span>(1)</span></label><div class='xr-section-inline-details'></div><div class='xr-section-details'><ul class='xr-var-list'><li class='xr-var-item'><div class='xr-var-name'><span>det_image</span></div><div class='xr-var-dims'>(time, dim_0, dim_1, dim_2)</div><div class='xr-var-dtype'>uint8</div><div class='xr-var-preview xr-preview'>8 5 3 5 3 9 4 10 ... 6 9 4 9 7 9 10</div><input id='attrs-77fb8670-116f-433d-856d-edb700ccd4a7' class='xr-var-attrs-in' type='checkbox' ><label for='attrs-77fb8670-116f-433d-856d-edb700ccd4a7' title='Show/Hide attributes'><svg class='icon xr-icon-file-text2'><use xlink:href='#icon-file-text2'></use></svg></label><input id='data-81f81ee9-27ef-490f-9ae2-90c2ffb57a22' class='xr-var-data-in' type='checkbox'><label for='data-81f81ee9-27ef-490f-9ae2-90c2ffb57a22' title='Show/Hide data repr'><svg class='icon xr-icon-database'><use xlink:href='#icon-database'></use></svg></label><div class='xr-var-attrs'><dl class='xr-attrs'><dt><span>object :</span></dt><dd>det</dd></dl></div><div class='xr-var-data'><pre>array([[[[ 8,  5,  3, ...,  8,  8, 10],\n",
       "         [ 7,  8,  3, ...,  9,  9, 11],\n",
       "         [ 7,  5, 11, ...,  6,  7,  4],\n",
       "         ...,\n",
       "         [ 7,  9,  8, ...,  4,  4,  8],\n",
       "         [ 4,  5,  6, ...,  2,  6,  2],\n",
       "         [ 6,  6,  5, ...,  4,  5,  9]],\n",
       "\n",
       "        [[ 3, 10, 10, ...,  6, 10,  9],\n",
       "         [ 5,  3,  7, ...,  3,  9,  2],\n",
       "         [ 3,  7,  5, ...,  8,  4,  6],\n",
       "         ...,\n",
       "         [ 7,  6,  5, ...,  9, 10,  7],\n",
       "         [ 6, 10,  2, ...,  8,  2,  8],\n",
       "         [ 9,  9,  9, ...,  7,  6,  7]],\n",
       "\n",
       "        [[ 3,  7,  8, ..., 10,  7, 11],\n",
       "         [ 8,  5, 11, ...,  3,  8,  9],\n",
       "         [ 5,  4,  8, ...,  8,  8,  4],\n",
       "         ...,\n",
       "         [ 9, 10, 11, ...,  8,  5, 11],\n",
       "         [ 7,  3,  6, ...,  7,  2,  8],\n",
       "         [ 2,  4, 10, ...,  7,  9, 10]]]], dtype=uint8)</pre></div></li></ul></div></li><li class='xr-section-item'><input id='section-f24602e9-bb72-49e7-8805-85bc00e007a9' class='xr-section-summary-in' type='checkbox' disabled ><label for='section-f24602e9-bb72-49e7-8805-85bc00e007a9' class='xr-section-summary'  title='Expand/collapse section'>Attributes: <span>(0)</span></label><div class='xr-section-inline-details'></div><div class='xr-section-details'><dl class='xr-attrs'></dl></div></li></ul></div></div>"
      ],
      "text/plain": [
       "<xarray.Dataset>\n",
       "Dimensions:    (time: 1, dim_0: 3, dim_1: 1024, dim_2: 1024)\n",
       "Coordinates:\n",
       "  * time       (time) float64 1.66e+09\n",
       "Dimensions without coordinates: dim_0, dim_1, dim_2\n",
       "Data variables:\n",
       "    det_image  (time, dim_0, dim_1, dim_2) uint8 8 5 3 5 3 9 4 ... 9 4 9 7 9 10"
      ]
     },
     "execution_count": 24,
     "metadata": {},
     "output_type": "execute_result"
    }
   ],
   "source": [
    "dataset = run.primary.read()\n",
    "dataset"
   ]
  },
  {
   "cell_type": "markdown",
   "metadata": {},
   "source": [
    "The image is recorded under the name `\"det_image\"`. This `image` object has rank of 4 (1 timestamp and 5 frames of 1k x 1k)."
   ]
  },
  {
   "cell_type": "code",
   "execution_count": 25,
   "metadata": {},
   "outputs": [],
   "source": [
    "image = dataset[\"det_image\"]\n",
    "# image is an xarray.DataArray with 1 timestamp and 5 frames of 1k x 1k"
   ]
  },
  {
   "cell_type": "markdown",
   "metadata": {},
   "source": [
    " We just want the `image` frame (the last two indices). Select the first item of each of the first two indices (time, frame number)"
   ]
  },
  {
   "cell_type": "code",
   "execution_count": 26,
   "metadata": {},
   "outputs": [],
   "source": [
    "frame = image[0][0]\n",
    "# frame is an xarray.DataArray of 1k x 1k"
   ]
  },
  {
   "cell_type": "markdown",
   "metadata": {},
   "source": [
    "\n",
    "***Visualize the image***\n",
    "\n",
    "The `frame` is an [xarray Dataset](https://docs.xarray.dev/en/stable/generated/xarray.Dataset.html), which has a method to visualize the data as shown here:"
   ]
  },
  {
   "cell_type": "code",
   "execution_count": 27,
   "metadata": {},
   "outputs": [
    {
     "data": {
      "text/plain": [
       "<matplotlib.collections.QuadMesh at 0x7f8930bec820>"
      ]
     },
     "execution_count": 27,
     "metadata": {},
     "output_type": "execute_result"
    },
    {
     "data": {
      "image/png": "[encoded data removed]",
      "text/plain": [
       "<Figure size 432x288 with 2 Axes>"
      ]
     },
     "metadata": {
      "needs_background": "light"
     },
     "output_type": "display_data"
    }
   ],
   "source": [
    "frame.plot.pcolormesh()"
   ]
  },
  {
   "cell_type": "code",
   "execution_count": 28,
   "metadata": {},
   "outputs": [
    {
     "data": {
      "text/plain": [
       "[Resource({'path_semantics': 'posix',\n",
       " 'resource_kwargs': {'frame_per_point': 5},\n",
       " 'resource_path': 'tmp/docker_ioc/iocad/tmp/example/2022/08/04/e22e0627-458f-4346-a430_000000.h5',\n",
       " 'root': '/',\n",
       " 'run_start': '48b9e122-2d10-41fd-a920-253825024905',\n",
       " 'spec': 'AD_HDF5',\n",
       " 'uid': '0db611ae-2303-4507-a33c-bb2bd764f5e6'})]"
      ]
     },
     "execution_count": 28,
     "metadata": {},
     "output_type": "execute_result"
    }
   ],
   "source": [
    "run.primary._resources"
   ]
  },
  {
   "cell_type": "markdown",
   "metadata": {},
   "source": [
    "***Find the image file on local disk***\n",
    "\n",
    "We can get the name of the image file on the bluesky (local) workstation from the `det` object."
   ]
  },
  {
   "cell_type": "code",
   "execution_count": 29,
   "metadata": {},
   "outputs": [
    {
     "name": "stdout",
     "output_type": "stream",
     "text": [
      "lfname.exists()=True\n",
      "lfname=PosixPath('/tmp/docker_ioc/iocad/tmp/example/2022/08/04/e22e0627-458f-4346-a430_000000.h5')\n"
     ]
    }
   ],
   "source": [
    "from apstools.devices import AD_full_file_name_local\n",
    "\n",
    "lfname = AD_full_file_name_local(det.hdf1)\n",
    "print(f\"{lfname.exists()=}\\n{lfname=}\")"
   ]
  },
  {
   "cell_type": "markdown",
   "metadata": {},
   "source": [
    "Alternatively, we might get the name of the file from the run stream."
   ]
  },
  {
   "cell_type": "code",
   "execution_count": 30,
   "metadata": {},
   "outputs": [
    {
     "name": "stdout",
     "output_type": "stream",
     "text": [
      "fname.exists()=True\n",
      "fname=PosixPath('/tmp/docker_ioc/iocad/tmp/example/2022/08/04/e22e0627-458f-4346-a430_000000.h5')\n"
     ]
    }
   ],
   "source": [
    "rsrc = run.primary._resources[0]\n",
    "fname = pathlib.Path(f\"{rsrc['root']}{rsrc['resource_path']}\")\n",
    "print(f\"{fname.exists()=}\\n{fname=}\")"
   ]
  },
  {
   "cell_type": "markdown",
   "metadata": {},
   "source": [
    "Using the [punx](https://punx.readthedocs.io) program, read this HDF5 file and shows its tree structure."
   ]
  },
  {
   "cell_type": "code",
   "execution_count": 31,
   "metadata": {},
   "outputs": [
    {
     "name": "stdout",
     "output_type": "stream",
     "text": [
      "!!! WARNING: this program is not ready for distribution.\n",
      "\n",
      "/tmp/docker_ioc/iocad/tmp/example/2022/08/04/e22e0627-458f-4346-a430_000000.h5 : NeXus data file\n",
      "  entry:NXentry\n",
      "    @NX_class = \"NXentry\"\n",
      "    data:NXdata\n",
      "      @NX_class = \"NXdata\"\n",
      "      data:NX_UINT8[3,1024,1024] = __array\n",
      "        __array = [\n",
      "            [\n",
      "                [8, 5, 3, '...', 10]\n",
      "                [7, 8, 3, '...', 11]\n",
      "                [7, 5, 11, '...', 4]\n",
      "                ...\n",
      "                [6, 6, 5, '...', 9]\n",
      "              ]\n",
      "            [\n",
      "                [3, 10, 10, '...', 9]\n",
      "                [5, 3, 7, '...', 2]\n",
      "                [3, 7, 5, '...', 6]\n",
      "                ...\n",
      "                [9, 9, 9, '...', 7]\n",
      "              ]\n",
      "            [\n",
      "                [3, 7, 8, '...', 11]\n",
      "                [8, 5, 11, '...', 9]\n",
      "                [5, 4, 8, '...', 4]\n",
      "                ...\n",
      "                [2, 4, 10, '...', 10]\n",
      "              ]\n",
      "          ]\n",
      "        @NDArrayDimBinning = [1 1]\n",
      "        @NDArrayDimOffset = [0 0]\n",
      "        @NDArrayDimReverse = [0 0]\n",
      "        @NDArrayNumDims = 2\n",
      "        @signal = 1\n",
      "    instrument:NXinstrument\n",
      "      @NX_class = \"NXinstrument\"\n",
      "      NDAttributes:NXcollection\n",
      "        @NX_class = \"NXcollection\"\n",
      "        @hostname = \"zap\"\n",
      "        NDArrayEpicsTSSec:NX_UINT32[3] = [1028500535, 1028500535, 1028500535]\n",
      "          @NDAttrDescription = \"The NDArray EPICS timestamp seconds past epoch\"\n",
      "          @NDAttrName = \"NDArrayEpicsTSSec\"\n",
      "          @NDAttrSource = \"Driver\"\n",
      "          @NDAttrSourceType = \"NDAttrSourceDriver\"\n",
      "        NDArrayEpicsTSnSec:NX_UINT32[3] = [595305262, 597510446, 602570669]\n",
      "          @NDAttrDescription = \"The NDArray EPICS timestamp nanoseconds\"\n",
      "          @NDAttrName = \"NDArrayEpicsTSnSec\"\n",
      "          @NDAttrSource = \"Driver\"\n",
      "          @NDAttrSourceType = \"NDAttrSourceDriver\"\n",
      "        NDArrayTimeStamp:NX_FLOAT64[3] = [1028500535.5708531, 1028500535.5964195, 1028500535.6014826]\n",
      "          @NDAttrDescription = \"The timestamp of the NDArray as float64\"\n",
      "          @NDAttrName = \"NDArrayTimeStamp\"\n",
      "          @NDAttrSource = \"Driver\"\n",
      "          @NDAttrSourceType = \"NDAttrSourceDriver\"\n",
      "        NDArrayUniqueId:NX_INT32[3] = [228, 229, 230]\n",
      "          @NDAttrDescription = \"The unique ID of the NDArray\"\n",
      "          @NDAttrName = \"NDArrayUniqueId\"\n",
      "          @NDAttrSource = \"Driver\"\n",
      "          @NDAttrSourceType = \"NDAttrSourceDriver\"\n",
      "      detector:NXdetector\n",
      "        @NX_class = \"NXdetector\"\n",
      "        data:NX_UINT8[3,1024,1024] = __array\n",
      "          __array = [\n",
      "              [\n",
      "                  [8, 5, 3, '...', 10]\n",
      "                  [7, 8, 3, '...', 11]\n",
      "                  [7, 5, 11, '...', 4]\n",
      "                  ...\n",
      "                  [6, 6, 5, '...', 9]\n",
      "                ]\n",
      "              [\n",
      "                  [3, 10, 10, '...', 9]\n",
      "                  [5, 3, 7, '...', 2]\n",
      "                  [3, 7, 5, '...', 6]\n",
      "                  ...\n",
      "                  [9, 9, 9, '...', 7]\n",
      "                ]\n",
      "              [\n",
      "                  [3, 7, 8, '...', 11]\n",
      "                  [8, 5, 11, '...', 9]\n",
      "                  [5, 4, 8, '...', 4]\n",
      "                  ...\n",
      "                  [2, 4, 10, '...', 10]\n",
      "                ]\n",
      "            ]\n",
      "          @NDArrayDimBinning = [1 1]\n",
      "          @NDArrayDimOffset = [0 0]\n",
      "          @NDArrayDimReverse = [0 0]\n",
      "          @NDArrayNumDims = 2\n",
      "          @signal = 1\n",
      "        NDAttributes:NXcollection\n",
      "          @NX_class = \"NXcollection\"\n",
      "          ColorMode:NX_INT32[3] = [0, 0, 0]\n",
      "            @NDAttrDescription = \"Color mode\"\n",
      "            @NDAttrName = \"ColorMode\"\n",
      "            @NDAttrSource = \"Driver\"\n",
      "            @NDAttrSourceType = \"NDAttrSourceDriver\"\n",
      "      performance\n",
      "        timestamp:NX_FLOAT64[3,5] = __array\n",
      "          __array = [\n",
      "              [0.000295581, 0.174235401, 2828.255985826, 45.914894183874836, 0.0]\n",
      "              [0.087003286, 0.088963487, 0.087005553, 89.92453274678859, 91.94815415976954]\n",
      "              [0.085714694, 0.085789028, 0.172794581, 93.25201819514729, 92.59549638307233]\n",
      "            ]\n",
      "\n"
     ]
    }
   ],
   "source": [
    "from apstools.utils import unix\n",
    "\n",
    "for line in unix(f\"punx tree {lfname}\"):\n",
    "    print(line.decode().strip())"
   ]
  }
 ],
 "metadata": {
  "kernelspec": {
   "display_name": "Python 3.9.13 ('base')",
   "language": "python",
   "name": "python3"
  },
  "language_info": {
   "codemirror_mode": {
    "name": "ipython",
    "version": 3
   },
   "file_extension": ".py",
   "mimetype": "text/x-python",
   "name": "python",
   "nbconvert_exporter": "python",
   "pygments_lexer": "ipython3",
   "version": "3.9.13"
  },
  "orig_nbformat": 4,
  "vscode": {
   "interpreter": {
    "hash": "f38aef175fb08dfc130a7d9bb9234f0792dc9ad861f95b6c05aedd1b380356e2"
   }
  }
 },
 "nbformat": 4,
 "nbformat_minor": 2
}
