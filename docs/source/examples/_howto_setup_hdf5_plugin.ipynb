{
 "cells": [
  {
   "cell_type": "markdown",
   "id": "1f614462-550a-4c0d-b1ca-79b8da6e3fc9",
   "metadata": {
    "tags": []
   },
   "source": [
    "# Example: Set up an HDF5 plugin"
   ]
  },
  {
   "cell_type": "code",
   "execution_count": 1,
   "id": "9715c404-0ead-4652-be6b-e2eca09eddae",
   "metadata": {},
   "outputs": [],
   "source": [
    "from apstools.devices import AD_EpicsFileNameHDF5Plugin\n",
    "from apstools.devices import AD_full_file_name_local\n",
    "from apstools.devices import AD_prime_plugin2\n",
    "from ophyd import EpicsSignalWithRBV\n",
    "from ophyd.areadetector import ADComponent\n",
    "from ophyd.areadetector import DetectorBase\n",
    "from ophyd.areadetector import SingleTrigger\n",
    "from ophyd.areadetector.plugins import ImagePlugin_V34 as ImagePlugin\n",
    "from ophyd.areadetector.plugins import PvaPlugin_V34 as PvaPlugin\n",
    "from ophyd.areadetector import SimDetectorCam\n",
    "import pathlib\n",
    "import time"
   ]
  },
  {
   "cell_type": "code",
   "execution_count": 2,
   "id": "76ba0dde-e223-4006-8dac-34290d65d03c",
   "metadata": {},
   "outputs": [],
   "source": [
    "IOC = \"ad:\"\n",
    "IMAGE_DIR = \"adsimdet/%Y/%m/%d\"\n",
    "AD_IOC_MOUNT_PATH = pathlib.Path(\"/tmp\")\n",
    "BLUESKY_MOUNT_PATH = pathlib.Path(\"/tmp/docker_ioc/iocad/tmp\")"
   ]
  },
  {
   "cell_type": "code",
   "execution_count": 3,
   "id": "5717f827-d8eb-4ed3-be1c-0bc89a72db18",
   "metadata": {},
   "outputs": [],
   "source": [
    "# MUST end with a `/`, pathlib will NOT provide it\n",
    "WRITE_PATH_TEMPLATE = f\"{AD_IOC_MOUNT_PATH / IMAGE_DIR}/\"\n",
    "READ_PATH_TEMPLATE = f\"{BLUESKY_MOUNT_PATH / IMAGE_DIR}/\""
   ]
  },
  {
   "cell_type": "code",
   "execution_count": 4,
   "id": "e72bec26-e017-4c62-bc88-f3eb0ebbdfa3",
   "metadata": {},
   "outputs": [],
   "source": [
    "class SimDetectorCam_R3_1_1(SimDetectorCam):\n",
    "    \"\"\"Revise SimDetectorCam for ADcore revisions.\"\"\"\n",
    "    pool_max_buffers = None\n",
    "    offset = ADComponent(EpicsSignalWithRBV, \"Offset\")"
   ]
  },
  {
   "cell_type": "code",
   "execution_count": 5,
   "id": "456e1aa6-a5f8-4c82-96ba-949eb4740363",
   "metadata": {},
   "outputs": [],
   "source": [
    "class MySimDetector(SingleTrigger, DetectorBase):\n",
    "    \"\"\"ADSimDetector\"\"\"\n",
    "\n",
    "    cam = ADComponent(SimDetectorCam_R3_1_1, \"cam1:\")\n",
    "    hdf1 = ADComponent(\n",
    "        AD_EpicsFileNameHDF5Plugin,\n",
    "        \"HDF1:\",\n",
    "        write_path_template=WRITE_PATH_TEMPLATE,\n",
    "        read_path_template=READ_PATH_TEMPLATE,\n",
    "    )\n",
    "    # image = ADComponent(ImagePlugin, \"image1:\")\n",
    "    # pva = ADComponent(PvaPlugin, \"Pva1:\")"
   ]
  },
  {
   "cell_type": "code",
   "execution_count": 6,
   "id": "c3684f6d-0506-4f77-ade4-1de813a53772",
   "metadata": {},
   "outputs": [],
   "source": [
    "adsimdet = MySimDetector(IOC, name=\"adsimdet\")\n",
    "adsimdet.wait_for_connection(timeout=15)"
   ]
  },
  {
   "cell_type": "code",
   "execution_count": 7,
   "id": "75c0f03f-2c25-410c-9cf5-1930293a1acc",
   "metadata": {},
   "outputs": [],
   "source": [
    "AD_prime_plugin2(adsimdet.hdf1)"
   ]
  },
  {
   "cell_type": "code",
   "execution_count": 8,
   "id": "05ee1cc3-e1d0-47a0-bf91-a799fa9dc9c7",
   "metadata": {},
   "outputs": [],
   "source": [
    "# these settings are the caller's responsibility\n",
    "adsimdet.hdf1.create_directory.put(-5)\n",
    "adsimdet.hdf1.file_path.put(WRITE_PATH_TEMPLATE)  # path that the IOC will write the file\n",
    "adsimdet.hdf1.file_template.put(f\"%s%s_%4.4d.h5\")\n",
    "adsimdet.hdf1.file_name.put(\"my_test_file\")\n",
    "adsimdet.hdf1.auto_increment.put(\"Yes\")\n",
    "adsimdet.hdf1.auto_save.put(\"Yes\")\n",
    "adsimdet.hdf1.compression.put(\"zlib\")\n",
    "adsimdet.hdf1.zlevel.put(6)"
   ]
  },
  {
   "cell_type": "code",
   "execution_count": 9,
   "id": "5b785581-d818-442d-8b6a-f399f627c449",
   "metadata": {},
   "outputs": [],
   "source": [
    "adsimdet.read_attrs.append(\"hdf1\")"
   ]
  },
  {
   "cell_type": "code",
   "execution_count": 10,
   "id": "9deebfe7-3c59-4d3e-8c08-0a9cc73a140f",
   "metadata": {},
   "outputs": [],
   "source": [
    "adsimdet.stage()\n",
    "adsimdet.trigger()\n",
    "time.sleep(0.005)\n",
    "while adsimdet.cam.acquire.get(use_monitor=False) not in (0, \"Done\"):\n",
    "    time.sleep(0.005)\n",
    "adsimdet.unstage()"
   ]
  },
  {
   "cell_type": "code",
   "execution_count": 11,
   "id": "adbd4448-c1fd-4046-8647-4318ac89ab4b",
   "metadata": {},
   "outputs": [
    {
     "name": "stdout",
     "output_type": "stream",
     "text": [
      "adsimdet.hdf1.full_file_name.get(use_monitor=False)='/tmp/adsimdet/2022/07/06/my_test_file_0137.h5'\n"
     ]
    }
   ],
   "source": [
    "print(f\"{adsimdet.hdf1.full_file_name.get(use_monitor=False)=}\")"
   ]
  },
  {
   "cell_type": "code",
   "execution_count": 12,
   "id": "2735b21b-2d17-4825-99cf-b4a5d70827f9",
   "metadata": {},
   "outputs": [
    {
     "name": "stdout",
     "output_type": "stream",
     "text": [
      "lfname.exists()=True lfname=PosixPath('/tmp/docker_ioc/iocad/tmp/adsimdet/2022/07/06/my_test_file_0137.h5')\n"
     ]
    }
   ],
   "source": [
    "lfname = AD_full_file_name_local(adsimdet.hdf1)\n",
    "print(f\"{lfname.exists()=} {lfname=}\")"
   ]
  }
 ],
 "metadata": {
  "kernelspec": {
   "display_name": "Python 3 (ipykernel)",
   "language": "python",
   "name": "python3"
  },
  "language_info": {
   "codemirror_mode": {
    "name": "ipython",
    "version": 3
   },
   "file_extension": ".py",
   "mimetype": "text/x-python",
   "name": "python",
   "nbconvert_exporter": "python",
   "pygments_lexer": "ipython3",
   "version": "3.9.13"
  }
 },
 "nbformat": 4,
 "nbformat_minor": 5
}
