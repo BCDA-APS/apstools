{
 "cells": [
  {
   "cell_type": "markdown",
   "metadata": {},
   "source": [
    "# Output scan(s) to a SPEC data file."
   ]
  },
  {
   "cell_type": "markdown",
   "metadata": {},
   "source": [
    "One of the common concerns is how to access data from bluesky's database.  The standard way is to replay the document stream from each of the scans through a bluesky callback that writes the data to the desired file format.  Here, we write data to the SPEC file format.\n",
    "\n",
    "## Setup\n",
    "\n",
    "First, we must setup a bluesky session.  We create a [temporary catalog](https://blueskyproject.io/databroker/how-to/file-backed-catalog.html?highlight=temporary#temporary-catalog) to store the data from this notebook's data collection."
   ]
  },
  {
   "cell_type": "code",
   "execution_count": 1,
   "metadata": {},
   "outputs": [
    {
     "data": {
      "text/plain": [
       "1"
      ]
     },
     "execution_count": 1,
     "metadata": {},
     "output_type": "execute_result"
    }
   ],
   "source": [
    "%matplotlib inline\n",
    "import matplotlib.pyplot as plt\n",
    "plt.ion()\n",
    "\n",
    "from bluesky import RunEngine, plans as bp\n",
    "from bluesky.callbacks.best_effort import BestEffortCallback\n",
    "import databroker\n",
    "\n",
    "cat = databroker.temp()\n",
    "RE = RunEngine({})\n",
    "RE.subscribe(cat.v1.insert)\n",
    "RE.subscribe(BestEffortCallback())"
   ]
  },
  {
   "cell_type": "markdown",
   "metadata": {},
   "source": [
    "We need to create some scan data.  We'll use Gaussian peak profile calculated in a _userCalc_ (`swait` record) and a motor from our EPICS IOC simulator `gp:`.  Initialize the peak computation with some randomized parameters.  The peak will be at some `motor` position between -1 .. +1.  Print the actual values for our reference later on."
   ]
  },
  {
   "cell_type": "code",
   "execution_count": 2,
   "metadata": {},
   "outputs": [
    {
     "name": "stdout",
     "output_type": "stream",
     "text": [
      "calc = D*(0.95+E*RNDM)/exp(((A-b)/c)^2)\n",
      "A: x = gp:m1.RBV\n",
      "B: center = -0.14563824029176498\n",
      "C: width = 0.03019405564691883\n",
      "D: scale = 100701.62331973032\n",
      "E: noise= 0.049574955866745055\n"
     ]
    }
   ],
   "source": [
    "from apstools.devices import UserCalcN, setup_gaussian_swait\n",
    "import numpy as np\n",
    "from ophyd import EpicsMotor, EpicsSignal\n",
    "\n",
    "IOC = \"gp:\"\n",
    "motor = EpicsMotor(f\"{IOC}m1\", name=\"motor\")\n",
    "swait = UserCalcN(f\"{IOC}userCalc1\", name=\"swait\")\n",
    "det = EpicsSignal(swait.calculated_value.pvname, name=\"det\")\n",
    "\n",
    "motor.wait_for_connection()\n",
    "swait.wait_for_connection()\n",
    "det.wait_for_connection()\n",
    "\n",
    "setup_gaussian_swait(\n",
    "    swait, motor.user_readback, \n",
    "    center=-0.5 + np.random.uniform(), \n",
    "    width=0.01 + 0.2*np.random.uniform(), \n",
    "    noise=0.05*(.95 + .1*np.random.uniform()),\n",
    "    scale=100_000*(.95 + .1*np.random.uniform()), \n",
    "    )\n",
    "\n",
    "print(f\"calc = {swait.calculation.get()}\")\n",
    "print(f\"A: x = {swait.channels.A.input_pv.get()}\")\n",
    "print(f\"B: center = {swait.channels.B.input_value.get()}\")\n",
    "print(f\"C: width = {swait.channels.C.input_value.get()}\")\n",
    "print(f\"D: scale = {swait.channels.D.input_value.get()}\")\n",
    "print(f\"E: noise= {swait.channels.E.input_value.get()}\")\n"
   ]
  },
  {
   "cell_type": "markdown",
   "metadata": {},
   "source": [
    "Finally, run the scan with the RunEngine:"
   ]
  },
  {
   "cell_type": "code",
   "execution_count": 3,
   "metadata": {},
   "outputs": [
    {
     "name": "stdout",
     "output_type": "stream",
     "text": [
      "\n",
      "\n",
      "Transient Scan ID: 1     Time: 2022-07-06 00:48:02\n",
      "Persistent Unique Scan ID: '7ab128a0-c0ef-4f41-a980-c5641e00ce97'\n",
      "New stream: 'primary'\n",
      "+-----------+------------+------------+------------+\n",
      "|   seq_num |       time |      motor |        det |\n",
      "+-----------+------------+------------+------------+\n",
      "|         1 | 00:48:03.3 |   -1.20000 |    0.00000 |\n",
      "|         2 | 00:48:03.5 |   -1.14000 |    0.00000 |\n",
      "|         3 | 00:48:03.8 |   -1.08000 |    0.00000 |\n",
      "|         4 | 00:48:04.1 |   -1.02000 |    0.00000 |\n",
      "|         5 | 00:48:04.4 |   -0.96000 |    0.00000 |\n",
      "|         6 | 00:48:04.8 |   -0.90000 |    0.00000 |\n",
      "|         7 | 00:48:05.0 |   -0.84000 |    0.00000 |\n",
      "|         8 | 00:48:05.4 |   -0.78000 |    0.00000 |\n",
      "|         9 | 00:48:05.7 |   -0.72000 |    0.00000 |\n",
      "|        10 | 00:48:06.0 |   -0.66000 |    0.00000 |\n",
      "|        11 | 00:48:06.3 |   -0.60000 |    0.00000 |\n",
      "|        12 | 00:48:06.6 |   -0.54000 |    0.00000 |\n",
      "|        13 | 00:48:06.9 |   -0.48000 |    0.00000 |\n",
      "|        14 | 00:48:07.2 |   -0.42000 |    0.00000 |\n",
      "|        15 | 00:48:07.5 |   -0.36000 |    0.00000 |\n",
      "|        16 | 00:48:07.8 |   -0.30000 |    0.00000 |\n",
      "|        17 | 00:48:08.1 |   -0.24000 |    5.60768 |\n",
      "|        18 | 00:48:08.4 |   -0.18000 | 27463.06109 |\n",
      "|        19 | 00:48:08.7 |   -0.12000 | 48682.85376 |\n",
      "|        20 | 00:48:09.0 |   -0.06000 |   31.30450 |\n",
      "|        21 | 00:48:09.3 |    0.00000 |    0.00001 |\n",
      "|        22 | 00:48:09.6 |    0.06000 |    0.00000 |\n",
      "|        23 | 00:48:09.9 |    0.12000 |    0.00000 |\n",
      "|        24 | 00:48:10.2 |    0.18000 |    0.00000 |\n",
      "|        25 | 00:48:10.5 |    0.24000 |    0.00000 |\n",
      "|        26 | 00:48:10.8 |    0.30000 |    0.00000 |\n",
      "|        27 | 00:48:11.1 |    0.36000 |    0.00000 |\n",
      "|        28 | 00:48:11.4 |    0.42000 |    0.00000 |\n",
      "|        29 | 00:48:11.7 |    0.48000 |    0.00000 |\n",
      "|        30 | 00:48:12.0 |    0.54000 |    0.00000 |\n",
      "|        31 | 00:48:12.3 |    0.60000 |    0.00000 |\n",
      "|        32 | 00:48:12.6 |    0.66000 |    0.00000 |\n",
      "|        33 | 00:48:12.9 |    0.72000 |    0.00000 |\n",
      "|        34 | 00:48:13.2 |    0.78000 |    0.00000 |\n",
      "|        35 | 00:48:13.5 |    0.84000 |    0.00000 |\n",
      "|        36 | 00:48:13.8 |    0.90000 |    0.00000 |\n",
      "|        37 | 00:48:14.1 |    0.96000 |    0.00000 |\n",
      "|        38 | 00:48:14.4 |    1.02000 |    0.00000 |\n",
      "|        39 | 00:48:14.7 |    1.08000 |    0.00000 |\n",
      "|        40 | 00:48:15.0 |    1.14000 |    0.00000 |\n",
      "|        41 | 00:48:15.3 |    1.20000 |    0.00000 |\n",
      "+-----------+------------+------------+------------+\n",
      "generator scan ['7ab128a0'] (scan num: 1)\n",
      "\n",
      "\n",
      "\n"
     ]
    },
    {
     "data": {
      "text/plain": [
       "('7ab128a0-c0ef-4f41-a980-c5641e00ce97',)"
      ]
     },
     "execution_count": 3,
     "metadata": {},
     "output_type": "execute_result"
    },
    {
     "data": {
      "image/png": "[encoded data removed]",
      "text/plain": [
       "<Figure size 360x360 with 1 Axes>"
      ]
     },
     "metadata": {
      "needs_background": "light"
     },
     "output_type": "display_data"
    }
   ],
   "source": [
    "RE(bp.scan([det], motor, -1.2, 1.2, 41))"
   ]
  },
  {
   "cell_type": "markdown",
   "metadata": {},
   "source": [
    "## get the most recent scan, by steps\n",
    "\n",
    "The databroker instance, `cat`, provides access to its scans by several means.  One way is to consider `cat` as a list and retrieve the last item from the list.  This will return a *run*, the common reference to be used.\n",
    "\n",
    "For this first example, we'll work through the steps one by one.  The `cat.v2` interface is the easiest to use (at this writing)."
   ]
  },
  {
   "cell_type": "code",
   "execution_count": 4,
   "metadata": {},
   "outputs": [
    {
     "data": {
      "text/plain": [
       "BlueskyRun\n",
       "  uid='7ab128a0-c0ef-4f41-a980-c5641e00ce97'\n",
       "  exit_status='success'\n",
       "  2022-07-06 00:48:02.921 -- 2022-07-06 00:48:15.351\n",
       "  Streams:\n",
       "    * primary\n"
      ]
     },
     "execution_count": 4,
     "metadata": {},
     "output_type": "execute_result"
    }
   ],
   "source": [
    "run = cat.v2[-1]\n",
    "run"
   ]
  },
  {
   "cell_type": "markdown",
   "metadata": {},
   "source": [
    "As shown, the run has one data stream, name `primary`.  The databroker provides a simple table view of this run:"
   ]
  },
  {
   "cell_type": "code",
   "execution_count": 5,
   "metadata": {},
   "outputs": [
    {
     "data": {
      "text/html": [
       "<div><svg style=\"position: absolute; width: 0; height: 0; overflow: hidden\">\n",
       "<defs>\n",
       "<symbol id=\"icon-database\" viewBox=\"0 0 32 32\">\n",
       "<path d=\"M16 0c-8.837 0-16 2.239-16 5v4c0 2.761 7.163 5 16 5s16-2.239 16-5v-4c0-2.761-7.163-5-16-5z\"></path>\n",
       "<path d=\"M16 17c-8.837 0-16-2.239-16-5v6c0 2.761 7.163 5 16 5s16-2.239 16-5v-6c0 2.761-7.163 5-16 5z\"></path>\n",
       "<path d=\"M16 26c-8.837 0-16-2.239-16-5v6c0 2.761 7.163 5 16 5s16-2.239 16-5v-6c0 2.761-7.163 5-16 5z\"></path>\n",
       "</symbol>\n",
       "<symbol id=\"icon-file-text2\" viewBox=\"0 0 32 32\">\n",
       "<path d=\"M28.681 7.159c-0.694-0.947-1.662-2.053-2.724-3.116s-2.169-2.030-3.116-2.724c-1.612-1.182-2.393-1.319-2.841-1.319h-15.5c-1.378 0-2.5 1.121-2.5 2.5v27c0 1.378 1.122 2.5 2.5 2.5h23c1.378 0 2.5-1.122 2.5-2.5v-19.5c0-0.448-0.137-1.23-1.319-2.841zM24.543 5.457c0.959 0.959 1.712 1.825 2.268 2.543h-4.811v-4.811c0.718 0.556 1.584 1.309 2.543 2.268zM28 29.5c0 0.271-0.229 0.5-0.5 0.5h-23c-0.271 0-0.5-0.229-0.5-0.5v-27c0-0.271 0.229-0.5 0.5-0.5 0 0 15.499-0 15.5 0v7c0 0.552 0.448 1 1 1h7v19.5z\"></path>\n",
       "<path d=\"M23 26h-14c-0.552 0-1-0.448-1-1s0.448-1 1-1h14c0.552 0 1 0.448 1 1s-0.448 1-1 1z\"></path>\n",
       "<path d=\"M23 22h-14c-0.552 0-1-0.448-1-1s0.448-1 1-1h14c0.552 0 1 0.448 1 1s-0.448 1-1 1z\"></path>\n",
       "<path d=\"M23 18h-14c-0.552 0-1-0.448-1-1s0.448-1 1-1h14c0.552 0 1 0.448 1 1s-0.448 1-1 1z\"></path>\n",
       "</symbol>\n",
       "</defs>\n",
       "</svg>\n",
       "<style>/* CSS stylesheet for displaying xarray objects in jupyterlab.\n",
       " *\n",
       " */\n",
       "\n",
       ":root {\n",
       "  --xr-font-color0: var(--jp-content-font-color0, rgba(0, 0, 0, 1));\n",
       "  --xr-font-color2: var(--jp-content-font-color2, rgba(0, 0, 0, 0.54));\n",
       "  --xr-font-color3: var(--jp-content-font-color3, rgba(0, 0, 0, 0.38));\n",
       "  --xr-border-color: var(--jp-border-color2, #e0e0e0);\n",
       "  --xr-disabled-color: var(--jp-layout-color3, #bdbdbd);\n",
       "  --xr-background-color: var(--jp-layout-color0, white);\n",
       "  --xr-background-color-row-even: var(--jp-layout-color1, white);\n",
       "  --xr-background-color-row-odd: var(--jp-layout-color2, #eeeeee);\n",
       "}\n",
       "\n",
       "html[theme=dark],\n",
       "body.vscode-dark {\n",
       "  --xr-font-color0: rgba(255, 255, 255, 1);\n",
       "  --xr-font-color2: rgba(255, 255, 255, 0.54);\n",
       "  --xr-font-color3: rgba(255, 255, 255, 0.38);\n",
       "  --xr-border-color: #1F1F1F;\n",
       "  --xr-disabled-color: #515151;\n",
       "  --xr-background-color: #111111;\n",
       "  --xr-background-color-row-even: #111111;\n",
       "  --xr-background-color-row-odd: #313131;\n",
       "}\n",
       "\n",
       ".xr-wrap {\n",
       "  display: block !important;\n",
       "  min-width: 300px;\n",
       "  max-width: 700px;\n",
       "}\n",
       "\n",
       ".xr-text-repr-fallback {\n",
       "  /* fallback to plain text repr when CSS is not injected (untrusted notebook) */\n",
       "  display: none;\n",
       "}\n",
       "\n",
       ".xr-header {\n",
       "  padding-top: 6px;\n",
       "  padding-bottom: 6px;\n",
       "  margin-bottom: 4px;\n",
       "  border-bottom: solid 1px var(--xr-border-color);\n",
       "}\n",
       "\n",
       ".xr-header > div,\n",
       ".xr-header > ul {\n",
       "  display: inline;\n",
       "  margin-top: 0;\n",
       "  margin-bottom: 0;\n",
       "}\n",
       "\n",
       ".xr-obj-type,\n",
       ".xr-array-name {\n",
       "  margin-left: 2px;\n",
       "  margin-right: 10px;\n",
       "}\n",
       "\n",
       ".xr-obj-type {\n",
       "  color: var(--xr-font-color2);\n",
       "}\n",
       "\n",
       ".xr-sections {\n",
       "  padding-left: 0 !important;\n",
       "  display: grid;\n",
       "  grid-template-columns: 150px auto auto 1fr 20px 20px;\n",
       "}\n",
       "\n",
       ".xr-section-item {\n",
       "  display: contents;\n",
       "}\n",
       "\n",
       ".xr-section-item input {\n",
       "  display: none;\n",
       "}\n",
       "\n",
       ".xr-section-item input + label {\n",
       "  color: var(--xr-disabled-color);\n",
       "}\n",
       "\n",
       ".xr-section-item input:enabled + label {\n",
       "  cursor: pointer;\n",
       "  color: var(--xr-font-color2);\n",
       "}\n",
       "\n",
       ".xr-section-item input:enabled + label:hover {\n",
       "  color: var(--xr-font-color0);\n",
       "}\n",
       "\n",
       ".xr-section-summary {\n",
       "  grid-column: 1;\n",
       "  color: var(--xr-font-color2);\n",
       "  font-weight: 500;\n",
       "}\n",
       "\n",
       ".xr-section-summary > span {\n",
       "  display: inline-block;\n",
       "  padding-left: 0.5em;\n",
       "}\n",
       "\n",
       ".xr-section-summary-in:disabled + label {\n",
       "  color: var(--xr-font-color2);\n",
       "}\n",
       "\n",
       ".xr-section-summary-in + label:before {\n",
       "  display: inline-block;\n",
       "  content: '►';\n",
       "  font-size: 11px;\n",
       "  width: 15px;\n",
       "  text-align: center;\n",
       "}\n",
       "\n",
       ".xr-section-summary-in:disabled + label:before {\n",
       "  color: var(--xr-disabled-color);\n",
       "}\n",
       "\n",
       ".xr-section-summary-in:checked + label:before {\n",
       "  content: '▼';\n",
       "}\n",
       "\n",
       ".xr-section-summary-in:checked + label > span {\n",
       "  display: none;\n",
       "}\n",
       "\n",
       ".xr-section-summary,\n",
       ".xr-section-inline-details {\n",
       "  padding-top: 4px;\n",
       "  padding-bottom: 4px;\n",
       "}\n",
       "\n",
       ".xr-section-inline-details {\n",
       "  grid-column: 2 / -1;\n",
       "}\n",
       "\n",
       ".xr-section-details {\n",
       "  display: none;\n",
       "  grid-column: 1 / -1;\n",
       "  margin-bottom: 5px;\n",
       "}\n",
       "\n",
       ".xr-section-summary-in:checked ~ .xr-section-details {\n",
       "  display: contents;\n",
       "}\n",
       "\n",
       ".xr-array-wrap {\n",
       "  grid-column: 1 / -1;\n",
       "  display: grid;\n",
       "  grid-template-columns: 20px auto;\n",
       "}\n",
       "\n",
       ".xr-array-wrap > label {\n",
       "  grid-column: 1;\n",
       "  vertical-align: top;\n",
       "}\n",
       "\n",
       ".xr-preview {\n",
       "  color: var(--xr-font-color3);\n",
       "}\n",
       "\n",
       ".xr-array-preview,\n",
       ".xr-array-data {\n",
       "  padding: 0 5px !important;\n",
       "  grid-column: 2;\n",
       "}\n",
       "\n",
       ".xr-array-data,\n",
       ".xr-array-in:checked ~ .xr-array-preview {\n",
       "  display: none;\n",
       "}\n",
       "\n",
       ".xr-array-in:checked ~ .xr-array-data,\n",
       ".xr-array-preview {\n",
       "  display: inline-block;\n",
       "}\n",
       "\n",
       ".xr-dim-list {\n",
       "  display: inline-block !important;\n",
       "  list-style: none;\n",
       "  padding: 0 !important;\n",
       "  margin: 0;\n",
       "}\n",
       "\n",
       ".xr-dim-list li {\n",
       "  display: inline-block;\n",
       "  padding: 0;\n",
       "  margin: 0;\n",
       "}\n",
       "\n",
       ".xr-dim-list:before {\n",
       "  content: '(';\n",
       "}\n",
       "\n",
       ".xr-dim-list:after {\n",
       "  content: ')';\n",
       "}\n",
       "\n",
       ".xr-dim-list li:not(:last-child):after {\n",
       "  content: ',';\n",
       "  padding-right: 5px;\n",
       "}\n",
       "\n",
       ".xr-has-index {\n",
       "  font-weight: bold;\n",
       "}\n",
       "\n",
       ".xr-var-list,\n",
       ".xr-var-item {\n",
       "  display: contents;\n",
       "}\n",
       "\n",
       ".xr-var-item > div,\n",
       ".xr-var-item label,\n",
       ".xr-var-item > .xr-var-name span {\n",
       "  background-color: var(--xr-background-color-row-even);\n",
       "  margin-bottom: 0;\n",
       "}\n",
       "\n",
       ".xr-var-item > .xr-var-name:hover span {\n",
       "  padding-right: 5px;\n",
       "}\n",
       "\n",
       ".xr-var-list > li:nth-child(odd) > div,\n",
       ".xr-var-list > li:nth-child(odd) > label,\n",
       ".xr-var-list > li:nth-child(odd) > .xr-var-name span {\n",
       "  background-color: var(--xr-background-color-row-odd);\n",
       "}\n",
       "\n",
       ".xr-var-name {\n",
       "  grid-column: 1;\n",
       "}\n",
       "\n",
       ".xr-var-dims {\n",
       "  grid-column: 2;\n",
       "}\n",
       "\n",
       ".xr-var-dtype {\n",
       "  grid-column: 3;\n",
       "  text-align: right;\n",
       "  color: var(--xr-font-color2);\n",
       "}\n",
       "\n",
       ".xr-var-preview {\n",
       "  grid-column: 4;\n",
       "}\n",
       "\n",
       ".xr-var-name,\n",
       ".xr-var-dims,\n",
       ".xr-var-dtype,\n",
       ".xr-preview,\n",
       ".xr-attrs dt {\n",
       "  white-space: nowrap;\n",
       "  overflow: hidden;\n",
       "  text-overflow: ellipsis;\n",
       "  padding-right: 10px;\n",
       "}\n",
       "\n",
       ".xr-var-name:hover,\n",
       ".xr-var-dims:hover,\n",
       ".xr-var-dtype:hover,\n",
       ".xr-attrs dt:hover {\n",
       "  overflow: visible;\n",
       "  width: auto;\n",
       "  z-index: 1;\n",
       "}\n",
       "\n",
       ".xr-var-attrs,\n",
       ".xr-var-data {\n",
       "  display: none;\n",
       "  background-color: var(--xr-background-color) !important;\n",
       "  padding-bottom: 5px !important;\n",
       "}\n",
       "\n",
       ".xr-var-attrs-in:checked ~ .xr-var-attrs,\n",
       ".xr-var-data-in:checked ~ .xr-var-data {\n",
       "  display: block;\n",
       "}\n",
       "\n",
       ".xr-var-data > table {\n",
       "  float: right;\n",
       "}\n",
       "\n",
       ".xr-var-name span,\n",
       ".xr-var-data,\n",
       ".xr-attrs {\n",
       "  padding-left: 25px !important;\n",
       "}\n",
       "\n",
       ".xr-attrs,\n",
       ".xr-var-attrs,\n",
       ".xr-var-data {\n",
       "  grid-column: 1 / -1;\n",
       "}\n",
       "\n",
       "dl.xr-attrs {\n",
       "  padding: 0;\n",
       "  margin: 0;\n",
       "  display: grid;\n",
       "  grid-template-columns: 125px auto;\n",
       "}\n",
       "\n",
       ".xr-attrs dt,\n",
       ".xr-attrs dd {\n",
       "  padding: 0;\n",
       "  margin: 0;\n",
       "  float: left;\n",
       "  padding-right: 10px;\n",
       "  width: auto;\n",
       "}\n",
       "\n",
       ".xr-attrs dt {\n",
       "  font-weight: normal;\n",
       "  grid-column: 1;\n",
       "}\n",
       "\n",
       ".xr-attrs dt:hover span {\n",
       "  display: inline-block;\n",
       "  background: var(--xr-background-color);\n",
       "  padding-right: 10px;\n",
       "}\n",
       "\n",
       ".xr-attrs dd {\n",
       "  grid-column: 2;\n",
       "  white-space: pre-wrap;\n",
       "  word-break: break-all;\n",
       "}\n",
       "\n",
       ".xr-icon-database,\n",
       ".xr-icon-file-text2 {\n",
       "  display: inline-block;\n",
       "  vertical-align: middle;\n",
       "  width: 1em;\n",
       "  height: 1.5em !important;\n",
       "  stroke-width: 0;\n",
       "  stroke: currentColor;\n",
       "  fill: currentColor;\n",
       "}\n",
       "</style><pre class='xr-text-repr-fallback'>&lt;xarray.Dataset&gt;\n",
       "Dimensions:              (time: 41)\n",
       "Coordinates:\n",
       "  * time                 (time) float64 1.657e+09 1.657e+09 ... 1.657e+09\n",
       "Data variables:\n",
       "    motor                (time) float64 -1.2 -1.14 -1.08 -1.02 ... 1.08 1.14 1.2\n",
       "    motor_user_setpoint  (time) float64 -1.2 -1.14 -1.08 -1.02 ... 1.08 1.14 1.2\n",
       "    det                  (time) float64 0.0 0.0 0.0 0.0 0.0 ... 0.0 0.0 0.0 0.0</pre><div class='xr-wrap' style='display:none'><div class='xr-header'><div class='xr-obj-type'>xarray.Dataset</div></div><ul class='xr-sections'><li class='xr-section-item'><input id='section-809e1f78-4fd5-4d2a-84f8-a7cd7c3a7e02' class='xr-section-summary-in' type='checkbox' disabled ><label for='section-809e1f78-4fd5-4d2a-84f8-a7cd7c3a7e02' class='xr-section-summary'  title='Expand/collapse section'>Dimensions:</label><div class='xr-section-inline-details'><ul class='xr-dim-list'><li><span class='xr-has-index'>time</span>: 41</li></ul></div><div class='xr-section-details'></div></li><li class='xr-section-item'><input id='section-b5eb2f72-484a-4eb3-930b-d4df0dd16281' class='xr-section-summary-in' type='checkbox'  checked><label for='section-b5eb2f72-484a-4eb3-930b-d4df0dd16281' class='xr-section-summary' >Coordinates: <span>(1)</span></label><div class='xr-section-inline-details'></div><div class='xr-section-details'><ul class='xr-var-list'><li class='xr-var-item'><div class='xr-var-name'><span class='xr-has-index'>time</span></div><div class='xr-var-dims'>(time)</div><div class='xr-var-dtype'>float64</div><div class='xr-var-preview xr-preview'>1.657e+09 1.657e+09 ... 1.657e+09</div><input id='attrs-b1912f36-87cb-4a2d-966a-f4ed0ac4f39b' class='xr-var-attrs-in' type='checkbox' disabled><label for='attrs-b1912f36-87cb-4a2d-966a-f4ed0ac4f39b' title='Show/Hide attributes'><svg class='icon xr-icon-file-text2'><use xlink:href='#icon-file-text2'></use></svg></label><input id='data-f0226684-d0f6-48b4-820f-0d0b1f67e31b' class='xr-var-data-in' type='checkbox'><label for='data-f0226684-d0f6-48b4-820f-0d0b1f67e31b' title='Show/Hide data repr'><svg class='icon xr-icon-database'><use xlink:href='#icon-database'></use></svg></label><div class='xr-var-attrs'><dl class='xr-attrs'></dl></div><div class='xr-var-data'><pre>array([1.657086e+09, 1.657086e+09, 1.657086e+09, 1.657086e+09, 1.657086e+09,\n",
       "       1.657086e+09, 1.657086e+09, 1.657086e+09, 1.657086e+09, 1.657086e+09,\n",
       "       1.657086e+09, 1.657086e+09, 1.657086e+09, 1.657086e+09, 1.657086e+09,\n",
       "       1.657086e+09, 1.657086e+09, 1.657086e+09, 1.657086e+09, 1.657086e+09,\n",
       "       1.657086e+09, 1.657086e+09, 1.657086e+09, 1.657086e+09, 1.657086e+09,\n",
       "       1.657086e+09, 1.657086e+09, 1.657086e+09, 1.657086e+09, 1.657086e+09,\n",
       "       1.657086e+09, 1.657086e+09, 1.657086e+09, 1.657086e+09, 1.657086e+09,\n",
       "       1.657086e+09, 1.657086e+09, 1.657086e+09, 1.657086e+09, 1.657086e+09,\n",
       "       1.657086e+09])</pre></div></li></ul></div></li><li class='xr-section-item'><input id='section-2d229ba9-cef4-43cb-b1ba-ba62ad43940c' class='xr-section-summary-in' type='checkbox'  checked><label for='section-2d229ba9-cef4-43cb-b1ba-ba62ad43940c' class='xr-section-summary' >Data variables: <span>(3)</span></label><div class='xr-section-inline-details'></div><div class='xr-section-details'><ul class='xr-var-list'><li class='xr-var-item'><div class='xr-var-name'><span>motor</span></div><div class='xr-var-dims'>(time)</div><div class='xr-var-dtype'>float64</div><div class='xr-var-preview xr-preview'>-1.2 -1.14 -1.08 ... 1.08 1.14 1.2</div><input id='attrs-9b8fe92d-d893-4190-83ca-602aad465e1e' class='xr-var-attrs-in' type='checkbox' ><label for='attrs-9b8fe92d-d893-4190-83ca-602aad465e1e' title='Show/Hide attributes'><svg class='icon xr-icon-file-text2'><use xlink:href='#icon-file-text2'></use></svg></label><input id='data-c8c2a9b2-4a23-4afe-a231-eab351476937' class='xr-var-data-in' type='checkbox'><label for='data-c8c2a9b2-4a23-4afe-a231-eab351476937' title='Show/Hide data repr'><svg class='icon xr-icon-database'><use xlink:href='#icon-database'></use></svg></label><div class='xr-var-attrs'><dl class='xr-attrs'><dt><span>object :</span></dt><dd>motor</dd></dl></div><div class='xr-var-data'><pre>array([-1.2 , -1.14, -1.08, -1.02, -0.96, -0.9 , -0.84, -0.78, -0.72,\n",
       "       -0.66, -0.6 , -0.54, -0.48, -0.42, -0.36, -0.3 , -0.24, -0.18,\n",
       "       -0.12, -0.06,  0.  ,  0.06,  0.12,  0.18,  0.24,  0.3 ,  0.36,\n",
       "        0.42,  0.48,  0.54,  0.6 ,  0.66,  0.72,  0.78,  0.84,  0.9 ,\n",
       "        0.96,  1.02,  1.08,  1.14,  1.2 ])</pre></div></li><li class='xr-var-item'><div class='xr-var-name'><span>motor_user_setpoint</span></div><div class='xr-var-dims'>(time)</div><div class='xr-var-dtype'>float64</div><div class='xr-var-preview xr-preview'>-1.2 -1.14 -1.08 ... 1.08 1.14 1.2</div><input id='attrs-db9ce1c6-85a9-4e3f-b8bf-ee24719effb8' class='xr-var-attrs-in' type='checkbox' ><label for='attrs-db9ce1c6-85a9-4e3f-b8bf-ee24719effb8' title='Show/Hide attributes'><svg class='icon xr-icon-file-text2'><use xlink:href='#icon-file-text2'></use></svg></label><input id='data-e8e5221d-bfa8-48f5-a2a0-bcbd5aa922ac' class='xr-var-data-in' type='checkbox'><label for='data-e8e5221d-bfa8-48f5-a2a0-bcbd5aa922ac' title='Show/Hide data repr'><svg class='icon xr-icon-database'><use xlink:href='#icon-database'></use></svg></label><div class='xr-var-attrs'><dl class='xr-attrs'><dt><span>object :</span></dt><dd>motor</dd></dl></div><div class='xr-var-data'><pre>array([-1.2 , -1.14, -1.08, -1.02, -0.96, -0.9 , -0.84, -0.78, -0.72,\n",
       "       -0.66, -0.6 , -0.54, -0.48, -0.42, -0.36, -0.3 , -0.24, -0.18,\n",
       "       -0.12, -0.06,  0.  ,  0.06,  0.12,  0.18,  0.24,  0.3 ,  0.36,\n",
       "        0.42,  0.48,  0.54,  0.6 ,  0.66,  0.72,  0.78,  0.84,  0.9 ,\n",
       "        0.96,  1.02,  1.08,  1.14,  1.2 ])</pre></div></li><li class='xr-var-item'><div class='xr-var-name'><span>det</span></div><div class='xr-var-dims'>(time)</div><div class='xr-var-dtype'>float64</div><div class='xr-var-preview xr-preview'>0.0 0.0 0.0 0.0 ... 0.0 0.0 0.0 0.0</div><input id='attrs-579c8e8c-e932-40f2-8478-105e601df700' class='xr-var-attrs-in' type='checkbox' ><label for='attrs-579c8e8c-e932-40f2-8478-105e601df700' title='Show/Hide attributes'><svg class='icon xr-icon-file-text2'><use xlink:href='#icon-file-text2'></use></svg></label><input id='data-c6621714-19f1-4d19-b590-14da5eb235d3' class='xr-var-data-in' type='checkbox'><label for='data-c6621714-19f1-4d19-b590-14da5eb235d3' title='Show/Hide data repr'><svg class='icon xr-icon-database'><use xlink:href='#icon-database'></use></svg></label><div class='xr-var-attrs'><dl class='xr-attrs'><dt><span>object :</span></dt><dd>det</dd></dl></div><div class='xr-var-data'><pre>array([0.00000000e+000, 0.00000000e+000, 0.00000000e+000, 0.00000000e+000,\n",
       "       0.00000000e+000, 8.15929807e-267, 2.12005578e-225, 1.99156532e-187,\n",
       "       7.05556770e-153, 9.22836571e-122, 4.49803156e-094, 8.03462395e-070,\n",
       "       5.54084085e-049, 1.35128221e-031, 1.24897894e-017, 4.45654099e-007,\n",
       "       5.60767888e+000, 2.74630611e+004, 4.86828538e+004, 3.13045008e+001,\n",
       "       7.83939738e-006, 7.13667053e-016, 2.33101349e-029, 2.98521439e-046,\n",
       "       1.39436720e-066, 2.41578388e-090, 1.54722740e-117, 3.74387074e-148,\n",
       "       3.38335937e-182, 1.14251231e-219, 1.37922084e-260, 0.00000000e+000,\n",
       "       0.00000000e+000, 0.00000000e+000, 0.00000000e+000, 0.00000000e+000,\n",
       "       0.00000000e+000, 0.00000000e+000, 0.00000000e+000, 0.00000000e+000,\n",
       "       0.00000000e+000])</pre></div></li></ul></div></li><li class='xr-section-item'><input id='section-6d8ff466-1c6b-47f7-a084-57e117741e1c' class='xr-section-summary-in' type='checkbox' disabled ><label for='section-6d8ff466-1c6b-47f7-a084-57e117741e1c' class='xr-section-summary'  title='Expand/collapse section'>Attributes: <span>(0)</span></label><div class='xr-section-inline-details'></div><div class='xr-section-details'><dl class='xr-attrs'></dl></div></li></ul></div></div>"
      ],
      "text/plain": [
       "<xarray.Dataset>\n",
       "Dimensions:              (time: 41)\n",
       "Coordinates:\n",
       "  * time                 (time) float64 1.657e+09 1.657e+09 ... 1.657e+09\n",
       "Data variables:\n",
       "    motor                (time) float64 -1.2 -1.14 -1.08 -1.02 ... 1.08 1.14 1.2\n",
       "    motor_user_setpoint  (time) float64 -1.2 -1.14 -1.08 -1.02 ... 1.08 1.14 1.2\n",
       "    det                  (time) float64 0.0 0.0 0.0 0.0 0.0 ... 0.0 0.0 0.0 0.0"
      ]
     },
     "execution_count": 5,
     "metadata": {},
     "output_type": "execute_result"
    }
   ],
   "source": [
    "run.primary.read()"
   ]
  },
  {
   "cell_type": "markdown",
   "metadata": {},
   "source": [
    "## Support function: `specfile_example()`\n",
    "\n",
    "We need to call the `apstools.callbacks.SpecWriterCallback()` callback with the run's documents.\n",
    "\n",
    "Here, `specfile_example()` is a support function that can be used with one or more runs to create a SPEC data file (one Bluesky run will become one SPEC scan in the same file)."
   ]
  },
  {
   "cell_type": "code",
   "execution_count": 6,
   "metadata": {},
   "outputs": [],
   "source": [
    "from apstools.callbacks import SpecWriterCallback\n",
    "from databroker._drivers.mongo_normalized import BlueskyMongoCatalog\n",
    "from databroker._drivers.msgpack import BlueskyMsgpackCatalog\n",
    "import warnings\n",
    "\n",
    "DEMO_SPEC_FILE = \"test_specdata.txt\"\n",
    "\n",
    "def specfile_example(runs, filename=DEMO_SPEC_FILE):\n",
    "    \"\"\"write one or more headers (scans) to a SPEC data file\"\"\"\n",
    "    if isinstance(runs, databroker.core.BlueskyRun):\n",
    "        runs = [runs]\n",
    "    if not isinstance(runs, (list, BlueskyMsgpackCatalog, BlueskyMongoCatalog)):\n",
    "        raise TypeError(\"Must give run object or list of run objects.\")\n",
    "    if len(runs) == 0:\n",
    "        raise ValueError(\"Must provide one or more runs.\")\n",
    "\n",
    "    specwriter = SpecWriterCallback(filename=filename, auto_write=True)\n",
    "    for uid in runs:\n",
    "        if isinstance(uid, str):\n",
    "            run = runs[uid]\n",
    "        else:\n",
    "            run = uid\n",
    "        if not isinstance(run, databroker.core.BlueskyRun):\n",
    "            warnings.warn(f\"Skipping {run=}, it is not a BlueskyRun object.\")\n",
    "            continue\n",
    "        # to get the raw document stream, need the v1 interface\n",
    "        h = run.catalog_object.v1[run.name]  # header\n",
    "        for key, doc in h.db.get_documents(h):\n",
    "            specwriter.receiver(key, doc)\n",
    "        # lines = specwriter.prepare_scan_contents()\n",
    "    print(\"Look at SPEC data file: \" + specwriter.spec_filename)"
   ]
  },
  {
   "cell_type": "markdown",
   "metadata": {},
   "source": [
    "## Write the run as SPEC data"
   ]
  },
  {
   "cell_type": "markdown",
   "metadata": {},
   "source": [
    "Let's write it as a SPEC data file (namely: `spec1.dat`):"
   ]
  },
  {
   "cell_type": "code",
   "execution_count": 7,
   "metadata": {},
   "outputs": [
    {
     "name": "stdout",
     "output_type": "stream",
     "text": [
      "Look at SPEC data file: spec1.dat\n"
     ]
    }
   ],
   "source": [
    "import os\n",
    "\n",
    "if os.path.exists(\"spec1.dat\"):  # re-write the file\n",
    "    os.remove(\"spec1.dat\")\n",
    "\n",
    "specfile_example(run, filename=\"spec1.dat\")"
   ]
  },
  {
   "cell_type": "markdown",
   "metadata": {},
   "source": [
    "Let's view file `spec1.dat` from disk storage (using the [`pycat`](https://ipython.readthedocs.io/en/stable/interactive/magics.html?highlight=pycat#magic-pycat) IPython magic function):"
   ]
  },
  {
   "cell_type": "code",
   "execution_count": 8,
   "metadata": {},
   "outputs": [
    {
     "data": {
      "text/plain": [
       "\u001b[0;31m#F spec1.dat\u001b[0m\u001b[0;34m\u001b[0m\n",
       "\u001b[0;34m\u001b[0m\u001b[0;31m#E 1657086495\u001b[0m\u001b[0;34m\u001b[0m\n",
       "\u001b[0;34m\u001b[0m\u001b[0;31m#D Wed Jul 06 00:48:15 2022\u001b[0m\u001b[0;34m\u001b[0m\n",
       "\u001b[0;34m\u001b[0m\u001b[0;31m#C Bluesky  user = prjemian  host = zap\u001b[0m\u001b[0;34m\u001b[0m\n",
       "\u001b[0;34m\u001b[0m\u001b[0;31m#O0 \u001b[0m\u001b[0;34m\u001b[0m\n",
       "\u001b[0;34m\u001b[0m\u001b[0;31m#o0 \u001b[0m\u001b[0;34m\u001b[0m\n",
       "\u001b[0;34m\u001b[0m\u001b[0;34m\u001b[0m\n",
       "\u001b[0;34m\u001b[0m\u001b[0;31m#S 1  scan(detectors=['det'], num=41, args='['motor', -1.2, 1.2]', per_step='None')\u001b[0m\u001b[0;34m\u001b[0m\n",
       "\u001b[0;34m\u001b[0m\u001b[0;31m#D Wed Jul 06 00:48:02 2022\u001b[0m\u001b[0;34m\u001b[0m\n",
       "\u001b[0;34m\u001b[0m\u001b[0;31m#C Wed Jul 06 00:48:02 2022.  plan_type = generator\u001b[0m\u001b[0;34m\u001b[0m\n",
       "\u001b[0;34m\u001b[0m\u001b[0;31m#C Wed Jul 06 00:48:02 2022.  uid = 7ab128a0-c0ef-4f41-a980-c5641e00ce97\u001b[0m\u001b[0;34m\u001b[0m\n",
       "\u001b[0;34m\u001b[0m\u001b[0;31m#MD uid = 7ab128a0-c0ef-4f41-a980-c5641e00ce97\u001b[0m\u001b[0;34m\u001b[0m\n",
       "\u001b[0;34m\u001b[0m\u001b[0;31m#MD detectors = ['det']\u001b[0m\u001b[0;34m\u001b[0m\n",
       "\u001b[0;34m\u001b[0m\u001b[0;31m#MD motors = ['motor']\u001b[0m\u001b[0;34m\u001b[0m\n",
       "\u001b[0;34m\u001b[0m\u001b[0;31m#MD num_intervals = 40\u001b[0m\u001b[0;34m\u001b[0m\n",
       "\u001b[0;34m\u001b[0m\u001b[0;31m#MD num_points = 41\u001b[0m\u001b[0;34m\u001b[0m\n",
       "\u001b[0;34m\u001b[0m\u001b[0;31m#MD plan_pattern = inner_product\u001b[0m\u001b[0;34m\u001b[0m\n",
       "\u001b[0;34m\u001b[0m\u001b[0;31m#MD plan_pattern_args = {'num': 41, 'args': [\"EpicsMotor(prefix='gp:m1', name='motor', settle_time=0.0, timeout=None, read_attrs=['user_readback', 'user_setpoint'], configuration_attrs=['user_offset', 'user_offset_dir', 'velocity', 'acceleration', 'motor_egu'])\", -1.2, 1.2]}\u001b[0m\u001b[0;34m\u001b[0m\n",
       "\u001b[0;34m\u001b[0m\u001b[0;31m#MD plan_pattern_module = bluesky.plan_patterns\u001b[0m\u001b[0;34m\u001b[0m\n",
       "\u001b[0;34m\u001b[0m\u001b[0;31m#MD versions = {'ophyd': '1.6.4', 'bluesky': '1.8.3'}\u001b[0m\u001b[0;34m\u001b[0m\n",
       "\u001b[0;34m\u001b[0m\u001b[0;31m#P0 \u001b[0m\u001b[0;34m\u001b[0m\n",
       "\u001b[0;34m\u001b[0m\u001b[0;31m#N 5\u001b[0m\u001b[0;34m\u001b[0m\n",
       "\u001b[0;34m\u001b[0m\u001b[0;31m#L motor  Epoch_float  Epoch  motor_user_setpoint  det\u001b[0m\u001b[0;34m\u001b[0m\n",
       "\u001b[0;34m\u001b[0m\u001b[0;34m-\u001b[0m\u001b[0;36m1.2\u001b[0m \u001b[0;36m0.434417724609375\u001b[0m \u001b[0;36m0\u001b[0m \u001b[0;34m-\u001b[0m\u001b[0;36m1.2\u001b[0m \u001b[0;36m0.0\u001b[0m\u001b[0;34m\u001b[0m\n",
       "\u001b[0;34m\u001b[0m\u001b[0;34m-\u001b[0m\u001b[0;36m1.1400000000000001\u001b[0m \u001b[0;36m0.6748816967010498\u001b[0m \u001b[0;36m1\u001b[0m \u001b[0;34m-\u001b[0m\u001b[0;36m1.14\u001b[0m \u001b[0;36m0.0\u001b[0m\u001b[0;34m\u001b[0m\n",
       "\u001b[0;34m\u001b[0m\u001b[0;34m-\u001b[0m\u001b[0;36m1.08\u001b[0m \u001b[0;36m0.9758017063140869\u001b[0m \u001b[0;36m1\u001b[0m \u001b[0;34m-\u001b[0m\u001b[0;36m1.08\u001b[0m \u001b[0;36m0.0\u001b[0m\u001b[0;34m\u001b[0m\n",
       "\u001b[0;34m\u001b[0m\u001b[0;34m-\u001b[0m\u001b[0;36m1.02\u001b[0m \u001b[0;36m1.276907205581665\u001b[0m \u001b[0;36m1\u001b[0m \u001b[0;34m-\u001b[0m\u001b[0;36m1.02\u001b[0m \u001b[0;36m0.0\u001b[0m\u001b[0;34m\u001b[0m\n",
       "\u001b[0;34m\u001b[0m\u001b[0;34m-\u001b[0m\u001b[0;36m0.96\u001b[0m \u001b[0;36m1.577857255935669\u001b[0m \u001b[0;36m2\u001b[0m \u001b[0;34m-\u001b[0m\u001b[0;36m0.96\u001b[0m \u001b[0;36m0.0\u001b[0m\u001b[0;34m\u001b[0m\n",
       "\u001b[0;34m\u001b[0m\u001b[0;34m-\u001b[0m\u001b[0;36m0.9\u001b[0m \u001b[0;36m1.878566026687622\u001b[0m \u001b[0;36m2\u001b[0m \u001b[0;34m-\u001b[0m\u001b[0;36m0.8999999999999999\u001b[0m \u001b[0;36m8.15929807366173e-267\u001b[0m\u001b[0;34m\u001b[0m\n",
       "\u001b[0;34m\u001b[0m\u001b[0;34m-\u001b[0m\u001b[0;36m0.84\u001b[0m \u001b[0;36m2.1784615516662598\u001b[0m \u001b[0;36m2\u001b[0m \u001b[0;34m-\u001b[0m\u001b[0;36m0.84\u001b[0m \u001b[0;36m2.1200557806170912e-225\u001b[0m\u001b[0;34m\u001b[0m\n",
       "\u001b[0;34m\u001b[0m\u001b[0;34m-\u001b[0m\u001b[0;36m0.78\u001b[0m \u001b[0;36m2.479753255844116\u001b[0m \u001b[0;36m2\u001b[0m \u001b[0;34m-\u001b[0m\u001b[0;36m0.78\u001b[0m \u001b[0;36m1.9915653174496467e-187\u001b[0m\u001b[0;34m\u001b[0m\n",
       "\u001b[0;34m\u001b[0m\u001b[0;34m-\u001b[0m\u001b[0;36m0.72\u001b[0m \u001b[0;36m2.7803871631622314\u001b[0m \u001b[0;36m3\u001b[0m \u001b[0;34m-\u001b[0m\u001b[0;36m0.72\u001b[0m \u001b[0;36m7.055567703307068e-153\u001b[0m\u001b[0;34m\u001b[0m\n",
       "\u001b[0;34m\u001b[0m\u001b[0;34m-\u001b[0m\u001b[0;36m0.66\u001b[0m \u001b[0;36m3.084782361984253\u001b[0m \u001b[0;36m3\u001b[0m \u001b[0;34m-\u001b[0m\u001b[0;36m0.6599999999999999\u001b[0m \u001b[0;36m9.228365714083866e-122\u001b[0m\u001b[0;34m\u001b[0m\n",
       "\u001b[0;34m\u001b[0m\u001b[0;34m-\u001b[0m\u001b[0;36m0.6\u001b[0m \u001b[0;36m3.38234806060791\u001b[0m \u001b[0;36m3\u001b[0m \u001b[0;34m-\u001b[0m\u001b[0;36m0.6\u001b[0m \u001b[0;36m4.4980315558799814e-94\u001b[0m\u001b[0;34m\u001b[0m\n",
       "\u001b[0;34m\u001b[0m\u001b[0;34m-\u001b[0m\u001b[0;36m0.54\u001b[0m \u001b[0;36m3.683393955230713\u001b[0m \u001b[0;36m4\u001b[0m \u001b[0;34m-\u001b[0m\u001b[0;36m0.54\u001b[0m \u001b[0;36m8.034623946332195e-70\u001b[0m\u001b[0;34m\u001b[0m\n",
       "\u001b[0;34m\u001b[0m\u001b[0;34m-\u001b[0m\u001b[0;36m0.48\u001b[0m \u001b[0;36m3.983243703842163\u001b[0m \u001b[0;36m4\u001b[0m \u001b[0;34m-\u001b[0m\u001b[0;36m0.48\u001b[0m \u001b[0;36m5.540840853688821e-49\u001b[0m\u001b[0;34m\u001b[0m\n",
       "\u001b[0;34m\u001b[0m\u001b[0;34m-\u001b[0m\u001b[0;36m0.42\u001b[0m \u001b[0;36m4.28428053855896\u001b[0m \u001b[0;36m4\u001b[0m \u001b[0;34m-\u001b[0m\u001b[0;36m0.41999999999999993\u001b[0m \u001b[0;36m1.3512822090579629e-31\u001b[0m\u001b[0;34m\u001b[0m\n",
       "\u001b[0;34m\u001b[0m\u001b[0;34m-\u001b[0m\u001b[0;36m0.36\u001b[0m \u001b[0;36m4.585167646408081\u001b[0m \u001b[0;36m5\u001b[0m \u001b[0;34m-\u001b[0m\u001b[0;36m0.36\u001b[0m \u001b[0;36m1.2489789444505279e-17\u001b[0m\u001b[0;34m\u001b[0m\n",
       "\u001b[0;34m\u001b[0m\u001b[0;34m-\u001b[0m\u001b[0;36m0.3\u001b[0m \u001b[0;36m4.885620355606079\u001b[0m \u001b[0;36m5\u001b[0m \u001b[0;34m-\u001b[0m\u001b[0;36m0.30000000000000004\u001b[0m \u001b[0;36m4.456540993798201e-07\u001b[0m\u001b[0;34m\u001b[0m\n",
       "\u001b[0;34m\u001b[0m\u001b[0;34m-\u001b[0m\u001b[0;36m0.24\u001b[0m \u001b[0;36m5.186397314071655\u001b[0m \u001b[0;36m5\u001b[0m \u001b[0;34m-\u001b[0m\u001b[0;36m0.24\u001b[0m \u001b[0;36m5.607678879044609\u001b[0m\u001b[0;34m\u001b[0m\n",
       "\u001b[0;34m\u001b[0m\u001b[0;34m-\u001b[0m\u001b[0;36m0.18\u001b[0m \u001b[0;36m5.481502294540405\u001b[0m \u001b[0;36m5\u001b[0m \u001b[0;34m-\u001b[0m\u001b[0;36m0.17999999999999994\u001b[0m \u001b[0;36m27463.061094278986\u001b[0m\u001b[0;34m\u001b[0m\n",
       "\u001b[0;34m\u001b[0m\u001b[0;34m-\u001b[0m\u001b[0;36m0.12\u001b[0m \u001b[0;36m5.787712335586548\u001b[0m \u001b[0;36m6\u001b[0m \u001b[0;34m-\u001b[0m\u001b[0;36m0.11999999999999988\u001b[0m \u001b[0;36m48682.85376123283\u001b[0m\u001b[0;34m\u001b[0m\n",
       "\u001b[0;34m\u001b[0m\u001b[0;34m-\u001b[0m\u001b[0;36m0.06\u001b[0m \u001b[0;36m6.08820915222168\u001b[0m \u001b[0;36m6\u001b[0m \u001b[0;34m-\u001b[0m\u001b[0;36m0.06000000000000005\u001b[0m \u001b[0;36m31.30450080779168\u001b[0m\u001b[0;34m\u001b[0m\n",
       "\u001b[0;34m\u001b[0m\u001b[0;36m0.0\u001b[0m \u001b[0;36m6.389137268066406\u001b[0m \u001b[0;36m6\u001b[0m \u001b[0;36m0.0\u001b[0m \u001b[0;36m7.839397376237093e-06\u001b[0m\u001b[0;34m\u001b[0m\n",
       "\u001b[0;34m\u001b[0m\u001b[0;36m0.06\u001b[0m \u001b[0;36m6.690355062484741\u001b[0m \u001b[0;36m7\u001b[0m \u001b[0;36m0.06000000000000005\u001b[0m \u001b[0;36m7.136670527501498e-16\u001b[0m\u001b[0;34m\u001b[0m\n",
       "\u001b[0;34m\u001b[0m\u001b[0;36m0.12\u001b[0m \u001b[0;36m6.991316556930542\u001b[0m \u001b[0;36m7\u001b[0m \u001b[0;36m0.11999999999999988\u001b[0m \u001b[0;36m2.3310134905397063e-29\u001b[0m\u001b[0;34m\u001b[0m\n",
       "\u001b[0;34m\u001b[0m\u001b[0;36m0.18\u001b[0m \u001b[0;36m7.291990041732788\u001b[0m \u001b[0;36m7\u001b[0m \u001b[0;36m0.17999999999999994\u001b[0m \u001b[0;36m2.985214388500194e-46\u001b[0m\u001b[0;34m\u001b[0m\n",
       "\u001b[0;34m\u001b[0m\u001b[0;36m0.24\u001b[0m \u001b[0;36m7.593103885650635\u001b[0m \u001b[0;36m8\u001b[0m \u001b[0;36m0.24\u001b[0m \u001b[0;36m1.394367198136051e-66\u001b[0m\u001b[0;34m\u001b[0m\n",
       "\u001b[0;34m\u001b[0m\u001b[0;36m0.3\u001b[0m \u001b[0;36m7.893867492675781\u001b[0m \u001b[0;36m8\u001b[0m \u001b[0;36m0.30000000000000004\u001b[0m \u001b[0;36m2.415783879435812e-90\u001b[0m\u001b[0;34m\u001b[0m\n",
       "\u001b[0;34m\u001b[0m\u001b[0;36m0.36\u001b[0m \u001b[0;36m8.195511817932129\u001b[0m \u001b[0;36m8\u001b[0m \u001b[0;36m0.3600000000000001\u001b[0m \u001b[0;36m1.5472274009149628e-117\u001b[0m\u001b[0;34m\u001b[0m\n",
       "\u001b[0;34m\u001b[0m\u001b[0;36m0.42\u001b[0m \u001b[0;36m8.495795965194702\u001b[0m \u001b[0;36m8\u001b[0m \u001b[0;36m0.41999999999999993\u001b[0m \u001b[0;36m3.743870737982315e-148\u001b[0m\u001b[0;34m\u001b[0m\n",
       "\u001b[0;34m\u001b[0m\u001b[0;36m0.48\u001b[0m \u001b[0;36m8.796814680099487\u001b[0m \u001b[0;36m9\u001b[0m \u001b[0;36m0.48\u001b[0m \u001b[0;36m3.383359371335557e-182\u001b[0m\u001b[0;34m\u001b[0m\n",
       "\u001b[0;34m\u001b[0m\u001b[0;36m0.54\u001b[0m \u001b[0;36m9.097584009170532\u001b[0m \u001b[0;36m9\u001b[0m \u001b[0;36m0.54\u001b[0m \u001b[0;36m1.1425123138669685e-219\u001b[0m\u001b[0;34m\u001b[0m\n",
       "\u001b[0;34m\u001b[0m\u001b[0;36m0.6\u001b[0m \u001b[0;36m9.399116039276123\u001b[0m \u001b[0;36m9\u001b[0m \u001b[0;36m0.5999999999999999\u001b[0m \u001b[0;36m1.3792208368358542e-260\u001b[0m\u001b[0;34m\u001b[0m\n",
       "\u001b[0;34m\u001b[0m\u001b[0;36m0.66\u001b[0m \u001b[0;36m9.699814081192017\u001b[0m \u001b[0;36m10\u001b[0m \u001b[0;36m0.6599999999999999\u001b[0m \u001b[0;36m0.0\u001b[0m\u001b[0;34m\u001b[0m\n",
       "\u001b[0;34m\u001b[0m\u001b[0;36m0.72\u001b[0m \u001b[0;36m10.001182079315186\u001b[0m \u001b[0;36m10\u001b[0m \u001b[0;36m0.72\u001b[0m \u001b[0;36m0.0\u001b[0m\u001b[0;34m\u001b[0m\n",
       "\u001b[0;34m\u001b[0m\u001b[0;36m0.78\u001b[0m \u001b[0;36m10.301761150360107\u001b[0m \u001b[0;36m10\u001b[0m \u001b[0;36m0.78\u001b[0m \u001b[0;36m0.0\u001b[0m\u001b[0;34m\u001b[0m\n",
       "\u001b[0;34m\u001b[0m\u001b[0;36m0.84\u001b[0m \u001b[0;36m10.603094100952148\u001b[0m \u001b[0;36m11\u001b[0m \u001b[0;36m0.8400000000000001\u001b[0m \u001b[0;36m0.0\u001b[0m\u001b[0;34m\u001b[0m\n",
       "\u001b[0;34m\u001b[0m\u001b[0;36m0.9\u001b[0m \u001b[0;36m10.904242992401123\u001b[0m \u001b[0;36m11\u001b[0m \u001b[0;36m0.9000000000000001\u001b[0m \u001b[0;36m0.0\u001b[0m\u001b[0;34m\u001b[0m\n",
       "\u001b[0;34m\u001b[0m\u001b[0;36m0.96\u001b[0m \u001b[0;36m11.205401420593262\u001b[0m \u001b[0;36m11\u001b[0m \u001b[0;36m0.9600000000000002\u001b[0m \u001b[0;36m0.0\u001b[0m\u001b[0;34m\u001b[0m\n",
       "\u001b[0;34m\u001b[0m\u001b[0;36m1.02\u001b[0m \u001b[0;36m11.506523370742798\u001b[0m \u001b[0;36m12\u001b[0m \u001b[0;36m1.0199999999999998\u001b[0m \u001b[0;36m0.0\u001b[0m\u001b[0;34m\u001b[0m\n",
       "\u001b[0;34m\u001b[0m\u001b[0;36m1.08\u001b[0m \u001b[0;36m11.807251930236816\u001b[0m \u001b[0;36m12\u001b[0m \u001b[0;36m1.0799999999999998\u001b[0m \u001b[0;36m0.0\u001b[0m\u001b[0;34m\u001b[0m\n",
       "\u001b[0;34m\u001b[0m\u001b[0;36m1.1400000000000001\u001b[0m \u001b[0;36m12.102661371231079\u001b[0m \u001b[0;36m12\u001b[0m \u001b[0;36m1.14\u001b[0m \u001b[0;36m0.0\u001b[0m\u001b[0;34m\u001b[0m\n",
       "\u001b[0;34m\u001b[0m\u001b[0;36m1.2\u001b[0m \u001b[0;36m12.408974170684814\u001b[0m \u001b[0;36m12\u001b[0m \u001b[0;36m1.2\u001b[0m \u001b[0;36m0.0\u001b[0m\u001b[0;34m\u001b[0m\n",
       "\u001b[0;34m\u001b[0m\u001b[0;31m#C Wed Jul 06 00:48:15 2022.  num_events_primary = 41\u001b[0m\u001b[0;34m\u001b[0m\n",
       "\u001b[0;34m\u001b[0m\u001b[0;31m#C Wed Jul 06 00:48:15 2022.  exit_status = success\u001b[0m\u001b[0;34m\u001b[0m\u001b[0;34m\u001b[0m\u001b[0m\n"
      ]
     },
     "metadata": {},
     "output_type": "display_data"
    }
   ],
   "source": [
    "%pycat spec1.dat"
   ]
  },
  {
   "cell_type": "markdown",
   "metadata": {},
   "source": [
    "We see that the output of the `specfile_example()` command includes the content of the SPEC file.  For the remaining examples, we'll skip this additional step to view the SPEC file contents from disk."
   ]
  },
  {
   "cell_type": "markdown",
   "metadata": {},
   "source": [
    "## a specific scan\n",
    "\n",
    "The `cat` object allows us to access scans by UUID (or any shorter version that remains unique in the database).  We show an example but have commented it out since those runs do not exist in our temporary databroker catalog."
   ]
  },
  {
   "cell_type": "code",
   "execution_count": 9,
   "metadata": {},
   "outputs": [],
   "source": [
    "# specfile_example(cat[\"37c188c0\"], filename=\"spec3.dat\")"
   ]
  },
  {
   "cell_type": "markdown",
   "metadata": {},
   "source": [
    "## specify a list of scans by UID\n",
    "\n",
    "Suppose we have a list of scans where we know the UID of each one, we can build a list of headers and write a SPEC data file with that list.  Here, we have such a list of tuning scans.  We show an example but have commented it out since those runs do not exist in our temporary databroker catalog."
   ]
  },
  {
   "cell_type": "code",
   "execution_count": 10,
   "metadata": {},
   "outputs": [],
   "source": [
    "# runs = [cat[uid] for uid in \"957d83c c354fe37-e39f 42c\".split()]\n",
    "# specfile_example(runs, filename=\"spec_tunes.dat\")"
   ]
  },
  {
   "cell_type": "markdown",
   "metadata": {},
   "source": [
    "## Find specific plans within a range of dates\n",
    "\n",
    "The `cat` object allows for filtering arguments based on any keywords in the *start* document and also by time.  Here, we filter between certain dates and also by `plan name`.  The dates are specified in [ISO8601 format](https://www.iso.org/iso-8601-date-and-time-format.html) and can include precision beyond a millisecond.  Here, we use the `v2` interface to do the searches.  We show examples how to pick between a set of dates.\n",
    "\n",
    "Also, we write to the default data file: `test_specdata.txt`."
   ]
  },
  {
   "cell_type": "code",
   "execution_count": 11,
   "metadata": {},
   "outputs": [
    {
     "name": "stderr",
     "output_type": "stream",
     "text": [
      "/home/prjemian/micromamba/envs/bluesky_2022_3/lib/python3.9/site-packages/databroker/queries.py:89: PytzUsageWarning: The zone attribute is specific to pytz's interface; please migrate to a new time zone provider. For more details on how to do so, see https://pytz-deprecation-shim.readthedocs.io/en/latest/migration.html\n",
      "  timezone = lz.zone\n"
     ]
    },
    {
     "name": "stdout",
     "output_type": "stream",
     "text": [
      "7ab128a0 2022-07-06 00:48:02.921515\n",
      "Look at SPEC data file: test_specdata.txt\n"
     ]
    }
   ],
   "source": [
    "from databroker.queries import TimeRange\n",
    "import datetime\n",
    "\n",
    "if os.path.exists(\"test_specdata.txt\"):  # re-write the file\n",
    "    os.remove(\"test_specdata.txt\")\n",
    "\n",
    "query = {}\n",
    "query.update(TimeRange(since=\"2019-02-19 17:00\"))\n",
    "query.update(TimeRange(until=\"2032-02-19 17:11:30\"))\n",
    "query.update(dict(plan_name=\"scan\"))\n",
    "\n",
    "runs = cat.v2.search(query)\n",
    "for uid in runs:\n",
    "    run = runs[uid]\n",
    "    start_time = run.metadata[\"start\"][\"time\"]\n",
    "    isodate = datetime.datetime.fromtimestamp(start_time).isoformat(sep=\" \")\n",
    "    print(uid[:8], isodate)\n",
    "specfile_example(runs, \"test_specdata.txt\")"
   ]
  }
 ],
 "metadata": {
  "kernelspec": {
   "display_name": "Python 3.9.13 ('base')",
   "language": "python",
   "name": "python3"
  },
  "language_info": {
   "codemirror_mode": {
    "name": "ipython",
    "version": 3
   },
   "file_extension": ".py",
   "mimetype": "text/x-python",
   "name": "python",
   "nbconvert_exporter": "python",
   "pygments_lexer": "ipython3",
   "version": "3.9.13"
  },
  "vscode": {
   "interpreter": {
    "hash": "f38aef175fb08dfc130a7d9bb9234f0792dc9ad861f95b6c05aedd1b380356e2"
   }
  }
 },
 "nbformat": 4,
 "nbformat_minor": 4
}
