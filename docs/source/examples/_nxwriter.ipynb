{
 "cells": [
  {
   "cell_type": "markdown",
   "metadata": {},
   "source": [
    "# Example: NXWriter callback\n",
    "\n",
    "**Objective**\n",
    "\n",
    "Demonstrate use of `apstools.callbacks.NXWriter` with [Bluesky](https://blueskyproject.io/bluesky) data acquisition and then use export data from [databroker](https://blueskyproject.io/databroker).  The `NXWriter` records data from a Bluesky measurement [run](https://blueskyproject.io/bluesky/multi_run_plans.html#definition-of-a-run) in a [NeXus](https://manual.nexusformat.org/user_manual.html) [HDF5](https://www.hdfgroup.org/solutions/hdf5) data file.\n",
    "\n",
    "**Contents**\n",
    "\n",
    "- [Use as callback](#Callback)\n",
    "- [Export data to HDF5 file](#Export)"
   ]
  },
  {
   "cell_type": "markdown",
   "metadata": {},
   "source": [
    "## Use as callback\n",
    "\n",
    "To demonstrate how the `NXWriter` is used as a callback, it is necessary to have a data acquisition setup.\n",
    "\n",
    "This example scans a `sensor` in response to a `motor` position.  The `NXWriter` is subscribed to the `RunEngine` so that during data collection, the `NXWriter` receives data updates.  Once the acquisition ends (when a `stop` document is received), the HDF5 file is written.\n",
    "\n",
    "The data acquisition is a prebuilt [synApps xxx IOC](https://github.com/epics-modules/xxx) driver, packaged in a [docker](https://www.docker.com/) image\n",
    "([prjemian/custom-synapps-6.2](https://hub.docker.com/r/prjemian/custom-synapps-6.2/tags)).  The [EPICS IOC](https://docs.epics-controls.org/projects/how-tos/en/latest/getting-started/creating-ioc.html) is configured with prefix `gp:` using the [bash shell script](https://github.com/prjemian/epics-docker/blob/main/v1.1/n5_custom_synApps/start_xxx.sh):\n",
    "\n",
    "```bash\n",
    "start_xxx.sh gp\n",
    "```\n",
    "\n",
    "For the purposes of demonstration, the sensor is a random number generator (new values at 10 Hz).  The random number generator is provided by a [userCalc](https://htmlpreview.github.io/?https://raw.githubusercontent.com/epics-modules/calc/R3-6-1/documentation/swaitRecord.html).  The motor is a [software simulator of a stepping motor](https://github.com/epics-motor/motorMotorSim).  There is no particular correlation between the `sensor` and the `motor` in this example, they used only for purposes of illustration.\n",
    "\n",
    "After connecting with the EPICS PVs, the `RunEngine` is constructed and connected with a temporary databroker catalog."
   ]
  },
  {
   "cell_type": "code",
   "execution_count": 1,
   "metadata": {},
   "outputs": [
    {
     "data": {
      "text/plain": [
       "1"
      ]
     },
     "execution_count": 1,
     "metadata": {},
     "output_type": "execute_result"
    }
   ],
   "source": [
    "%matplotlib inline\n",
    "from apstools.synApps import setup_random_number_swait\n",
    "from apstools.synApps import SwaitRecord\n",
    "from bluesky import RunEngine\n",
    "from bluesky import SupplementalData\n",
    "from bluesky import plans as bp\n",
    "from bluesky.callbacks.best_effort import BestEffortCallback\n",
    "from matplotlib import pyplot as plt\n",
    "from ophyd import EpicsMotor\n",
    "from ophyd import EpicsSignalRO\n",
    "import databroker\n",
    "\n",
    "IOC = \"gp:\"\n",
    "\n",
    "# ophyd-level\n",
    "motor = EpicsMotor(f\"{IOC}m10\", name=\"motor\")\n",
    "calc10 = SwaitRecord(f\"{IOC}userCalc10\", name=\"calc10\")\n",
    "sensor = EpicsSignalRO(calc10.calculated_value.pvname, name=\"sensor\")\n",
    "calc10.wait_for_connection()\n",
    "motor.wait_for_connection()\n",
    "sensor.wait_for_connection()\n",
    "setup_random_number_swait(calc10)\n",
    "\n",
    "# bluesky-level\n",
    "best_effort_callback = BestEffortCallback()\n",
    "cat = databroker.temp().v2\n",
    "plt.ion()  # enables matplotlib graphics\n",
    "RE = RunEngine({})\n",
    "RE.subscribe(cat.v1.insert)\n",
    "RE.subscribe(best_effort_callback)  # LivePlot & LiveTable\n"
   ]
  },
  {
   "cell_type": "markdown",
   "metadata": {},
   "source": [
    "Setup the `NXWriter` to create and write the scan data to an HDF5 file.  We override the default HDF5 file name.  The steps:\n",
    "\n",
    "1. import the Python structures\n",
    "2. Define the file name.  (A pathlib object provides an easy way to test if the\n",
    "   file exists.)\n",
    "3. Create the `NXWriter` instance\n",
    "4. Subscribe the writer's `receiver` to the RunEngine.\n",
    "5. Configure the writer for file name and to suppress extra warnings in the example."
   ]
  },
  {
   "cell_type": "code",
   "execution_count": 2,
   "metadata": {},
   "outputs": [],
   "source": [
    "from apstools.callbacks import NXWriter\n",
    "import pathlib\n",
    "\n",
    "h5_file = pathlib.Path(\"/tmp/nxwriter.h5\")\n",
    "\n",
    "nxwriter = NXWriter()\n",
    "RE.subscribe(nxwriter.receiver)\n",
    "nxwriter.file_name = str(h5_file)\n",
    "nxwriter.warn_on_missing_content = False"
   ]
  },
  {
   "cell_type": "markdown",
   "metadata": {},
   "source": [
    "Collect data by scanning `sensor` *v*. ` motor`.  A `LiveTable` and ` LivePlot` will be shown.\n",
    "\n",
    "The `sensor` updates automatically at 10 Hz.  The `motor` moves slowly enough that the sensor updates before the next position is reached.  The data itself is for the purpose of demonstrating the `NXWriter` callback.\n",
    "\n",
    "After the scan, show that the file exists."
   ]
  },
  {
   "cell_type": "code",
   "execution_count": 3,
   "metadata": {},
   "outputs": [
    {
     "name": "stdout",
     "output_type": "stream",
     "text": [
      "\n",
      "\n",
      "Transient Scan ID: 1     Time: 2022-08-12 17:15:49\n",
      "Persistent Unique Scan ID: '50d9c254-6725-4e1d-8624-18e319afc027'\n",
      "New stream: 'primary'\n",
      "+-----------+------------+------------+------------+\n",
      "|   seq_num |       time |      motor |     sensor |\n",
      "+-----------+------------+------------+------------+\n",
      "|         1 | 17:15:50.5 |   -0.50000 |    0.30529 |\n",
      "|         2 | 17:15:51.0 |   -0.25000 |    0.49244 |\n",
      "|         3 | 17:15:51.5 |    0.00000 |    0.47031 |\n",
      "|         4 | 17:15:52.0 |    0.25000 |    0.52802 |\n",
      "|         5 | 17:15:52.5 |    0.50000 |    0.95268 |\n",
      "+-----------+------------+------------+------------+\n",
      "generator scan ['50d9c254'] (scan num: 1)\n",
      "\n",
      "\n",
      "\n",
      "h5_file.exists()=True  h5_file=PosixPath('/tmp/nxwriter.h5')\n"
     ]
    },
    {
     "data": {
      "image/png": "[encoded data removed]",
      "text/plain": [
       "<Figure size 360x360 with 1 Axes>"
      ]
     },
     "metadata": {
      "needs_background": "light"
     },
     "output_type": "display_data"
    }
   ],
   "source": [
    "RE(bp.scan([sensor], motor, -0.5, 0.5, 5))\n",
    "print(f\"{h5_file.exists()=}  {h5_file=}\")"
   ]
  },
  {
   "cell_type": "markdown",
   "metadata": {},
   "source": [
    "Show the content of the NeXus HDF5 data file using [punx](https://punx.readthedocs.io), a program external to our Bluesky Python session."
   ]
  },
  {
   "cell_type": "code",
   "execution_count": 4,
   "metadata": {},
   "outputs": [
    {
     "name": "stdout",
     "output_type": "stream",
     "text": [
      "!!! WARNING: this program is not ready for distribution.\n",
      "\n",
      "/tmp/nxwriter.h5 : NeXus data file\n",
      "  @HDF5_Version = \"1.12.1\"\n",
      "  @NeXus_version = \"v2020.1\"\n",
      "  @creator = \"NXWriter\"\n",
      "  @default = \"entry\"\n",
      "  @file_name = \"/tmp/nxwriter.h5\"\n",
      "  @file_time = \"2022-08-12T17:15:52.718749\"\n",
      "  @h5py_version = \"3.7.0\"\n",
      "  entry:NXentry\n",
      "    @NX_class = \"NXentry\"\n",
      "    @default = \"data\"\n",
      "    @target = \"/entry\"\n",
      "    duration:NX_FLOAT64[] = \n",
      "      @units = \"s\"\n",
      "    end_time:NX_CHAR = b'2022-08-12T17:15:52.566333'\n",
      "    entry_identifier --> /entry/instrument/bluesky/metadata/run_start_uid\n",
      "    plan_name --> /entry/instrument/bluesky/metadata/plan_name\n",
      "    program_name:NX_CHAR = b'bluesky'\n",
      "    start_time:NX_CHAR = b'2022-08-12T17:15:49.194144'\n",
      "    title:NX_CHAR = b'scan-S0001-50d9c25'\n",
      "    data:NXdata\n",
      "      @NX_class = \"NXdata\"\n",
      "      @axes = [\"motor\"]\n",
      "      @signal = \"sensor\"\n",
      "      @target = \"/entry/data\"\n",
      "      EPOCH --> /entry/instrument/bluesky/streams/primary/sensor/time\n",
      "      motor --> /entry/instrument/bluesky/streams/primary/motor/value\n",
      "      motor_user_setpoint --> /entry/instrument/bluesky/streams/primary/motor_user_setpoint/value\n",
      "      sensor --> /entry/instrument/bluesky/streams/primary/sensor/value\n",
      "    instrument:NXinstrument\n",
      "      @NX_class = \"NXinstrument\"\n",
      "      @target = \"/entry/instrument\"\n",
      "      bluesky:NXnote\n",
      "        @NX_class = \"NXnote\"\n",
      "        @target = \"/entry/instrument/bluesky\"\n",
      "        plan_name --> /entry/instrument/bluesky/metadata/plan_name\n",
      "        uid --> /entry/instrument/bluesky/metadata/run_start_uid\n",
      "        metadata:NXnote\n",
      "          @NX_class = \"NXnote\"\n",
      "          @target = \"/entry/instrument/bluesky/metadata\"\n",
      "          detectors:NX_CHAR = b'- sensor\\n'\n",
      "            @target = \"/entry/instrument/bluesky/metadata/detectors\"\n",
      "            @text_format = \"yaml\"\n",
      "          hints:NX_CHAR = b'dimensions:\\n- !!python/tuple\\n  - - motor\\n  - primary\\n'\n",
      "            @target = \"/entry/instrument/bluesky/metadata/hints\"\n",
      "            @text_format = \"yaml\"\n",
      "          motors:NX_CHAR = b'!!python/tuple\\n- motor\\n'\n",
      "            @target = \"/entry/instrument/bluesky/metadata/motors\"\n",
      "            @text_format = \"yaml\"\n",
      "          num_intervals:NX_INT64[] = \n",
      "            @target = \"/entry/instrument/bluesky/metadata/num_intervals\"\n",
      "          num_points:NX_INT64[] = \n",
      "            @target = \"/entry/instrument/bluesky/metadata/num_points\"\n",
      "          plan_args:NX_CHAR = b\"args:\\n- EpicsMotor(prefix='gp:m10', name='motor', settle_time=0.0, timeout=None, read_attrs=['user_readback',\\n  'user_setpoint'], configuration_attrs=['user_offset', 'user_offset_dir', 'velocity',\\n  'acceleration', 'motor_egu'])\\n- -0.5\\n- 0.5\\ndetectors:\\n- EpicsSignalRO(read_pv='gp:userCalc10.VAL', name='sensor', timestamp=1660342548.921025,\\n  auto_monitor=False, string=False)\\nnum: 5\\nper_step: None\\n\"\n",
      "            @target = \"/entry/instrument/bluesky/metadata/plan_args\"\n",
      "            @text_format = \"yaml\"\n",
      "          plan_name:NX_CHAR = b'scan'\n",
      "            @target = \"/entry/instrument/bluesky/metadata/plan_name\"\n",
      "          plan_pattern:NX_CHAR = b'inner_product'\n",
      "            @target = \"/entry/instrument/bluesky/metadata/plan_pattern\"\n",
      "          plan_pattern_args:NX_CHAR = b\"args:\\n- EpicsMotor(prefix='gp:m10', name='motor', settle_time=0.0, timeout=None, read_attrs=['user_readback',\\n  'user_setpoint'], configuration_attrs=['user_offset', 'user_offset_dir', 'velocity',\\n  'acceleration', 'motor_egu'])\\n- -0.5\\n- 0.5\\nnum: 5\\n\"\n",
      "            @target = \"/entry/instrument/bluesky/metadata/plan_pattern_args\"\n",
      "            @text_format = \"yaml\"\n",
      "          plan_pattern_module:NX_CHAR = b'bluesky.plan_patterns'\n",
      "            @target = \"/entry/instrument/bluesky/metadata/plan_pattern_module\"\n",
      "          plan_type:NX_CHAR = b'generator'\n",
      "            @target = \"/entry/instrument/bluesky/metadata/plan_type\"\n",
      "          run_start_uid:NX_CHAR = b'50d9c254-6725-4e1d-8624-18e319afc027'\n",
      "            @long_name = \"bluesky run uid\"\n",
      "            @target = \"/entry/instrument/bluesky/metadata/run_start_uid\"\n",
      "          versions:NX_CHAR = b'bluesky: 1.8.3\\nophyd: 1.6.4\\n'\n",
      "            @target = \"/entry/instrument/bluesky/metadata/versions\"\n",
      "            @text_format = \"yaml\"\n",
      "        streams:NXnote\n",
      "          @NX_class = \"NXnote\"\n",
      "          @target = \"/entry/instrument/bluesky/streams\"\n",
      "          primary:NXnote\n",
      "            @NX_class = \"NXnote\"\n",
      "            @target = \"/entry/instrument/bluesky/streams/primary\"\n",
      "            @uid = \"76eb6977-ac17-4611-90c1-5b0820010d8b\"\n",
      "            motor:NXdata\n",
      "              @NX_class = \"NXdata\"\n",
      "              @axes = [\"time\"]\n",
      "              @signal = \"value\"\n",
      "              @signal_type = \"positioner\"\n",
      "              @target = \"/entry/instrument/bluesky/streams/primary/motor\"\n",
      "              EPOCH:NX_FLOAT64[5] = [1660342550.317355, 1660342551.018562, 1660342551.519468, 1660342552.020329, 1660342552.521305]\n",
      "                @long_name = \"epoch time (s)\"\n",
      "                @target = \"/entry/instrument/bluesky/streams/primary/motor/EPOCH\"\n",
      "                @units = \"s\"\n",
      "              time:NX_FLOAT64[5] = [0.0, 0.701207160949707, 1.202113151550293, 1.7029740810394287, 2.2039501667022705]\n",
      "                @long_name = \"time since first data (s)\"\n",
      "                @start_time = 1660342550.317355\n",
      "                @start_time_iso = \"2022-08-12T17:15:50.317355\"\n",
      "                @target = \"/entry/instrument/bluesky/streams/primary/motor/time\"\n",
      "                @units = \"s\"\n",
      "              value:NX_FLOAT64[5] = [-0.5, -0.25, 0.0, 0.25, 0.5]\n",
      "                @long_name = \"motor\"\n",
      "                @lower_ctrl_limit = -32000.0\n",
      "                @precision = 5\n",
      "                @signal_type = \"positioner\"\n",
      "                @source = \"PV:gp:m10.RBV\"\n",
      "                @target = \"/entry/instrument/bluesky/streams/primary/motor/value\"\n",
      "                @units = \"degrees\"\n",
      "                @upper_ctrl_limit = 32000.0\n",
      "            motor_user_setpoint:NXdata\n",
      "              @NX_class = \"NXdata\"\n",
      "              @axes = [\"time\"]\n",
      "              @signal = \"value\"\n",
      "              @signal_type = \"other\"\n",
      "              @target = \"/entry/instrument/bluesky/streams/primary/motor_user_setpoint\"\n",
      "              EPOCH:NX_FLOAT64[5] = [1660342549.199537, 1660342550.551395, 1660342551.048592, 1660342551.579511, 1660342552.09023]\n",
      "                @long_name = \"epoch time (s)\"\n",
      "                @target = \"/entry/instrument/bluesky/streams/primary/motor_user_setpoint/EPOCH\"\n",
      "                @units = \"s\"\n",
      "              time:NX_FLOAT64[5] = [0.0, 1.3518579006195068, 1.8490550518035889, 2.379973888397217, 2.890692949295044]\n",
      "                @long_name = \"time since first data (s)\"\n",
      "                @start_time = 1660342549.199537\n",
      "                @start_time_iso = \"2022-08-12T17:15:49.199537\"\n",
      "                @target = \"/entry/instrument/bluesky/streams/primary/motor_user_setpoint/time\"\n",
      "                @units = \"s\"\n",
      "              value:NX_FLOAT64[5] = [-0.5, -0.25, 0.0, 0.25, 0.5]\n",
      "                @long_name = \"motor_user_setpoint\"\n",
      "                @lower_ctrl_limit = -32000.0\n",
      "                @precision = 5\n",
      "                @signal_type = \"other\"\n",
      "                @source = \"PV:gp:m10.VAL\"\n",
      "                @target = \"/entry/instrument/bluesky/streams/primary/motor_user_setpoint/value\"\n",
      "                @units = \"degrees\"\n",
      "                @upper_ctrl_limit = 32000.0\n",
      "            sensor:NXdata\n",
      "              @NX_class = \"NXdata\"\n",
      "              @axes = [\"time\"]\n",
      "              @signal = \"value\"\n",
      "              @signal_type = \"detector\"\n",
      "              @target = \"/entry/instrument/bluesky/streams/primary/sensor\"\n",
      "              EPOCH:NX_FLOAT64[5] = [1660342550.421098, 1660342551.021047, 1660342551.521101, 1660342552.021052, 1660342552.521091]\n",
      "                @long_name = \"epoch time (s)\"\n",
      "                @target = \"/entry/instrument/bluesky/streams/primary/sensor/EPOCH\"\n",
      "                @units = \"s\"\n",
      "              time:NX_FLOAT64[5] = [0.0, 0.5999491214752197, 1.1000030040740967, 1.5999538898468018, 2.0999929904937744]\n",
      "                @long_name = \"time since first data (s)\"\n",
      "                @start_time = 1660342550.421098\n",
      "                @start_time_iso = \"2022-08-12T17:15:50.421098\"\n",
      "                @target = \"/entry/instrument/bluesky/streams/primary/sensor/time\"\n",
      "                @units = \"s\"\n",
      "              value:NX_FLOAT64[5] = [0.30528725108720534, 0.49243915465018695, 0.4703135728999771, 0.528023193713283, 0.9526817730983443]\n",
      "                @long_name = \"sensor\"\n",
      "                @lower_ctrl_limit = 0.0\n",
      "                @precision = 5\n",
      "                @signal_type = \"detector\"\n",
      "                @source = \"PV:gp:userCalc10.VAL\"\n",
      "                @target = \"/entry/instrument/bluesky/streams/primary/sensor/value\"\n",
      "                @units = \"\"\n",
      "                @upper_ctrl_limit = 0.0\n",
      "      detectors:NXnote\n",
      "        @NX_class = \"NXnote\"\n",
      "        @target = \"/entry/instrument/detectors\"\n",
      "        sensor:NXdetector\n",
      "          @NX_class = \"NXdetector\"\n",
      "          @target = \"/entry/instrument/detectors/sensor\"\n",
      "          data --> /entry/instrument/bluesky/streams/primary/sensor\n",
      "      positioners:NXnote\n",
      "        @NX_class = \"NXnote\"\n",
      "        @target = \"/entry/instrument/positioners\"\n",
      "        motor:NXpositioner\n",
      "          @NX_class = \"NXpositioner\"\n",
      "          @target = \"/entry/instrument/positioners/motor\"\n",
      "          value --> /entry/instrument/bluesky/streams/primary/motor\n",
      "      source:NXsource\n",
      "        @NX_class = \"NXsource\"\n",
      "        @target = \"/entry/instrument/source\"\n",
      "        name:NX_CHAR = b'Bluesky framework'\n",
      "          @short_name = \"bluesky\"\n",
      "        probe:NX_CHAR = b'x-ray'\n",
      "        type:NX_CHAR = b'Synchrotron X-ray Source'\n",
      "\n"
     ]
    }
   ],
   "source": [
    "from apstools.utils import unix\n",
    "\n",
    "for line in unix(f\"punx tree {nxwriter.file_name}\"):\n",
    "    print(line.decode().strip())"
   ]
  },
  {
   "cell_type": "markdown",
   "metadata": {},
   "source": [
    "## Export\n",
    "\n",
    "It is possible to use the `NXWriter` to export the data from the databroker to a NeXus/HDF5 file.  The bluesky community is preparing the [tiled](https://blueskyproject.io/tiled/) data access service to make such data readily available.\n",
    "\n",
    "This example shows an alternative method to export one *run* to one NeXus/HDF5 data file.  While other variations are possible (such as a list of runs in one file), they are not shown here to keep the example simple.\n",
    "\n",
    "The data export is based on the [replay()](https://bcda-aps.github.io/apstools/api/_utils.html?highlight=replay#apstools.utils.misc.replay) from [apstools](https://bcda-aps.github.io/apstools).\n",
    "\n",
    "We assume the *run* to be exported is identified by `scan_id = 1`, as the example above shows.  This example uses the `cat` object created above.  You should create this as shown in the comment.\n",
    "\n",
    "The steps:\n",
    "\n",
    "1. the Python imports\n",
    "2. define the file to be read and the scan_id\n",
    "3. create the `NXWriter()` instance\n",
    "4. suppress the warnings we do not need to see\n",
    "5. use `replay()` to get the data (note the `v1` is important) and send it to\n",
    "   the `receiver`\n",
    "6. show the new HDF5 file exists"
   ]
  },
  {
   "cell_type": "code",
   "execution_count": 5,
   "metadata": {},
   "outputs": [
    {
     "name": "stdout",
     "output_type": "stream",
     "text": [
      "h5_file.exists()=True  h5_file=PosixPath('/tmp/db_export.h5')\n"
     ]
    }
   ],
   "source": [
    "from apstools.callbacks import NXWriter\n",
    "from apstools.utils import replay\n",
    "import databroker\n",
    "\n",
    "# This example uses 'cat' as defined above.  You use this next line:\n",
    "# cat = databroker.databroker[\"YOUR_CATALOG_NAME\"]\n",
    "\n",
    "h5_file = pathlib.Path(\"/tmp/db_export.h5\")\n",
    "scan_id = 1  # TODO: you choose\n",
    "\n",
    "nxwriter = NXWriter()\n",
    "nxwriter.file_name = str(h5_file)\n",
    "nxwriter.warn_on_missing_content = False\n",
    "replay(cat.v1[scan_id], nxwriter.receiver)\n",
    "print(f\"{h5_file.exists()=}  {h5_file=}\")"
   ]
  }
 ],
 "metadata": {
  "kernelspec": {
   "display_name": "Python 3.9.13 ('base')",
   "language": "python",
   "name": "python3"
  },
  "language_info": {
   "codemirror_mode": {
    "name": "ipython",
    "version": 3
   },
   "file_extension": ".py",
   "mimetype": "text/x-python",
   "name": "python",
   "nbconvert_exporter": "python",
   "pygments_lexer": "ipython3",
   "version": "3.9.13"
  },
  "orig_nbformat": 4,
  "vscode": {
   "interpreter": {
    "hash": "f38aef175fb08dfc130a7d9bb9234f0792dc9ad861f95b6c05aedd1b380356e2"
   }
  }
 },
 "nbformat": 4,
 "nbformat_minor": 2
}
