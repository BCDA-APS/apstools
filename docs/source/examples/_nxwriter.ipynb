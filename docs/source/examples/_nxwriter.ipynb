{
 "cells": [
  {
   "cell_type": "markdown",
   "metadata": {},
   "source": [
    "# Example: NXWriter callback\n",
    "\n",
    "**NOTE**: work-in-progress\n",
    "\n",
    "**Objective**\n",
    "\n",
    "Demonstrate use of `apstools.callbacks.NXWriter` and\n",
    "`apstools.callbacks.NXWriterAPS` as callbacks and then use either (or both) to\n",
    "export data from databroker.\n",
    "\n",
    "**Contents**\n",
    "\n",
    "- [Use as callback](#Use-as-callback)\n",
    "- [Export data](#Export-data)"
   ]
  },
  {
   "cell_type": "markdown",
   "metadata": {},
   "source": [
    "## Use as callback\n"
   ]
  },
  {
   "cell_type": "code",
   "execution_count": 1,
   "metadata": {},
   "outputs": [],
   "source": [
    "%matplotlib inline\n",
    "from apstools.synApps import setup_random_number_swait\n",
    "from apstools.synApps import SwaitRecord\n",
    "from bluesky import RunEngine\n",
    "from bluesky import SupplementalData\n",
    "from bluesky import plans as bp\n",
    "from bluesky.callbacks.best_effort import BestEffortCallback\n",
    "from matplotlib import pyplot as plt\n",
    "from ophyd import EpicsMotor\n",
    "from ophyd import EpicsSignalRO\n",
    "import databroker\n",
    "\n",
    "IOC = \"gp:\"\n",
    "\n",
    "# ophyd-level\n",
    "motor = EpicsMotor(f\"{IOC}m10\", name=\"motor\")\n",
    "calc10 = SwaitRecord(f\"{IOC}userCalc10\", name=\"calc10\")\n",
    "sensor = EpicsSignalRO(calc10.calculated_value.pvname, name=\"sensor\")\n",
    "calc10.wait_for_connection()\n",
    "motor.wait_for_connection()\n",
    "sensor.wait_for_connection()\n",
    "setup_random_number_swait(calc10)\n",
    "\n",
    "# bluesky-level\n",
    "best_effort_callback = BestEffortCallback()\n",
    "cat = databroker.temp().v2\n",
    "supplemental_data = SupplementalData()\n",
    "plt.ion()\n",
    "RE = RunEngine({})\n",
    "RE.subscribe(cat.v1.insert)\n",
    "RE.subscribe(best_effort_callback)\n",
    "RE.preprocessors.append(supplemental_data)\n",
    "# best_effort_callback.disable_plots"
   ]
  },
  {
   "cell_type": "code",
   "execution_count": 2,
   "metadata": {},
   "outputs": [
    {
     "data": {
      "text/plain": [
       "2"
      ]
     },
     "execution_count": 2,
     "metadata": {},
     "output_type": "execute_result"
    }
   ],
   "source": [
    "from apstools.callbacks import NXWriter\n",
    "import pathlib\n",
    "\n",
    "h5_file = pathlib.Path(\"/tmp/nxwriter.h5\")\n",
    "\n",
    "nxwriter = NXWriter()\n",
    "nxwriter.file_name = str(h5_file)\n",
    "RE.subscribe(nxwriter.receiver)"
   ]
  },
  {
   "cell_type": "code",
   "execution_count": 3,
   "metadata": {},
   "outputs": [
    {
     "name": "stdout",
     "output_type": "stream",
     "text": [
      "\n",
      "\n",
      "Transient Scan ID: 1     Time: 2022-08-12 12:15:32\n",
      "Persistent Unique Scan ID: 'd48f1088-51fc-4631-ace9-a417714dcc62'\n",
      "New stream: 'primary'\n",
      "+-----------+------------+------------+------------+\n",
      "|   seq_num |       time |      motor |     sensor |\n",
      "+-----------+------------+------------+------------+\n",
      "|         1 | 12:15:34.1 |   -0.50000 |    0.77913 |\n",
      "|         2 | 12:15:34.6 |   -0.25000 |    0.99657 |\n",
      "|         3 | 12:15:35.1 |    0.00000 |    0.63516 |\n",
      "|         4 | 12:15:35.6 |    0.25000 |    0.68461 |\n",
      "|         5 | 12:15:36.2 |    0.50000 |    0.69038 |\n",
      "+-----------+------------+------------+------------+\n",
      "generator scan ['d48f1088'] (scan num: 1)\n",
      "\n",
      "\n",
      "\n"
     ]
    },
    {
     "name": "stderr",
     "output_type": "stream",
     "text": [
      "'HDF5 address /entry/instrument/bluesky/streams/baseline/monochromator_dcm_wavelength/value_start not found.' -- not creating monochromator group\n",
      "'HDF5 address /entry/instrument/bluesky/streams/baseline/sample_data_chemical_formula/value_start not found.'\n",
      "'HDF5 address /entry/instrument/bluesky/streams/baseline/sample_data_concentration/value_start not found.'\n",
      "'HDF5 address /entry/instrument/bluesky/streams/baseline/sample_data_description/value_start not found.'\n",
      "'HDF5 address /entry/instrument/bluesky/streams/baseline/sample_data_electric_field/value_start not found.'\n",
      "'HDF5 address /entry/instrument/bluesky/streams/baseline/sample_data_magnetic_field/value_start not found.'\n",
      "'HDF5 address /entry/instrument/bluesky/streams/baseline/sample_data_rotation_angle/value_start not found.'\n",
      "'HDF5 address /entry/instrument/bluesky/streams/baseline/sample_data_scattering_length_density/value_start not found.'\n",
      "'HDF5 address /entry/instrument/bluesky/streams/baseline/sample_data_stress_field/value_start not found.'\n",
      "'HDF5 address /entry/instrument/bluesky/streams/baseline/sample_data_temperature/value_start not found.'\n",
      "'HDF5 address /entry/instrument/bluesky/streams/baseline/sample_data_volume_fraction/value_start not found.'\n",
      "'HDF5 address /entry/instrument/bluesky/streams/baseline/sample_data_x_translation/value_start not found.'\n",
      "no sample data found, not creating sample group\n",
      "'HDF5 address /entry/instrument/bluesky/streams/baseline/bss_user_info_contact/value_start not found.' -- not creating source group\n",
      "No data for /entry/run_cycle\n"
     ]
    },
    {
     "name": "stdout",
     "output_type": "stream",
     "text": [
      "h5_file.exists()=True  h5_file=PosixPath('/tmp/nxwriter.h5')\n"
     ]
    },
    {
     "data": {
      "image/png": "[encoded data removed]",
      "text/plain": [
       "<Figure size 360x360 with 1 Axes>"
      ]
     },
     "metadata": {
      "needs_background": "light"
     },
     "output_type": "display_data"
    }
   ],
   "source": [
    "RE(bp.scan([sensor], motor, -0.5, 0.5, 5))\n",
    "print(f\"{h5_file.exists()=}  {h5_file=}\")"
   ]
  },
  {
   "cell_type": "code",
   "execution_count": 4,
   "metadata": {},
   "outputs": [
    {
     "name": "stdout",
     "output_type": "stream",
     "text": [
      "!!! WARNING: this program is not ready for distribution.\n",
      "\n",
      "/tmp/nxwriter.h5 : NeXus data file\n",
      "  @HDF5_Version = \"1.12.1\"\n",
      "  @NeXus_version = \"v2020.1\"\n",
      "  @creator = \"NXWriter\"\n",
      "  @default = \"entry\"\n",
      "  @file_name = \"/tmp/nxwriter.h5\"\n",
      "  @file_time = \"2022-08-12T12:15:36.381548\"\n",
      "  @h5py_version = \"3.7.0\"\n",
      "  entry:NXentry\n",
      "    @NX_class = \"NXentry\"\n",
      "    @default = \"data\"\n",
      "    @target = \"/entry\"\n",
      "    duration:NX_FLOAT64[] = \n",
      "      @units = \"s\"\n",
      "    end_time:NX_CHAR = b'2022-08-12T12:15:36.252418'\n",
      "    entry_identifier --> /entry/instrument/bluesky/metadata/run_start_uid\n",
      "    plan_name --> /entry/instrument/bluesky/metadata/plan_name\n",
      "    program_name:NX_CHAR = b'bluesky'\n",
      "    start_time:NX_CHAR = b'2022-08-12T12:15:32.799047'\n",
      "    title:NX_CHAR = b'scan-S0001-d48f108'\n",
      "    data:NXdata\n",
      "      @NX_class = \"NXdata\"\n",
      "      @axes = [\"motor\"]\n",
      "      @signal = \"sensor\"\n",
      "      @target = \"/entry/data\"\n",
      "      EPOCH --> /entry/instrument/bluesky/streams/primary/sensor/time\n",
      "      motor --> /entry/instrument/bluesky/streams/primary/motor/value\n",
      "      motor_user_setpoint --> /entry/instrument/bluesky/streams/primary/motor_user_setpoint/value\n",
      "      sensor --> /entry/instrument/bluesky/streams/primary/sensor/value\n",
      "    instrument:NXinstrument\n",
      "      @NX_class = \"NXinstrument\"\n",
      "      @target = \"/entry/instrument\"\n",
      "      bluesky:NXnote\n",
      "        @NX_class = \"NXnote\"\n",
      "        @target = \"/entry/instrument/bluesky\"\n",
      "        plan_name --> /entry/instrument/bluesky/metadata/plan_name\n",
      "        uid --> /entry/instrument/bluesky/metadata/run_start_uid\n",
      "        metadata:NXnote\n",
      "          @NX_class = \"NXnote\"\n",
      "          @target = \"/entry/instrument/bluesky/metadata\"\n",
      "          detectors:NX_CHAR = b'- sensor\\n'\n",
      "            @target = \"/entry/instrument/bluesky/metadata/detectors\"\n",
      "            @text_format = \"yaml\"\n",
      "          hints:NX_CHAR = b'dimensions:\\n- !!python/tuple\\n  - - motor\\n  - primary\\n'\n",
      "            @target = \"/entry/instrument/bluesky/metadata/hints\"\n",
      "            @text_format = \"yaml\"\n",
      "          motors:NX_CHAR = b'!!python/tuple\\n- motor\\n'\n",
      "            @target = \"/entry/instrument/bluesky/metadata/motors\"\n",
      "            @text_format = \"yaml\"\n",
      "          num_intervals:NX_INT64[] = \n",
      "            @target = \"/entry/instrument/bluesky/metadata/num_intervals\"\n",
      "          num_points:NX_INT64[] = \n",
      "            @target = \"/entry/instrument/bluesky/metadata/num_points\"\n",
      "          plan_args:NX_CHAR = b\"args:\\n- EpicsMotor(prefix='gp:m10', name='motor', settle_time=0.0, timeout=None, read_attrs=['user_readback',\\n  'user_setpoint'], configuration_attrs=['user_offset', 'user_offset_dir', 'velocity',\\n  'acceleration', 'motor_egu'])\\n- -0.5\\n- 0.5\\ndetectors:\\n- EpicsSignalRO(read_pv='gp:userCalc10.VAL', name='sensor', timestamp=1660324532.521025,\\n  auto_monitor=False, string=False)\\nnum: 5\\nper_step: None\\n\"\n",
      "            @target = \"/entry/instrument/bluesky/metadata/plan_args\"\n",
      "            @text_format = \"yaml\"\n",
      "          plan_name:NX_CHAR = b'scan'\n",
      "            @target = \"/entry/instrument/bluesky/metadata/plan_name\"\n",
      "          plan_pattern:NX_CHAR = b'inner_product'\n",
      "            @target = \"/entry/instrument/bluesky/metadata/plan_pattern\"\n",
      "          plan_pattern_args:NX_CHAR = b\"args:\\n- EpicsMotor(prefix='gp:m10', name='motor', settle_time=0.0, timeout=None, read_attrs=['user_readback',\\n  'user_setpoint'], configuration_attrs=['user_offset', 'user_offset_dir', 'velocity',\\n  'acceleration', 'motor_egu'])\\n- -0.5\\n- 0.5\\nnum: 5\\n\"\n",
      "            @target = \"/entry/instrument/bluesky/metadata/plan_pattern_args\"\n",
      "            @text_format = \"yaml\"\n",
      "          plan_pattern_module:NX_CHAR = b'bluesky.plan_patterns'\n",
      "            @target = \"/entry/instrument/bluesky/metadata/plan_pattern_module\"\n",
      "          plan_type:NX_CHAR = b'generator'\n",
      "            @target = \"/entry/instrument/bluesky/metadata/plan_type\"\n",
      "          run_start_uid:NX_CHAR = b'd48f1088-51fc-4631-ace9-a417714dcc62'\n",
      "            @long_name = \"bluesky run uid\"\n",
      "            @target = \"/entry/instrument/bluesky/metadata/run_start_uid\"\n",
      "          versions:NX_CHAR = b'bluesky: 1.8.3\\nophyd: 1.6.4\\n'\n",
      "            @target = \"/entry/instrument/bluesky/metadata/versions\"\n",
      "            @text_format = \"yaml\"\n",
      "        streams:NXnote\n",
      "          @NX_class = \"NXnote\"\n",
      "          @target = \"/entry/instrument/bluesky/streams\"\n",
      "          primary:NXnote\n",
      "            @NX_class = \"NXnote\"\n",
      "            @target = \"/entry/instrument/bluesky/streams/primary\"\n",
      "            @uid = \"ef363519-fe98-48af-99a2-17493c083527\"\n",
      "            motor:NXdata\n",
      "              @NX_class = \"NXdata\"\n",
      "              @axes = [\"time\"]\n",
      "              @signal = \"value\"\n",
      "              @signal_type = \"positioner\"\n",
      "              @target = \"/entry/instrument/bluesky/streams/primary/motor\"\n",
      "              EPOCH:NX_FLOAT64[5] = [1660324533.988526, 1660324534.689764, 1660324535.190768, 1660324535.69179, 1660324536.192566]\n",
      "                @long_name = \"epoch time (s)\"\n",
      "                @target = \"/entry/instrument/bluesky/streams/primary/motor/EPOCH\"\n",
      "                @units = \"s\"\n",
      "              time:NX_FLOAT64[5] = [0.0, 0.7012379169464111, 1.2022418975830078, 1.7032639980316162, 2.2040398120880127]\n",
      "                @long_name = \"time since first data (s)\"\n",
      "                @start_time = 1660324533.988526\n",
      "                @start_time_iso = \"2022-08-12T12:15:33.988526\"\n",
      "                @target = \"/entry/instrument/bluesky/streams/primary/motor/time\"\n",
      "                @units = \"s\"\n",
      "              value:NX_FLOAT64[5] = [-0.5, -0.25, 0.0, 0.25, 0.5]\n",
      "                @long_name = \"motor\"\n",
      "                @lower_ctrl_limit = -32000.0\n",
      "                @precision = 5\n",
      "                @signal_type = \"positioner\"\n",
      "                @source = \"PV:gp:m10.RBV\"\n",
      "                @target = \"/entry/instrument/bluesky/streams/primary/motor/value\"\n",
      "                @units = \"degrees\"\n",
      "                @upper_ctrl_limit = 32000.0\n",
      "            motor_user_setpoint:NXdata\n",
      "              @NX_class = \"NXdata\"\n",
      "              @axes = [\"time\"]\n",
      "              @signal = \"value\"\n",
      "              @signal_type = \"other\"\n",
      "              @target = \"/entry/instrument/bluesky/streams/primary/motor_user_setpoint\"\n",
      "              EPOCH:NX_FLOAT64[5] = [1660324532.804592, 1660324534.203175, 1660324534.733108, 1660324535.254951, 1660324535.757391]\n",
      "                @long_name = \"epoch time (s)\"\n",
      "                @target = \"/entry/instrument/bluesky/streams/primary/motor_user_setpoint/EPOCH\"\n",
      "                @units = \"s\"\n",
      "              time:NX_FLOAT64[5] = [0.0, 1.398583173751831, 1.928516149520874, 2.4503591060638428, 2.952799081802368]\n",
      "                @long_name = \"time since first data (s)\"\n",
      "                @start_time = 1660324532.804592\n",
      "                @start_time_iso = \"2022-08-12T12:15:32.804592\"\n",
      "                @target = \"/entry/instrument/bluesky/streams/primary/motor_user_setpoint/time\"\n",
      "                @units = \"s\"\n",
      "              value:NX_FLOAT64[5] = [-0.5, -0.25, 0.0, 0.25, 0.5]\n",
      "                @long_name = \"motor_user_setpoint\"\n",
      "                @lower_ctrl_limit = -32000.0\n",
      "                @precision = 5\n",
      "                @signal_type = \"other\"\n",
      "                @source = \"PV:gp:m10.VAL\"\n",
      "                @target = \"/entry/instrument/bluesky/streams/primary/motor_user_setpoint/value\"\n",
      "                @units = \"degrees\"\n",
      "                @upper_ctrl_limit = 32000.0\n",
      "            sensor:NXdata\n",
      "              @NX_class = \"NXdata\"\n",
      "              @axes = [\"time\"]\n",
      "              @signal = \"value\"\n",
      "              @signal_type = \"detector\"\n",
      "              @target = \"/entry/instrument/bluesky/streams/primary/sensor\"\n",
      "              EPOCH:NX_FLOAT64[5] = [1660324534.021203, 1660324534.621116, 1660324535.121076, 1660324535.621109, 1660324536.121116]\n",
      "                @long_name = \"epoch time (s)\"\n",
      "                @target = \"/entry/instrument/bluesky/streams/primary/sensor/EPOCH\"\n",
      "                @units = \"s\"\n",
      "              time:NX_FLOAT64[5] = [0.0, 0.5999128818511963, 1.0998730659484863, 1.5999059677124023, 2.0999128818511963]\n",
      "                @long_name = \"time since first data (s)\"\n",
      "                @start_time = 1660324534.021203\n",
      "                @start_time_iso = \"2022-08-12T12:15:34.021203\"\n",
      "                @target = \"/entry/instrument/bluesky/streams/primary/sensor/time\"\n",
      "                @units = \"s\"\n",
      "              value:NX_FLOAT64[5] = [0.7791256580453193, 0.9965667200732433, 0.6351567864499885, 0.6846112764171817, 0.6903791866941329]\n",
      "                @long_name = \"sensor\"\n",
      "                @lower_ctrl_limit = 0.0\n",
      "                @precision = 5\n",
      "                @signal_type = \"detector\"\n",
      "                @source = \"PV:gp:userCalc10.VAL\"\n",
      "                @target = \"/entry/instrument/bluesky/streams/primary/sensor/value\"\n",
      "                @units = \"\"\n",
      "                @upper_ctrl_limit = 0.0\n",
      "      detectors:NXnote\n",
      "        @NX_class = \"NXnote\"\n",
      "        @target = \"/entry/instrument/detectors\"\n",
      "        sensor:NXdetector\n",
      "          @NX_class = \"NXdetector\"\n",
      "          @target = \"/entry/instrument/detectors/sensor\"\n",
      "          data --> /entry/instrument/bluesky/streams/primary/sensor\n",
      "      positioners:NXnote\n",
      "        @NX_class = \"NXnote\"\n",
      "        @target = \"/entry/instrument/positioners\"\n",
      "        motor:NXpositioner\n",
      "          @NX_class = \"NXpositioner\"\n",
      "          @target = \"/entry/instrument/positioners/motor\"\n",
      "          value --> /entry/instrument/bluesky/streams/primary/motor\n",
      "      source:NXsource\n",
      "        @NX_class = \"NXsource\"\n",
      "        @target = \"/entry/instrument/source\"\n",
      "        name:NX_CHAR = b'Bluesky framework'\n",
      "          @short_name = \"bluesky\"\n",
      "        probe:NX_CHAR = b'x-ray'\n",
      "        type:NX_CHAR = b'Synchrotron X-ray Source'\n",
      "\n"
     ]
    }
   ],
   "source": [
    "from apstools.utils import unix\n",
    "\n",
    "for line in unix(f\"punx tree {nxwriter.file_name}\"):\n",
    "    print(line.decode().strip())"
   ]
  },
  {
   "cell_type": "markdown",
   "metadata": {},
   "source": [
    "## Export data\n"
   ]
  },
  {
   "cell_type": "code",
   "execution_count": 5,
   "metadata": {},
   "outputs": [
    {
     "name": "stderr",
     "output_type": "stream",
     "text": [
      "'HDF5 address /entry/instrument/bluesky/streams/baseline/monochromator_dcm_wavelength/value_start not found.' -- not creating monochromator group\n",
      "'HDF5 address /entry/instrument/bluesky/streams/baseline/sample_data_chemical_formula/value_start not found.'\n",
      "'HDF5 address /entry/instrument/bluesky/streams/baseline/sample_data_concentration/value_start not found.'\n",
      "'HDF5 address /entry/instrument/bluesky/streams/baseline/sample_data_description/value_start not found.'\n",
      "'HDF5 address /entry/instrument/bluesky/streams/baseline/sample_data_electric_field/value_start not found.'\n",
      "'HDF5 address /entry/instrument/bluesky/streams/baseline/sample_data_magnetic_field/value_start not found.'\n",
      "'HDF5 address /entry/instrument/bluesky/streams/baseline/sample_data_rotation_angle/value_start not found.'\n",
      "'HDF5 address /entry/instrument/bluesky/streams/baseline/sample_data_scattering_length_density/value_start not found.'\n",
      "'HDF5 address /entry/instrument/bluesky/streams/baseline/sample_data_stress_field/value_start not found.'\n",
      "'HDF5 address /entry/instrument/bluesky/streams/baseline/sample_data_temperature/value_start not found.'\n",
      "'HDF5 address /entry/instrument/bluesky/streams/baseline/sample_data_volume_fraction/value_start not found.'\n",
      "'HDF5 address /entry/instrument/bluesky/streams/baseline/sample_data_x_translation/value_start not found.'\n",
      "no sample data found, not creating sample group\n",
      "'HDF5 address /entry/instrument/bluesky/streams/baseline/bss_user_info_contact/value_start not found.' -- not creating source group\n",
      "No data for /entry/run_cycle\n"
     ]
    },
    {
     "name": "stdout",
     "output_type": "stream",
     "text": [
      "h5_file.exists()=True  h5_file=PosixPath('/tmp/db_export.h5')\n"
     ]
    }
   ],
   "source": [
    "from apstools.callbacks import NXWriter\n",
    "from apstools.utils import replay\n",
    "import databroker\n",
    "\n",
    "# This example uses 'cat' as defined above.  You use this next line:\n",
    "# cat = databroker.databroker[\"YOUR_CATALOG_NAME\"]\n",
    "\n",
    "h5_file = pathlib.Path(\"/tmp/db_export.h5\")\n",
    "\n",
    "scan_id = 1  # TODO: you choose\n",
    "nxwriter = NXWriter()\n",
    "nxwriter.file_name = str(h5_file)\n",
    "replay(cat.v1[scan_id], nxwriter.receiver)\n",
    "print(f\"{h5_file.exists()=}  {h5_file=}\")"
   ]
  }
 ],
 "metadata": {
  "kernelspec": {
   "display_name": "Python 3.9.13 ('base')",
   "language": "python",
   "name": "python3"
  },
  "language_info": {
   "codemirror_mode": {
    "name": "ipython",
    "version": 3
   },
   "file_extension": ".py",
   "mimetype": "text/x-python",
   "name": "python",
   "nbconvert_exporter": "python",
   "pygments_lexer": "ipython3",
   "version": "3.9.13"
  },
  "orig_nbformat": 4,
  "vscode": {
   "interpreter": {
    "hash": "f38aef175fb08dfc130a7d9bb9234f0792dc9ad861f95b6c05aedd1b380356e2"
   }
  }
 },
 "nbformat": 4,
 "nbformat_minor": 2
}
