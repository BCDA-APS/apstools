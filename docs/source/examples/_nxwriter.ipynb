{
 "cells": [
  {
   "cell_type": "markdown",
   "metadata": {},
   "source": [
    "# Example: NXWriter callback\n",
    "\n",
    "**NOTE**: work-in-progress\n",
    "\n",
    "**Objective**\n",
    "\n",
    "Demonstrate use of `apstools.callbacks.NXWriter` and\n",
    "`apstools.callbacks.NXWriterAPS` as callbacks and then use either (or both) to\n",
    "export data from databroker.\n",
    "\n",
    "**Contents**\n",
    "\n",
    "- [Use as callback](#Use-as-callback)\n",
    "- [Export data](#Export-data)\n",
    "\n",
    "## Use as callback\n",
    "\n",
    "```py\n",
    "nxwriteraps = apstools.callbacks.NXWriterAPS()\n",
    "RE.subscribe(nxwriteraps.receiver)\n",
    "```\n",
    "\n",
    "## Export data\n"
   ]
  }
 ],
 "metadata": {
  "language_info": {
   "name": "python"
  },
  "orig_nbformat": 4
 },
 "nbformat": 4,
 "nbformat_minor": 2
}
