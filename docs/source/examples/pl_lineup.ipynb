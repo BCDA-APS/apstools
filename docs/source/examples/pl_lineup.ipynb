{
 "cells": [
  {
   "cell_type": "markdown",
   "metadata": {},
   "source": [
    "# The ``lineup()`` plan - align an axis with a signal\n",
    "\n",
    "In this example, we demonstrate the `apstools.plans.lineup()` plan, which aligns\n",
    "an axis using some statistical measure (`cen`: centroid, `com`: center of mass,\n",
    "`max`: position of peak value, or even `min`: negative trending peaks) of a\n",
    "signal.  If an alignment is possible, an optional rescan will fine-tune the\n",
    "alignment within the width and center of the first scan.  Use `rescan=False`\n",
    "keyword to disable.  Here's an example chart showing the first (roughly, locate\n",
    "at least one point **within** the peak) and second (fine-tune the position)\n",
    "scans.\n",
    "\n",
    "![Chart of example lineup showing first and second scans.](lineup.png)\n",
    "\n",
    "We'll use a floating-point scalar value (not connected to hardware) as a\n",
    "*positioner*.  Then, we prepare a simulated *detector* signal that is a\n",
    "computation based on the value of our positioner.  The computed signal is a\n",
    "model of a realistic diffraction peak\n",
    "([pseudo-Voigt](https://en.wikipedia.org/wiki/Voigt_profile), a mixture of a\n",
    "Gaussian and a Lorentzian) one might encounter in a powder diffraction scan.\n",
    "The model peak is a pseudo-voigt function to which some noise has been added.\n",
    "Random numbers are used to modify the ideal pseudo-voigt function so as to\n",
    "simulate a realistic signal.\n",
    "\n",
    "For this demo, we'll use a temporary databroker catalog (deleted when the\n",
    "notebook is closed) since we do not plan to review any of this data after\n",
    "collection.  We'll display the data during the scan(in both a table and a chart)\n",
    "using a `BestEffortCallback()` subscription to the `bluesky.RunEngine()`."
   ]
  },
  {
   "cell_type": "code",
   "execution_count": 1,
   "metadata": {},
   "outputs": [
    {
     "data": {
      "text/plain": [
       "1"
      ]
     },
     "execution_count": 1,
     "metadata": {},
     "output_type": "execute_result"
    }
   ],
   "source": [
    "from apstools.devices import SynPseudoVoigt\n",
    "from apstools.plans import lineup\n",
    "from apstools.tests import IOC\n",
    "from bluesky import RunEngine\n",
    "from bluesky.callbacks import best_effort\n",
    "import bluesky.plan_stubs as bps\n",
    "import databroker\n",
    "import numpy\n",
    "import ophyd\n",
    "\n",
    "bec = best_effort.BestEffortCallback()\n",
    "cat = databroker.temp()\n",
    "RE = RunEngine({})\n",
    "RE.subscribe(cat.v1.insert)\n",
    "RE.subscribe(bec)"
   ]
  },
  {
   "cell_type": "markdown",
   "metadata": {},
   "source": [
    "## Setup\n",
    "\n",
    "Set the IOC prefix and connect with our EPICS PVs."
   ]
  },
  {
   "cell_type": "code",
   "execution_count": 2,
   "metadata": {},
   "outputs": [],
   "source": [
    "IOC = \"gp:\"\n",
    "axis = ophyd.EpicsSignal(f\"{IOC}gp:float1\", name=\"axis\")\n",
    "m1 = ophyd.EpicsMotor(f\"{IOC}m1\", name=\"m1\")\n",
    "\n",
    "for obj in (axis, m1):\n",
    "    obj.wait_for_connection()"
   ]
  },
  {
   "cell_type": "markdown",
   "metadata": {},
   "source": [
    "Once connected, create the *detector* signal (the computed pseudo-Voigt) with default peak parameters."
   ]
  },
  {
   "cell_type": "code",
   "execution_count": 3,
   "metadata": {},
   "outputs": [],
   "source": [
    "# Need to know that axis is connected before using here.\n",
    "pvoigt = SynPseudoVoigt(name=\"pvoigt\", motor=axis, motor_field=axis.name)"
   ]
  },
  {
   "cell_type": "markdown",
   "metadata": {},
   "source": [
    "The `pvoigt` signal must have `kind=\"hinted\"` for it to appear in tables and plots."
   ]
  },
  {
   "cell_type": "code",
   "execution_count": 4,
   "metadata": {},
   "outputs": [],
   "source": [
    "pvoigt.kind = \"hinted\""
   ]
  },
  {
   "cell_type": "markdown",
   "metadata": {},
   "source": [
    "Move `axis` to a starting position.  Pick zero."
   ]
  },
  {
   "cell_type": "code",
   "execution_count": 5,
   "metadata": {},
   "outputs": [
    {
     "data": {
      "text/plain": [
       "()"
      ]
     },
     "execution_count": 5,
     "metadata": {},
     "output_type": "execute_result"
    }
   ],
   "source": [
    "RE(bps.mv(axis, 0))"
   ]
  },
  {
   "cell_type": "markdown",
   "metadata": {},
   "source": [
    "## Scan\n",
    "\n",
    "To make things interesting, first randomize the peak parameters.  (Peak is placed randomly between -1..+1 on `axis` scale, with random width, scale, pseudo-Voigt mixing parameter, noise, ...)"
   ]
  },
  {
   "cell_type": "code",
   "execution_count": 6,
   "metadata": {},
   "outputs": [],
   "source": [
    "pvoigt.randomize_parameters(scale=100_000)"
   ]
  },
  {
   "cell_type": "markdown",
   "metadata": {},
   "source": [
    "Run the `lineup()` plan through the range where the peak is expected.  Don't need many points to catch some value that is acceptable (max is more than 4*min) the background."
   ]
  },
  {
   "cell_type": "code",
   "execution_count": 7,
   "metadata": {},
   "outputs": [
    {
     "name": "stdout",
     "output_type": "stream",
     "text": [
      "\n",
      "\n",
      "Transient Scan ID: 1     Time: 2022-09-28 13:27:03\n",
      "Persistent Unique Scan ID: 'b7bbbef5-db88-4c40-82e3-8a18efd872b3'\n",
      "New stream: 'primary'\n",
      "+-----------+------------+------------+------------+\n",
      "|   seq_num |       time |       axis |     pvoigt |\n",
      "+-----------+------------+------------+------------+\n",
      "|         1 | 13:27:03.7 |    -1.2000 |        306 |\n",
      "|         2 | 13:27:03.7 |    -1.0000 |        329 |\n",
      "|         3 | 13:27:03.8 |    -0.8000 |        324 |\n",
      "|         4 | 13:27:03.8 |    -0.6000 |        318 |\n",
      "|         5 | 13:27:03.8 |    -0.4000 |        336 |\n",
      "|         6 | 13:27:03.8 |    -0.2000 |        399 |\n",
      "|         7 | 13:27:03.9 |     0.0000 |        645 |\n",
      "|         8 | 13:27:03.9 |     0.2000 |      94037 |\n",
      "|         9 | 13:27:03.9 |     0.4000 |        772 |\n",
      "|        10 | 13:27:03.9 |     0.6000 |        417 |\n",
      "|        11 | 13:27:04.0 |     0.8000 |        360 |\n",
      "|        12 | 13:27:04.0 |     1.0000 |        334 |\n",
      "|        13 | 13:27:04.0 |     1.2000 |        312 |\n",
      "+-----------+------------+------------+------------+\n",
      "generator rel_scan ['b7bbbef5'] (scan num: 1)\n",
      "\n",
      "\n",
      "\n",
      "\n",
      "\n",
      "Transient Scan ID: 2     Time: 2022-09-28 13:27:04\n",
      "Persistent Unique Scan ID: '242368a2-230f-44c0-9a0a-c47a6691099f'\n",
      "New stream: 'primary'\n",
      "+-----------+------------+------------+------------+\n",
      "|   seq_num |       time |       axis |     pvoigt |\n",
      "+-----------+------------+------------+------------+\n",
      "|         1 | 13:27:04.2 |    -0.0008 |        691 |\n",
      "|         2 | 13:27:04.2 |     0.0327 |        877 |\n",
      "|         3 | 13:27:04.2 |     0.0662 |       1190 |\n",
      "|         4 | 13:27:04.2 |     0.0996 |       1666 |\n",
      "|         5 | 13:27:04.3 |     0.1331 |       4998 |\n",
      "|         6 | 13:27:04.3 |     0.1666 |      30976 |\n",
      "|         7 | 13:27:04.3 |     0.2001 |      94091 |\n",
      "|         8 | 13:27:04.3 |     0.2335 |      71695 |\n",
      "|         9 | 13:27:04.3 |     0.2670 |      16367 |\n",
      "|        10 | 13:27:04.4 |     0.3005 |       2905 |\n",
      "|        11 | 13:27:04.4 |     0.3340 |       1420 |\n",
      "|        12 | 13:27:04.4 |     0.3675 |       1091 |\n",
      "|        13 | 13:27:04.4 |     0.4009 |        809 |\n",
      "+-----------+------------+------------+------------+\n",
      "generator rel_scan ['242368a2'] (scan num: 2)\n",
      "\n",
      "\n",
      "\n",
      "pvoigt.read()={'pvoigt': {'value': 809, 'timestamp': 1664389624.4694107}}, axis.get()=0.21177447432113528\n"
     ]
    },
    {
     "data": {
      "image/png": "[encoded data removed]",
      "text/plain": [
       "<Figure size 360x360 with 1 Axes>"
      ]
     },
     "metadata": {
      "needs_background": "light"
     },
     "output_type": "display_data"
    }
   ],
   "source": [
    "RE(lineup(pvoigt, axis, -1.2, 1.2, 13, None, feature=\"cen\", rescan=True))\n",
    "print(f\"{pvoigt.read()=}, {axis.get()=}\")"
   ]
  },
  {
   "cell_type": "markdown",
   "metadata": {},
   "source": [
    "# Validate\n",
    "\n",
    "Show the position after the `lineup()` completes.  Test (Python `assert`) that it is within the expected range."
   ]
  },
  {
   "cell_type": "code",
   "execution_count": 8,
   "metadata": {},
   "outputs": [
    {
     "name": "stdout",
     "output_type": "stream",
     "text": [
      "center=0.21073929415652382\n",
      "sigma=0.0671644345816434\n",
      "bec.peaks={\n",
      "'com':\n",
      "    {'pvoigt': 0.2102927984243561}\n",
      ",\n",
      "'cen':\n",
      "    {'pvoigt': 0.21177447432113528}\n",
      ",\n",
      "'max':\n",
      "    {'pvoigt': (0.2000683327037882,\n",
      "                94091)}\n",
      ",\n",
      "'min':\n",
      "    {'pvoigt': (-0.0007943049498050359,\n",
      "                691)}\n",
      ",\n",
      "'fwhm':\n",
      "    {'pvoigt': 0.07295299029547106}\n",
      ",\n",
      "}\n"
     ]
    }
   ],
   "source": [
    "center = pvoigt.center\n",
    "sigma = 2.355 * pvoigt.sigma\n",
    "print(f\"{center=}\\n{sigma=}\\n{bec.peaks=}\")\n",
    "assert center-sigma <= axis.get() <= center+sigma"
   ]
  }
 ],
 "metadata": {
  "kernelspec": {
   "display_name": "Python 3.9.13 ('bluesky_2022_3')",
   "language": "python",
   "name": "python3"
  },
  "language_info": {
   "codemirror_mode": {
    "name": "ipython",
    "version": 3
   },
   "file_extension": ".py",
   "mimetype": "text/x-python",
   "name": "python",
   "nbconvert_exporter": "python",
   "pygments_lexer": "ipython3",
   "version": "3.9.13"
  },
  "orig_nbformat": 4,
  "vscode": {
   "interpreter": {
    "hash": "b8b33b6f973508780ebf5a25daa70491e33966a11f9c922d918d5dafd5e1ee6b"
   }
  }
 },
 "nbformat": 4,
 "nbformat_minor": 2
}
