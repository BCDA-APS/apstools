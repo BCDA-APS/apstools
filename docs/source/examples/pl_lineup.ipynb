{
 "cells": [
  {
   "cell_type": "markdown",
   "metadata": {},
   "source": [
    "# The ``lineup()`` plan - align an axis with a signal\n",
    "\n",
    "In this example, we demonstrate the `apstools.plans.lineup()` plan, which aligns\n",
    "an axis using some statistical measure (`cen`: centroid, `com`: center of mass,\n",
    "`max`: position of peak value, or even `min`: negative trending peaks) of a\n",
    "signal.  If an alignment is possible, an optional rescan will fine-tune the\n",
    "alignment within the width and center of the first scan.  Use `rescan=False`\n",
    "keyword to disable.  Here's an example chart showing the first (roughly, locate\n",
    "at least one point **within** the peak) and second (fine-tune the position)\n",
    "scans.\n",
    "\n",
    "![Chart of example lineup showing first and second scans.](lineup.png)\n",
    "\n",
    "We'll use a floating-point scalar value (not connected to hardware) as a\n",
    "*positioner*.  Then, we prepare a simulated *detector* signal that is a\n",
    "computation based on the value of our positioner.  The computed signal is a\n",
    "model of a realistic diffraction peak\n",
    "([pseudo-Voigt](https://en.wikipedia.org/wiki/Voigt_profile), a mixture of a\n",
    "Gaussian and a Lorentzian) one might encounter in a powder diffraction scan.\n",
    "The model peak is a pseudo-voigt function to which some noise has been added.\n",
    "Random numbers are used to modify the ideal pseudo-voigt function so as to\n",
    "simulate a realistic signal.\n",
    "\n",
    "For this demo, we'll use a temporary databroker catalog (deleted when the\n",
    "notebook is closed) since we do not plan to review any of this data after\n",
    "collection.  We'll display the data during the scan(in both a table and a chart)\n",
    "using a `BestEffortCallback()` subscription to the `bluesky.RunEngine()`."
   ]
  },
  {
   "cell_type": "code",
   "execution_count": 1,
   "metadata": {},
   "outputs": [
    {
     "data": {
      "text/plain": [
       "1"
      ]
     },
     "execution_count": 1,
     "metadata": {},
     "output_type": "execute_result"
    }
   ],
   "source": [
    "from apstools.devices import SynPseudoVoigt\n",
    "from apstools.plans import lineup\n",
    "from apstools.tests import IOC\n",
    "from bluesky import RunEngine\n",
    "from bluesky.callbacks import best_effort\n",
    "import bluesky.plan_stubs as bps\n",
    "import databroker\n",
    "import numpy\n",
    "import ophyd\n",
    "\n",
    "bec = best_effort.BestEffortCallback()\n",
    "cat = databroker.temp()\n",
    "RE = RunEngine({})\n",
    "RE.subscribe(cat.v1.insert)\n",
    "RE.subscribe(bec)"
   ]
  },
  {
   "cell_type": "markdown",
   "metadata": {},
   "source": [
    "## Setup\n",
    "\n",
    "Set the IOC prefix and connect with our EPICS PVs."
   ]
  },
  {
   "cell_type": "code",
   "execution_count": 2,
   "metadata": {},
   "outputs": [],
   "source": [
    "IOC = \"gp:\"\n",
    "axis = ophyd.EpicsSignal(f\"{IOC}gp:float1\", name=\"axis\")\n",
    "\n",
    "axis.wait_for_connection()"
   ]
  },
  {
   "cell_type": "markdown",
   "metadata": {},
   "source": [
    "Once connected, create the *detector* signal (the computed pseudo-Voigt) with default peak parameters."
   ]
  },
  {
   "cell_type": "code",
   "execution_count": 3,
   "metadata": {},
   "outputs": [],
   "source": [
    "# Need to know that axis is connected before using here.\n",
    "pvoigt = SynPseudoVoigt(name=\"pvoigt\", motor=axis, motor_field=axis.name)"
   ]
  },
  {
   "cell_type": "markdown",
   "metadata": {},
   "source": [
    "The `pvoigt` signal must have `kind=\"hinted\"` for it to appear in tables and plots."
   ]
  },
  {
   "cell_type": "code",
   "execution_count": 4,
   "metadata": {},
   "outputs": [],
   "source": [
    "pvoigt.kind = \"hinted\""
   ]
  },
  {
   "cell_type": "markdown",
   "metadata": {},
   "source": [
    "Move `axis` to a starting position.  Pick zero."
   ]
  },
  {
   "cell_type": "code",
   "execution_count": 5,
   "metadata": {},
   "outputs": [
    {
     "data": {
      "text/plain": [
       "()"
      ]
     },
     "execution_count": 5,
     "metadata": {},
     "output_type": "execute_result"
    }
   ],
   "source": [
    "RE(bps.mv(axis, 0))"
   ]
  },
  {
   "cell_type": "markdown",
   "metadata": {},
   "source": [
    "## Scan\n",
    "\n",
    "To make things interesting, first randomize the peak parameters.  (Peak is placed randomly between -1..+1 on `axis` scale, with random width, scale, pseudo-Voigt mixing parameter, noise, ...)"
   ]
  },
  {
   "cell_type": "code",
   "execution_count": 6,
   "metadata": {},
   "outputs": [],
   "source": [
    "pvoigt.randomize_parameters(scale=100_000)"
   ]
  },
  {
   "cell_type": "markdown",
   "metadata": {},
   "source": [
    "Run the `lineup()` plan through the range where the peak is expected.  Don't need many points to catch some value that is acceptable (max is more than 4*min) the background."
   ]
  },
  {
   "cell_type": "code",
   "execution_count": 7,
   "metadata": {},
   "outputs": [
    {
     "name": "stdout",
     "output_type": "stream",
     "text": [
      "\n",
      "\n",
      "Transient Scan ID: 1     Time: 2022-09-28 15:35:18\n",
      "Persistent Unique Scan ID: '22182d47-72c1-450b-bf62-035a2c608d11'\n",
      "New stream: 'primary'\n",
      "+-----------+------------+------------+------------+\n",
      "|   seq_num |       time |       axis |     pvoigt |\n",
      "+-----------+------------+------------+------------+\n",
      "|         1 | 15:35:18.6 |    -1.2000 |       1413 |\n",
      "|         2 | 15:35:18.6 |    -1.0000 |       5259 |\n",
      "|         3 | 15:35:18.7 |    -0.8000 |      55856 |\n",
      "|         4 | 15:35:18.7 |    -0.6000 |       2113 |\n",
      "|         5 | 15:35:18.7 |    -0.4000 |       1070 |\n",
      "|         6 | 15:35:18.8 |    -0.2000 |        796 |\n",
      "|         7 | 15:35:18.8 |     0.0000 |        689 |\n",
      "|         8 | 15:35:18.8 |     0.2000 |        675 |\n",
      "|         9 | 15:35:18.8 |     0.4000 |        600 |\n",
      "|        10 | 15:35:18.8 |     0.6000 |        649 |\n",
      "|        11 | 15:35:18.9 |     0.8000 |        567 |\n",
      "|        12 | 15:35:18.9 |     1.0000 |        547 |\n",
      "|        13 | 15:35:18.9 |     1.2000 |        552 |\n",
      "+-----------+------------+------------+------------+\n",
      "generator rel_scan ['22182d47'] (scan num: 1)\n",
      "\n",
      "\n",
      "\n",
      "\n",
      "\n",
      "Transient Scan ID: 2     Time: 2022-09-28 15:35:19\n",
      "Persistent Unique Scan ID: '9928a319-fa14-4b5e-837f-1f4058f7029c'\n",
      "New stream: 'primary'\n",
      "+-----------+------------+------------+------------+\n",
      "|   seq_num |       time |       axis |     pvoigt |\n",
      "+-----------+------------+------------+------------+\n",
      "|         1 | 15:35:19.1 |    -1.0154 |       4403 |\n",
      "|         2 | 15:35:19.1 |    -0.9801 |       7746 |\n",
      "|         3 | 15:35:19.1 |    -0.9447 |      18831 |\n",
      "|         4 | 15:35:19.2 |    -0.9093 |      46123 |\n",
      "|         5 | 15:35:19.2 |    -0.8739 |      88448 |\n",
      "|         6 | 15:35:19.2 |    -0.8386 |      99186 |\n",
      "|         7 | 15:35:19.2 |    -0.8032 |      59675 |\n",
      "|         8 | 15:35:19.2 |    -0.7678 |      25649 |\n",
      "|         9 | 15:35:19.3 |    -0.7325 |      10329 |\n",
      "|        10 | 15:35:19.3 |    -0.6971 |       5200 |\n",
      "|        11 | 15:35:19.3 |    -0.6617 |       3386 |\n",
      "|        12 | 15:35:19.3 |    -0.6263 |       2602 |\n",
      "|        13 | 15:35:19.3 |    -0.5910 |       2046 |\n",
      "+-----------+------------+------------+------------+\n",
      "generator rel_scan ['9928a319'] (scan num: 2)\n",
      "\n",
      "\n",
      "\n",
      "pvoigt.read()={'pvoigt': {'value': 2046, 'timestamp': 1664397319.3793561}}, axis.get()=-0.8496701712914874\n"
     ]
    },
    {
     "data": {
      "image/png": "[encoded data removed]",
      "text/plain": [
       "<Figure size 360x360 with 1 Axes>"
      ]
     },
     "metadata": {
      "needs_background": "light"
     },
     "output_type": "display_data"
    }
   ],
   "source": [
    "RE(lineup(pvoigt, axis, -1.2, 1.2, 13, feature=\"cen\", rescan=True))\n",
    "print(f\"{pvoigt.read()=}, {axis.get()=}\")"
   ]
  },
  {
   "cell_type": "markdown",
   "metadata": {},
   "source": [
    "## Validate\n",
    "\n",
    "Show the position after the `lineup()` completes.  Test (Python `assert`) that it is within the expected range."
   ]
  },
  {
   "cell_type": "code",
   "execution_count": 8,
   "metadata": {},
   "outputs": [
    {
     "name": "stdout",
     "output_type": "stream",
     "text": [
      "center=-0.8503901139652472\n",
      "sigma=0.11456520969899238\n",
      "bec.peaks={\n",
      "'com':\n",
      "    {'pvoigt': -0.8461974129441658}\n",
      ",\n",
      "'cen':\n",
      "    {'pvoigt': -0.8496701712914874}\n",
      ",\n",
      "'max':\n",
      "    {'pvoigt': (-0.8385705807871623,\n",
      "                99186)}\n",
      ",\n",
      "'min':\n",
      "    {'pvoigt': (-0.5909727956676526,\n",
      "                2046)}\n",
      ",\n",
      "'fwhm':\n",
      "    {'pvoigt': 0.11177564414922392}\n",
      ",\n",
      "}\n"
     ]
    }
   ],
   "source": [
    "center = pvoigt.center\n",
    "sigma = 2.355 * pvoigt.sigma\n",
    "print(f\"{center=}\\n{sigma=}\\n{bec.peaks=}\")\n",
    "assert center-sigma <= axis.get() <= center+sigma"
   ]
  }
 ],
 "metadata": {
  "kernelspec": {
   "display_name": "Python 3.9.13 ('bluesky_2022_3')",
   "language": "python",
   "name": "python3"
  },
  "language_info": {
   "codemirror_mode": {
    "name": "ipython",
    "version": 3
   },
   "file_extension": ".py",
   "mimetype": "text/x-python",
   "name": "python",
   "nbconvert_exporter": "python",
   "pygments_lexer": "ipython3",
   "version": "3.9.13"
  },
  "orig_nbformat": 4,
  "vscode": {
   "interpreter": {
    "hash": "b8b33b6f973508780ebf5a25daa70491e33966a11f9c922d918d5dafd5e1ee6b"
   }
  }
 },
 "nbformat": 4,
 "nbformat_minor": 2
}
