{
 "cells": [
  {
   "cell_type": "markdown",
   "metadata": {},
   "source": [
    "# Area Detector in Single mode with HDF5 plugin"
   ]
  },
  {
   "cell_type": "markdown",
   "metadata": {},
   "source": [
    "**Objective**\n",
    "\n",
    "The [EPICS area detector](https://areadetector.github.io/master/index.html) software has a `Single` mode that reduces the configuration steps needed to acquire an image frame (?**or frames**?) and output a file.  Here, we show how to configure the EPICS controls, then acquire an image with [bluesky](https://blueskyproject.io/) and write it to an [HDF5](https://www.hdfgroup.org/solutions/hdf5) file.\n",
    "\n",
    "**Contents**\n",
    "\n",
    "- [EPICS Area Detector IOC](#EPICS-Area-Detector-IOC) is pre-built\n",
    "- [File Directories](#File-Directories) are different on IOC and bluesky workstation\n",
    "- [ophyd](#ophyd) to describe the hardware\n",
    "- [bluesky](#bluesky) for the measurement\n",
    "- [databroker](#databroker) to view the image\n",
    "- [punx](#punx) (not part of Bluesky) to look at the HDF5 file\n",
    "- [Recapitulation](#Recapitulation) - rendition with no explanations\n",
    "\n",
    "In other examples (such as AD with [default file names](./de_adsim_hdf5_basic.ipynb) or [custom file names](./de_adsim_hdf5_custom_names.ipynb)), we described the details of the area detector support.  Refer to those examples for the details.  Here, following the same general outline, we leverage that knowledge and proceed to the specifics for this example."
   ]
  },
  {
   "cell_type": "markdown",
   "metadata": {},
   "source": [
    "<details>\n",
    "<summary>TODO: Be sure to add these items</summary>\n",
    "***NOTE***\n",
    "\n",
    "This might need some customizations for `ophyd.areadetector.filestore_mixins.FileStoreHDF5IterativeWrite` to configure the staging properly and not include the `det.hdf1.capture` signal.  Also need to ensure `point_number` is written properly for databroker to retrieve the image from the HDF5 file.\n",
    "\n",
    "Implementation here should consider [#671](https://github.com/BCDA-APS/apstools/issues/671). The [NSLS-II area detector support](https://github.com/NSLS-II/nslsii/blob/9cd77e0aa24d59fddf534948b9b97dacb0832ed2/nslsii/ad33.py#L37) has some changes.  Here, new version-specific mixins would be appropriate.\n",
    "</details>"
   ]
  },
  {
   "cell_type": "markdown",
   "metadata": {},
   "source": [
    "## EPICS Area Detector IOC\n",
    "\n",
    "This example uses a prebuilt [ADSimDetector](https://areadetector.github.io/master/ADSimDetector/simDetector.html) driver, packaged in a [docker](https://www.docker.com/) image\n",
    "([prjemian/custom-synapps-6.2-ad-3.10](https://hub.docker.com/r/prjemian/custom-synapps-6.2-ad-3.10/tags)).  The [EPICS IOC](https://docs.epics-controls.org/projects/how-tos/en/latest/getting-started/creating-ioc.html) is configured with prefix `ad:` using the [bash shell script](https://github.com/prjemian/epics-docker/blob/main/v1.1/n6_custom_areaDetector/start_adsim.sh):\n",
    "\n",
    "```bash\n",
    "user@workstation:~$ start_adsim.sh ad\n",
    "```"
   ]
  },
  {
   "cell_type": "code",
   "execution_count": 1,
   "metadata": {},
   "outputs": [],
   "source": [
    "IOC = \"ad:\""
   ]
  },
  {
   "cell_type": "markdown",
   "metadata": {},
   "source": [
    "## File Directories\n",
    "\n",
    "Files from the IOC are mounted on the docker host in the directory `/tmp/docker_ioc/iocad`. The bluesky session runs on the docker host.\n",
    "\n",
    "system | file directory\n",
    "--- | ---\n",
    "area detector IOC | `/tmp`\n",
    "bluesky | `/tmp/docker_ioc/iocad/tmp`"
   ]
  },
  {
   "cell_type": "code",
   "execution_count": 2,
   "metadata": {},
   "outputs": [],
   "source": [
    "import pathlib\n",
    "\n",
    "# These paths are specific to how this IOC is implemented.\n",
    "AD_IOC_MOUNT_PATH = pathlib.Path(\"/tmp\")\n",
    "BLUESKY_MOUNT_PATH = pathlib.Path(\"/tmp/docker_ioc/iocad/tmp\")"
   ]
  },
  {
   "cell_type": "markdown",
   "metadata": {},
   "source": [
    "Next, define some structures that we will use when constructing the detector object.  The `IMAGE_DIR` describes our default choice for where to store image files.  We can change this at run time by changing thearea detector file writer's  `FilePath` PV (before starting image acquisition)."
   ]
  },
  {
   "cell_type": "code",
   "execution_count": 3,
   "metadata": {},
   "outputs": [],
   "source": [
    "IMAGE_DIR = \"example/%Y/%m/%d\"  # our choice for file arrangement\n",
    "\n",
    "# MUST end with a `/`, pathlib will NOT provide it\n",
    "WRITE_PATH_TEMPLATE = f\"{AD_IOC_MOUNT_PATH / IMAGE_DIR}/\"\n",
    "READ_PATH_TEMPLATE = f\"{BLUESKY_MOUNT_PATH / IMAGE_DIR}/\""
   ]
  },
  {
   "cell_type": "markdown",
   "metadata": {},
   "source": [
    "## ophyd\n",
    "\n",
    "Here's a screen view of the configuration we want (`HDF` plugin on the left,\n",
    "`cam` plugin on the right):\n",
    "\n",
    "![Area Detector configuration for writing HDF5 files in Single mode](ad_hdf5_single_mode.png)"
   ]
  },
  {
   "cell_type": "markdown",
   "metadata": {},
   "source": [
    "### Preparation\n",
    "\n",
    "Configure how [matplotlib](https://matplotlib.org/) charts will be displayed by in the notebook.\n",
    "\n",
    "We'll import additional libraries as needed by each of the following steps."
   ]
  },
  {
   "cell_type": "code",
   "execution_count": 4,
   "metadata": {},
   "outputs": [
    {
     "data": {
      "text/plain": [
       "<matplotlib.pyplot._IonContext at 0x7fd2502cf3a0>"
      ]
     },
     "execution_count": 4,
     "metadata": {},
     "output_type": "execute_result"
    }
   ],
   "source": [
    "# matplotlib graphics, choices include: inline, notebook, auto\n",
    "%matplotlib inline\n",
    "\n",
    "import matplotlib.pyplot as plt\n",
    "\n",
    "plt.ion()  # turn on matplotlib plots"
   ]
  },
  {
   "cell_type": "markdown",
   "metadata": {},
   "source": [
    "Load [hdf5plugin](https://hdf5plugin.readthedocs.io), a library that supports advanced compression modes in HDF5 files.  (We don't have to call any of its modules directly.  The `import hdf5plugin` will install entry points needed when the supported compression modes are called.)\n",
    "\n",
    "NOTE: Any Python client that reads data compressed with these compression modes will also need to import the `hdf5plugin` library, or provide alternative support."
   ]
  },
  {
   "cell_type": "code",
   "execution_count": 5,
   "metadata": {},
   "outputs": [],
   "source": [
    "# for LZ4, Blosc, or other compression codecs (not already in h5py)\n",
    "import hdf5plugin"
   ]
  },
  {
   "cell_type": "markdown",
   "metadata": {},
   "source": [
    "### cam\n",
    "\n",
    "The `cam` Device describes the EPICS area detector camera driver for this detector."
   ]
  },
  {
   "cell_type": "code",
   "execution_count": 6,
   "metadata": {},
   "outputs": [],
   "source": [
    "from apstools.devices import CamMixin_V34\n",
    "from ophyd.areadetector import SimDetectorCam\n",
    "\n",
    "class TheDetectorCam(CamMixin_V34, SimDetectorCam):\n",
    "    \"\"\"Revise SimDetectorCam for ADCore revisions.\"\"\""
   ]
  },
  {
   "cell_type": "markdown",
   "metadata": {},
   "source": [
    "### HDF5\n",
    "\n",
    "The `hdf1` Device describes the HDF5 File Writing plugin for this detector."
   ]
  },
  {
   "cell_type": "code",
   "execution_count": 7,
   "metadata": {},
   "outputs": [],
   "source": [
    "from ophyd.areadetector.filestore_mixins import FileStoreHDF5IterativeWrite\n",
    "from ophyd.areadetector.plugins import HDF5Plugin_V34 as HDF5Plugin\n",
    "\n",
    "class TheHDF5Plugin(FileStoreHDF5IterativeWrite, HDF5Plugin):\n",
    "    \"\"\"\n",
    "    Add data acquisition methods to HDF5Plugin.\n",
    "\n",
    "    * ``stage()`` - prepare device PVs befor data acquisition\n",
    "    * ``unstage()`` - restore device PVs after data acquisition\n",
    "    * ``generate_datum()`` - coordinate image storage metadata\n",
    "    \"\"\"\n",
    "\n",
    "    def stage(self):\n",
    "        # All other configuration settings must be staged before\n",
    "        # the plugin is set to capture.\n",
    "        self.stage_sigs.move_to_end(\"capture\", last=True)\n",
    "        super().stage()"
   ]
  },
  {
   "cell_type": "markdown",
   "metadata": {},
   "source": [
    "### detector\n",
    "\n",
    "The detector class, a subclass of `DetectorBase`, brings together the detector driver `cam` and plugins."
   ]
  },
  {
   "cell_type": "code",
   "execution_count": 8,
   "metadata": {},
   "outputs": [],
   "source": [
    "from apstools.devices import SingleTrigger_V34\n",
    "from ophyd import ADComponent\n",
    "from ophyd.areadetector import DetectorBase\n",
    "from ophyd.areadetector.plugins import ImagePlugin_V34 as ImagePlugin\n",
    "\n",
    "class TheDetector(SingleTrigger_V34, DetectorBase):\n",
    "    \"\"\"\n",
    "    ADSimDetector\n",
    "\n",
    "    SingleTrigger:\n",
    "\n",
    "    * stop any current acquisition\n",
    "    * sets image_mode to 'Multiple'\n",
    "    \"\"\"\n",
    "\n",
    "    cam = ADComponent(TheDetectorCam, \"cam1:\")\n",
    "    hdf1 = ADComponent(\n",
    "        TheHDF5Plugin,\n",
    "        \"HDF1:\",\n",
    "        write_path_template=WRITE_PATH_TEMPLATE,\n",
    "        read_path_template=READ_PATH_TEMPLATE,\n",
    "    )\n",
    "    image = ADComponent(ImagePlugin, \"image1:\")"
   ]
  },
  {
   "cell_type": "markdown",
   "metadata": {},
   "source": [
    "With all the above setup, create the Python detector object, `adsimdet` and wait for it to connect with EPICS."
   ]
  },
  {
   "cell_type": "code",
   "execution_count": 9,
   "metadata": {},
   "outputs": [],
   "source": [
    "adsimdet = TheDetector(IOC, name=\"adsimdet\")\n",
    "adsimdet.wait_for_connection(timeout=15)"
   ]
  },
  {
   "cell_type": "markdown",
   "metadata": {},
   "source": [
    "Check that all plugins used by the IOC have been defined in the Python structure.  Expect that this function returns an empty list: `[]`."
   ]
  },
  {
   "cell_type": "code",
   "execution_count": 10,
   "metadata": {},
   "outputs": [
    {
     "data": {
      "text/plain": [
       "[]"
      ]
     },
     "execution_count": 10,
     "metadata": {},
     "output_type": "execute_result"
    }
   ],
   "source": [
    "adsimdet.missing_plugins()"
   ]
  },
  {
   "cell_type": "markdown",
   "metadata": {},
   "source": [
    "We must configure `adsimdet` so the HDF5 plugin (by its attribute name `hdf1`) will be called during `adsimdet.read()`, as used by data acquisition."
   ]
  },
  {
   "cell_type": "code",
   "execution_count": 11,
   "metadata": {},
   "outputs": [],
   "source": [
    "adsimdet.read_attrs.append(\"hdf1\")"
   ]
  },
  {
   "cell_type": "markdown",
   "metadata": {},
   "source": [
    "Configure the HDF5 plugin so it will create up to 5 subdirectories for the image directory."
   ]
  },
  {
   "cell_type": "code",
   "execution_count": 12,
   "metadata": {},
   "outputs": [],
   "source": [
    "adsimdet.hdf1.create_directory.put(-5)"
   ]
  },
  {
   "cell_type": "markdown",
   "metadata": {},
   "source": [
    "*Prime* the HDF5 plugin, if necessary."
   ]
  },
  {
   "cell_type": "code",
   "execution_count": 13,
   "metadata": {},
   "outputs": [],
   "source": [
    "from apstools.devices import AD_plugin_primed\n",
    "from apstools.devices import AD_prime_plugin2\n",
    "\n",
    "# this step is needed for ophyd\n",
    "if not AD_plugin_primed(adsimdet.hdf1):\n",
    "    print(f\"Priming {adsimdet.hdf1.dotted_name}\")\n",
    "    AD_prime_plugin2(adsimdet.hdf1)"
   ]
  },
  {
   "cell_type": "markdown",
   "metadata": {},
   "source": [
    "## bluesky\n",
    "\n",
    "Within the [Bluesky framework](https://blueskyproject.io/), [bluesky](https://blueskyproject.io/bluesky) is the package that orchestrates the data acquisition steps, including where to direct acquired data for storage.  [Later](#databroker), we'll use [databroker](https://blueskyproject.io/databroker) to access the image data.\n",
    "\n",
    "First, setup the RunEngine object `RE`."
   ]
  },
  {
   "cell_type": "code",
   "execution_count": 14,
   "metadata": {},
   "outputs": [],
   "source": [
    "import bluesky\n",
    "\n",
    "RE = bluesky.RunEngine()"
   ]
  },
  {
   "cell_type": "markdown",
   "metadata": {},
   "source": [
    "### databroker (as RunEngine subscriber)\n",
    "\n",
    "Setup the databroker (with a temporary databroker catalog) as a subscriber to the documents published from the bluesky `RunEngine`."
   ]
  },
  {
   "cell_type": "code",
   "execution_count": 15,
   "metadata": {},
   "outputs": [
    {
     "data": {
      "text/plain": [
       "0"
      ]
     },
     "execution_count": 15,
     "metadata": {},
     "output_type": "execute_result"
    }
   ],
   "source": [
    "import databroker\n",
    "\n",
    "cat = databroker.temp().v2  # or use your own catalog: databroker.catalog[\"CATALOG_NAME\"]\n",
    "RE.subscribe(cat.v1.insert)"
   ]
  },
  {
   "cell_type": "markdown",
   "metadata": {},
   "source": [
    "***Take an image with the area detector***\n",
    "\n",
    "Finally, we are ready to acquire an image.  We'll use the standard bluesky [count()](https://blueskyproject.io/bluesky/generated/bluesky.plans.count.html#bluesky.plans.count) plan.  Also add some metadata about this image."
   ]
  },
  {
   "cell_type": "code",
   "execution_count": 16,
   "metadata": {},
   "outputs": [],
   "source": [
    "import bluesky.plans as bp\n",
    "\n",
    "uids = RE(\n",
    "    bp.count([adsimdet],\n",
    "    md=dict(\n",
    "        title=\"Area Detector in Single mode with HDF5 plugin\",\n",
    "        purpose=\"image\")\n",
    "    )\n",
    ")"
   ]
  },
  {
   "cell_type": "markdown",
   "metadata": {},
   "source": [
    "## databroker\n",
    "\n",
    "Here we show how to access and display the acquired image using databroker as the interface to the data files and run metadata.\n",
    "\n",
    "First, find the run we just acquired.  We'll index to that run using the `uid` returned by the above call to `RE()`."
   ]
  },
  {
   "cell_type": "code",
   "execution_count": 17,
   "metadata": {},
   "outputs": [
    {
     "data": {
      "text/plain": [
       "BlueskyRun\n",
       "  uid='524ab0c8-1b1c-4b5a-b8a9-404b13c964ba'\n",
       "  exit_status='success'\n",
       "  2022-09-29 11:16:25.853 -- 2022-09-29 11:16:25.908\n",
       "  Streams:\n",
       "    * primary\n"
      ]
     },
     "execution_count": 17,
     "metadata": {},
     "output_type": "execute_result"
    }
   ],
   "source": [
    "run = cat.v2[uids[0]]\n",
    "run"
   ]
  },
  {
   "cell_type": "markdown",
   "metadata": {},
   "source": [
    "***Get the image frame from the run***\n",
    "\n",
    "Combining several steps into one line, extract the image frame from the run.  We know the image data is in the `primary` stream, that the image is recorded under the name `\"adsimdet_image\"` (or `adsimdet.image.name`), and the `image` frame is the last two indices."
   ]
  },
  {
   "cell_type": "code",
   "execution_count": 18,
   "metadata": {},
   "outputs": [
    {
     "data": {
      "text/html": [
       "<div><svg style=\"position: absolute; width: 0; height: 0; overflow: hidden\">\n",
       "<defs>\n",
       "<symbol id=\"icon-database\" viewBox=\"0 0 32 32\">\n",
       "<path d=\"M16 0c-8.837 0-16 2.239-16 5v4c0 2.761 7.163 5 16 5s16-2.239 16-5v-4c0-2.761-7.163-5-16-5z\"></path>\n",
       "<path d=\"M16 17c-8.837 0-16-2.239-16-5v6c0 2.761 7.163 5 16 5s16-2.239 16-5v-6c0 2.761-7.163 5-16 5z\"></path>\n",
       "<path d=\"M16 26c-8.837 0-16-2.239-16-5v6c0 2.761 7.163 5 16 5s16-2.239 16-5v-6c0 2.761-7.163 5-16 5z\"></path>\n",
       "</symbol>\n",
       "<symbol id=\"icon-file-text2\" viewBox=\"0 0 32 32\">\n",
       "<path d=\"M28.681 7.159c-0.694-0.947-1.662-2.053-2.724-3.116s-2.169-2.030-3.116-2.724c-1.612-1.182-2.393-1.319-2.841-1.319h-15.5c-1.378 0-2.5 1.121-2.5 2.5v27c0 1.378 1.122 2.5 2.5 2.5h23c1.378 0 2.5-1.122 2.5-2.5v-19.5c0-0.448-0.137-1.23-1.319-2.841zM24.543 5.457c0.959 0.959 1.712 1.825 2.268 2.543h-4.811v-4.811c0.718 0.556 1.584 1.309 2.543 2.268zM28 29.5c0 0.271-0.229 0.5-0.5 0.5h-23c-0.271 0-0.5-0.229-0.5-0.5v-27c0-0.271 0.229-0.5 0.5-0.5 0 0 15.499-0 15.5 0v7c0 0.552 0.448 1 1 1h7v19.5z\"></path>\n",
       "<path d=\"M23 26h-14c-0.552 0-1-0.448-1-1s0.448-1 1-1h14c0.552 0 1 0.448 1 1s-0.448 1-1 1z\"></path>\n",
       "<path d=\"M23 22h-14c-0.552 0-1-0.448-1-1s0.448-1 1-1h14c0.552 0 1 0.448 1 1s-0.448 1-1 1z\"></path>\n",
       "<path d=\"M23 18h-14c-0.552 0-1-0.448-1-1s0.448-1 1-1h14c0.552 0 1 0.448 1 1s-0.448 1-1 1z\"></path>\n",
       "</symbol>\n",
       "</defs>\n",
       "</svg>\n",
       "<style>/* CSS stylesheet for displaying xarray objects in jupyterlab.\n",
       " *\n",
       " */\n",
       "\n",
       ":root {\n",
       "  --xr-font-color0: var(--jp-content-font-color0, rgba(0, 0, 0, 1));\n",
       "  --xr-font-color2: var(--jp-content-font-color2, rgba(0, 0, 0, 0.54));\n",
       "  --xr-font-color3: var(--jp-content-font-color3, rgba(0, 0, 0, 0.38));\n",
       "  --xr-border-color: var(--jp-border-color2, #e0e0e0);\n",
       "  --xr-disabled-color: var(--jp-layout-color3, #bdbdbd);\n",
       "  --xr-background-color: var(--jp-layout-color0, white);\n",
       "  --xr-background-color-row-even: var(--jp-layout-color1, white);\n",
       "  --xr-background-color-row-odd: var(--jp-layout-color2, #eeeeee);\n",
       "}\n",
       "\n",
       "html[theme=dark],\n",
       "body.vscode-dark {\n",
       "  --xr-font-color0: rgba(255, 255, 255, 1);\n",
       "  --xr-font-color2: rgba(255, 255, 255, 0.54);\n",
       "  --xr-font-color3: rgba(255, 255, 255, 0.38);\n",
       "  --xr-border-color: #1F1F1F;\n",
       "  --xr-disabled-color: #515151;\n",
       "  --xr-background-color: #111111;\n",
       "  --xr-background-color-row-even: #111111;\n",
       "  --xr-background-color-row-odd: #313131;\n",
       "}\n",
       "\n",
       ".xr-wrap {\n",
       "  display: block !important;\n",
       "  min-width: 300px;\n",
       "  max-width: 700px;\n",
       "}\n",
       "\n",
       ".xr-text-repr-fallback {\n",
       "  /* fallback to plain text repr when CSS is not injected (untrusted notebook) */\n",
       "  display: none;\n",
       "}\n",
       "\n",
       ".xr-header {\n",
       "  padding-top: 6px;\n",
       "  padding-bottom: 6px;\n",
       "  margin-bottom: 4px;\n",
       "  border-bottom: solid 1px var(--xr-border-color);\n",
       "}\n",
       "\n",
       ".xr-header > div,\n",
       ".xr-header > ul {\n",
       "  display: inline;\n",
       "  margin-top: 0;\n",
       "  margin-bottom: 0;\n",
       "}\n",
       "\n",
       ".xr-obj-type,\n",
       ".xr-array-name {\n",
       "  margin-left: 2px;\n",
       "  margin-right: 10px;\n",
       "}\n",
       "\n",
       ".xr-obj-type {\n",
       "  color: var(--xr-font-color2);\n",
       "}\n",
       "\n",
       ".xr-sections {\n",
       "  padding-left: 0 !important;\n",
       "  display: grid;\n",
       "  grid-template-columns: 150px auto auto 1fr 20px 20px;\n",
       "}\n",
       "\n",
       ".xr-section-item {\n",
       "  display: contents;\n",
       "}\n",
       "\n",
       ".xr-section-item input {\n",
       "  display: none;\n",
       "}\n",
       "\n",
       ".xr-section-item input + label {\n",
       "  color: var(--xr-disabled-color);\n",
       "}\n",
       "\n",
       ".xr-section-item input:enabled + label {\n",
       "  cursor: pointer;\n",
       "  color: var(--xr-font-color2);\n",
       "}\n",
       "\n",
       ".xr-section-item input:enabled + label:hover {\n",
       "  color: var(--xr-font-color0);\n",
       "}\n",
       "\n",
       ".xr-section-summary {\n",
       "  grid-column: 1;\n",
       "  color: var(--xr-font-color2);\n",
       "  font-weight: 500;\n",
       "}\n",
       "\n",
       ".xr-section-summary > span {\n",
       "  display: inline-block;\n",
       "  padding-left: 0.5em;\n",
       "}\n",
       "\n",
       ".xr-section-summary-in:disabled + label {\n",
       "  color: var(--xr-font-color2);\n",
       "}\n",
       "\n",
       ".xr-section-summary-in + label:before {\n",
       "  display: inline-block;\n",
       "  content: '►';\n",
       "  font-size: 11px;\n",
       "  width: 15px;\n",
       "  text-align: center;\n",
       "}\n",
       "\n",
       ".xr-section-summary-in:disabled + label:before {\n",
       "  color: var(--xr-disabled-color);\n",
       "}\n",
       "\n",
       ".xr-section-summary-in:checked + label:before {\n",
       "  content: '▼';\n",
       "}\n",
       "\n",
       ".xr-section-summary-in:checked + label > span {\n",
       "  display: none;\n",
       "}\n",
       "\n",
       ".xr-section-summary,\n",
       ".xr-section-inline-details {\n",
       "  padding-top: 4px;\n",
       "  padding-bottom: 4px;\n",
       "}\n",
       "\n",
       ".xr-section-inline-details {\n",
       "  grid-column: 2 / -1;\n",
       "}\n",
       "\n",
       ".xr-section-details {\n",
       "  display: none;\n",
       "  grid-column: 1 / -1;\n",
       "  margin-bottom: 5px;\n",
       "}\n",
       "\n",
       ".xr-section-summary-in:checked ~ .xr-section-details {\n",
       "  display: contents;\n",
       "}\n",
       "\n",
       ".xr-array-wrap {\n",
       "  grid-column: 1 / -1;\n",
       "  display: grid;\n",
       "  grid-template-columns: 20px auto;\n",
       "}\n",
       "\n",
       ".xr-array-wrap > label {\n",
       "  grid-column: 1;\n",
       "  vertical-align: top;\n",
       "}\n",
       "\n",
       ".xr-preview {\n",
       "  color: var(--xr-font-color3);\n",
       "}\n",
       "\n",
       ".xr-array-preview,\n",
       ".xr-array-data {\n",
       "  padding: 0 5px !important;\n",
       "  grid-column: 2;\n",
       "}\n",
       "\n",
       ".xr-array-data,\n",
       ".xr-array-in:checked ~ .xr-array-preview {\n",
       "  display: none;\n",
       "}\n",
       "\n",
       ".xr-array-in:checked ~ .xr-array-data,\n",
       ".xr-array-preview {\n",
       "  display: inline-block;\n",
       "}\n",
       "\n",
       ".xr-dim-list {\n",
       "  display: inline-block !important;\n",
       "  list-style: none;\n",
       "  padding: 0 !important;\n",
       "  margin: 0;\n",
       "}\n",
       "\n",
       ".xr-dim-list li {\n",
       "  display: inline-block;\n",
       "  padding: 0;\n",
       "  margin: 0;\n",
       "}\n",
       "\n",
       ".xr-dim-list:before {\n",
       "  content: '(';\n",
       "}\n",
       "\n",
       ".xr-dim-list:after {\n",
       "  content: ')';\n",
       "}\n",
       "\n",
       ".xr-dim-list li:not(:last-child):after {\n",
       "  content: ',';\n",
       "  padding-right: 5px;\n",
       "}\n",
       "\n",
       ".xr-has-index {\n",
       "  font-weight: bold;\n",
       "}\n",
       "\n",
       ".xr-var-list,\n",
       ".xr-var-item {\n",
       "  display: contents;\n",
       "}\n",
       "\n",
       ".xr-var-item > div,\n",
       ".xr-var-item label,\n",
       ".xr-var-item > .xr-var-name span {\n",
       "  background-color: var(--xr-background-color-row-even);\n",
       "  margin-bottom: 0;\n",
       "}\n",
       "\n",
       ".xr-var-item > .xr-var-name:hover span {\n",
       "  padding-right: 5px;\n",
       "}\n",
       "\n",
       ".xr-var-list > li:nth-child(odd) > div,\n",
       ".xr-var-list > li:nth-child(odd) > label,\n",
       ".xr-var-list > li:nth-child(odd) > .xr-var-name span {\n",
       "  background-color: var(--xr-background-color-row-odd);\n",
       "}\n",
       "\n",
       ".xr-var-name {\n",
       "  grid-column: 1;\n",
       "}\n",
       "\n",
       ".xr-var-dims {\n",
       "  grid-column: 2;\n",
       "}\n",
       "\n",
       ".xr-var-dtype {\n",
       "  grid-column: 3;\n",
       "  text-align: right;\n",
       "  color: var(--xr-font-color2);\n",
       "}\n",
       "\n",
       ".xr-var-preview {\n",
       "  grid-column: 4;\n",
       "}\n",
       "\n",
       ".xr-var-name,\n",
       ".xr-var-dims,\n",
       ".xr-var-dtype,\n",
       ".xr-preview,\n",
       ".xr-attrs dt {\n",
       "  white-space: nowrap;\n",
       "  overflow: hidden;\n",
       "  text-overflow: ellipsis;\n",
       "  padding-right: 10px;\n",
       "}\n",
       "\n",
       ".xr-var-name:hover,\n",
       ".xr-var-dims:hover,\n",
       ".xr-var-dtype:hover,\n",
       ".xr-attrs dt:hover {\n",
       "  overflow: visible;\n",
       "  width: auto;\n",
       "  z-index: 1;\n",
       "}\n",
       "\n",
       ".xr-var-attrs,\n",
       ".xr-var-data {\n",
       "  display: none;\n",
       "  background-color: var(--xr-background-color) !important;\n",
       "  padding-bottom: 5px !important;\n",
       "}\n",
       "\n",
       ".xr-var-attrs-in:checked ~ .xr-var-attrs,\n",
       ".xr-var-data-in:checked ~ .xr-var-data {\n",
       "  display: block;\n",
       "}\n",
       "\n",
       ".xr-var-data > table {\n",
       "  float: right;\n",
       "}\n",
       "\n",
       ".xr-var-name span,\n",
       ".xr-var-data,\n",
       ".xr-attrs {\n",
       "  padding-left: 25px !important;\n",
       "}\n",
       "\n",
       ".xr-attrs,\n",
       ".xr-var-attrs,\n",
       ".xr-var-data {\n",
       "  grid-column: 1 / -1;\n",
       "}\n",
       "\n",
       "dl.xr-attrs {\n",
       "  padding: 0;\n",
       "  margin: 0;\n",
       "  display: grid;\n",
       "  grid-template-columns: 125px auto;\n",
       "}\n",
       "\n",
       ".xr-attrs dt,\n",
       ".xr-attrs dd {\n",
       "  padding: 0;\n",
       "  margin: 0;\n",
       "  float: left;\n",
       "  padding-right: 10px;\n",
       "  width: auto;\n",
       "}\n",
       "\n",
       ".xr-attrs dt {\n",
       "  font-weight: normal;\n",
       "  grid-column: 1;\n",
       "}\n",
       "\n",
       ".xr-attrs dt:hover span {\n",
       "  display: inline-block;\n",
       "  background: var(--xr-background-color);\n",
       "  padding-right: 10px;\n",
       "}\n",
       "\n",
       ".xr-attrs dd {\n",
       "  grid-column: 2;\n",
       "  white-space: pre-wrap;\n",
       "  word-break: break-all;\n",
       "}\n",
       "\n",
       ".xr-icon-database,\n",
       ".xr-icon-file-text2 {\n",
       "  display: inline-block;\n",
       "  vertical-align: middle;\n",
       "  width: 1em;\n",
       "  height: 1.5em !important;\n",
       "  stroke-width: 0;\n",
       "  stroke: currentColor;\n",
       "  fill: currentColor;\n",
       "}\n",
       "</style><pre class='xr-text-repr-fallback'>&lt;xarray.DataArray &#x27;adsimdet_image&#x27; (dim_1: 1024, dim_2: 1024)&gt;\n",
       "array([[16, 17, 18, ..., 13, 14, 15],\n",
       "       [17, 18, 19, ..., 14, 15, 16],\n",
       "       [18, 19, 20, ..., 15, 16, 17],\n",
       "       ...,\n",
       "       [13, 14, 15, ..., 10, 11, 12],\n",
       "       [14, 15, 16, ..., 11, 12, 13],\n",
       "       [15, 16, 17, ..., 12, 13, 14]], dtype=uint8)\n",
       "Coordinates:\n",
       "    time     float64 1.664e+09\n",
       "Dimensions without coordinates: dim_1, dim_2\n",
       "Attributes:\n",
       "    object:   adsimdet</pre><div class='xr-wrap' style='display:none'><div class='xr-header'><div class='xr-obj-type'>xarray.DataArray</div><div class='xr-array-name'>'adsimdet_image'</div><ul class='xr-dim-list'><li><span>dim_1</span>: 1024</li><li><span>dim_2</span>: 1024</li></ul></div><ul class='xr-sections'><li class='xr-section-item'><div class='xr-array-wrap'><input id='section-ec859f64-40c1-4c6a-8bdd-20aecc5a09e9' class='xr-array-in' type='checkbox' checked><label for='section-ec859f64-40c1-4c6a-8bdd-20aecc5a09e9' title='Show/hide data repr'><svg class='icon xr-icon-database'><use xlink:href='#icon-database'></use></svg></label><div class='xr-array-preview xr-preview'><span>16 17 18 19 20 21 22 23 24 25 26 27 ... 3 4 5 6 7 8 9 10 11 12 13 14</span></div><div class='xr-array-data'><pre>array([[16, 17, 18, ..., 13, 14, 15],\n",
       "       [17, 18, 19, ..., 14, 15, 16],\n",
       "       [18, 19, 20, ..., 15, 16, 17],\n",
       "       ...,\n",
       "       [13, 14, 15, ..., 10, 11, 12],\n",
       "       [14, 15, 16, ..., 11, 12, 13],\n",
       "       [15, 16, 17, ..., 12, 13, 14]], dtype=uint8)</pre></div></div></li><li class='xr-section-item'><input id='section-b42b8ccb-97ab-4ea2-823b-887d148ccafb' class='xr-section-summary-in' type='checkbox'  checked><label for='section-b42b8ccb-97ab-4ea2-823b-887d148ccafb' class='xr-section-summary' >Coordinates: <span>(1)</span></label><div class='xr-section-inline-details'></div><div class='xr-section-details'><ul class='xr-var-list'><li class='xr-var-item'><div class='xr-var-name'><span>time</span></div><div class='xr-var-dims'>()</div><div class='xr-var-dtype'>float64</div><div class='xr-var-preview xr-preview'>1.664e+09</div><input id='attrs-0c89a2f3-b9a1-4154-bfea-4b23fa9c2c38' class='xr-var-attrs-in' type='checkbox' disabled><label for='attrs-0c89a2f3-b9a1-4154-bfea-4b23fa9c2c38' title='Show/Hide attributes'><svg class='icon xr-icon-file-text2'><use xlink:href='#icon-file-text2'></use></svg></label><input id='data-1d5b729c-0fd5-4afc-a949-c2c383e6c8f5' class='xr-var-data-in' type='checkbox'><label for='data-1d5b729c-0fd5-4afc-a949-c2c383e6c8f5' title='Show/Hide data repr'><svg class='icon xr-icon-database'><use xlink:href='#icon-database'></use></svg></label><div class='xr-var-attrs'><dl class='xr-attrs'></dl></div><div class='xr-var-data'><pre>array(1.66446819e+09)</pre></div></li></ul></div></li><li class='xr-section-item'><input id='section-ca94a596-3550-4511-b0d1-891a1ec851c2' class='xr-section-summary-in' type='checkbox'  checked><label for='section-ca94a596-3550-4511-b0d1-891a1ec851c2' class='xr-section-summary' >Attributes: <span>(1)</span></label><div class='xr-section-inline-details'></div><div class='xr-section-details'><dl class='xr-attrs'><dt><span>object :</span></dt><dd>adsimdet</dd></dl></div></li></ul></div></div>"
      ],
      "text/plain": [
       "<xarray.DataArray 'adsimdet_image' (dim_1: 1024, dim_2: 1024)>\n",
       "array([[16, 17, 18, ..., 13, 14, 15],\n",
       "       [17, 18, 19, ..., 14, 15, 16],\n",
       "       [18, 19, 20, ..., 15, 16, 17],\n",
       "       ...,\n",
       "       [13, 14, 15, ..., 10, 11, 12],\n",
       "       [14, 15, 16, ..., 11, 12, 13],\n",
       "       [15, 16, 17, ..., 12, 13, 14]], dtype=uint8)\n",
       "Coordinates:\n",
       "    time     float64 1.664e+09\n",
       "Dimensions without coordinates: dim_1, dim_2\n",
       "Attributes:\n",
       "    object:   adsimdet"
      ]
     },
     "execution_count": 18,
     "metadata": {},
     "output_type": "execute_result"
    }
   ],
   "source": [
    "# import hdf5plugin  # required for LZ4, Blosc, and other compression codecs\n",
    "\n",
    "frame = run.primary.read()[adsimdet.image.name][0][0]\n",
    "frame"
   ]
  },
  {
   "cell_type": "markdown",
   "metadata": {},
   "source": [
    "### Visualize the image\n",
    "\n",
    "The `frame` is an [xarray Dataset](https://docs.xarray.dev/en/stable/generated/xarray.Dataset.html), which has a method to visualize the data as shown here:"
   ]
  },
  {
   "cell_type": "code",
   "execution_count": 19,
   "metadata": {},
   "outputs": [
    {
     "data": {
      "text/plain": [
       "<matplotlib.collections.QuadMesh at 0x7fd1bf62e250>"
      ]
     },
     "execution_count": 19,
     "metadata": {},
     "output_type": "execute_result"
    },
    {
     "data": {
      "image/png": "[encoded data removed]",
      "text/plain": [
       "<Figure size 432x288 with 2 Axes>"
      ]
     },
     "metadata": {
      "needs_background": "light"
     },
     "output_type": "display_data"
    }
   ],
   "source": [
    "frame.plot.pcolormesh()"
   ]
  },
  {
   "cell_type": "markdown",
   "metadata": {},
   "source": [
    "### Where is the image file on disk?\n",
    "\n",
    "So far, we have not had to know the name of the file on disk with the image data.  Still, we can learn about that from the run's metadata, by querying one of its internal structures."
   ]
  },
  {
   "cell_type": "code",
   "execution_count": 20,
   "metadata": {},
   "outputs": [
    {
     "data": {
      "text/plain": [
       "[Resource({'path_semantics': 'posix',\n",
       " 'resource_kwargs': {'frame_per_point': 1},\n",
       " 'resource_path': 'tmp/docker_ioc/iocad/tmp/example/2022/09/29/dfbd1678-f178-4a23-8e1d_000000.h5',\n",
       " 'root': '/',\n",
       " 'run_start': '524ab0c8-1b1c-4b5a-b8a9-404b13c964ba',\n",
       " 'spec': 'AD_HDF5',\n",
       " 'uid': 'aa520fcc-a484-47b7-8c0e-f2b592dd4418'})]"
      ]
     },
     "execution_count": 20,
     "metadata": {},
     "output_type": "execute_result"
    }
   ],
   "source": [
    "run.primary._resources"
   ]
  },
  {
   "cell_type": "markdown",
   "metadata": {},
   "source": [
    "This information has shown the path to the image file *as seen from the bluesky workstation's file system.*  We can parse this structure for the file name. In this case, the file is found since the `resource_path` is written relative to the `READ_PATH_TEMPLATE` defined [above](#File-Directories).\n",
    "\n",
    "This is an important distinction since the IOC and bluesky see the same file on different directory paths, as described [above](#File-Directories)."
   ]
  },
  {
   "cell_type": "code",
   "execution_count": 21,
   "metadata": {},
   "outputs": [
    {
     "name": "stdout",
     "output_type": "stream",
     "text": [
      "file_name.exists()=True\n",
      "file_name=PosixPath('/tmp/docker_ioc/iocad/tmp/example/2022/09/29/dfbd1678-f178-4a23-8e1d_000000.h5')\n"
     ]
    }
   ],
   "source": [
    "rsrc = run.primary._resources[0]\n",
    "file_name = pathlib.Path(f\"{rsrc['root']}{rsrc['resource_path']}\")\n",
    "print(f\"{file_name.exists()=}\\n{file_name=}\")"
   ]
  },
  {
   "cell_type": "markdown",
   "metadata": {},
   "source": [
    "Alternatively, get the name of the image file on the bluesky (local) workstation from the `adsimdet` object.\n",
    "\n",
    "NOTE: This method relies on information currently defined in EPICS, via the `adsimdet.hdf1`, so it may not be successful if the HDF plugin has been changed since the image was acquired."
   ]
  },
  {
   "cell_type": "code",
   "execution_count": 22,
   "metadata": {},
   "outputs": [
    {
     "name": "stdout",
     "output_type": "stream",
     "text": [
      "local_file_name.exists()=True\n",
      "local_file_name=PosixPath('/tmp/docker_ioc/iocad/tmp/example/2022/09/29/dfbd1678-f178-4a23-8e1d_000000.h5')\n"
     ]
    },
    {
     "data": {
      "text/plain": [
       "True"
      ]
     },
     "execution_count": 22,
     "metadata": {},
     "output_type": "execute_result"
    }
   ],
   "source": [
    "from apstools.devices import AD_full_file_name_local\n",
    "\n",
    "local_file_name = AD_full_file_name_local(adsimdet.hdf1)\n",
    "print(f\"{local_file_name.exists()=}\\n{local_file_name=}\")\n",
    "local_file_name == file_name  # compare the two names"
   ]
  },
  {
   "cell_type": "markdown",
   "metadata": {},
   "source": [
    "## punx\n",
    "\n",
    "Next, we demonstrate access to the HDF5 image file using the [punx](https://punx.readthedocs.io) program, showing the tree structure of the data file (the image data may be found at HDF5 address `/entry/data/data`, another reference to the exact same data is found at `/entry/instrument/detector/data`):"
   ]
  },
  {
   "cell_type": "code",
   "execution_count": 23,
   "metadata": {},
   "outputs": [
    {
     "name": "stdout",
     "output_type": "stream",
     "text": [
      "!!! WARNING: this program is not ready for distribution.\n",
      "\n",
      "/tmp/docker_ioc/iocad/tmp/example/2022/09/29/dfbd1678-f178-4a23-8e1d_000000.h5 : NeXus data file\n",
      "  entry:NXentry\n",
      "    @NX_class = \"NXentry\"\n",
      "    data:NXdata\n",
      "      @NX_class = \"NXdata\"\n",
      "      data:NX_UINT8[1,1024,1024] = __array\n",
      "        __array = [\n",
      "            [\n",
      "                [16, 17, 18, '...', 15]\n",
      "                [17, 18, 19, '...', 16]\n",
      "                [18, 19, 20, '...', 17]\n",
      "                ...\n",
      "                [15, 16, 17, '...', 14]\n",
      "              ]\n",
      "          ]\n",
      "        @NDArrayDimBinning = [1 1]\n",
      "        @NDArrayDimOffset = [0 0]\n",
      "        @NDArrayDimReverse = [0 0]\n",
      "        @NDArrayNumDims = 2\n",
      "        @signal = 1\n",
      "    instrument:NXinstrument\n",
      "      @NX_class = \"NXinstrument\"\n",
      "      NDAttributes:NXcollection\n",
      "        @NX_class = \"NXcollection\"\n",
      "        @hostname = \"zap\"\n",
      "        NDArrayEpicsTSSec:NX_UINT32 = 1033316185\n",
      "          @NDAttrDescription = \"The NDArray EPICS timestamp seconds past epoch\"\n",
      "          @NDAttrName = \"NDArrayEpicsTSSec\"\n",
      "          @NDAttrSource = \"Driver\"\n",
      "          @NDAttrSourceType = \"NDAttrSourceDriver\"\n",
      "        NDArrayEpicsTSnSec:NX_UINT32 = 874502272\n",
      "          @NDAttrDescription = \"The NDArray EPICS timestamp nanoseconds\"\n",
      "          @NDAttrName = \"NDArrayEpicsTSnSec\"\n",
      "          @NDAttrSource = \"Driver\"\n",
      "          @NDAttrSourceType = \"NDAttrSourceDriver\"\n",
      "        NDArrayTimeStamp:NX_FLOAT64 = 1033316185.8733699\n",
      "          @NDAttrDescription = \"The timestamp of the NDArray as float64\"\n",
      "          @NDAttrName = \"NDArrayTimeStamp\"\n",
      "          @NDAttrSource = \"Driver\"\n",
      "          @NDAttrSourceType = \"NDAttrSourceDriver\"\n",
      "        NDArrayUniqueId:NX_INT32 = 1041\n",
      "          @NDAttrDescription = \"The unique ID of the NDArray\"\n",
      "          @NDAttrName = \"NDArrayUniqueId\"\n",
      "          @NDAttrSource = \"Driver\"\n",
      "          @NDAttrSourceType = \"NDAttrSourceDriver\"\n",
      "      detector:NXdetector\n",
      "        @NX_class = \"NXdetector\"\n",
      "        data:NX_UINT8[1,1024,1024] = __array\n",
      "          __array = [\n",
      "              [\n",
      "                  [16, 17, 18, '...', 15]\n",
      "                  [17, 18, 19, '...', 16]\n",
      "                  [18, 19, 20, '...', 17]\n",
      "                  ...\n",
      "                  [15, 16, 17, '...', 14]\n",
      "                ]\n",
      "            ]\n",
      "          @NDArrayDimBinning = [1 1]\n",
      "          @NDArrayDimOffset = [0 0]\n",
      "          @NDArrayDimReverse = [0 0]\n",
      "          @NDArrayNumDims = 2\n",
      "          @signal = 1\n",
      "        NDAttributes:NXcollection\n",
      "          @NX_class = \"NXcollection\"\n",
      "          ColorMode:NX_INT32 = 0\n",
      "            @NDAttrDescription = \"Color mode\"\n",
      "            @NDAttrName = \"ColorMode\"\n",
      "            @NDAttrSource = \"Driver\"\n",
      "            @NDAttrSourceType = \"NDAttrSourceDriver\"\n",
      "      performance\n",
      "        timestamp:NX_FLOAT64[1,5] = __array\n",
      "          __array = [\n",
      "              [0.000661045, 0.122413595, 143587.570237034, 65.35221843619576, 0.0]\n",
      "            ]\n",
      "\n"
     ]
    }
   ],
   "source": [
    "from apstools.utils import unix\n",
    "\n",
    "for line in unix(f\"punx tree {file_name}\"):\n",
    "    print(line.decode().strip())"
   ]
  },
  {
   "cell_type": "markdown",
   "metadata": {},
   "source": [
    "## Recapitulation\n",
    "\n",
    "Let's gather the above parts together as one would usually write code.  First, all the imports, constants, and classes.\n",
    "\n",
    "TODO"
   ]
  }
 ],
 "metadata": {
  "kernelspec": {
   "display_name": "Python 3.9.13 ('base')",
   "language": "python",
   "name": "python3"
  },
  "language_info": {
   "codemirror_mode": {
    "name": "ipython",
    "version": 3
   },
   "file_extension": ".py",
   "mimetype": "text/x-python",
   "name": "python",
   "nbconvert_exporter": "python",
   "pygments_lexer": "ipython3",
   "version": "3.9.13"
  },
  "orig_nbformat": 4,
  "vscode": {
   "interpreter": {
    "hash": "f38aef175fb08dfc130a7d9bb9234f0792dc9ad861f95b6c05aedd1b380356e2"
   }
  }
 },
 "nbformat": 4,
 "nbformat_minor": 2
}
