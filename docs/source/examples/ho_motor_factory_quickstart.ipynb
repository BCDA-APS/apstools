{
 "cells": [
  {
   "cell_type": "markdown",
   "metadata": {},
   "source": [
    "# Quick Start: Grouping Motors with `mb_creator`\n",
    "\n",
    "The `mb_creator` function from `apstools.devices` lets you quickly create an ophyd Device that groups any number of motors—real or simulated—without writing a custom class.\n"
   ]
  },
  {
   "cell_type": "markdown",
   "metadata": {},
   "source": [
    "## Basic Usage\n",
    "\n",
    "Create a device with three motors (x, y, theta):"
   ]
  },
  {
   "cell_type": "code",
   "metadata": {},
   "execution_count": null,
   "outputs": [],
   "source": [
    "from apstools.devices import mb_creator\n",
    "\n",
    "stage = mb_creator(\n",
    "    prefix=\"3idd:\",\n",
    "    motors={\"x\": \"m1\", \"y\": \"m2\", \"theta\": \"m3\"},\n",
    "    name=\"stage\"\n",
    ")\n",
    "stage"
   ]
  },
  {
   "cell_type": "markdown",
   "metadata": {},
   "source": [
    "### 1. Empty Device\n",
    "\n",
    "Create a device with no motors (just a container):"
   ]
  },
  {
   "cell_type": "code",
   "metadata": {},
   "execution_count": null,
   "outputs": [],
   "source": [
    "empty = mb_creator(name=\"empty\")\n",
    "empty"
   ]
  },
  {
   "cell_type": "markdown",
   "metadata": {},
   "source": [
    "### 2. Simulated Axes\n",
    "\n",
    "Create a device with simulated (SoftPositioner) axes by providing a list of names:"
   ]
  },
  {
   "cell_type": "code",
   "metadata": {},
   "execution_count": null,
   "outputs": [],
   "source": [
    "sim = mb_creator(name=\"sim\", motors=[\"x\", \"y\"])\n",
    "sim.x"
   ]
  },
  {
   "cell_type": "markdown",
   "metadata": {},
   "source": [
    "### 3. Mixed Real and Simulated Motors\n",
    "\n",
    "Mix real (EpicsMotor) and simulated axes by using a dict and setting some to `None`:"
   ]
  },
  {
   "cell_type": "code",
   "metadata": {},
   "execution_count": null,
   "outputs": [],
   "source": [
    "bundle = mb_creator(\n",
    "    name=\"bundle\",\n",
    "    prefix=\"gp:\",\n",
    "    motors={\n",
    "        \"x\": \"m1\",\n",
    "        \"y\": \"m2\",\n",
    "        \"z\": \"m3\",\n",
    "        \"roll\": None,  # Simulated\n",
    "        \"pitch\": None, # Simulated\n",
    "    }\n",
    ")\n",
    "bundle.x, bundle.roll"
   ]
  },
  {
   "cell_type": "markdown",
   "metadata": {},
   "source": [
    "### 4. Custom Labels\n",
    "\n",
    "Add custom labels to your device for organization or registry lookup:"
   ]
  },
  {
   "cell_type": "code",
   "metadata": {},
   "execution_count": null,
   "outputs": [],
   "source": [
    "labeled = mb_creator(\n",
    "    name=\"labeled\",\n",
    "    motors={\"x\": \"m1\"},\n",
    "    labels=[\"mygroup\", \"motors\"]\n",
    ")\n",
    "labeled.labels"
   ]
  },
  {
   "cell_type": "markdown",
   "metadata": {},
   "source": [
    "### 5. Custom Base Classes\n",
    "\n",
    "Use a different ophyd base class (or mixins) if needed:"
   ]
  },
  {
   "cell_type": "code",
   "metadata": {},
   "execution_count": null,
   "outputs": [],
   "source": [
    "from ophyd import Device\n",
    "\n",
    "custom = mb_creator(\n",
    "    name=\"custom\",\n",
    "    motors=[\"x\", \"y\"],\n",
    "    class_bases=[\"ophyd.Device\"]\n",
    ")\n",
    "type(custom)"
   ]
  },
  {
   "cell_type": "markdown",
   "metadata": {},
   "source": [
    "---\n",
    "\n",
    "**For more advanced usage, see the full documentation or the original notebook.**"
   ]
  }
 ],
 "metadata": {
  "kernelspec": {
   "display_name": "Python 3",
   "language": "python",
   "name": "python3"
  },
  "language_info": {
   "name": "python",
   "version": "3.9"
  }
 },
 "nbformat": 4,
 "nbformat_minor": 2
}
