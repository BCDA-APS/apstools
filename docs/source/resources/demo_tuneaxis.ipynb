{
 "cells": [
  {
   "cell_type": "markdown",
   "metadata": {},
   "source": [
    "# Demonstrate ``TuneAxis``\n",
    "\n",
    "In this example, we demonstrate the `apstools.plans.TuneAxis()` plan.  The `TuneAxis()` support may be used to align (a.k.a. *tune*) a signal against an axis.\n",
    "\n",
    "We'll use a software-only (not connected to hardware) motor as a positioner.  Here, we prepare a signal that is a computation based on the value of our positioner.  The computed signal is a model of a realistic diffraction peak ([pseudo-Voigt](https://en.wikipedia.org/wiki/Voigt_profile), a mixture of a Gaussian and a Lorentzian) one might encounter in a powder diffraction scan.  The model peak is a pseudo-voigt function to which some noise has been added.  Random numbers are used to modify the ideal pseudo-voigt function so as to simulate a realistic signal.\n",
    "\n",
    "For this demo, we do not need the databroker since we do not plan to review any of this data after collection.  We'll display the data during the scan using the *LiveTable()* code."
   ]
  },
  {
   "cell_type": "code",
   "execution_count": 1,
   "metadata": {},
   "outputs": [],
   "source": [
    "from apstools.devices import SynPseudoVoigt\n",
    "from apstools.plans import TuneAxis\n",
    "from bluesky import RunEngine\n",
    "from bluesky import plans as bp\n",
    "from bluesky.callbacks import LiveTable\n",
    "import numpy as np\n",
    "from ophyd import EpicsMotor\n",
    "\n",
    "RE = RunEngine({})\n"
   ]
  },
  {
   "cell_type": "markdown",
   "metadata": {},
   "source": [
    "Figure out which workstation we are running.  The *mint-vm* host has a different IOC prefix."
   ]
  },
  {
   "cell_type": "code",
   "execution_count": 2,
   "metadata": {},
   "outputs": [],
   "source": [
    "IOC = \"gp:\""
   ]
  },
  {
   "cell_type": "markdown",
   "metadata": {},
   "source": [
    "Connect to our motor *before* we create the simulated detector signal."
   ]
  },
  {
   "cell_type": "code",
   "execution_count": 3,
   "metadata": {},
   "outputs": [],
   "source": [
    "m1 = EpicsMotor(f\"{IOC}m1\", name=\"m1\")\n",
    "m1.wait_for_connection()"
   ]
  },
  {
   "cell_type": "markdown",
   "metadata": {},
   "source": [
    "Define a starting position, we'll use this later in the demo."
   ]
  },
  {
   "cell_type": "code",
   "execution_count": 4,
   "metadata": {},
   "outputs": [],
   "source": [
    "m1.move(-1.5)\n",
    "starting_position = m1.position"
   ]
  },
  {
   "cell_type": "markdown",
   "metadata": {},
   "source": [
    "## Setup the simulated detector signal.  "
   ]
  },
  {
   "cell_type": "markdown",
   "metadata": {},
   "source": [
    "Make a simple scan with a simulated motor and the `SynPseudoVoigt()` signal."
   ]
  },
  {
   "cell_type": "code",
   "execution_count": 5,
   "metadata": {},
   "outputs": [
    {
     "name": "stdout",
     "output_type": "stream",
     "text": [
      "\n",
      "\n",
      "+-----------+------------+------------+------------+\n",
      "|   seq_num |       time |      motor |        det |\n",
      "+-----------+------------+------------+------------+\n",
      "|         1 | 18:41:26.2 |     -3.000 |      0.056 |\n",
      "|         2 | 18:41:26.3 |     -2.667 |      0.076 |\n",
      "|         3 | 18:41:26.3 |     -2.333 |      0.110 |\n",
      "|         4 | 18:41:26.3 |     -2.000 |      0.168 |\n",
      "|         5 | 18:41:26.3 |     -1.667 |      0.257 |\n",
      "|         6 | 18:41:26.3 |     -1.333 |      0.386 |\n",
      "|         7 | 18:41:26.3 |     -1.000 |      0.553 |\n",
      "|         8 | 18:41:26.3 |     -0.667 |      0.747 |\n",
      "|         9 | 18:41:26.3 |     -0.333 |      0.923 |\n",
      "|        10 | 18:41:26.3 |      0.000 |      1.000 |\n",
      "|        11 | 18:41:26.3 |      0.333 |      0.923 |\n",
      "|        12 | 18:41:26.3 |      0.667 |      0.747 |\n",
      "|        13 | 18:41:26.3 |      1.000 |      0.553 |\n",
      "|        14 | 18:41:26.3 |      1.333 |      0.386 |\n",
      "|        15 | 18:41:26.3 |      1.667 |      0.257 |\n",
      "|        16 | 18:41:26.3 |      2.000 |      0.168 |\n",
      "|        17 | 18:41:26.3 |      2.333 |      0.110 |\n",
      "|        18 | 18:41:26.3 |      2.667 |      0.076 |\n",
      "|        19 | 18:41:26.3 |      3.000 |      0.056 |\n",
      "+-----------+------------+------------+------------+\n",
      "generator scan ['e6f7c881'] (scan num: 1)\n",
      "\n",
      "\n"
     ]
    },
    {
     "data": {
      "text/plain": [
       "('e6f7c881-da2c-48dc-8d0b-a34c59e14f0b',)"
      ]
     },
     "execution_count": 5,
     "metadata": {},
     "output_type": "execute_result"
    }
   ],
   "source": [
    "from ophyd.sim import motor\n",
    "\n",
    "det = SynPseudoVoigt('det', motor, 'motor',\n",
    "    center=0, eta=0.5, scale=1, sigma=1, bkg=0)\n",
    "\n",
    "live_table = LiveTable([\"motor\", \"det\"])\n",
    "\n",
    "RE(bp.scan([det], motor, -3, 3, 19), live_table)"
   ]
  },
  {
   "cell_type": "markdown",
   "metadata": {},
   "source": [
    "Make a new signal with randomized values so that we have something interesting to find with `TuneAxis()`."
   ]
  },
  {
   "cell_type": "code",
   "execution_count": 6,
   "metadata": {},
   "outputs": [],
   "source": [
    "spvoigt = SynPseudoVoigt(\n",
    "    'spvoigt', m1, 'm1', \n",
    "    center=-1.5 + 0.4*np.random.uniform(), \n",
    "    eta=0.2 + 0.5*np.random.uniform(), \n",
    "    sigma=0.001 + 0.05*np.random.uniform(), \n",
    "    scale=1e5,\n",
    "    bkg=0.01*np.random.uniform())"
   ]
  },
  {
   "cell_type": "markdown",
   "metadata": {},
   "source": [
    "Reveal the actual values.  These are the answers we expect to discover."
   ]
  },
  {
   "cell_type": "code",
   "execution_count": 7,
   "metadata": {},
   "outputs": [
    {
     "name": "stdout",
     "output_type": "stream",
     "text": [
      "spvoigt.scale = 100000.0\n",
      "spvoigt.center = -1.1553241219392254\n",
      "spvoigt.sigma = 0.04952451841481895\n",
      "spvoigt.eta = 0.6177326684139124\n",
      "spvoigt.bkg = 0.00028271101691823233\n"
     ]
    }
   ],
   "source": [
    "print(f\"{spvoigt.scale = }\")\n",
    "print(f\"{spvoigt.center = }\")\n",
    "print(f\"{spvoigt.sigma = }\")\n",
    "print(f\"{spvoigt.eta = }\")\n",
    "print(f\"{spvoigt.bkg = }\")"
   ]
  },
  {
   "cell_type": "markdown",
   "metadata": {},
   "source": [
    "We will add the actual values as metadata to these scans."
   ]
  },
  {
   "cell_type": "code",
   "execution_count": 8,
   "metadata": {},
   "outputs": [],
   "source": [
    "md = dict(\n",
    "    activity = \"TuneAxis development and testing\",\n",
    "    peak_model = \"pseudo Voigt\",\n",
    "    peak_scale = spvoigt.scale,\n",
    "    peak_center = spvoigt.center,\n",
    "    peak_sigma = spvoigt.sigma,\n",
    "    peak_eta = spvoigt.eta,\n",
    "    peak_bkg = spvoigt.bkg\n",
    "    )"
   ]
  },
  {
   "cell_type": "markdown",
   "metadata": {},
   "source": [
    "## Set up the tuner\n",
    "\n",
    "Create a *TuneAxis()* object.  The *tuner* needs to know the positioner, what range to scan to find the peak, *and* it needs the name of the signal to be scanned (since the signal list may have more than one signal)."
   ]
  },
  {
   "cell_type": "code",
   "execution_count": 9,
   "metadata": {},
   "outputs": [],
   "source": [
    "tuner = TuneAxis([spvoigt], m1, signal_name=spvoigt.name)\n",
    "tuner.width = 2.5\n",
    "tuner.step_factor = tuner.num/2.5"
   ]
  },
  {
   "cell_type": "markdown",
   "metadata": {},
   "source": [
    "Reconfigure the *LiveTable* to also show the simulated detector signal."
   ]
  },
  {
   "cell_type": "code",
   "execution_count": 10,
   "metadata": {},
   "outputs": [],
   "source": [
    "live_table = LiveTable([\"m1\", \"spvoigt\"])"
   ]
  },
  {
   "cell_type": "markdown",
   "metadata": {},
   "source": [
    "# Multi-pass tune\n",
    "\n",
    "Execute multiple passes to refine the centroid determination.\n",
    "Each subsequent pass will reduce the width of the next scan by ``step_factor``."
   ]
  },
  {
   "cell_type": "code",
   "execution_count": 11,
   "metadata": {},
   "outputs": [
    {
     "name": "stdout",
     "output_type": "stream",
     "text": [
      "\n",
      "\n",
      "+-----------+------------+------------+------------+\n",
      "|   seq_num |       time |         m1 |    spvoigt |\n",
      "+-----------+------------+------------+------------+\n",
      "|         1 | 18:41:46.5 |   -2.75000 |     87.793 |\n",
      "|         2 | 18:41:47.0 |   -2.47225 |    115.509 |\n",
      "|         3 | 18:41:47.5 |   -2.19450 |    168.255 |\n",
      "|         4 | 18:41:48.0 |   -1.91675 |    288.498 |\n",
      "|         5 | 18:41:48.5 |   -1.63900 |    669.190 |\n",
      "|         6 | 18:41:49.0 |   -1.36100 |   3420.444 |\n",
      "|         7 | 18:41:49.5 |   -1.08325 |  33097.710 |\n",
      "|         8 | 18:41:50.1 |   -0.80550 |   1242.005 |\n",
      "|         9 | 18:41:50.6 |   -0.52775 |    410.580 |\n",
      "|        10 | 18:41:51.1 |   -0.25000 |    212.575 |\n",
      "+-----------+------------+------------+------------+\n",
      "generator TuneAxis.multi_pass_tune ['59738fc9'] (scan num: 2)\n",
      "\n",
      "\n",
      "PeakStats\n",
      "================ =================================\n",
      "key              result                           \n",
      "================ =================================\n",
      "x                m1                               \n",
      "y                spvoigt                          \n",
      "cen              -1.0885316873365967              \n",
      "com              -1.1161270733159565              \n",
      "fwhm             0.2983769532192523               \n",
      "min              [-2.75       87.79310955]        \n",
      "max              [-1.08325000e+00  3.30977105e+04]\n",
      "crossings        [-1.23772016 -0.93934321]        \n",
      "tune_ok          True                             \n",
      "center           -1.0885316873365967              \n",
      "initial_position -1.5                             \n",
      "final_position   -1.0885316873365967              \n",
      "================ =================================\n",
      "\n",
      "\n",
      "\n",
      "+-----------+------------+------------+------------+\n",
      "|   seq_num |       time |         m1 |    spvoigt |\n",
      "+-----------+------------+------------+------------+\n",
      "|         1 | 18:41:52.9 |   -0.79000 |   1143.016 |\n",
      "|         2 | 18:41:53.2 |   -0.85650 |   1679.632 |\n",
      "|         3 | 18:41:53.5 |   -0.92275 |   2708.426 |\n",
      "|         4 | 18:41:53.8 |   -0.98900 |   5194.968 |\n",
      "|         5 | 18:41:54.1 |   -1.05525 |  17143.224 |\n",
      "|         6 | 18:41:54.4 |   -1.12175 |  72729.346 |\n",
      "|         7 | 18:41:54.7 |   -1.18800 |  73815.543 |\n",
      "|         8 | 18:41:55.0 |   -1.25425 |  17606.742 |\n",
      "|         9 | 18:41:55.3 |   -1.32050 |   5270.330 |\n",
      "|        10 | 18:41:55.6 |   -1.38700 |   2728.390 |\n",
      "+-----------+------------+------------+------------+\n",
      "generator TuneAxis.multi_pass_tune ['c308977e'] (scan num: 3)\n",
      "\n",
      "\n",
      "PeakStats\n",
      "================ =================================\n",
      "key              result                           \n",
      "================ =================================\n",
      "x                m1                               \n",
      "y                spvoigt                          \n",
      "cen              -1.1552031419819602              \n",
      "com              -1.1507850330310176              \n",
      "fwhm             0.15124853842779928              \n",
      "min              [-7.90000000e-01  1.14301639e+03]\n",
      "max              [-1.18800000e+00  7.38155431e+04]\n",
      "crossings        [-1.07957887 -1.23082741]        \n",
      "tune_ok          True                             \n",
      "center           -1.1552031419819602              \n",
      "initial_position -1.0885                          \n",
      "final_position   -1.1552031419819602              \n",
      "================ =================================\n",
      "\n",
      "\n",
      "\n",
      "+-----------+------------+------------+------------+\n",
      "|   seq_num |       time |         m1 |    spvoigt |\n",
      "+-----------+------------+------------+------------+\n",
      "|         1 | 18:41:56.6 |   -1.30650 |   6377.418 |\n",
      "|         2 | 18:41:56.8 |   -1.27300 |  11595.004 |\n",
      "|         3 | 18:41:57.0 |   -1.23925 |  25077.287 |\n",
      "|         4 | 18:41:57.2 |   -1.20575 |  53121.620 |\n",
      "|         5 | 18:41:57.4 |   -1.17200 |  91630.849 |\n",
      "|         6 | 18:41:57.6 |   -1.13850 |  91493.582 |\n",
      "|         7 | 18:41:57.8 |   -1.10475 |  52961.611 |\n",
      "|         8 | 18:41:58.0 |   -1.07125 |  24989.497 |\n",
      "|         9 | 18:41:58.2 |   -1.03750 |  11559.028 |\n",
      "|        10 | 18:41:58.4 |   -1.00400 |   6363.532 |\n",
      "+-----------+------------+------------+------------+\n",
      "generator TuneAxis.multi_pass_tune ['d664623a'] (scan num: 4)\n",
      "\n",
      "\n",
      "PeakStats\n",
      "================ =================================\n",
      "key              result                           \n",
      "================ =================================\n",
      "x                m1                               \n",
      "y                spvoigt                          \n",
      "cen              -1.15533945541456                \n",
      "com              -1.1553139807820585              \n",
      "fwhm             0.11067466001505988              \n",
      "min              [-1.00400000e+00  6.36353169e+03]\n",
      "max              [-1.17200000e+00  9.16308487e+04]\n",
      "crossings        [-1.21067679 -1.10000213]        \n",
      "tune_ok          True                             \n",
      "center           -1.15533945541456                \n",
      "initial_position -1.15525                         \n",
      "final_position   -1.15533945541456                \n",
      "================ =================================\n",
      "\n",
      "\n",
      "\n",
      "+-----------+------------+------------+------------+\n",
      "|   seq_num |       time |         m1 |    spvoigt |\n",
      "+-----------+------------+------------+------------+\n",
      "|         1 | 18:41:59.3 |   -1.04450 |  13436.790 |\n",
      "|         2 | 18:41:59.5 |   -1.06925 |  23833.955 |\n",
      "|         3 | 18:41:59.7 |   -1.09375 |  41941.098 |\n",
      "|         4 | 18:41:59.9 |   -1.11825 |  68501.575 |\n",
      "|         5 | 18:42:00.1 |   -1.14300 |  95260.514 |\n",
      "|         6 | 18:42:00.3 |   -1.16750 |  95369.196 |\n",
      "|         7 | 18:42:00.5 |   -1.19225 |  68680.044 |\n",
      "|         8 | 18:42:00.7 |   -1.21675 |  42077.887 |\n",
      "|         9 | 18:42:00.9 |   -1.24125 |  23917.778 |\n",
      "|        10 | 18:42:01.1 |   -1.26600 |  13480.751 |\n",
      "+-----------+------------+------------+------------+\n",
      "generator TuneAxis.multi_pass_tune ['0fe9137d'] (scan num: 5)\n",
      "\n",
      "\n",
      "PeakStats\n",
      "================ =================================\n",
      "key              result                           \n",
      "================ =================================\n",
      "x                m1                               \n",
      "y                spvoigt                          \n",
      "cen              -1.1553219950893325              \n",
      "com              -1.1553081766084872              \n",
      "fwhm             0.1001537087161457               \n",
      "min              [-1.04450000e+00  1.34367899e+04]\n",
      "max              [-1.16750000e+00  9.53691956e+04]\n",
      "crossings        [-1.10524514 -1.20539885]        \n",
      "tune_ok          True                             \n",
      "center           -1.1553219950893325              \n",
      "initial_position -1.15525                         \n",
      "final_position   -1.1553219950893325              \n",
      "================ =================================\n",
      "\n"
     ]
    },
    {
     "data": {
      "text/plain": [
       "('59738fc9-1916-4c84-8676-7396f887e1e6',\n",
       " 'c308977e-d9af-459a-bc50-ae60b5fdbab0',\n",
       " 'd664623a-8a3f-41ee-b2c3-967125428838',\n",
       " '0fe9137d-7751-4cb3-9b60-30738139e60e')"
      ]
     },
     "execution_count": 11,
     "metadata": {},
     "output_type": "execute_result"
    }
   ],
   "source": [
    "RE(tuner.multi_pass_tune(), live_table, md=md)"
   ]
  },
  {
   "cell_type": "markdown",
   "metadata": {},
   "source": [
    "Show the results from the multi-pass tuning."
   ]
  },
  {
   "cell_type": "code",
   "execution_count": 12,
   "metadata": {},
   "outputs": [
    {
     "name": "stdout",
     "output_type": "stream",
     "text": [
      "final:  -1.1553219950893325\n",
      "max (-1.1675, 95369.1956078187)\n",
      "min (-1.0445, 13436.789922094267)\n",
      "-- Signal(name='PeakStats_cen', parent='PeakStats', value=-1.0885316873365967, timestamp=1642725711.1095855) Signal(name='PeakStats_fwhm', parent='PeakStats', value=0.2983769532192523, timestamp=1642725711.1095936)\n",
      "-- Signal(name='PeakStats_cen', parent='PeakStats', value=-1.1552031419819602, timestamp=1642725715.6256607) Signal(name='PeakStats_fwhm', parent='PeakStats', value=0.15124853842779928, timestamp=1642725715.6256957)\n",
      "-- Signal(name='PeakStats_cen', parent='PeakStats', value=-1.15533945541456, timestamp=1642725718.4310818) Signal(name='PeakStats_fwhm', parent='PeakStats', value=0.11067466001505988, timestamp=1642725718.4310913)\n",
      "-- Signal(name='PeakStats_cen', parent='PeakStats', value=-1.1553219950893325, timestamp=1642725721.140155) Signal(name='PeakStats_fwhm', parent='PeakStats', value=0.1001537087161457, timestamp=1642725721.1401901)\n",
      "m1.position=-1.15525  det=13480.750786315055\n"
     ]
    }
   ],
   "source": [
    "print(\"final: \", tuner.center)\n",
    "print(\"max\", tuner.peaks.max)\n",
    "print(\"min\", tuner.peaks.min)\n",
    "for stat in tuner.stats:\n",
    "    print(\"--\", stat.cen, stat.fwhm)\n",
    "print(f\"{m1.position=}  det={spvoigt.get()}\")"
   ]
  },
  {
   "cell_type": "markdown",
   "metadata": {},
   "source": [
    "Compare the final position (just printed) with the expected value shown a couple steps back."
   ]
  },
  {
   "cell_type": "markdown",
   "metadata": {},
   "source": [
    "## Single-pass tune\n",
    "\n",
    "Repeat but with only one pass.  Reset the motor to the starting position and increase the number of steps by a factor of three."
   ]
  },
  {
   "cell_type": "code",
   "execution_count": 13,
   "metadata": {},
   "outputs": [
    {
     "name": "stdout",
     "output_type": "stream",
     "text": [
      "\n",
      "\n",
      "+-----------+------------+------------+------------+\n",
      "|   seq_num |       time |         m1 |    spvoigt |\n",
      "+-----------+------------+------------+------------+\n",
      "|         1 | 18:42:03.7 |   -2.75000 |     87.793 |\n",
      "|         2 | 18:42:04.0 |   -2.66375 |     94.787 |\n",
      "|         3 | 18:42:04.3 |   -2.57750 |    103.089 |\n",
      "|         4 | 18:42:04.6 |   -2.49150 |    113.017 |\n",
      "|         5 | 18:42:04.9 |   -2.40525 |    125.097 |\n",
      "|         6 | 18:42:05.2 |   -2.31900 |    139.955 |\n",
      "|         7 | 18:42:05.5 |   -2.23275 |    158.513 |\n",
      "|         8 | 18:42:05.8 |   -2.14650 |    182.107 |\n",
      "|         9 | 18:42:06.1 |   -2.06025 |    212.737 |\n",
      "|        10 | 18:42:06.4 |   -1.97425 |    253.366 |\n",
      "|        11 | 18:42:06.7 |   -1.88800 |    309.227 |\n",
      "|        12 | 18:42:07.0 |   -1.80175 |    388.735 |\n",
      "|        13 | 18:42:07.3 |   -1.71550 |    507.354 |\n",
      "|        14 | 18:42:07.6 |   -1.62925 |    695.544 |\n",
      "|        15 | 18:42:07.9 |   -1.54300 |   1020.184 |\n",
      "|        16 | 18:42:08.2 |   -1.45700 |   1649.374 |\n",
      "|        17 | 18:42:08.5 |   -1.37075 |   3132.083 |\n",
      "|        18 | 18:42:08.8 |   -1.28450 |   9218.149 |\n",
      "|        19 | 18:42:09.1 |   -1.19825 |  61557.724 |\n",
      "|        20 | 18:42:09.4 |   -1.11200 |  61094.680 |\n",
      "|        21 | 18:42:09.7 |   -1.02575 |   9149.281 |\n",
      "|        22 | 18:42:10.0 |   -0.93975 |   3127.995 |\n",
      "|        23 | 18:42:10.3 |   -0.85350 |   1647.824 |\n",
      "|        24 | 18:42:10.6 |   -0.76725 |   1018.181 |\n",
      "|        25 | 18:42:10.9 |   -0.68100 |    694.436 |\n",
      "|        26 | 18:42:11.2 |   -0.59475 |    506.679 |\n",
      "|        27 | 18:42:11.5 |   -0.50850 |    388.294 |\n",
      "|        28 | 18:42:11.8 |   -0.42250 |    309.113 |\n",
      "|        29 | 18:42:12.1 |   -0.33625 |    253.285 |\n",
      "|        30 | 18:42:12.4 |   -0.25000 |    212.575 |\n",
      "+-----------+------------+------------+------------+\n",
      "generator TuneAxis.tune ['a381e111'] (scan num: 6)\n",
      "\n",
      "\n",
      "PeakStats\n",
      "================ =================================\n",
      "key              result                           \n",
      "================ =================================\n",
      "x                m1                               \n",
      "y                spvoigt                          \n",
      "cen              -1.155317253761389               \n",
      "com              -1.1632359362669962              \n",
      "fwhm             0.18716133951232927              \n",
      "min              [-2.75       87.79310955]        \n",
      "max              [-1.19825000e+00  6.15577243e+04]\n",
      "crossings        [-1.24889792 -1.06173658]        \n",
      "tune_ok          True                             \n",
      "center           -1.155317253761389               \n",
      "initial_position -1.5                             \n",
      "final_position   -1.155317253761389               \n",
      "================ =================================\n",
      "\n"
     ]
    },
    {
     "data": {
      "text/plain": [
       "('a381e111-3216-4f44-ab83-27cea6de3409',)"
      ]
     },
     "execution_count": 13,
     "metadata": {},
     "output_type": "execute_result"
    }
   ],
   "source": [
    "m1.move(starting_position)\n",
    "tuner.num *= 3\n",
    "RE(tuner.tune(), live_table, md=md)"
   ]
  },
  {
   "cell_type": "markdown",
   "metadata": {},
   "source": [
    "Compare the single-pass scan with the previous multi-pass scan.  Each used the same number of points overall.  \n",
    "\n",
    "The results are comparable but we already knew the position of the peak approximately."
   ]
  },
  {
   "cell_type": "code",
   "execution_count": 14,
   "metadata": {},
   "outputs": [
    {
     "name": "stdout",
     "output_type": "stream",
     "text": [
      "final:  -1.155317253761389\n",
      "max (-1.19825, 61557.72427484274)\n",
      "min (-2.75, 87.79310954973654)\n",
      "centroid -1.155317253761389\n",
      "FWHM 0.18716133951232927\n",
      "m1.position=-1.15525  det=212.57529955844245\n"
     ]
    }
   ],
   "source": [
    "print(\"final: \", tuner.center)\n",
    "print(\"max\", tuner.peaks.max)\n",
    "print(\"min\", tuner.peaks.min)\n",
    "print(\"centroid\", tuner.peaks.cen)\n",
    "print(\"FWHM\", tuner.peaks.fwhm)\n",
    "print(f\"{m1.position=}  det={spvoigt.get()}\")"
   ]
  }
 ],
 "metadata": {
  "kernelspec": {
   "display_name": "Python 3",
   "language": "python",
   "name": "python3"
  },
  "language_info": {
   "codemirror_mode": {
    "name": "ipython",
    "version": 3
   },
   "file_extension": ".py",
   "mimetype": "text/x-python",
   "name": "python",
   "nbconvert_exporter": "python",
   "pygments_lexer": "ipython3",
   "version": "3.9.7"
  }
 },
 "nbformat": 4,
 "nbformat_minor": 2
}
