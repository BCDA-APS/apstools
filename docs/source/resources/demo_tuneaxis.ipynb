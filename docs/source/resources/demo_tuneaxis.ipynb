{
 "cells": [
  {
   "cell_type": "markdown",
   "metadata": {},
   "source": [
    "# Demonstrate ``TuneAxis``\n",
    "\n",
    "In this example, we demonstrate the `apstools.plans.TuneAxis()` plan.  The `TuneAxis()` support may be used to align (a.k.a. *tune*) a signal against an axis.\n",
    "\n",
    "We'll use a software-only (not connected to hardware) motor as a positioner.  Here, we prepare a signal that is a computation based on the value of our positioner.  The computed signal is a model of a realistic diffraction peak ([pseudo-Voigt](https://en.wikipedia.org/wiki/Voigt_profile), a mixture of a Gaussian and a Lorentzian) one might encounter in a powder diffraction scan.  The model peak is a pseudo-voigt function to which some noise has been added.  Random numbers are used to modify the ideal pseudo-voigt function so as to simulate a realistic signal.\n",
    "\n",
    "For this demo, we do not need the databroker since we do not plan to review any of this data after collection.  We'll display the data during the scan using the *LiveTable()* code."
   ]
  },
  {
   "cell_type": "code",
   "execution_count": 1,
   "metadata": {},
   "outputs": [],
   "source": [
    "from apstools.devices import SynPseudoVoigt\n",
    "from apstools.plans import TuneAxis\n",
    "from bluesky import RunEngine\n",
    "from bluesky import plans as bp\n",
    "from bluesky.callbacks import LiveTable\n",
    "import numpy as np\n",
    "from ophyd import EpicsMotor\n",
    "\n",
    "RE = RunEngine({})\n"
   ]
  },
  {
   "cell_type": "markdown",
   "metadata": {},
   "source": [
    "Figure out which workstation we are running.  The *mint-vm* host has a different IOC prefix."
   ]
  },
  {
   "cell_type": "code",
   "execution_count": 2,
   "metadata": {},
   "outputs": [],
   "source": [
    "IOC = \"gp:\""
   ]
  },
  {
   "cell_type": "markdown",
   "metadata": {},
   "source": [
    "Connect to our motor *before* we create the simulated detector signal."
   ]
  },
  {
   "cell_type": "code",
   "execution_count": 3,
   "metadata": {},
   "outputs": [],
   "source": [
    "m1 = EpicsMotor(f\"{IOC}m1\", name=\"m1\")\n",
    "m1.wait_for_connection()"
   ]
  },
  {
   "cell_type": "markdown",
   "metadata": {},
   "source": [
    "Define a starting position, we'll use this later in the demo."
   ]
  },
  {
   "cell_type": "code",
   "execution_count": 4,
   "metadata": {},
   "outputs": [],
   "source": [
    "m1.move(-1.5)\n",
    "starting_position = m1.position"
   ]
  },
  {
   "cell_type": "markdown",
   "metadata": {},
   "source": [
    "## Setup the simulated detector signal.  "
   ]
  },
  {
   "cell_type": "markdown",
   "metadata": {},
   "source": [
    "Make a simple scan with a simulated motor and the `SynPseudoVoigt()` signal."
   ]
  },
  {
   "cell_type": "code",
   "execution_count": 5,
   "metadata": {},
   "outputs": [
    {
     "name": "stdout",
     "output_type": "stream",
     "text": [
      "\n",
      "\n",
      "+-----------+------------+------------+------------+\n",
      "|   seq_num |       time |      motor |        det |\n",
      "+-----------+------------+------------+------------+\n",
      "|         1 | 15:32:07.1 |     -3.000 |      0.056 |\n",
      "|         2 | 15:32:07.1 |     -2.667 |      0.076 |\n",
      "|         3 | 15:32:07.1 |     -2.333 |      0.110 |\n",
      "|         4 | 15:32:07.1 |     -2.000 |      0.168 |\n",
      "|         5 | 15:32:07.1 |     -1.667 |      0.257 |\n",
      "|         6 | 15:32:07.1 |     -1.333 |      0.386 |\n",
      "|         7 | 15:32:07.1 |     -1.000 |      0.553 |\n",
      "|         8 | 15:32:07.1 |     -0.667 |      0.747 |\n",
      "|         9 | 15:32:07.1 |     -0.333 |      0.923 |\n",
      "|        10 | 15:32:07.1 |      0.000 |      1.000 |\n",
      "|        11 | 15:32:07.1 |      0.333 |      0.923 |\n",
      "|        12 | 15:32:07.1 |      0.667 |      0.747 |\n",
      "|        13 | 15:32:07.1 |      1.000 |      0.553 |\n",
      "|        14 | 15:32:07.1 |      1.333 |      0.386 |\n",
      "|        15 | 15:32:07.1 |      1.667 |      0.257 |\n",
      "|        16 | 15:32:07.1 |      2.000 |      0.168 |\n",
      "|        17 | 15:32:07.1 |      2.333 |      0.110 |\n",
      "|        18 | 15:32:07.2 |      2.667 |      0.076 |\n",
      "|        19 | 15:32:07.2 |      3.000 |      0.056 |\n",
      "+-----------+------------+------------+------------+\n",
      "generator scan ['2d2bf557'] (scan num: 1)\n",
      "\n",
      "\n"
     ]
    },
    {
     "data": {
      "text/plain": [
       "('2d2bf557-4929-4ed3-8112-02de3e9b79ba',)"
      ]
     },
     "execution_count": 5,
     "metadata": {},
     "output_type": "execute_result"
    }
   ],
   "source": [
    "from ophyd.sim import motor\n",
    "\n",
    "det = SynPseudoVoigt('det', motor, 'motor',\n",
    "    center=0, eta=0.5, scale=1, sigma=1, bkg=0)\n",
    "\n",
    "live_table = LiveTable([\"motor\", \"det\"])\n",
    "\n",
    "RE(bp.scan([det], motor, -3, 3, 19), live_table)"
   ]
  },
  {
   "cell_type": "markdown",
   "metadata": {},
   "source": [
    "Make a new signal with randomized values so that we have something interesting to find with `TuneAxis()`."
   ]
  },
  {
   "cell_type": "code",
   "execution_count": 6,
   "metadata": {},
   "outputs": [],
   "source": [
    "spvoigt = SynPseudoVoigt(\n",
    "    'spvoigt', m1, 'm1', \n",
    "    center=-1.5 + 0.4*np.random.uniform(), \n",
    "    eta=0.2 + 0.5*np.random.uniform(), \n",
    "    sigma=0.001 + 0.05*np.random.uniform(), \n",
    "    scale=1e5,\n",
    "    bkg=0.01*np.random.uniform())"
   ]
  },
  {
   "cell_type": "markdown",
   "metadata": {},
   "source": [
    "Reveal the actual values.  These are the answers we expect to discover."
   ]
  },
  {
   "cell_type": "code",
   "execution_count": 7,
   "metadata": {},
   "outputs": [
    {
     "name": "stdout",
     "output_type": "stream",
     "text": [
      "spvoigt.scale = 100000.0\n",
      "spvoigt.center = -1.3925351184258767\n",
      "spvoigt.sigma = 0.023117195475099467\n",
      "spvoigt.eta = 0.5002409281255817\n",
      "spvoigt.bkg = 0.004540805634184992\n"
     ]
    }
   ],
   "source": [
    "print(f\"{spvoigt.scale = }\")\n",
    "print(f\"{spvoigt.center = }\")\n",
    "print(f\"{spvoigt.sigma = }\")\n",
    "print(f\"{spvoigt.eta = }\")\n",
    "print(f\"{spvoigt.bkg = }\")"
   ]
  },
  {
   "cell_type": "markdown",
   "metadata": {},
   "source": [
    "We will add the actual values as metadata to these scans."
   ]
  },
  {
   "cell_type": "code",
   "execution_count": 8,
   "metadata": {},
   "outputs": [],
   "source": [
    "md = dict(\n",
    "    activity = \"TuneAxis development and testing\",\n",
    "    peak_model = \"pseudo Voigt\",\n",
    "    peak_scale = spvoigt.scale,\n",
    "    peak_center = spvoigt.center,\n",
    "    peak_sigma = spvoigt.sigma,\n",
    "    peak_eta = spvoigt.eta,\n",
    "    peak_bkg = spvoigt.bkg\n",
    "    )"
   ]
  },
  {
   "cell_type": "markdown",
   "metadata": {},
   "source": [
    "## Set up the tuner\n",
    "\n",
    "Create a *TuneAxis()* object.  The *tuner* needs to know the positioner, what range to scan to find the peak, *and* it needs the name of the signal to be scanned (since the signal list may have more than one signal)."
   ]
  },
  {
   "cell_type": "code",
   "execution_count": 9,
   "metadata": {},
   "outputs": [],
   "source": [
    "tuner = TuneAxis([spvoigt], m1, signal_name=spvoigt.name)\n",
    "tuner.width = 2.5\n",
    "tuner.step_factor = tuner.num/2.5"
   ]
  },
  {
   "cell_type": "markdown",
   "metadata": {},
   "source": [
    "Reconfigure the *LiveTable* to also show the simulated detector signal."
   ]
  },
  {
   "cell_type": "code",
   "execution_count": 10,
   "metadata": {},
   "outputs": [],
   "source": [
    "live_table = LiveTable([\"m1\", \"spvoigt\"])"
   ]
  },
  {
   "cell_type": "markdown",
   "metadata": {},
   "source": [
    "# Multi-pass tune\n",
    "\n",
    "Execute multiple passes to refine the centroid determination.\n",
    "Each subsequent pass will reduce the width of the next scan by ``step_factor``."
   ]
  },
  {
   "cell_type": "code",
   "execution_count": 11,
   "metadata": {},
   "outputs": [
    {
     "name": "stdout",
     "output_type": "stream",
     "text": [
      "\n",
      "\n",
      "+-----------+------------+------------+------------+\n",
      "|   seq_num |       time |         m1 |    spvoigt |\n",
      "+-----------+------------+------------+------------+\n",
      "|         1 | 15:32:09.0 |   -2.75000 |    468.584 |\n",
      "|         2 | 15:32:09.4 |   -2.47200 |    477.012 |\n",
      "|         3 | 15:32:09.9 |   -2.19400 |    495.664 |\n",
      "|         4 | 15:32:10.4 |   -1.91700 |    551.081 |\n",
      "|         5 | 15:32:10.9 |   -1.63900 |    890.331 |\n",
      "|         6 | 15:32:11.4 |   -1.36100 |  37649.129 |\n",
      "|         7 | 15:32:11.9 |   -1.08300 |    731.549 |\n",
      "|         8 | 15:32:12.4 |   -0.80600 |    531.667 |\n",
      "|         9 | 15:32:12.9 |   -0.52800 |    489.822 |\n",
      "|        10 | 15:32:13.4 |   -0.25000 |    474.551 |\n",
      "+-----------+------------+------------+------------+\n",
      "generator TuneAxis.multi_pass_tune ['a4114e5d'] (scan num: 2)\n",
      "\n",
      "\n",
      "PeakStats\n",
      "================ =================================\n",
      "key              result                           \n",
      "================ =================================\n",
      "x                m1                               \n",
      "y                spvoigt                          \n",
      "cen              -1.3613023467014518              \n",
      "com              -1.377695169270274               \n",
      "fwhm             0.2805848988995139               \n",
      "min              [ -2.75      468.5838482]        \n",
      "max              [-1.36100000e+00  3.76491287e+04]\n",
      "crossings        [-1.5015948 -1.2210099]          \n",
      "tune_ok          True                             \n",
      "center           -1.3613023467014518              \n",
      "initial_position -1.5                             \n",
      "final_position   -1.3613023467014518              \n",
      "================ =================================\n",
      "\n",
      "\n",
      "\n",
      "+-----------+------------+------------+------------+\n",
      "|   seq_num |       time |         m1 |    spvoigt |\n",
      "+-----------+------------+------------+------------+\n",
      "|         1 | 15:32:15.6 |   -1.08000 |    726.277 |\n",
      "|         2 | 15:32:15.9 |   -1.14300 |    879.752 |\n",
      "|         3 | 15:32:16.2 |   -1.20500 |   1202.827 |\n",
      "|         4 | 15:32:16.5 |   -1.26700 |   2094.826 |\n",
      "|         5 | 15:32:16.8 |   -1.33000 |   7755.669 |\n",
      "|         6 | 15:32:17.1 |   -1.39200 | 100413.903 |\n",
      "|         7 | 15:32:17.4 |   -1.45500 |   7778.191 |\n",
      "|         8 | 15:32:17.7 |   -1.51700 |   2122.224 |\n",
      "|         9 | 15:32:18.0 |   -1.57900 |   1211.316 |\n",
      "|        10 | 15:32:18.3 |   -1.64200 |    879.990 |\n",
      "+-----------+------------+------------+------------+\n",
      "generator TuneAxis.multi_pass_tune ['3d6676bd'] (scan num: 3)\n",
      "\n",
      "\n",
      "PeakStats\n",
      "================ =================================\n",
      "key              result                           \n",
      "================ =================================\n",
      "x                m1                               \n",
      "y                spvoigt                          \n",
      "cen              -1.3922730855240273              \n",
      "com              -1.3902511955043215              \n",
      "fwhm             0.06724971768409405              \n",
      "min              [ -1.08       726.27690371]      \n",
      "max              [-1.39200000e+00  1.00413903e+05]\n",
      "crossings        [-1.35864823 -1.42589794]        \n",
      "tune_ok          True                             \n",
      "center           -1.3922730855240273              \n",
      "initial_position -1.361                           \n",
      "final_position   -1.3922730855240273              \n",
      "================ =================================\n",
      "\n",
      "\n",
      "\n",
      "+-----------+------------+------------+------------+\n",
      "|   seq_num |       time |         m1 |    spvoigt |\n",
      "+-----------+------------+------------+------------+\n",
      "|         1 | 15:32:19.2 |   -1.45900 |   6653.750 |\n",
      "|         2 | 15:32:19.4 |   -1.44400 |  13045.729 |\n",
      "|         3 | 15:32:19.6 |   -1.42900 |  29198.479 |\n",
      "|         4 | 15:32:19.8 |   -1.41400 |  59792.319 |\n",
      "|         5 | 15:32:20.0 |   -1.39900 |  94909.037 |\n",
      "|         6 | 15:32:20.2 |   -1.38500 |  93064.128 |\n",
      "|         7 | 15:32:20.4 |   -1.37000 |  57178.835 |\n",
      "|         8 | 15:32:20.6 |   -1.35500 |  27585.332 |\n",
      "|         9 | 15:32:20.8 |   -1.34000 |  12347.278 |\n",
      "|        10 | 15:32:21.0 |   -1.32500 |   6401.204 |\n",
      "+-----------+------------+------------+------------+\n",
      "generator TuneAxis.multi_pass_tune ['c1906b84'] (scan num: 4)\n",
      "\n",
      "\n",
      "PeakStats\n",
      "================ =================================\n",
      "key              result                           \n",
      "================ =================================\n",
      "x                m1                               \n",
      "y                spvoigt                          \n",
      "cen              -1.3925866293523317              \n",
      "com              -1.3924357886768364              \n",
      "fwhm             0.051786583357105176             \n",
      "min              [-1.32500000e+00  6.40120353e+03]\n",
      "max              [-1.3990000e+00  9.4909037e+04]  \n",
      "crossings        [-1.41847992 -1.36669334]        \n",
      "tune_ok          True                             \n",
      "center           -1.3925866293523317              \n",
      "initial_position -1.3920000000000001              \n",
      "final_position   -1.3925866293523317              \n",
      "================ =================================\n",
      "\n",
      "\n",
      "\n",
      "+-----------+------------+------------+------------+\n",
      "|   seq_num |       time |         m1 |    spvoigt |\n",
      "+-----------+------------+------------+------------+\n",
      "|         1 | 15:32:21.7 |   -1.34100 |  12998.398 |\n",
      "|         2 | 15:32:21.9 |   -1.35300 |  24778.142 |\n",
      "|         3 | 15:32:22.1 |   -1.36400 |  43605.376 |\n",
      "|         4 | 15:32:22.3 |   -1.37600 |  72243.068 |\n",
      "|         5 | 15:32:22.5 |   -1.38700 |  96329.463 |\n",
      "|         6 | 15:32:22.7 |   -1.39900 |  94909.037 |\n",
      "|         7 | 15:32:22.9 |   -1.41000 |  69869.076 |\n",
      "|         8 | 15:32:23.1 |   -1.42200 |  41695.396 |\n",
      "|         9 | 15:32:23.3 |   -1.43300 |  23563.252 |\n",
      "|        10 | 15:32:23.5 |   -1.44500 |  12391.646 |\n",
      "+-----------+------------+------------+------------+\n",
      "generator TuneAxis.multi_pass_tune ['3d930020'] (scan num: 5)\n",
      "\n",
      "\n",
      "PeakStats\n",
      "================ =================================\n",
      "key              result                           \n",
      "================ =================================\n",
      "x                m1                               \n",
      "y                spvoigt                          \n",
      "cen              -1.3925561295137476              \n",
      "com              -1.3926093613000814              \n",
      "fwhm             0.04809881301054353              \n",
      "min              [-1.44500000e+00  1.23916458e+04]\n",
      "max              [-1.38700000e+00  9.63294635e+04]\n",
      "crossings        [-1.36850672 -1.41660554]        \n",
      "tune_ok          True                             \n",
      "center           -1.3925561295137476              \n",
      "initial_position -1.393                           \n",
      "final_position   -1.3925561295137476              \n",
      "================ =================================\n",
      "\n"
     ]
    },
    {
     "data": {
      "text/plain": [
       "('a4114e5d-57db-43f6-88e2-bafd54bb946b',\n",
       " '3d6676bd-6314-4075-ae1f-5695fa4fb910',\n",
       " 'c1906b84-52b0-443b-b184-f27a7aefdfb5',\n",
       " '3d930020-ea23-437e-aef3-5d1c8f614777')"
      ]
     },
     "execution_count": 11,
     "metadata": {},
     "output_type": "execute_result"
    }
   ],
   "source": [
    "RE(tuner.multi_pass_tune(), live_table, md=md)"
   ]
  },
  {
   "cell_type": "markdown",
   "metadata": {},
   "source": [
    "Show the results from the multi-pass tuning."
   ]
  },
  {
   "cell_type": "code",
   "execution_count": 12,
   "metadata": {},
   "outputs": [
    {
     "name": "stdout",
     "output_type": "stream",
     "text": [
      "final:  -1.3925561295137476\n",
      "max (-1.387, 96329.46348824805)\n",
      "min (-1.445, 12391.645821650982)\n",
      "-- Signal(name='PeakStats_cen', parent='PeakStats', value=-1.3613023467014518, timestamp=1638221533.4918845) Signal(name='PeakStats_fwhm', parent='PeakStats', value=0.2805848988995139, timestamp=1638221533.4918973)\n",
      "-- Signal(name='PeakStats_cen', parent='PeakStats', value=-1.3922730855240273, timestamp=1638221538.3189716) Signal(name='PeakStats_fwhm', parent='PeakStats', value=0.06724971768409405, timestamp=1638221538.3190074)\n",
      "-- Signal(name='PeakStats_cen', parent='PeakStats', value=-1.3925866293523317, timestamp=1638221541.0214105) Signal(name='PeakStats_fwhm', parent='PeakStats', value=0.051786583357105176, timestamp=1638221541.0214403)\n",
      "-- Signal(name='PeakStats_cen', parent='PeakStats', value=-1.3925561295137476, timestamp=1638221543.5190797) Signal(name='PeakStats_fwhm', parent='PeakStats', value=0.04809881301054353, timestamp=1638221543.5190878)\n",
      "m1.position=-1.393  det=12391.645821650982\n"
     ]
    }
   ],
   "source": [
    "print(\"final: \", tuner.center)\n",
    "print(\"max\", tuner.peaks.max)\n",
    "print(\"min\", tuner.peaks.min)\n",
    "for stat in tuner.stats:\n",
    "    print(\"--\", stat.cen, stat.fwhm)\n",
    "print(f\"{m1.position=}  det={spvoigt.get()}\")"
   ]
  },
  {
   "cell_type": "markdown",
   "metadata": {},
   "source": [
    "Compare the final position (just printed) with the expected value shown a couple steps back."
   ]
  },
  {
   "cell_type": "markdown",
   "metadata": {},
   "source": [
    "## Single-pass tune\n",
    "\n",
    "Repeat but with only one pass.  Reset the motor to the starting position and increase the number of steps by a factor of three."
   ]
  },
  {
   "cell_type": "code",
   "execution_count": 13,
   "metadata": {},
   "outputs": [
    {
     "name": "stdout",
     "output_type": "stream",
     "text": [
      "\n",
      "\n",
      "+-----------+------------+------------+------------+\n",
      "|   seq_num |       time |         m1 |    spvoigt |\n",
      "+-----------+------------+------------+------------+\n",
      "|         1 | 15:32:26.0 |   -2.75000 |    468.584 |\n",
      "|         2 | 15:32:26.3 |   -2.66400 |    470.611 |\n",
      "|         3 | 15:32:26.6 |   -2.57800 |    473.096 |\n",
      "|         4 | 15:32:26.9 |   -2.49100 |    476.226 |\n",
      "|         5 | 15:32:27.2 |   -2.40500 |    480.146 |\n",
      "|         6 | 15:32:27.5 |   -2.31900 |    485.206 |\n",
      "|         7 | 15:32:27.8 |   -2.23300 |    491.897 |\n",
      "|         8 | 15:32:28.1 |   -2.14700 |    501.001 |\n",
      "|         9 | 15:32:28.4 |   -2.06000 |    514.014 |\n",
      "|        10 | 15:32:28.7 |   -1.97400 |    533.024 |\n",
      "|        11 | 15:32:29.0 |   -1.88800 |    562.743 |\n",
      "|        12 | 15:32:29.3 |   -1.80200 |    613.021 |\n",
      "|        13 | 15:32:29.6 |   -1.71600 |    708.285 |\n",
      "|        14 | 15:32:29.9 |   -1.62900 |    927.652 |\n",
      "|        15 | 15:32:30.2 |   -1.54300 |   1607.658 |\n",
      "|        16 | 15:32:30.5 |   -1.45700 |   7177.590 |\n",
      "|        17 | 15:32:30.8 |   -1.37100 |  59619.402 |\n",
      "|        18 | 15:32:31.1 |   -1.28400 |   2625.801 |\n",
      "|        19 | 15:32:31.4 |   -1.19800 |   1150.649 |\n",
      "|        20 | 15:32:31.7 |   -1.11200 |    791.473 |\n",
      "|        21 | 15:32:32.0 |   -1.02600 |    652.276 |\n",
      "|        22 | 15:32:32.3 |   -0.94000 |    584.281 |\n",
      "|        23 | 15:32:32.6 |   -0.85300 |    545.748 |\n",
      "|        24 | 15:32:32.9 |   -0.76700 |    522.307 |\n",
      "|        25 | 15:32:33.2 |   -0.68100 |    506.828 |\n",
      "|        26 | 15:32:33.5 |   -0.59500 |    496.074 |\n",
      "|        27 | 15:32:33.8 |   -0.50900 |    488.303 |\n",
      "|        28 | 15:32:34.1 |   -0.42200 |    482.445 |\n",
      "|        29 | 15:32:34.4 |   -0.33600 |    478.018 |\n",
      "|        30 | 15:32:34.7 |   -0.25000 |    474.551 |\n",
      "+-----------+------------+------------+------------+\n",
      "generator TuneAxis.tune ['b3666b8f'] (scan num: 6)\n",
      "\n",
      "\n",
      "PeakStats\n",
      "================ =================================\n",
      "key              result                           \n",
      "================ =================================\n",
      "x                m1                               \n",
      "y                spvoigt                          \n",
      "cen              -1.372677305136548               \n",
      "com              -1.3988438773310985              \n",
      "fwhm             0.09364757525546175              \n",
      "min              [ -2.75      468.5838482]        \n",
      "max              [-1.37100000e+00  5.96194017e+04]\n",
      "crossings        [-1.41950109 -1.32585352]        \n",
      "tune_ok          True                             \n",
      "center           -1.372677305136548               \n",
      "initial_position -1.5                             \n",
      "final_position   -1.372677305136548               \n",
      "================ =================================\n",
      "\n"
     ]
    },
    {
     "data": {
      "text/plain": [
       "('b3666b8f-df97-4f76-b353-c0f7f7716f99',)"
      ]
     },
     "execution_count": 13,
     "metadata": {},
     "output_type": "execute_result"
    }
   ],
   "source": [
    "m1.move(starting_position)\n",
    "tuner.num *= 3\n",
    "RE(tuner.tune(), live_table, md=md)"
   ]
  },
  {
   "cell_type": "markdown",
   "metadata": {},
   "source": [
    "Compare the single-pass scan with the previous multi-pass scan.  Each used the same number of points overall.  \n",
    "\n",
    "The results are comparable but we already knew the position of the peak approximately."
   ]
  },
  {
   "cell_type": "code",
   "execution_count": 14,
   "metadata": {},
   "outputs": [
    {
     "name": "stdout",
     "output_type": "stream",
     "text": [
      "final:  -1.372677305136548\n",
      "max (-1.371, 59619.401745892595)\n",
      "min (-2.75, 468.58384819985065)\n",
      "centroid -1.372677305136548\n",
      "FWHM 0.09364757525546175\n",
      "m1.position=-1.373  det=474.5512608494155\n"
     ]
    }
   ],
   "source": [
    "print(\"final: \", tuner.center)\n",
    "print(\"max\", tuner.peaks.max)\n",
    "print(\"min\", tuner.peaks.min)\n",
    "print(\"centroid\", tuner.peaks.cen)\n",
    "print(\"FWHM\", tuner.peaks.fwhm)\n",
    "print(f\"{m1.position=}  det={spvoigt.get()}\")"
   ]
  }
 ],
 "metadata": {
  "kernelspec": {
   "display_name": "Python 3",
   "language": "python",
   "name": "python3"
  },
  "language_info": {
   "codemirror_mode": {
    "name": "ipython",
    "version": 3
   },
   "file_extension": ".py",
   "mimetype": "text/x-python",
   "name": "python",
   "nbconvert_exporter": "python",
   "pygments_lexer": "ipython3",
   "version": "3.9.7"
  }
 },
 "nbformat": 4,
 "nbformat_minor": 2
}
