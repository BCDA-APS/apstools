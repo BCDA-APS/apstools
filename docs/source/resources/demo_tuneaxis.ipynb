{
 "cells": [
  {
   "cell_type": "markdown",
   "metadata": {},
   "source": [
    "# Demonstrate ``TuneAxis``\n",
    "\n",
    "In this example, we demonstrate the `apstools.plans.TuneAxis()` plan.  The `TuneAxis()` support may be used to align (a.k.a. *tune*) a signal against an axis.\n",
    "\n",
    "We'll use a software-only (not connected to hardware) motor as a positioner.  Here, we prepare a signal that is a computation based on the value of our positioner.  The computed signal is a model of a realistic diffraction peak ([pseudo-Voigt](https://en.wikipedia.org/wiki/Voigt_profile), a mixture of a Gaussian and a Lorentzian) one might encounter in a powder diffraction scan.  The model peak is a pseudo-voigt function to which some noise has been added.  Random numbers are used to modify the ideal pseudo-voigt function so as to simulate a realistic signal.\n",
    "\n",
    "For this demo, we do not need the databroker since we do not plan to review any of this data after collection.  We'll display the data during the scan using the *BestEffortCallback()* code."
   ]
  },
  {
   "cell_type": "code",
   "execution_count": 1,
   "metadata": {},
   "outputs": [
    {
     "data": {
      "text/plain": [
       "0"
      ]
     },
     "execution_count": 1,
     "metadata": {},
     "output_type": "execute_result"
    }
   ],
   "source": [
    "from ophyd import EpicsMotor\n",
    "from apstools.synApps_ophyd import swaitRecord, swait_setup_random_number\n",
    "from apstools.signals import SynPseudoVoigt\n",
    "from apstools.plans import TuneAxis\n",
    "from bluesky.callbacks import LiveTable\n",
    "import numpy as np\n",
    "from databroker import Broker\n",
    "from bluesky import RunEngine\n",
    "\n",
    "RE = RunEngine({})\n",
    "db = Broker.named(\"mongodb_config\")\n",
    "RE.subscribe(db.insert)"
   ]
  },
  {
   "cell_type": "markdown",
   "metadata": {},
   "source": [
    "Figure out which workstation we are running.  The *mint-vm* host has a different IOC prefix."
   ]
  },
  {
   "cell_type": "code",
   "execution_count": 2,
   "metadata": {},
   "outputs": [],
   "source": [
    "import socket\n",
    "if socket.gethostname().find(\"mint-vm\") >= 0:\n",
    "    prefix = \"vm7:\"\n",
    "else:\n",
    "    prefix = \"xxx:\""
   ]
  },
  {
   "cell_type": "markdown",
   "metadata": {},
   "source": [
    "Connect to our motor *before* we create the simulated detector signal."
   ]
  },
  {
   "cell_type": "code",
   "execution_count": 3,
   "metadata": {},
   "outputs": [],
   "source": [
    "m1 = EpicsMotor(prefix+\"m1\", name=\"m1\")\n",
    "m1.wait_for_connection()"
   ]
  },
  {
   "cell_type": "markdown",
   "metadata": {},
   "source": [
    "Define a starting position, we'll use this later in the demo."
   ]
  },
  {
   "cell_type": "code",
   "execution_count": 4,
   "metadata": {},
   "outputs": [],
   "source": [
    "m1.move(-1.5)\n",
    "starting_position = m1.position"
   ]
  },
  {
   "cell_type": "markdown",
   "metadata": {},
   "source": [
    "## Setup the simulated detector signal.  \n",
    "\n",
    "Randomize the values a bit so that we have something interesting to find with `TuneAxis()`."
   ]
  },
  {
   "cell_type": "code",
   "execution_count": 5,
   "metadata": {},
   "outputs": [],
   "source": [
    "spvoigt = SynPseudoVoigt(\n",
    "    'spvoigt', m1, 'm1', \n",
    "    center=-1.5 + 0.4*np.random.uniform(), \n",
    "    eta=0.2 + 0.5*np.random.uniform(), \n",
    "    sigma=0.001 + 0.05*np.random.uniform(), \n",
    "    scale=1e5,\n",
    "    bkg=0.01*np.random.uniform())"
   ]
  },
  {
   "cell_type": "markdown",
   "metadata": {},
   "source": [
    "Reveal the actual values.  These are the answers we expect to discover."
   ]
  },
  {
   "cell_type": "code",
   "execution_count": 6,
   "metadata": {},
   "outputs": [
    {
     "name": "stdout",
     "output_type": "stream",
     "text": [
      "spvoigt.scale:  100000.0\n",
      "spvoigt.center:  -1.3940973681450914\n",
      "spvoigt.sigma:  0.025534621641250733\n",
      "spvoigt.eta:  0.2993015167776747\n",
      "spvoigt.bkg:  0.0045580721055284755\n"
     ]
    }
   ],
   "source": [
    "print(\"spvoigt.scale: \", spvoigt.scale)\n",
    "print(\"spvoigt.center: \", spvoigt.center)\n",
    "print(\"spvoigt.sigma: \", spvoigt.sigma)\n",
    "print(\"spvoigt.eta: \", spvoigt.eta)\n",
    "print(\"spvoigt.bkg: \", spvoigt.bkg)"
   ]
  },
  {
   "cell_type": "markdown",
   "metadata": {},
   "source": [
    "We will add the actual values as metadata to these scans."
   ]
  },
  {
   "cell_type": "code",
   "execution_count": 7,
   "metadata": {},
   "outputs": [],
   "source": [
    "md = dict(\n",
    "    activity = \"TuneAxis development and testing\",\n",
    "    peak_model = \"pseudo Voigt\",\n",
    "    peak_scale = spvoigt.scale,\n",
    "    peak_center = spvoigt.center,\n",
    "    peak_sigma = spvoigt.sigma,\n",
    "    peak_eta = spvoigt.eta,\n",
    "    peak_bkg = spvoigt.bkg\n",
    "    )"
   ]
  },
  {
   "cell_type": "markdown",
   "metadata": {},
   "source": [
    "## Set up the tuner\n",
    "\n",
    "Create a *TuneAxis()* object.  The *tuner* needs to know the positioner, what range to scan to find the peak, *and* it needs the name of the signal to be scanned (since the signal list may have more than one signal)."
   ]
  },
  {
   "cell_type": "code",
   "execution_count": 8,
   "metadata": {},
   "outputs": [],
   "source": [
    "tuner = TuneAxis([spvoigt], m1, signal_name=spvoigt.name)\n",
    "tuner.width = 2.5\n",
    "tuner.step_factor = tuner.num/2.5"
   ]
  },
  {
   "cell_type": "markdown",
   "metadata": {},
   "source": [
    "Configure the *LiveTable* to also show the simulated detector signal."
   ]
  },
  {
   "cell_type": "code",
   "execution_count": 9,
   "metadata": {},
   "outputs": [],
   "source": [
    "live_table = LiveTable([\"m1\", \"spvoigt\"])\n",
    "#spvoigt.read_attrs = [\"value\"]"
   ]
  },
  {
   "cell_type": "markdown",
   "metadata": {},
   "source": [
    "# Multi-pass tune\n",
    "\n",
    "Execute multiple passes to refine the centroid determination.\n",
    "Each subsequent pass will reduce the width of the next scan by ``step_factor``."
   ]
  },
  {
   "cell_type": "code",
   "execution_count": 10,
   "metadata": {},
   "outputs": [
    {
     "name": "stdout",
     "output_type": "stream",
     "text": [
      "+-----------+------------+------------+------------+\n",
      "|   seq_num |       time |         m1 |    spvoigt |\n",
      "+-----------+------------+------------+------------+\n",
      "|         1 | 17:12:09.7 |   -2.75000 |    466.418 |\n",
      "|         2 | 17:12:10.2 |   -2.47000 |    472.656 |\n",
      "|         3 | 17:12:10.7 |   -2.19000 |    486.582 |\n",
      "|         4 | 17:12:11.2 |   -1.92000 |    526.201 |\n",
      "|         5 | 17:12:11.7 |   -1.64000 |    775.096 |\n",
      "|         6 | 17:12:12.2 |   -1.36000 |  39939.541 |\n",
      "|         7 | 17:12:12.7 |   -1.08000 |    652.314 |\n",
      "|         8 | 17:12:13.2 |   -0.81000 |    512.898 |\n",
      "|         9 | 17:12:13.7 |   -0.53000 |    481.921 |\n",
      "|        10 | 17:12:14.2 |   -0.25000 |    470.709 |\n",
      "+-----------+------------+------------+------------+\n",
      "generator TuneAxis.multi_pass_tune ['7f7884bf'] (scan num: 1)\n",
      "x : m1\n",
      "y : spvoigt\n",
      "cen : -1.3602204901822772\n",
      "com : -1.3756508139688854\n",
      "fwhm : 0.28176586200160525\n",
      "min : [  -2.75        466.41822165]\n",
      "max : [ -1.36000000e+00   3.99395408e+04]\n",
      "crossings : [-1.50110342 -1.21933756]\n",
      "tune_ok : True\n",
      "center : -1.3602204901822772\n",
      "initial_position : -1.5\n",
      "final_position : -1.3602204901822772\n",
      "+-----------+------------+------------+------------+\n",
      "|   seq_num |       time |         m1 |    spvoigt |\n",
      "+-----------+------------+------------+------------+\n",
      "|         1 | 17:12:16.3 |   -1.05000 |    619.723 |\n",
      "|         2 | 17:12:16.6 |   -1.12000 |    713.324 |\n",
      "|         3 | 17:12:16.9 |   -1.19000 |    917.069 |\n",
      "|         4 | 17:12:17.2 |   -1.26000 |   1503.150 |\n",
      "|         5 | 17:12:17.5 |   -1.33000 |   7556.047 |\n",
      "|         6 | 17:12:17.8 |   -1.39000 |  98808.184 |\n",
      "|         7 | 17:12:18.1 |   -1.46000 |   6869.196 |\n",
      "|         8 | 17:12:18.4 |   -1.53000 |   1476.432 |\n",
      "|         9 | 17:12:18.7 |   -1.60000 |    909.138 |\n",
      "|        10 | 17:12:19.0 |   -1.67000 |    709.993 |\n",
      "+-----------+------------+------------+------------+\n",
      "generator TuneAxis.multi_pass_tune ['f0658421'] (scan num: 2)\n",
      "x : m1\n",
      "y : spvoigt\n",
      "cen : -1.3925493564354836\n",
      "com : -1.388063320223276\n",
      "fwhm : 0.0696594765635481\n",
      "min : [  -1.05        619.72273041]\n",
      "max : [ -1.39000000e+00   9.88081842e+04]\n",
      "crossings : [-1.35771962 -1.42737909]\n",
      "tune_ok : True\n",
      "center : -1.3925493564354836\n",
      "initial_position : -1.36\n",
      "final_position : -1.3925493564354836\n",
      "+-----------+------------+------------+------------+\n",
      "|   seq_num |       time |         m1 |    spvoigt |\n",
      "+-----------+------------+------------+------------+\n",
      "|         1 | 17:12:19.9 |   -1.47000 |   4343.665 |\n",
      "|         2 | 17:12:20.1 |   -1.45000 |  12001.374 |\n",
      "|         3 | 17:12:20.3 |   -1.43000 |  36585.978 |\n",
      "|         4 | 17:12:20.5 |   -1.42000 |  57093.799 |\n",
      "|         5 | 17:12:20.7 |   -1.40000 |  97090.260 |\n",
      "|         6 | 17:12:20.9 |   -1.38000 |  83559.337 |\n",
      "|         7 | 17:12:21.1 |   -1.36000 |  39939.541 |\n",
      "|         8 | 17:12:21.3 |   -1.35000 |  23744.263 |\n",
      "|         9 | 17:12:21.5 |   -1.33000 |   7556.047 |\n",
      "|        10 | 17:12:21.7 |   -1.31000 |   3291.358 |\n",
      "+-----------+------------+------------+------------+\n",
      "generator TuneAxis.multi_pass_tune ['37c188c0'] (scan num: 3)\n",
      "x : m1\n",
      "y : spvoigt\n",
      "cen : -1.3940331552672007\n",
      "com : -1.3946491706909672\n",
      "fwhm : 0.05866574572145877\n",
      "min : [ -1.31000000e+00   3.29135751e+03]\n",
      "max : [ -1.40000000e+00   9.70902600e+04]\n",
      "crossings : [-1.42336603 -1.36470028]\n",
      "tune_ok : True\n",
      "center : -1.3940331552672007\n",
      "initial_position : -1.3900000000000001\n",
      "final_position : -1.3940331552672007\n",
      "+-----------+------------+------------+------------+\n",
      "|   seq_num |       time |         m1 |    spvoigt |\n",
      "+-----------+------------+------------+------------+\n",
      "|         1 | 17:12:22.4 |   -1.37000 |  61175.978 |\n",
      "|         2 | 17:12:22.4 |   -1.37000 |  61175.978 |\n",
      "|         3 | 17:12:22.4 |   -1.38000 |  83559.337 |\n",
      "|         4 | 17:12:22.4 |   -1.38000 |  83559.337 |\n",
      "|         5 | 17:12:22.5 |   -1.39000 |  98808.184 |\n",
      "|         6 | 17:12:22.6 |   -1.39000 |  98808.184 |\n",
      "|         7 | 17:12:22.6 |   -1.40000 |  97090.260 |\n",
      "|         8 | 17:12:22.7 |   -1.40000 |  97090.260 |\n",
      "|         9 | 17:12:22.7 |   -1.41000 |  79738.952 |\n",
      "|        10 | 17:12:22.8 |   -1.41000 |  79738.952 |\n",
      "+-----------+------------+------------+------------+\n",
      "generator TuneAxis.multi_pass_tune ['44f573de'] (scan num: 4)\n",
      "x : m1\n",
      "y : spvoigt\n",
      "cen : -1.3941302031251124\n",
      "com : -1.3900000000000001\n",
      "fwhm : 0.031447823793166574\n",
      "min : [ -1.37000000e+00   6.11759783e+04]\n",
      "max : [ -1.39000000e+00   9.88081842e+04]\n",
      "crossings : [-1.37840629 -1.40985412]\n",
      "tune_ok : False\n",
      "center : -1.3940331552672007\n",
      "initial_position : -1.3900000000000001\n",
      "final_position : -1.3900000000000001\n"
     ]
    },
    {
     "data": {
      "text/plain": [
       "('7f7884bf-c59f-49d4-aa25-6e0c5019b813',\n",
       " 'f0658421-7b7e-45ef-a724-0b10538ec98d',\n",
       " '37c188c0-4f24-4e9b-b8ab-d610dc8797c5',\n",
       " '44f573de-35d4-4dc2-98fd-a44bd585e30b')"
      ]
     },
     "execution_count": 10,
     "metadata": {},
     "output_type": "execute_result"
    }
   ],
   "source": [
    "RE(tuner.multi_pass_tune(), live_table, md=md)"
   ]
  },
  {
   "cell_type": "markdown",
   "metadata": {},
   "source": [
    "Show the results from the multi-pass tuning."
   ]
  },
  {
   "cell_type": "code",
   "execution_count": 11,
   "metadata": {},
   "outputs": [
    {
     "name": "stdout",
     "output_type": "stream",
     "text": [
      "final:  -1.39403315527\n",
      "max (-1.3900000000000001, 98808.184210417196)\n",
      "min (-1.3700000000000001, 61175.978285094367)\n",
      "-- -1.36022049018 0.281765862002\n",
      "-- -1.39254935644 0.0696594765635\n",
      "-- -1.39403315527 0.0586657457215\n",
      "-- -1.39413020313 0.0314478237932\n",
      "m1= -1.3900000000000001  det= 79738.9517242\n"
     ]
    }
   ],
   "source": [
    "print(\"final: \", tuner.center)\n",
    "print(\"max\", tuner.peaks.max)\n",
    "print(\"min\", tuner.peaks.min)\n",
    "for stat in tuner.stats:\n",
    "    print(\"--\", stat.cen, stat.fwhm)\n",
    "print(\"m1=\", m1.position, \"\", \"det=\", spvoigt.get())"
   ]
  },
  {
   "cell_type": "markdown",
   "metadata": {},
   "source": [
    "Compare the final position (just printed) with the expected value shown a couple steps back."
   ]
  },
  {
   "cell_type": "markdown",
   "metadata": {},
   "source": [
    "## Single-pass tune\n",
    "\n",
    "Repeat but with only one pass.  Reset the motor to the starting position and increase the number of steps by a factor of three."
   ]
  },
  {
   "cell_type": "code",
   "execution_count": 12,
   "metadata": {},
   "outputs": [
    {
     "name": "stdout",
     "output_type": "stream",
     "text": [
      "+-----------+------------+------------+------------+\n",
      "|   seq_num |       time |         m1 |    spvoigt |\n",
      "+-----------+------------+------------+------------+\n",
      "|         1 | 17:12:25.0 |   -2.75000 |    466.418 |\n",
      "|         2 | 17:12:25.2 |   -2.66000 |    467.980 |\n",
      "|         3 | 17:12:25.5 |   -2.58000 |    469.677 |\n",
      "|         4 | 17:12:25.8 |   -2.49000 |    472.047 |\n",
      "|         5 | 17:12:26.1 |   -2.41000 |    474.704 |\n",
      "|         6 | 17:12:26.4 |   -2.32000 |    478.553 |\n",
      "|         7 | 17:12:26.7 |   -2.23000 |    483.710 |\n",
      "|         8 | 17:12:27.0 |   -2.15000 |    489.922 |\n",
      "|         9 | 17:12:27.3 |   -2.06000 |    499.752 |\n",
      "|        10 | 17:12:27.6 |   -1.97000 |    514.531 |\n",
      "|        11 | 17:12:27.9 |   -1.89000 |    534.952 |\n",
      "|        12 | 17:12:28.2 |   -1.80000 |    573.787 |\n",
      "|        13 | 17:12:28.5 |   -1.72000 |    638.421 |\n",
      "|        14 | 17:12:28.8 |   -1.63000 |    802.419 |\n",
      "|        15 | 17:12:29.1 |   -1.54000 |   1345.299 |\n",
      "|        16 | 17:12:29.4 |   -1.46000 |   6869.196 |\n",
      "|        17 | 17:12:29.7 |   -1.37000 |  61175.978 |\n",
      "|        18 | 17:12:30.1 |   -1.28000 |   1886.595 |\n",
      "|        19 | 17:12:30.4 |   -1.20000 |    964.993 |\n",
      "|        20 | 17:12:30.7 |   -1.11000 |    695.657 |\n",
      "|        21 | 17:12:31.0 |   -1.03000 |    602.295 |\n",
      "|        22 | 17:12:31.3 |   -0.94000 |    550.148 |\n",
      "|        23 | 17:12:31.6 |   -0.85000 |    521.582 |\n",
      "|        24 | 17:12:31.9 |   -0.77000 |    505.826 |\n",
      "|        25 | 17:12:32.2 |   -0.68000 |    494.028 |\n",
      "|        26 | 17:12:32.5 |   -0.59000 |    485.959 |\n",
      "|        27 | 17:12:32.8 |   -0.51000 |    480.753 |\n",
      "|        28 | 17:12:33.1 |   -0.42000 |    476.360 |\n",
      "|        29 | 17:12:33.4 |   -0.34000 |    473.360 |\n",
      "|        30 | 17:12:33.7 |   -0.25000 |    470.709 |\n",
      "+-----------+------------+------------+------------+\n",
      "generator TuneAxis.tune ['957d83c1'] (scan num: 5)\n",
      "x : m1\n",
      "y : spvoigt\n",
      "cen : -1.3721138038388505\n",
      "com : -1.399197379943788\n",
      "fwhm : 0.09638340566154024\n",
      "min : [  -2.75        466.41822165]\n",
      "max : [ -1.37000000e+00   6.11759783e+04]\n",
      "crossings : [-1.42030551 -1.3239221 ]\n",
      "tune_ok : True\n",
      "center : -1.3721138038388505\n",
      "initial_position : -1.5\n",
      "final_position : -1.3721138038388505\n"
     ]
    },
    {
     "data": {
      "text/plain": [
       "('957d83c1-9f11-47df-936b-ce14a396cd76',)"
      ]
     },
     "execution_count": 12,
     "metadata": {},
     "output_type": "execute_result"
    }
   ],
   "source": [
    "m1.move(starting_position)\n",
    "tuner.num *= 3\n",
    "RE(tuner.tune(), live_table, md=md)"
   ]
  },
  {
   "cell_type": "markdown",
   "metadata": {},
   "source": [
    "Compare the single-pass scan with the previous multi-pass scan.  Each used the same number of points overall.  \n",
    "\n",
    "The results are comparable but we already knew the position of the peak approximately."
   ]
  },
  {
   "cell_type": "code",
   "execution_count": 13,
   "metadata": {},
   "outputs": [
    {
     "name": "stdout",
     "output_type": "stream",
     "text": [
      "final:  -1.37211380384\n",
      "max (-1.3700000000000001, 61175.978285094367)\n",
      "min (-2.75, 466.41822164640951)\n",
      "centroid -1.37211380384\n",
      "FWHM 0.0963834056615\n",
      "m1= -1.37  det= 470.708557361\n"
     ]
    }
   ],
   "source": [
    "print(\"final: \", tuner.center)\n",
    "print(\"max\", tuner.peaks.max)\n",
    "print(\"min\", tuner.peaks.min)\n",
    "print(\"centroid\", tuner.peaks.cen)\n",
    "print(\"FWHM\", tuner.peaks.fwhm)\n",
    "print(\"m1=\", m1.position, \"\", \"det=\", spvoigt.value)"
   ]
  }
 ],
 "metadata": {
  "kernelspec": {
   "display_name": "Python 3",
   "language": "python",
   "name": "python3"
  },
  "language_info": {
   "codemirror_mode": {
    "name": "ipython",
    "version": 3
   },
   "file_extension": ".py",
   "mimetype": "text/x-python",
   "name": "python",
   "nbconvert_exporter": "python",
   "pygments_lexer": "ipython3",
   "version": "3.6.6"
  }
 },
 "nbformat": 4,
 "nbformat_minor": 2
}